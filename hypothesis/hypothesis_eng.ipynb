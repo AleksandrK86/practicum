{
 "cells": [
  {
   "cell_type": "markdown",
   "id": "6405e6a1",
   "metadata": {},
   "source": [
    "# Prioritization and testing of hypotheses to increase the revenue of an online store"
   ]
  },
  {
   "cell_type": "markdown",
   "id": "a06f8b43",
   "metadata": {},
   "source": [
    "## Project description"
   ]
  },
  {
   "cell_type": "markdown",
   "id": "02f68922",
   "metadata": {},
   "source": [
    "Together with the marketing department, a list of hypotheses was prepared to increase the revenue of the online store. The task is to prioritize hypotheses, as well as analyze the results of the A/B test."
   ]
  },
  {
   "cell_type": "markdown",
   "id": "3cddb387",
   "metadata": {},
   "source": [
    "**Data description**"
   ]
  },
  {
   "cell_type": "markdown",
   "id": "ab3707ea",
   "metadata": {},
   "source": [
    "**hypothesis.csv**\n",
    "- Hypothesis — a brief description of the hypothesis;\n",
    "- Reach — user coverage on a 10-point scale;\n",
    "- Impact — impact on users on a 10-point scale;\n",
    "- Confidence — confidence in the hypothesis on a 10-point scale;\n",
    "- Efforts — the cost of resources to test the hypothesis on a 10-point scale.\n",
    "\n",
    "**orders.csv**\n",
    "- TransactionID — order ID;\n",
    "- visitorID — ID of the user who made the order;\n",
    "- date — the date when the order was made;\n",
    "- revenue — order revenue;\n",
    "- group — the A/B test group that the order fell into.\n",
    "\n",
    "**visitors.csv**\n",
    "- date — date;\n",
    "- group — A/B test group;\n",
    "- visitors — the number of users on the specified date in the specified A/B test group."
   ]
  },
  {
   "cell_type": "markdown",
   "id": "cf512ec5",
   "metadata": {},
   "source": [
    "## Data preparation"
   ]
  },
  {
   "cell_type": "code",
   "execution_count": 1,
   "id": "613b5d99",
   "metadata": {},
   "outputs": [],
   "source": [
    "#import libraries\n",
    "\n",
    "import pandas as pd\n",
    "import numpy as np\n",
    "import matplotlib.pyplot as plt\n",
    "import scipy.stats as stats\n",
    "import datetime as dt"
   ]
  },
  {
   "cell_type": "code",
   "execution_count": 2,
   "id": "a7094a42",
   "metadata": {},
   "outputs": [
    {
     "data": {
      "text/html": [
       "<div>\n",
       "<style scoped>\n",
       "    .dataframe tbody tr th:only-of-type {\n",
       "        vertical-align: middle;\n",
       "    }\n",
       "\n",
       "    .dataframe tbody tr th {\n",
       "        vertical-align: top;\n",
       "    }\n",
       "\n",
       "    .dataframe thead th {\n",
       "        text-align: right;\n",
       "    }\n",
       "</style>\n",
       "<table border=\"1\" class=\"dataframe\">\n",
       "  <thead>\n",
       "    <tr style=\"text-align: right;\">\n",
       "      <th></th>\n",
       "      <th>Hypothesis</th>\n",
       "      <th>Reach</th>\n",
       "      <th>Impact</th>\n",
       "      <th>Confidence</th>\n",
       "      <th>Efforts</th>\n",
       "    </tr>\n",
       "  </thead>\n",
       "  <tbody>\n",
       "    <tr>\n",
       "      <th>0</th>\n",
       "      <td>Добавить два новых канала привлечения трафика, что позволит привлекать на 30% больше пользователей</td>\n",
       "      <td>3</td>\n",
       "      <td>10</td>\n",
       "      <td>8</td>\n",
       "      <td>6</td>\n",
       "    </tr>\n",
       "    <tr>\n",
       "      <th>1</th>\n",
       "      <td>Запустить собственную службу доставки, что сократит срок доставки заказов</td>\n",
       "      <td>2</td>\n",
       "      <td>5</td>\n",
       "      <td>4</td>\n",
       "      <td>10</td>\n",
       "    </tr>\n",
       "    <tr>\n",
       "      <th>2</th>\n",
       "      <td>Добавить блоки рекомендаций товаров на сайт интернет магазина, чтобы повысить конверсию и средний чек заказа</td>\n",
       "      <td>8</td>\n",
       "      <td>3</td>\n",
       "      <td>7</td>\n",
       "      <td>3</td>\n",
       "    </tr>\n",
       "    <tr>\n",
       "      <th>3</th>\n",
       "      <td>Изменить структура категорий, что увеличит конверсию, т.к. пользователи быстрее найдут нужный товар</td>\n",
       "      <td>8</td>\n",
       "      <td>3</td>\n",
       "      <td>3</td>\n",
       "      <td>8</td>\n",
       "    </tr>\n",
       "    <tr>\n",
       "      <th>4</th>\n",
       "      <td>Изменить цвет фона главной страницы, чтобы увеличить вовлеченность пользователей</td>\n",
       "      <td>3</td>\n",
       "      <td>1</td>\n",
       "      <td>1</td>\n",
       "      <td>1</td>\n",
       "    </tr>\n",
       "    <tr>\n",
       "      <th>5</th>\n",
       "      <td>Добавить страницу отзывов клиентов о магазине, что позволит увеличить количество заказов</td>\n",
       "      <td>3</td>\n",
       "      <td>2</td>\n",
       "      <td>2</td>\n",
       "      <td>3</td>\n",
       "    </tr>\n",
       "    <tr>\n",
       "      <th>6</th>\n",
       "      <td>Показать на главной странице баннеры с актуальными акциями и распродажами, чтобы увеличить конверсию</td>\n",
       "      <td>5</td>\n",
       "      <td>3</td>\n",
       "      <td>8</td>\n",
       "      <td>3</td>\n",
       "    </tr>\n",
       "    <tr>\n",
       "      <th>7</th>\n",
       "      <td>Добавить форму подписки на все основные страницы, чтобы собрать базу клиентов для email-рассылок</td>\n",
       "      <td>10</td>\n",
       "      <td>7</td>\n",
       "      <td>8</td>\n",
       "      <td>5</td>\n",
       "    </tr>\n",
       "    <tr>\n",
       "      <th>8</th>\n",
       "      <td>Запустить акцию, дающую скидку на товар в день рождения</td>\n",
       "      <td>1</td>\n",
       "      <td>9</td>\n",
       "      <td>9</td>\n",
       "      <td>5</td>\n",
       "    </tr>\n",
       "  </tbody>\n",
       "</table>\n",
       "</div>"
      ],
      "text/plain": [
       "                                                                                                     Hypothesis  \\\n",
       "0            Добавить два новых канала привлечения трафика, что позволит привлекать на 30% больше пользователей   \n",
       "1                                     Запустить собственную службу доставки, что сократит срок доставки заказов   \n",
       "2  Добавить блоки рекомендаций товаров на сайт интернет магазина, чтобы повысить конверсию и средний чек заказа   \n",
       "3           Изменить структура категорий, что увеличит конверсию, т.к. пользователи быстрее найдут нужный товар   \n",
       "4                              Изменить цвет фона главной страницы, чтобы увеличить вовлеченность пользователей   \n",
       "5                      Добавить страницу отзывов клиентов о магазине, что позволит увеличить количество заказов   \n",
       "6          Показать на главной странице баннеры с актуальными акциями и распродажами, чтобы увеличить конверсию   \n",
       "7              Добавить форму подписки на все основные страницы, чтобы собрать базу клиентов для email-рассылок   \n",
       "8                                                       Запустить акцию, дающую скидку на товар в день рождения   \n",
       "\n",
       "   Reach  Impact  Confidence  Efforts  \n",
       "0      3      10           8        6  \n",
       "1      2       5           4       10  \n",
       "2      8       3           7        3  \n",
       "3      8       3           3        8  \n",
       "4      3       1           1        1  \n",
       "5      3       2           2        3  \n",
       "6      5       3           8        3  \n",
       "7     10       7           8        5  \n",
       "8      1       9           9        5  "
      ]
     },
     "metadata": {},
     "output_type": "display_data"
    },
    {
     "data": {
      "text/html": [
       "<div>\n",
       "<style scoped>\n",
       "    .dataframe tbody tr th:only-of-type {\n",
       "        vertical-align: middle;\n",
       "    }\n",
       "\n",
       "    .dataframe tbody tr th {\n",
       "        vertical-align: top;\n",
       "    }\n",
       "\n",
       "    .dataframe thead th {\n",
       "        text-align: right;\n",
       "    }\n",
       "</style>\n",
       "<table border=\"1\" class=\"dataframe\">\n",
       "  <thead>\n",
       "    <tr style=\"text-align: right;\">\n",
       "      <th></th>\n",
       "      <th>transactionId</th>\n",
       "      <th>visitorId</th>\n",
       "      <th>date</th>\n",
       "      <th>revenue</th>\n",
       "      <th>group</th>\n",
       "    </tr>\n",
       "  </thead>\n",
       "  <tbody>\n",
       "    <tr>\n",
       "      <th>0</th>\n",
       "      <td>3667963787</td>\n",
       "      <td>3312258926</td>\n",
       "      <td>2019-08-15</td>\n",
       "      <td>1650</td>\n",
       "      <td>B</td>\n",
       "    </tr>\n",
       "    <tr>\n",
       "      <th>1</th>\n",
       "      <td>2804400009</td>\n",
       "      <td>3642806036</td>\n",
       "      <td>2019-08-15</td>\n",
       "      <td>730</td>\n",
       "      <td>B</td>\n",
       "    </tr>\n",
       "    <tr>\n",
       "      <th>2</th>\n",
       "      <td>2961555356</td>\n",
       "      <td>4069496402</td>\n",
       "      <td>2019-08-15</td>\n",
       "      <td>400</td>\n",
       "      <td>A</td>\n",
       "    </tr>\n",
       "    <tr>\n",
       "      <th>3</th>\n",
       "      <td>3797467345</td>\n",
       "      <td>1196621759</td>\n",
       "      <td>2019-08-15</td>\n",
       "      <td>9759</td>\n",
       "      <td>B</td>\n",
       "    </tr>\n",
       "    <tr>\n",
       "      <th>4</th>\n",
       "      <td>2282983706</td>\n",
       "      <td>2322279887</td>\n",
       "      <td>2019-08-15</td>\n",
       "      <td>2308</td>\n",
       "      <td>B</td>\n",
       "    </tr>\n",
       "  </tbody>\n",
       "</table>\n",
       "</div>"
      ],
      "text/plain": [
       "   transactionId   visitorId       date  revenue group\n",
       "0     3667963787  3312258926 2019-08-15     1650     B\n",
       "1     2804400009  3642806036 2019-08-15      730     B\n",
       "2     2961555356  4069496402 2019-08-15      400     A\n",
       "3     3797467345  1196621759 2019-08-15     9759     B\n",
       "4     2282983706  2322279887 2019-08-15     2308     B"
      ]
     },
     "metadata": {},
     "output_type": "display_data"
    },
    {
     "data": {
      "text/html": [
       "<div>\n",
       "<style scoped>\n",
       "    .dataframe tbody tr th:only-of-type {\n",
       "        vertical-align: middle;\n",
       "    }\n",
       "\n",
       "    .dataframe tbody tr th {\n",
       "        vertical-align: top;\n",
       "    }\n",
       "\n",
       "    .dataframe thead th {\n",
       "        text-align: right;\n",
       "    }\n",
       "</style>\n",
       "<table border=\"1\" class=\"dataframe\">\n",
       "  <thead>\n",
       "    <tr style=\"text-align: right;\">\n",
       "      <th></th>\n",
       "      <th>date</th>\n",
       "      <th>group</th>\n",
       "      <th>visitors</th>\n",
       "    </tr>\n",
       "  </thead>\n",
       "  <tbody>\n",
       "    <tr>\n",
       "      <th>0</th>\n",
       "      <td>2019-08-01</td>\n",
       "      <td>A</td>\n",
       "      <td>719</td>\n",
       "    </tr>\n",
       "    <tr>\n",
       "      <th>1</th>\n",
       "      <td>2019-08-02</td>\n",
       "      <td>A</td>\n",
       "      <td>619</td>\n",
       "    </tr>\n",
       "    <tr>\n",
       "      <th>2</th>\n",
       "      <td>2019-08-03</td>\n",
       "      <td>A</td>\n",
       "      <td>507</td>\n",
       "    </tr>\n",
       "    <tr>\n",
       "      <th>3</th>\n",
       "      <td>2019-08-04</td>\n",
       "      <td>A</td>\n",
       "      <td>717</td>\n",
       "    </tr>\n",
       "    <tr>\n",
       "      <th>4</th>\n",
       "      <td>2019-08-05</td>\n",
       "      <td>A</td>\n",
       "      <td>756</td>\n",
       "    </tr>\n",
       "  </tbody>\n",
       "</table>\n",
       "</div>"
      ],
      "text/plain": [
       "        date group  visitors\n",
       "0 2019-08-01     A       719\n",
       "1 2019-08-02     A       619\n",
       "2 2019-08-03     A       507\n",
       "3 2019-08-04     A       717\n",
       "4 2019-08-05     A       756"
      ]
     },
     "metadata": {},
     "output_type": "display_data"
    }
   ],
   "source": [
    "#reading datasets\n",
    "hypothesis = pd.read_csv('https://code.s3.yandex.net/datasets/hypothesis.csv')\n",
    "orders = pd.read_csv('https://code.s3.yandex.net/datasets/orders.csv', parse_dates=['date'])\n",
    "visitors = pd.read_csv('https://code.s3.yandex.net/datasets/visitors.csv', parse_dates=['date'])\n",
    "\n",
    "#remember the preset length of the string and reset this restriction\n",
    "preset_colwidth = pd.get_option('display.max_colwidth')\n",
    "pd.set_option('display.max_colwidth', None)\n",
    "\n",
    "display(hypothesis)\n",
    "display(orders.head())\n",
    "display(visitors.head())"
   ]
  },
  {
   "cell_type": "markdown",
   "id": "e0ca481a",
   "metadata": {},
   "source": [
    "Converting column names in tables **hypothesis** and **orders** to snake_case:"
   ]
  },
  {
   "cell_type": "code",
   "execution_count": 3,
   "id": "6194b450",
   "metadata": {},
   "outputs": [
    {
     "data": {
      "text/plain": [
       "Index(['hypothesis', 'reach', 'impact', 'confidence', 'efforts'], dtype='object')"
      ]
     },
     "execution_count": 3,
     "metadata": {},
     "output_type": "execute_result"
    }
   ],
   "source": [
    "hypothesis.columns = hypothesis.columns.str.lower()\n",
    "hypothesis.columns"
   ]
  },
  {
   "cell_type": "code",
   "execution_count": 4,
   "id": "dc815a63",
   "metadata": {},
   "outputs": [
    {
     "data": {
      "text/plain": [
       "Index(['transaction_id', 'visitor_id', 'date', 'revenue', 'group'], dtype='object')"
      ]
     },
     "execution_count": 4,
     "metadata": {},
     "output_type": "execute_result"
    }
   ],
   "source": [
    "orders = orders.rename(columns = {'transactionId':'transaction_id', 'visitorId':'visitor_id'})\n",
    "orders.columns"
   ]
  },
  {
   "cell_type": "markdown",
   "id": "98296f12",
   "metadata": {},
   "source": [
    "# Part 1. Prioritization of hypotheses"
   ]
  },
  {
   "cell_type": "markdown",
   "id": "abf30a01",
   "metadata": {},
   "source": [
    "Let's look at the parameters of the hypotheses:"
   ]
  },
  {
   "cell_type": "code",
   "execution_count": 5,
   "id": "1ecd7e0c",
   "metadata": {},
   "outputs": [
    {
     "data": {
      "text/html": [
       "<div>\n",
       "<style scoped>\n",
       "    .dataframe tbody tr th:only-of-type {\n",
       "        vertical-align: middle;\n",
       "    }\n",
       "\n",
       "    .dataframe tbody tr th {\n",
       "        vertical-align: top;\n",
       "    }\n",
       "\n",
       "    .dataframe thead th {\n",
       "        text-align: right;\n",
       "    }\n",
       "</style>\n",
       "<table border=\"1\" class=\"dataframe\">\n",
       "  <thead>\n",
       "    <tr style=\"text-align: right;\">\n",
       "      <th></th>\n",
       "      <th>hypothesis</th>\n",
       "      <th>reach</th>\n",
       "      <th>impact</th>\n",
       "      <th>confidence</th>\n",
       "      <th>efforts</th>\n",
       "    </tr>\n",
       "  </thead>\n",
       "  <tbody>\n",
       "    <tr>\n",
       "      <th>0</th>\n",
       "      <td>Добавить два новых канала привлечения трафика, что позволит привлекать на 30% больше пользователей</td>\n",
       "      <td>3</td>\n",
       "      <td>10</td>\n",
       "      <td>8</td>\n",
       "      <td>6</td>\n",
       "    </tr>\n",
       "    <tr>\n",
       "      <th>1</th>\n",
       "      <td>Запустить собственную службу доставки, что сократит срок доставки заказов</td>\n",
       "      <td>2</td>\n",
       "      <td>5</td>\n",
       "      <td>4</td>\n",
       "      <td>10</td>\n",
       "    </tr>\n",
       "    <tr>\n",
       "      <th>2</th>\n",
       "      <td>Добавить блоки рекомендаций товаров на сайт интернет магазина, чтобы повысить конверсию и средний чек заказа</td>\n",
       "      <td>8</td>\n",
       "      <td>3</td>\n",
       "      <td>7</td>\n",
       "      <td>3</td>\n",
       "    </tr>\n",
       "    <tr>\n",
       "      <th>3</th>\n",
       "      <td>Изменить структура категорий, что увеличит конверсию, т.к. пользователи быстрее найдут нужный товар</td>\n",
       "      <td>8</td>\n",
       "      <td>3</td>\n",
       "      <td>3</td>\n",
       "      <td>8</td>\n",
       "    </tr>\n",
       "    <tr>\n",
       "      <th>4</th>\n",
       "      <td>Изменить цвет фона главной страницы, чтобы увеличить вовлеченность пользователей</td>\n",
       "      <td>3</td>\n",
       "      <td>1</td>\n",
       "      <td>1</td>\n",
       "      <td>1</td>\n",
       "    </tr>\n",
       "    <tr>\n",
       "      <th>5</th>\n",
       "      <td>Добавить страницу отзывов клиентов о магазине, что позволит увеличить количество заказов</td>\n",
       "      <td>3</td>\n",
       "      <td>2</td>\n",
       "      <td>2</td>\n",
       "      <td>3</td>\n",
       "    </tr>\n",
       "    <tr>\n",
       "      <th>6</th>\n",
       "      <td>Показать на главной странице баннеры с актуальными акциями и распродажами, чтобы увеличить конверсию</td>\n",
       "      <td>5</td>\n",
       "      <td>3</td>\n",
       "      <td>8</td>\n",
       "      <td>3</td>\n",
       "    </tr>\n",
       "    <tr>\n",
       "      <th>7</th>\n",
       "      <td>Добавить форму подписки на все основные страницы, чтобы собрать базу клиентов для email-рассылок</td>\n",
       "      <td>10</td>\n",
       "      <td>7</td>\n",
       "      <td>8</td>\n",
       "      <td>5</td>\n",
       "    </tr>\n",
       "    <tr>\n",
       "      <th>8</th>\n",
       "      <td>Запустить акцию, дающую скидку на товар в день рождения</td>\n",
       "      <td>1</td>\n",
       "      <td>9</td>\n",
       "      <td>9</td>\n",
       "      <td>5</td>\n",
       "    </tr>\n",
       "  </tbody>\n",
       "</table>\n",
       "</div>"
      ],
      "text/plain": [
       "                                                                                                     hypothesis  \\\n",
       "0            Добавить два новых канала привлечения трафика, что позволит привлекать на 30% больше пользователей   \n",
       "1                                     Запустить собственную службу доставки, что сократит срок доставки заказов   \n",
       "2  Добавить блоки рекомендаций товаров на сайт интернет магазина, чтобы повысить конверсию и средний чек заказа   \n",
       "3           Изменить структура категорий, что увеличит конверсию, т.к. пользователи быстрее найдут нужный товар   \n",
       "4                              Изменить цвет фона главной страницы, чтобы увеличить вовлеченность пользователей   \n",
       "5                      Добавить страницу отзывов клиентов о магазине, что позволит увеличить количество заказов   \n",
       "6          Показать на главной странице баннеры с актуальными акциями и распродажами, чтобы увеличить конверсию   \n",
       "7              Добавить форму подписки на все основные страницы, чтобы собрать базу клиентов для email-рассылок   \n",
       "8                                                       Запустить акцию, дающую скидку на товар в день рождения   \n",
       "\n",
       "   reach  impact  confidence  efforts  \n",
       "0      3      10           8        6  \n",
       "1      2       5           4       10  \n",
       "2      8       3           7        3  \n",
       "3      8       3           3        8  \n",
       "4      3       1           1        1  \n",
       "5      3       2           2        3  \n",
       "6      5       3           8        3  \n",
       "7     10       7           8        5  \n",
       "8      1       9           9        5  "
      ]
     },
     "execution_count": 5,
     "metadata": {},
     "output_type": "execute_result"
    }
   ],
   "source": [
    "hypothesis"
   ]
  },
  {
   "cell_type": "markdown",
   "id": "9a8b39d5",
   "metadata": {},
   "source": [
    "Let's apply frameworks **ICE** and **RICE**:"
   ]
  },
  {
   "cell_type": "markdown",
   "id": "5df4ed2f",
   "metadata": {},
   "source": [
    "\\begin{equation}\n",
    "\\textbf{ICE} = \\frac{Impact * Confidence}{Efforts}\n",
    "\\end{equation}\n",
    "\n",
    "\\begin{equation}\n",
    "\\textbf{RICE} = \\frac{Rearch * Impact * Confidence}{Efforts}\n",
    "\\end{equation}"
   ]
  },
  {
   "cell_type": "code",
   "execution_count": 6,
   "id": "ab009388",
   "metadata": {},
   "outputs": [
    {
     "data": {
      "text/html": [
       "<style type=\"text/css\">\n",
       "#T_a26cb_row0_col1 {\n",
       "  background-color: #b40426;\n",
       "  color: #f1f1f1;\n",
       "}\n",
       "#T_a26cb_row1_col1 {\n",
       "  background-color: #ec7f63;\n",
       "  color: #f1f1f1;\n",
       "}\n",
       "#T_a26cb_row2_col1 {\n",
       "  background-color: #f7b79b;\n",
       "  color: #000000;\n",
       "}\n",
       "#T_a26cb_row3_col1 {\n",
       "  background-color: #d2dbe8;\n",
       "  color: #000000;\n",
       "}\n",
       "#T_a26cb_row4_col1 {\n",
       "  background-color: #bfd3f6;\n",
       "  color: #000000;\n",
       "}\n",
       "#T_a26cb_row5_col1 {\n",
       "  background-color: #4e68d8;\n",
       "  color: #f1f1f1;\n",
       "}\n",
       "#T_a26cb_row6_col1 {\n",
       "  background-color: #4055c8;\n",
       "  color: #f1f1f1;\n",
       "}\n",
       "#T_a26cb_row7_col1 {\n",
       "  background-color: #3d50c3;\n",
       "  color: #f1f1f1;\n",
       "}\n",
       "#T_a26cb_row8_col1 {\n",
       "  background-color: #3b4cc0;\n",
       "  color: #f1f1f1;\n",
       "}\n",
       "</style>\n",
       "<table id=\"T_a26cb\">\n",
       "  <thead>\n",
       "    <tr>\n",
       "      <th class=\"blank level0\" >&nbsp;</th>\n",
       "      <th id=\"T_a26cb_level0_col0\" class=\"col_heading level0 col0\" >hypothesis</th>\n",
       "      <th id=\"T_a26cb_level0_col1\" class=\"col_heading level0 col1\" >ICE</th>\n",
       "    </tr>\n",
       "  </thead>\n",
       "  <tbody>\n",
       "    <tr>\n",
       "      <th id=\"T_a26cb_level0_row0\" class=\"row_heading level0 row0\" >8</th>\n",
       "      <td id=\"T_a26cb_row0_col0\" class=\"data row0 col0\" >Запустить акцию, дающую скидку на товар в день рождения</td>\n",
       "      <td id=\"T_a26cb_row0_col1\" class=\"data row0 col1\" >16.200000</td>\n",
       "    </tr>\n",
       "    <tr>\n",
       "      <th id=\"T_a26cb_level0_row1\" class=\"row_heading level0 row1\" >0</th>\n",
       "      <td id=\"T_a26cb_row1_col0\" class=\"data row1 col0\" >Добавить два новых канала привлечения трафика, что позволит привлекать на 30% больше пользователей</td>\n",
       "      <td id=\"T_a26cb_row1_col1\" class=\"data row1 col1\" >13.330000</td>\n",
       "    </tr>\n",
       "    <tr>\n",
       "      <th id=\"T_a26cb_level0_row2\" class=\"row_heading level0 row2\" >7</th>\n",
       "      <td id=\"T_a26cb_row2_col0\" class=\"data row2 col0\" >Добавить форму подписки на все основные страницы, чтобы собрать базу клиентов для email-рассылок</td>\n",
       "      <td id=\"T_a26cb_row2_col1\" class=\"data row2 col1\" >11.200000</td>\n",
       "    </tr>\n",
       "    <tr>\n",
       "      <th id=\"T_a26cb_level0_row3\" class=\"row_heading level0 row3\" >6</th>\n",
       "      <td id=\"T_a26cb_row3_col0\" class=\"data row3 col0\" >Показать на главной странице баннеры с актуальными акциями и распродажами, чтобы увеличить конверсию</td>\n",
       "      <td id=\"T_a26cb_row3_col1\" class=\"data row3 col1\" >8.000000</td>\n",
       "    </tr>\n",
       "    <tr>\n",
       "      <th id=\"T_a26cb_level0_row4\" class=\"row_heading level0 row4\" >2</th>\n",
       "      <td id=\"T_a26cb_row4_col0\" class=\"data row4 col0\" >Добавить блоки рекомендаций товаров на сайт интернет магазина, чтобы повысить конверсию и средний чек заказа</td>\n",
       "      <td id=\"T_a26cb_row4_col1\" class=\"data row4 col1\" >7.000000</td>\n",
       "    </tr>\n",
       "    <tr>\n",
       "      <th id=\"T_a26cb_level0_row5\" class=\"row_heading level0 row5\" >1</th>\n",
       "      <td id=\"T_a26cb_row5_col0\" class=\"data row5 col0\" >Запустить собственную службу доставки, что сократит срок доставки заказов</td>\n",
       "      <td id=\"T_a26cb_row5_col1\" class=\"data row5 col1\" >2.000000</td>\n",
       "    </tr>\n",
       "    <tr>\n",
       "      <th id=\"T_a26cb_level0_row6\" class=\"row_heading level0 row6\" >5</th>\n",
       "      <td id=\"T_a26cb_row6_col0\" class=\"data row6 col0\" >Добавить страницу отзывов клиентов о магазине, что позволит увеличить количество заказов</td>\n",
       "      <td id=\"T_a26cb_row6_col1\" class=\"data row6 col1\" >1.330000</td>\n",
       "    </tr>\n",
       "    <tr>\n",
       "      <th id=\"T_a26cb_level0_row7\" class=\"row_heading level0 row7\" >3</th>\n",
       "      <td id=\"T_a26cb_row7_col0\" class=\"data row7 col0\" >Изменить структура категорий, что увеличит конверсию, т.к. пользователи быстрее найдут нужный товар</td>\n",
       "      <td id=\"T_a26cb_row7_col1\" class=\"data row7 col1\" >1.120000</td>\n",
       "    </tr>\n",
       "    <tr>\n",
       "      <th id=\"T_a26cb_level0_row8\" class=\"row_heading level0 row8\" >4</th>\n",
       "      <td id=\"T_a26cb_row8_col0\" class=\"data row8 col0\" >Изменить цвет фона главной страницы, чтобы увеличить вовлеченность пользователей</td>\n",
       "      <td id=\"T_a26cb_row8_col1\" class=\"data row8 col1\" >1.000000</td>\n",
       "    </tr>\n",
       "  </tbody>\n",
       "</table>\n"
      ],
      "text/plain": [
       "<pandas.io.formats.style.Styler at 0x28ab4704a00>"
      ]
     },
     "metadata": {},
     "output_type": "display_data"
    },
    {
     "data": {
      "text/html": [
       "<style type=\"text/css\">\n",
       "#T_1514f_row0_col1 {\n",
       "  background-color: #b40426;\n",
       "  color: #f1f1f1;\n",
       "}\n",
       "#T_1514f_row1_col1 {\n",
       "  background-color: #d9dce1;\n",
       "  color: #000000;\n",
       "}\n",
       "#T_1514f_row2_col1, #T_1514f_row3_col1 {\n",
       "  background-color: #abc8fd;\n",
       "  color: #000000;\n",
       "}\n",
       "#T_1514f_row4_col1 {\n",
       "  background-color: #6180e9;\n",
       "  color: #f1f1f1;\n",
       "}\n",
       "#T_1514f_row5_col1 {\n",
       "  background-color: #4b64d5;\n",
       "  color: #f1f1f1;\n",
       "}\n",
       "#T_1514f_row6_col1, #T_1514f_row7_col1 {\n",
       "  background-color: #3d50c3;\n",
       "  color: #f1f1f1;\n",
       "}\n",
       "#T_1514f_row8_col1 {\n",
       "  background-color: #3b4cc0;\n",
       "  color: #f1f1f1;\n",
       "}\n",
       "</style>\n",
       "<table id=\"T_1514f\">\n",
       "  <thead>\n",
       "    <tr>\n",
       "      <th class=\"blank level0\" >&nbsp;</th>\n",
       "      <th id=\"T_1514f_level0_col0\" class=\"col_heading level0 col0\" >hypothesis</th>\n",
       "      <th id=\"T_1514f_level0_col1\" class=\"col_heading level0 col1\" >RICE</th>\n",
       "    </tr>\n",
       "  </thead>\n",
       "  <tbody>\n",
       "    <tr>\n",
       "      <th id=\"T_1514f_level0_row0\" class=\"row_heading level0 row0\" >7</th>\n",
       "      <td id=\"T_1514f_row0_col0\" class=\"data row0 col0\" >Добавить форму подписки на все основные страницы, чтобы собрать базу клиентов для email-рассылок</td>\n",
       "      <td id=\"T_1514f_row0_col1\" class=\"data row0 col1\" >112.000000</td>\n",
       "    </tr>\n",
       "    <tr>\n",
       "      <th id=\"T_1514f_level0_row1\" class=\"row_heading level0 row1\" >2</th>\n",
       "      <td id=\"T_1514f_row1_col0\" class=\"data row1 col0\" >Добавить блоки рекомендаций товаров на сайт интернет магазина, чтобы повысить конверсию и средний чек заказа</td>\n",
       "      <td id=\"T_1514f_row1_col1\" class=\"data row1 col1\" >56.000000</td>\n",
       "    </tr>\n",
       "    <tr>\n",
       "      <th id=\"T_1514f_level0_row2\" class=\"row_heading level0 row2\" >0</th>\n",
       "      <td id=\"T_1514f_row2_col0\" class=\"data row2 col0\" >Добавить два новых канала привлечения трафика, что позволит привлекать на 30% больше пользователей</td>\n",
       "      <td id=\"T_1514f_row2_col1\" class=\"data row2 col1\" >40.000000</td>\n",
       "    </tr>\n",
       "    <tr>\n",
       "      <th id=\"T_1514f_level0_row3\" class=\"row_heading level0 row3\" >6</th>\n",
       "      <td id=\"T_1514f_row3_col0\" class=\"data row3 col0\" >Показать на главной странице баннеры с актуальными акциями и распродажами, чтобы увеличить конверсию</td>\n",
       "      <td id=\"T_1514f_row3_col1\" class=\"data row3 col1\" >40.000000</td>\n",
       "    </tr>\n",
       "    <tr>\n",
       "      <th id=\"T_1514f_level0_row4\" class=\"row_heading level0 row4\" >8</th>\n",
       "      <td id=\"T_1514f_row4_col0\" class=\"data row4 col0\" >Запустить акцию, дающую скидку на товар в день рождения</td>\n",
       "      <td id=\"T_1514f_row4_col1\" class=\"data row4 col1\" >16.200000</td>\n",
       "    </tr>\n",
       "    <tr>\n",
       "      <th id=\"T_1514f_level0_row5\" class=\"row_heading level0 row5\" >3</th>\n",
       "      <td id=\"T_1514f_row5_col0\" class=\"data row5 col0\" >Изменить структура категорий, что увеличит конверсию, т.к. пользователи быстрее найдут нужный товар</td>\n",
       "      <td id=\"T_1514f_row5_col1\" class=\"data row5 col1\" >9.000000</td>\n",
       "    </tr>\n",
       "    <tr>\n",
       "      <th id=\"T_1514f_level0_row6\" class=\"row_heading level0 row6\" >1</th>\n",
       "      <td id=\"T_1514f_row6_col0\" class=\"data row6 col0\" >Запустить собственную службу доставки, что сократит срок доставки заказов</td>\n",
       "      <td id=\"T_1514f_row6_col1\" class=\"data row6 col1\" >4.000000</td>\n",
       "    </tr>\n",
       "    <tr>\n",
       "      <th id=\"T_1514f_level0_row7\" class=\"row_heading level0 row7\" >5</th>\n",
       "      <td id=\"T_1514f_row7_col0\" class=\"data row7 col0\" >Добавить страницу отзывов клиентов о магазине, что позволит увеличить количество заказов</td>\n",
       "      <td id=\"T_1514f_row7_col1\" class=\"data row7 col1\" >4.000000</td>\n",
       "    </tr>\n",
       "    <tr>\n",
       "      <th id=\"T_1514f_level0_row8\" class=\"row_heading level0 row8\" >4</th>\n",
       "      <td id=\"T_1514f_row8_col0\" class=\"data row8 col0\" >Изменить цвет фона главной страницы, чтобы увеличить вовлеченность пользователей</td>\n",
       "      <td id=\"T_1514f_row8_col1\" class=\"data row8 col1\" >3.000000</td>\n",
       "    </tr>\n",
       "  </tbody>\n",
       "</table>\n"
      ],
      "text/plain": [
       "<pandas.io.formats.style.Styler at 0x28ab4702580>"
      ]
     },
     "metadata": {},
     "output_type": "display_data"
    }
   ],
   "source": [
    "hypothesis['ICE'] = round(\n",
    "    (hypothesis['impact'] \n",
    "     * hypothesis['confidence']) \n",
    "    / hypothesis['efforts'], 2)\n",
    "\n",
    "hypothesis['RICE'] = round(\n",
    "    (hypothesis['reach'] \n",
    "     * hypothesis['impact'] \n",
    "     * hypothesis['confidence']) \n",
    "    / hypothesis['efforts'], 2)\n",
    "\n",
    "display(hypothesis[['hypothesis', 'ICE']].sort_values(\n",
    "    by='ICE', ascending=False).style.background_gradient(cmap =\"coolwarm\"))\n",
    "\n",
    "display(hypothesis[['hypothesis', 'RICE']].sort_values(\n",
    "    by='RICE', ascending=False).style.background_gradient(cmap =\"coolwarm\"))\n",
    "\n",
    "#returning the preset string length\n",
    "pd.set_option('display.max_colwidth', preset_colwidth)"
   ]
  },
  {
   "cell_type": "code",
   "execution_count": 7,
   "id": "dbab7fc2",
   "metadata": {},
   "outputs": [
    {
     "data": {
      "image/png": "[encoded data removed]",
      "text/plain": [
       "<Figure size 720x720 with 1 Axes>"
      ]
     },
     "metadata": {
      "needs_background": "light"
     },
     "output_type": "display_data"
    }
   ],
   "source": [
    "y = hypothesis['ICE'] \n",
    "z = hypothesis['RICE'] \n",
    "n = hypothesis.index \n",
    "\n",
    "fig, ax = plt.subplots()\n",
    "ax.scatter(z, y)\n",
    "\n",
    "for i, txt in enumerate(n):\n",
    "    ax.annotate(txt, (z[i], y[i]), size=30)\n",
    "\n",
    "plt.title(\"ICE and RICE of hipothesis\") \n",
    "plt.xlabel(\"RICE\") \n",
    "plt.ylabel(\"ICE\")\n",
    "plt.grid()    \n",
    "\n",
    "fig.set_figheight(10)\n",
    "fig.set_figwidth(10) \n",
    "plt.show()    "
   ]
  },
  {
   "cell_type": "markdown",
   "id": "251a082e",
   "metadata": {},
   "source": [
    "The best values of **ICE** for hypotheses:\n",
    "\n",
    "8 - Launch a promotion giving a discount on a product on your birthday\n",
    "0 - Add two new traffic channels, which will attract 30% more users\n",
    "7 - Add a subscription form to all the main pages to collect a customer base for email newsletters\n",
    "\n",
    "At the same time, taking into account the audience coverage assessment, hypotheses have priority according to **RICE**:\n",
    "\n",
    "7 - Add a subscription form to all the main pages to collect a customer base for email newsletters\n",
    "2 - Add product recommendation blocks to the online store's website to increase conversion and average order receipt\n",
    "0 - Add two new traffic channels, which will attract 30% more users\n",
    "6 - Show banners with current promotions and sales on the main page to increase conversion\n",
    "\n",
    "If you choose a hypothesis for conducting an A/B test, taking into account the audience coverage, hypothesis 7 should be considered as a priority: **Add a subscription form to all the main pages in order to collect a customer base for email newsletters**"
   ]
  },
  {
   "cell_type": "markdown",
   "id": "dcc90a0f",
   "metadata": {},
   "source": [
    "# Part 2. Analysis of the A/B test"
   ]
  },
  {
   "cell_type": "markdown",
   "id": "d8a4210e",
   "metadata": {},
   "source": [
    "## Data preprocessing"
   ]
  },
  {
   "cell_type": "markdown",
   "id": "bc80e9d6",
   "metadata": {},
   "source": [
    "Let's check the tables for matching data types and empty values."
   ]
  },
  {
   "cell_type": "code",
   "execution_count": 8,
   "id": "44dcae91",
   "metadata": {},
   "outputs": [
    {
     "name": "stdout",
     "output_type": "stream",
     "text": [
      "<class 'pandas.core.frame.DataFrame'>\n",
      "RangeIndex: 1197 entries, 0 to 1196\n",
      "Data columns (total 5 columns):\n",
      " #   Column          Non-Null Count  Dtype         \n",
      "---  ------          --------------  -----         \n",
      " 0   transaction_id  1197 non-null   int64         \n",
      " 1   visitor_id      1197 non-null   int64         \n",
      " 2   date            1197 non-null   datetime64[ns]\n",
      " 3   revenue         1197 non-null   int64         \n",
      " 4   group           1197 non-null   object        \n",
      "dtypes: datetime64[ns](1), int64(3), object(1)\n",
      "memory usage: 46.9+ KB\n"
     ]
    }
   ],
   "source": [
    "orders.info()"
   ]
  },
  {
   "cell_type": "code",
   "execution_count": 9,
   "id": "ae4e4298",
   "metadata": {},
   "outputs": [
    {
     "name": "stdout",
     "output_type": "stream",
     "text": [
      "<class 'pandas.core.frame.DataFrame'>\n",
      "RangeIndex: 62 entries, 0 to 61\n",
      "Data columns (total 3 columns):\n",
      " #   Column    Non-Null Count  Dtype         \n",
      "---  ------    --------------  -----         \n",
      " 0   date      62 non-null     datetime64[ns]\n",
      " 1   group     62 non-null     object        \n",
      " 2   visitors  62 non-null     int64         \n",
      "dtypes: datetime64[ns](1), int64(1), object(1)\n",
      "memory usage: 1.6+ KB\n"
     ]
    }
   ],
   "source": [
    "visitors.info()"
   ]
  },
  {
   "cell_type": "markdown",
   "id": "e6ccc13b",
   "metadata": {},
   "source": [
    "Let's check the tables for obvious duplicates:"
   ]
  },
  {
   "cell_type": "code",
   "execution_count": 10,
   "id": "9431eda1",
   "metadata": {},
   "outputs": [
    {
     "data": {
      "text/plain": [
       "0"
      ]
     },
     "execution_count": 10,
     "metadata": {},
     "output_type": "execute_result"
    }
   ],
   "source": [
    "orders.duplicated().sum()"
   ]
  },
  {
   "cell_type": "code",
   "execution_count": 11,
   "id": "d39eba96",
   "metadata": {},
   "outputs": [
    {
     "data": {
      "text/plain": [
       "0"
      ]
     },
     "execution_count": 11,
     "metadata": {},
     "output_type": "execute_result"
    }
   ],
   "source": [
    "visitors.duplicated().sum()"
   ]
  },
  {
   "cell_type": "markdown",
   "id": "7687e872",
   "metadata": {},
   "source": [
    "No obvious duplicates were found. Let's check the orders table for the uniqueness of the purchase ID and user ID:"
   ]
  },
  {
   "cell_type": "code",
   "execution_count": 12,
   "id": "37439e40",
   "metadata": {},
   "outputs": [
    {
     "data": {
      "text/plain": [
       "0"
      ]
     },
     "execution_count": 12,
     "metadata": {},
     "output_type": "execute_result"
    }
   ],
   "source": [
    "orders['transaction_id'].duplicated().sum()"
   ]
  },
  {
   "cell_type": "code",
   "execution_count": 13,
   "id": "e576425a",
   "metadata": {},
   "outputs": [
    {
     "data": {
      "text/plain": [
       "166"
      ]
     },
     "execution_count": 13,
     "metadata": {},
     "output_type": "execute_result"
    }
   ],
   "source": [
    "orders['visitor_id'].duplicated().sum()"
   ]
  },
  {
   "cell_type": "markdown",
   "id": "4d8bb05d",
   "metadata": {},
   "source": [
    "The non-uniqueness of user IDs is most likely due to the fact that each user can have several unique purchases. Let's output the first 10 rows of the orders table for non-unique users to make sure of this."
   ]
  },
  {
   "cell_type": "code",
   "execution_count": 14,
   "id": "db30e197",
   "metadata": {},
   "outputs": [
    {
     "data": {
      "text/html": [
       "<div>\n",
       "<style scoped>\n",
       "    .dataframe tbody tr th:only-of-type {\n",
       "        vertical-align: middle;\n",
       "    }\n",
       "\n",
       "    .dataframe tbody tr th {\n",
       "        vertical-align: top;\n",
       "    }\n",
       "\n",
       "    .dataframe thead th {\n",
       "        text-align: right;\n",
       "    }\n",
       "</style>\n",
       "<table border=\"1\" class=\"dataframe\">\n",
       "  <thead>\n",
       "    <tr style=\"text-align: right;\">\n",
       "      <th></th>\n",
       "      <th>transaction_id</th>\n",
       "      <th>visitor_id</th>\n",
       "      <th>date</th>\n",
       "      <th>revenue</th>\n",
       "      <th>group</th>\n",
       "    </tr>\n",
       "  </thead>\n",
       "  <tbody>\n",
       "    <tr>\n",
       "      <th>71</th>\n",
       "      <td>3679129301</td>\n",
       "      <td>8300375</td>\n",
       "      <td>2019-08-01</td>\n",
       "      <td>10510</td>\n",
       "      <td>B</td>\n",
       "    </tr>\n",
       "    <tr>\n",
       "      <th>703</th>\n",
       "      <td>4293855558</td>\n",
       "      <td>8300375</td>\n",
       "      <td>2019-08-07</td>\n",
       "      <td>1790</td>\n",
       "      <td>A</td>\n",
       "    </tr>\n",
       "    <tr>\n",
       "      <th>1102</th>\n",
       "      <td>1941707234</td>\n",
       "      <td>199603092</td>\n",
       "      <td>2019-08-12</td>\n",
       "      <td>6438</td>\n",
       "      <td>A</td>\n",
       "    </tr>\n",
       "    <tr>\n",
       "      <th>823</th>\n",
       "      <td>2971973105</td>\n",
       "      <td>199603092</td>\n",
       "      <td>2019-08-27</td>\n",
       "      <td>2790</td>\n",
       "      <td>A</td>\n",
       "    </tr>\n",
       "    <tr>\n",
       "      <th>134</th>\n",
       "      <td>62794304</td>\n",
       "      <td>199603092</td>\n",
       "      <td>2019-08-22</td>\n",
       "      <td>6976</td>\n",
       "      <td>A</td>\n",
       "    </tr>\n",
       "    <tr>\n",
       "      <th>26</th>\n",
       "      <td>2223239646</td>\n",
       "      <td>199603092</td>\n",
       "      <td>2019-08-15</td>\n",
       "      <td>3488</td>\n",
       "      <td>A</td>\n",
       "    </tr>\n",
       "    <tr>\n",
       "      <th>246</th>\n",
       "      <td>437656952</td>\n",
       "      <td>199603092</td>\n",
       "      <td>2019-08-02</td>\n",
       "      <td>3488</td>\n",
       "      <td>B</td>\n",
       "    </tr>\n",
       "    <tr>\n",
       "      <th>1013</th>\n",
       "      <td>83566152</td>\n",
       "      <td>232979603</td>\n",
       "      <td>2019-08-31</td>\n",
       "      <td>60</td>\n",
       "      <td>A</td>\n",
       "    </tr>\n",
       "    <tr>\n",
       "      <th>1009</th>\n",
       "      <td>2670069237</td>\n",
       "      <td>232979603</td>\n",
       "      <td>2019-08-31</td>\n",
       "      <td>2640</td>\n",
       "      <td>B</td>\n",
       "    </tr>\n",
       "    <tr>\n",
       "      <th>1097</th>\n",
       "      <td>3357467820</td>\n",
       "      <td>237748145</td>\n",
       "      <td>2019-08-12</td>\n",
       "      <td>340</td>\n",
       "      <td>A</td>\n",
       "    </tr>\n",
       "  </tbody>\n",
       "</table>\n",
       "</div>"
      ],
      "text/plain": [
       "      transaction_id  visitor_id       date  revenue group\n",
       "71        3679129301     8300375 2019-08-01    10510     B\n",
       "703       4293855558     8300375 2019-08-07     1790     A\n",
       "1102      1941707234   199603092 2019-08-12     6438     A\n",
       "823       2971973105   199603092 2019-08-27     2790     A\n",
       "134         62794304   199603092 2019-08-22     6976     A\n",
       "26        2223239646   199603092 2019-08-15     3488     A\n",
       "246        437656952   199603092 2019-08-02     3488     B\n",
       "1013        83566152   232979603 2019-08-31       60     A\n",
       "1009      2670069237   232979603 2019-08-31     2640     B\n",
       "1097      3357467820   237748145 2019-08-12      340     A"
      ]
     },
     "execution_count": 14,
     "metadata": {},
     "output_type": "execute_result"
    }
   ],
   "source": [
    "visitors_id_duplicated = orders[orders['visitor_id'].duplicated()]['visitor_id'].unique()\n",
    "\n",
    "orders.query('visitor_id in @visitors_id_duplicated').sort_values(by='visitor_id').head(10)"
   ]
  },
  {
   "cell_type": "markdown",
   "id": "4b481a75",
   "metadata": {},
   "source": [
    "Each user can have several unique purchases.\n",
    "\n",
    "We see that in each purchase, the user fell into either group A or group B. Let's find out how many users are in both group A and group B and their share of the total number of users:"
   ]
  },
  {
   "cell_type": "code",
   "execution_count": 15,
   "id": "b6c401db",
   "metadata": {},
   "outputs": [
    {
     "name": "stdout",
     "output_type": "stream",
     "text": [
      "Users who fall into both groups: 58\n",
      "Share of the total number of unique users: 0.056\n"
     ]
    }
   ],
   "source": [
    "visitors_ab_count = len(orders.groupby('visitor_id').agg({'group':'nunique'}).query('group > 1'))\n",
    "\n",
    "print('Users who fall into both groups:', visitors_ab_count)\n",
    "print('Share of the total number of unique users:', round(visitors_ab_count / len(orders['visitor_id'].unique()), 3))"
   ]
  },
  {
   "cell_type": "markdown",
   "id": "d7f2bd9b",
   "metadata": {},
   "source": [
    "There are 5.6% of such users, but it is not possible to delete them, since the **visitors** table contains data about users already accumulated."
   ]
  },
  {
   "cell_type": "markdown",
   "id": "d6cc0e51",
   "metadata": {},
   "source": [
    "Let's check which groups are in the A/B test in the dataframe **visitors**:"
   ]
  },
  {
   "cell_type": "code",
   "execution_count": 16,
   "id": "e1aa3195",
   "metadata": {},
   "outputs": [
    {
     "name": "stdout",
     "output_type": "stream",
     "text": [
      "Groups in visitors: ['A' 'B']\n"
     ]
    }
   ],
   "source": [
    "print('Groups in visitors:', visitors['group'].unique())"
   ]
  },
  {
   "cell_type": "markdown",
   "id": "67f40706",
   "metadata": {},
   "source": [
    "Let's see which groups are in the dataframe **orders** and how many unique users are in each group:"
   ]
  },
  {
   "cell_type": "code",
   "execution_count": 17,
   "id": "59eebfe2",
   "metadata": {},
   "outputs": [
    {
     "data": {
      "text/html": [
       "<div>\n",
       "<style scoped>\n",
       "    .dataframe tbody tr th:only-of-type {\n",
       "        vertical-align: middle;\n",
       "    }\n",
       "\n",
       "    .dataframe tbody tr th {\n",
       "        vertical-align: top;\n",
       "    }\n",
       "\n",
       "    .dataframe thead th {\n",
       "        text-align: right;\n",
       "    }\n",
       "</style>\n",
       "<table border=\"1\" class=\"dataframe\">\n",
       "  <thead>\n",
       "    <tr style=\"text-align: right;\">\n",
       "      <th>group</th>\n",
       "      <th>A</th>\n",
       "      <th>B</th>\n",
       "      <th>A/B</th>\n",
       "      <th>Total</th>\n",
       "    </tr>\n",
       "  </thead>\n",
       "  <tbody>\n",
       "    <tr>\n",
       "      <th>visitors</th>\n",
       "      <td>18736</td>\n",
       "      <td>18916</td>\n",
       "      <td>0.99</td>\n",
       "      <td>37652</td>\n",
       "    </tr>\n",
       "    <tr>\n",
       "      <th>buyers_all</th>\n",
       "      <td>557</td>\n",
       "      <td>640</td>\n",
       "      <td>0.87</td>\n",
       "      <td>1197</td>\n",
       "    </tr>\n",
       "    <tr>\n",
       "      <th>buyers_unique</th>\n",
       "      <td>503</td>\n",
       "      <td>586</td>\n",
       "      <td>0.86</td>\n",
       "      <td>1089</td>\n",
       "    </tr>\n",
       "  </tbody>\n",
       "</table>\n",
       "</div>"
      ],
      "text/plain": [
       "group              A      B   A/B  Total\n",
       "visitors       18736  18916  0.99  37652\n",
       "buyers_all       557    640  0.87   1197\n",
       "buyers_unique    503    586  0.86   1089"
      ]
     },
     "metadata": {},
     "output_type": "display_data"
    }
   ],
   "source": [
    "groups_users_num = orders.groupby('group').agg({'visitor_id':['nunique', 'count']})\n",
    "groups_users_num.columns = ['buyers_unique', 'buyers_all']\n",
    "groups_users_num = (groups_users_num.join(visitors.groupby('group').agg({'visitors':'sum'}))\n",
    "                    .T.sort_values(by='A', ascending=False))\n",
    "groups_users_num['A/B'] = round(groups_users_num['A'] / groups_users_num['B'], 2)\n",
    "groups_users_num['Total'] = groups_users_num['A'] + groups_users_num['B']\n",
    "\n",
    "display(groups_users_num)"
   ]
  },
  {
   "cell_type": "markdown",
   "id": "302b76b0",
   "metadata": {},
   "source": [
    "Groups A and B are equally distributed by visits, and the ratio has shifted among unique buyers: group B has 14% more unique buyers."
   ]
  },
  {
   "cell_type": "markdown",
   "id": "db0b0c6e",
   "metadata": {},
   "source": [
    "Output the start and end dates of the test:"
   ]
  },
  {
   "cell_type": "code",
   "execution_count": 18,
   "id": "0b98aee1",
   "metadata": {},
   "outputs": [
    {
     "name": "stdout",
     "output_type": "stream",
     "text": [
      "First visit data: 2019-08-01\n",
      "First order data: 2019-08-01\n",
      "Last visit data: 2019-08-31\n",
      "Last order data: 2019-08-31\n"
     ]
    }
   ],
   "source": [
    "print('First visit data:', visitors['date'].dt.date.min())\n",
    "print('First order data:', orders['date'].dt.date.min())\n",
    "print('Last visit data:', visitors['date'].dt.date.max())\n",
    "print('Last order data:', orders['date'].dt.date.max())"
   ]
  },
  {
   "cell_type": "markdown",
   "id": "3d1fb349",
   "metadata": {},
   "source": [
    "The test dates are from August 1 to August 31, 2019."
   ]
  },
  {
   "cell_type": "markdown",
   "id": "e4337b96",
   "metadata": {},
   "source": [
    "## Analysis of test results"
   ]
  },
  {
   "cell_type": "markdown",
   "id": "6c6151fa",
   "metadata": {},
   "source": [
    "### Cumulative revenue by group"
   ]
  },
  {
   "cell_type": "code",
   "execution_count": 19,
   "id": "0cbcc1ca",
   "metadata": {},
   "outputs": [
    {
     "name": "stdout",
     "output_type": "stream",
     "text": [
      "        date group  orders  buyers  revenue  visitors\n",
      "0 2019-08-01     A      24      20   148579       719\n",
      "1 2019-08-01     B      21      20   101217       713\n",
      "2 2019-08-02     A      44      38   242401      1338\n",
      "3 2019-08-02     B      45      43   266748      1294\n",
      "4 2019-08-03     A      68      62   354874      1845\n"
     ]
    }
   ],
   "source": [
    "# array of unique pairs of date values and test groups\n",
    "dates_groups = orders[['date','group']].drop_duplicates() \n",
    "\n",
    "orders_aggregated = dates_groups.apply(\n",
    "    lambda x: orders[np.logical_and(orders['date'] <= x['date'], orders['group'] == x['group'])]\n",
    "    .agg({'date' : 'max',\n",
    "          'group' : 'max',\n",
    "          'transaction_id' : 'nunique',\n",
    "          'visitor_id' : 'nunique',\n",
    "          'revenue' : 'sum'}), axis=1).sort_values(by=['date','group'])\n",
    "\n",
    "visitors_aggregated = dates_groups.apply(\n",
    "    lambda x: visitors[np.logical_and(visitors['date'] <= x['date'], visitors['group'] == x['group'])]\n",
    "    .agg({'date' : 'max',\n",
    "          'group' : 'max',\n",
    "          'visitors' : 'sum'}), axis=1).sort_values(by=['date','group'])\n",
    "\n",
    "# combining cumulative data in a single table\n",
    "cumulative_data = orders_aggregated.merge(visitors_aggregated,\n",
    "                                          left_on=['date', 'group'],\n",
    "                                          right_on=['date', 'group'])\n",
    "cumulative_data.columns = ['date', 'group', 'orders', 'buyers', 'revenue', 'visitors']\n",
    "\n",
    "print(cumulative_data.head(5)) "
   ]
  },
  {
   "cell_type": "markdown",
   "id": "319fcd0c",
   "metadata": {},
   "source": [
    "Let's check the dates in the dataframe to see if they match the original data:"
   ]
  },
  {
   "cell_type": "code",
   "execution_count": 20,
   "id": "abb12037",
   "metadata": {},
   "outputs": [
    {
     "name": "stdout",
     "output_type": "stream",
     "text": [
      "MIN: 2019-08-01\n",
      "MAX: 2019-08-31\n"
     ]
    }
   ],
   "source": [
    "print('MIN:', cumulative_data['date'].dt.date.min())\n",
    "print('MAX:', cumulative_data['date'].dt.date.max())"
   ]
  },
  {
   "cell_type": "markdown",
   "id": "176d7eff",
   "metadata": {},
   "source": [
    "The dates match, the dataframe is created correctly."
   ]
  },
  {
   "cell_type": "code",
   "execution_count": 21,
   "id": "10f2a1c3",
   "metadata": {},
   "outputs": [
    {
     "data": {
      "image/png": "[encoded data removed]",
      "text/plain": [
       "<Figure size 432x288 with 1 Axes>"
      ]
     },
     "metadata": {
      "needs_background": "light"
     },
     "output_type": "display_data"
    }
   ],
   "source": [
    "# cumulative number of orders and revenue by day, group A\n",
    "cumulative_revenue_a = cumulative_data[cumulative_data['group']=='A'][['date','revenue', 'orders']]\n",
    "\n",
    "# cumulative number of orders and revenue by day, group B\n",
    "cumulative_revenue_b = cumulative_data[cumulative_data['group']=='B'][['date','revenue', 'orders']]\n",
    "\n",
    "# revenue schedule in groups A, B\n",
    "plt.plot(cumulative_revenue_a['date'], cumulative_revenue_a['revenue'], label='A')\n",
    "plt.plot(cumulative_revenue_b['date'], cumulative_revenue_b['revenue'], label='B')\n",
    "\n",
    "plt.title('Cumulative revenue by group')\n",
    "plt.xticks(rotation=45)\n",
    "plt.legend() \n",
    "plt.ylabel('Cumulative revenue, RUB.')\n",
    "plt.grid(True)\n",
    "plt.show()"
   ]
  },
  {
   "cell_type": "markdown",
   "id": "ffbc38e3",
   "metadata": {},
   "source": [
    "Cumulative revenue in Group B has become higher over time than in Group A and increased sharply at the point from August 17 to August 20, which may indicate either a surge in the number of orders or the presence of outliers in the sample in the form of expensive orders."
   ]
  },
  {
   "cell_type": "markdown",
   "id": "53a7fab6",
   "metadata": {},
   "source": [
    "### AOV (average order value) by group"
   ]
  },
  {
   "cell_type": "code",
   "execution_count": 22,
   "id": "a22b7203",
   "metadata": {},
   "outputs": [
    {
     "data": {
      "image/png": "[encoded data removed]",
      "text/plain": [
       "<Figure size 432x288 with 1 Axes>"
      ]
     },
     "metadata": {
      "needs_background": "light"
     },
     "output_type": "display_data"
    }
   ],
   "source": [
    "plt.plot(cumulative_revenue_a['date'], cumulative_revenue_a['revenue']/cumulative_revenue_a['orders'], label='A')\n",
    "plt.plot(cumulative_revenue_b['date'], cumulative_revenue_b['revenue']/cumulative_revenue_b['orders'], label='B')\n",
    "plt.xticks(rotation=45)\n",
    "plt.title('AOV by group')\n",
    "plt.legend()\n",
    "plt.ylabel('AOV, RUB.')\n",
    "plt.grid(True)\n",
    "plt.show()"
   ]
  },
  {
   "cell_type": "markdown",
   "id": "02304ae4",
   "metadata": {},
   "source": [
    "The cumulative average check values in the groups stabilized by mid-August, but on the same dates as the jump in the previous graph, we see a sharp increase in the average check in group B. After this jump, the values of the cumulative average check in group B decrease, which again indicates the need to examine the data for the presence of outliers."
   ]
  },
  {
   "cell_type": "markdown",
   "id": "7ce11b08",
   "metadata": {},
   "source": [
    "Let's plot the relative change of the cumulative average check of group B to group A:"
   ]
  },
  {
   "cell_type": "code",
   "execution_count": 23,
   "id": "a37efbeb",
   "metadata": {},
   "outputs": [
    {
     "data": {
      "image/png": "[encoded data removed]",
      "text/plain": [
       "<Figure size 432x288 with 1 Axes>"
      ]
     },
     "metadata": {
      "needs_background": "light"
     },
     "output_type": "display_data"
    }
   ],
   "source": [
    "# combining the group tables\n",
    "merged_cumulative_revenue = cumulative_revenue_a.merge(cumulative_revenue_b,\n",
    "                                                       left_on='date',\n",
    "                                                       right_on='date',\n",
    "                                                       how='left',\n",
    "                                                       suffixes=['A', 'B'])\n",
    "\n",
    "# graph of the ratio of AOV\n",
    "plt.plot(merged_cumulative_revenue['date'], \\\n",
    "         (merged_cumulative_revenue['revenueB']/merged_cumulative_revenue['ordersB'])\\\n",
    "         /(merged_cumulative_revenue['revenueA']/merged_cumulative_revenue['ordersA'])-1)\n",
    "plt.grid(True)\n",
    "plt.axhline(y=0, color='black', linestyle='--') \n",
    "plt.xticks(rotation=45)\n",
    "plt.title('Relative change of the cumulative AOV of group B to group A')\n",
    "plt.show()"
   ]
  },
  {
   "cell_type": "markdown",
   "id": "d04091a7",
   "metadata": {},
   "source": [
    "At several points, the graph of the difference between the segments changes dramatically, which, again, indicates outliers."
   ]
  },
  {
   "cell_type": "markdown",
   "id": "18af8a73",
   "metadata": {},
   "source": [
    "### Cumulative average number of orders by group"
   ]
  },
  {
   "cell_type": "code",
   "execution_count": 24,
   "id": "1f545847",
   "metadata": {},
   "outputs": [
    {
     "data": {
      "image/png": "[encoded data removed]",
      "text/plain": [
       "<Figure size 432x288 with 1 Axes>"
      ]
     },
     "metadata": {
      "needs_background": "light"
     },
     "output_type": "display_data"
    }
   ],
   "source": [
    "# group A\n",
    "cumulative_data_a = cumulative_data[cumulative_data['group']=='A']\n",
    "\n",
    "# group B\n",
    "cumulative_data_b = cumulative_data[cumulative_data['group']=='B']\n",
    "\n",
    "plt.plot(cumulative_data_a['date'], cumulative_data_a['orders'], label='A')\n",
    "plt.plot(cumulative_data_b['date'], cumulative_data_b['orders'], label='B')\n",
    "plt.legend()\n",
    "plt.xticks(rotation=45)\n",
    "plt.ylabel('Average number of orders')\n",
    "plt.title('Cumulative average number of orders by group')\n",
    "plt.grid(True)\n",
    "plt.show()"
   ]
  },
  {
   "cell_type": "markdown",
   "id": "76d36d91",
   "metadata": {},
   "source": [
    "The cumulative average number of orders in Group B grew slower than Group A for the first five days, then group B began to show better results, by the end of the month ahead of Group A by about 100 orders"
   ]
  },
  {
   "cell_type": "markdown",
   "id": "6a5474f2",
   "metadata": {},
   "source": [
    "Let's plot the relative change in the cumulative average number of orders of group B to group A:"
   ]
  },
  {
   "cell_type": "code",
   "execution_count": 25,
   "id": "9e403825",
   "metadata": {},
   "outputs": [
    {
     "data": {
      "image/png": "[encoded data removed]",
      "text/plain": [
       "<Figure size 432x288 with 1 Axes>"
      ]
     },
     "metadata": {
      "needs_background": "light"
     },
     "output_type": "display_data"
    }
   ],
   "source": [
    "# merging tables\n",
    "merged_cumulative_data = cumulative_data_a.merge(cumulative_data_b,\n",
    "                                                 left_on='date', \n",
    "                                                 right_on='date', \n",
    "                                                 how='left', \n",
    "                                                 suffixes=['A', 'B'])\n",
    "\n",
    "# relative change of cumulative average number of orders: group B to group A\n",
    "plt.plot(merged_cumulative_data['date'], (merged_cumulative_data['ordersB']/merged_cumulative_revenue['ordersA'])-1)\n",
    "plt.axhline(y=0, color='black', linestyle='--') \n",
    "plt.xticks(rotation=45)\n",
    "plt.grid(True)\n",
    "plt.title('Relative change of cumulative average number of orders: group B to group A')\n",
    "plt.show()"
   ]
  },
  {
   "cell_type": "markdown",
   "id": "448519b4",
   "metadata": {},
   "source": [
    "At the beginning of the test, group B was inferior to group A, a week later it began to show better results and showed them steadily with minor differences until the end of the month."
   ]
  },
  {
   "cell_type": "markdown",
   "id": "82c3182c",
   "metadata": {},
   "source": [
    "### Defining the boundaries of abnormal values"
   ]
  },
  {
   "cell_type": "markdown",
   "id": "d674dd66",
   "metadata": {},
   "source": [
    "#### Number of orders by user"
   ]
  },
  {
   "cell_type": "code",
   "execution_count": 26,
   "id": "ed31be75",
   "metadata": {},
   "outputs": [],
   "source": [
    "orders_by_users = (\n",
    "    orders.groupby('visitor_id', as_index=False)\n",
    "    .agg({'transaction_id': 'nunique'})\n",
    ")"
   ]
  },
  {
   "cell_type": "code",
   "execution_count": 27,
   "id": "75b6c04d",
   "metadata": {},
   "outputs": [
    {
     "data": {
      "image/png": "[encoded data removed]",
      "text/plain": [
       "<Figure size 432x288 with 1 Axes>"
      ]
     },
     "metadata": {
      "needs_background": "light"
     },
     "output_type": "display_data"
    }
   ],
   "source": [
    "x_values = pd.Series(range(0,len(orders_by_users)))\n",
    "plt.scatter(x_values, orders_by_users['transaction_id']) \n",
    "plt.title('Number of orders bu user')\n",
    "plt.ylabel('Number of orders')\n",
    "plt.grid(True)\n",
    "plt.show()"
   ]
  },
  {
   "cell_type": "code",
   "execution_count": 28,
   "id": "71a3d61e",
   "metadata": {},
   "outputs": [
    {
     "data": {
      "text/plain": [
       "array([1., 2., 4.])"
      ]
     },
     "execution_count": 28,
     "metadata": {},
     "output_type": "execute_result"
    }
   ],
   "source": [
    "np.percentile(orders_by_users['transaction_id'], [90, 95, 99])"
   ]
  },
  {
   "cell_type": "markdown",
   "id": "5a5a73f9",
   "metadata": {},
   "source": [
    "5% of users made more than 2 orders, and 1% of users made more than 4 orders. To filter out abnormal values, we will choose 4 orders for the upper limit, according to 99 percentile:"
   ]
  },
  {
   "cell_type": "code",
   "execution_count": 29,
   "id": "523c8313",
   "metadata": {},
   "outputs": [],
   "source": [
    "orders_percentile = np.percentile(orders_by_users['transaction_id'], [99])[0]"
   ]
  },
  {
   "cell_type": "markdown",
   "id": "96cb0840",
   "metadata": {},
   "source": [
    "#### Order's amount"
   ]
  },
  {
   "cell_type": "code",
   "execution_count": 30,
   "id": "1fda870f",
   "metadata": {},
   "outputs": [
    {
     "data": {
      "image/png": "[encoded data removed]",
      "text/plain": [
       "<Figure size 432x288 with 1 Axes>"
      ]
     },
     "metadata": {
      "needs_background": "light"
     },
     "output_type": "display_data"
    }
   ],
   "source": [
    "x_values = pd.Series(range(0,len(orders)))\n",
    "\n",
    "plt.scatter(x_values, orders['revenue'])\n",
    "plt.title('Orders amount')\n",
    "plt.ylabel('Amount of order, RUB')\n",
    "plt.grid(True)\n",
    "plt.show()"
   ]
  },
  {
   "cell_type": "markdown",
   "id": "4fec8e53",
   "metadata": {},
   "source": [
    "There are two very notable outliers. Let's see dates of this orders and to wich experemental group they belonged."
   ]
  },
  {
   "cell_type": "code",
   "execution_count": 31,
   "id": "dcaa42e7",
   "metadata": {},
   "outputs": [
    {
     "data": {
      "text/html": [
       "<div>\n",
       "<style scoped>\n",
       "    .dataframe tbody tr th:only-of-type {\n",
       "        vertical-align: middle;\n",
       "    }\n",
       "\n",
       "    .dataframe tbody tr th {\n",
       "        vertical-align: top;\n",
       "    }\n",
       "\n",
       "    .dataframe thead th {\n",
       "        text-align: right;\n",
       "    }\n",
       "</style>\n",
       "<table border=\"1\" class=\"dataframe\">\n",
       "  <thead>\n",
       "    <tr style=\"text-align: right;\">\n",
       "      <th></th>\n",
       "      <th>date</th>\n",
       "      <th>revenue</th>\n",
       "      <th>group</th>\n",
       "    </tr>\n",
       "  </thead>\n",
       "  <tbody>\n",
       "    <tr>\n",
       "      <th>425</th>\n",
       "      <td>2019-08-19</td>\n",
       "      <td>1294500</td>\n",
       "      <td>B</td>\n",
       "    </tr>\n",
       "    <tr>\n",
       "      <th>1196</th>\n",
       "      <td>2019-08-15</td>\n",
       "      <td>202740</td>\n",
       "      <td>B</td>\n",
       "    </tr>\n",
       "  </tbody>\n",
       "</table>\n",
       "</div>"
      ],
      "text/plain": [
       "           date  revenue group\n",
       "425  2019-08-19  1294500     B\n",
       "1196 2019-08-15   202740     B"
      ]
     },
     "execution_count": 31,
     "metadata": {},
     "output_type": "execute_result"
    }
   ],
   "source": [
    "orders.query('revenue > 200000')[['date','revenue','group']]"
   ]
  },
  {
   "cell_type": "markdown",
   "id": "a2dd668c",
   "metadata": {},
   "source": [
    "These abnormal orders exceed the rest by many times in value, one of them is more than a hundred times, and both orders belong to group B. Their dates coincide in time with the jump of average order value in group B."
   ]
  },
  {
   "cell_type": "markdown",
   "id": "57f83a6a",
   "metadata": {},
   "source": [
    "Next, we define the boundaries of the anomalous values. For clarity, we will build the same graph with a scale of the cost of orders up to 100,000."
   ]
  },
  {
   "cell_type": "code",
   "execution_count": 32,
   "id": "ee053f05",
   "metadata": {},
   "outputs": [
    {
     "data": {
      "image/png": "[encoded data removed]",
      "text/plain": [
       "<Figure size 432x288 with 1 Axes>"
      ]
     },
     "metadata": {
      "needs_background": "light"
     },
     "output_type": "display_data"
    }
   ],
   "source": [
    "plt.scatter(x_values, orders['revenue'])\n",
    "plt.title('Orders amount')\n",
    "plt.ylabel('Amount of order, RUB')\n",
    "plt.ylim(0,100000)\n",
    "plt.grid(True)\n",
    "plt.show()"
   ]
  },
  {
   "cell_type": "code",
   "execution_count": 33,
   "id": "97edabe0",
   "metadata": {},
   "outputs": [
    {
     "data": {
      "text/plain": [
       "array([18168. , 28000. , 58233.2])"
      ]
     },
     "execution_count": 33,
     "metadata": {},
     "output_type": "execute_result"
    }
   ],
   "source": [
    "np.percentile(orders['revenue'], [90, 95, 99])"
   ]
  },
  {
   "cell_type": "markdown",
   "id": "93d1e6d3",
   "metadata": {},
   "source": [
    "Let's define the boundary for abnormal orders in 58233.2rubles, corresponding to 99% of orders:"
   ]
  },
  {
   "cell_type": "code",
   "execution_count": 34,
   "id": "1fb7242f",
   "metadata": {},
   "outputs": [],
   "source": [
    "revenue_percentile = np.percentile(orders['revenue'], [99])[0]"
   ]
  },
  {
   "cell_type": "markdown",
   "id": "2fe5029c",
   "metadata": {},
   "source": [
    "### Statistical significance between groups based on \"raw\" data"
   ]
  },
  {
   "cell_type": "markdown",
   "id": "d0a63148",
   "metadata": {},
   "source": [
    "#### Stat.significance in average number of orders"
   ]
  },
  {
   "cell_type": "markdown",
   "id": "71a2b3d2",
   "metadata": {},
   "source": [
    "Let's compare average number of order for all users, include users without any order."
   ]
  },
  {
   "cell_type": "markdown",
   "id": "c8b33066",
   "metadata": {},
   "source": [
    "Let's formulate hypotheses.\n",
    "\n",
    "- H0: there are no differences in the average number of orders between groups A and B.\n",
    "- H1: there are differences in the average number of orders between groups A and B.\n",
    "\n",
    "Let's take the level of statistical significance: 0.05"
   ]
  },
  {
   "cell_type": "markdown",
   "id": "840b20d8",
   "metadata": {},
   "source": [
    "We will prepare tables by groups with the number of visitors and the number of orders for users who have made at least one order."
   ]
  },
  {
   "cell_type": "code",
   "execution_count": 35,
   "id": "7055d00a",
   "metadata": {},
   "outputs": [],
   "source": [
    "#Tables of visitors by date\n",
    "visitors_a_daily = visitors[visitors['group'] == 'A'][['date', 'visitors']]\n",
    "visitors_a_daily.columns = ['date', 'visitors_per_date_a']\n",
    "\n",
    "visitors_b_daily = visitors[visitors['group'] == 'B'][['date', 'visitors']]\n",
    "visitors_b_daily.columns = ['date', 'visitors_per_date_b']\n",
    "\n",
    "#Tables of number of orders grouped by visitors made at least one order\n",
    "orders_by_users_a = (\n",
    "    orders[orders['group'] == 'A']\n",
    "    .groupby('visitor_id', as_index=False)\n",
    "    .agg({'transaction_id': pd.Series.nunique})\n",
    ")\n",
    "orders_by_users_a.columns = ['user_id', 'orders']\n",
    "\n",
    "\n",
    "orders_by_users_b = (\n",
    "    orders[orders['group'] == 'B']\n",
    "    .groupby('visitor_id', as_index=False)\n",
    "    .agg({'transaction_id': pd.Series.nunique})\n",
    ")\n",
    "orders_by_users_b.columns = ['user_id', 'orders']"
   ]
  },
  {
   "cell_type": "markdown",
   "id": "0016ee95",
   "metadata": {},
   "source": [
    "Let's form tables by groups with the number of orders of all visitors, including those who have not made any order."
   ]
  },
  {
   "cell_type": "code",
   "execution_count": 36,
   "id": "51fbb688",
   "metadata": {},
   "outputs": [],
   "source": [
    "sample_a = pd.concat([orders_by_users_a['orders'],\n",
    "                     pd.Series(0,\n",
    "                               index=np.arange(visitors_a_daily['visitors_per_date_a'].sum()\\\n",
    "                                               - len(orders_by_users_a['orders'])),\n",
    "                               name='orders')],\n",
    "                    axis=0)\n",
    "\n",
    "sample_b = pd.concat([orders_by_users_b['orders'],\n",
    "                     pd.Series(0,\n",
    "                               index=np.arange(visitors_b_daily['visitors_per_date_b'].sum()\\\n",
    "                                               - len(orders_by_users_b['orders'])),\n",
    "                               name='orders')],\n",
    "                    axis=0)"
   ]
  },
  {
   "cell_type": "markdown",
   "id": "1da55a93",
   "metadata": {},
   "source": [
    "Let's apply the Mann Whitney test and output p-value, and also output the relative increase in the average number of orders of group B:"
   ]
  },
  {
   "cell_type": "code",
   "execution_count": 37,
   "id": "00cace33",
   "metadata": {},
   "outputs": [
    {
     "name": "stdout",
     "output_type": "stream",
     "text": [
      "P-Value: 0.01679\n",
      "There are reasons to reject the null hypothesis\n",
      "Relative increase in the average number of Group B orders: 0.138\n"
     ]
    }
   ],
   "source": [
    "print(\"P-Value: {0:.5f}\".format(stats.mannwhitneyu(sample_a, sample_b)[1]))\n",
    "\n",
    "if stats.mannwhitneyu(sample_a, sample_b)[1] <= 0.05:\n",
    "    print('There are reasons to reject the null hypothesis')\n",
    "else:\n",
    "    print('There are no reasons to reject the null hypothesis')\n",
    "    \n",
    "print(\"Relative increase in the average number of Group B orders: {0:.3f}\"\n",
    "      .format(sample_b.mean() / sample_a.mean() - 1))"
   ]
  },
  {
   "cell_type": "markdown",
   "id": "8ef2e217",
   "metadata": {},
   "source": [
    "According to the \"raw\" data, Group B received a relative increase in the number of orders of 13.8%, while the differences are statistically significant.\n",
    "\n",
    "If the results are confirmed on \"pure\" data, we can conclude that the hypothesis tested by the A/B test has been confirmed."
   ]
  },
  {
   "cell_type": "markdown",
   "id": "3c78977d",
   "metadata": {},
   "source": [
    "#### Statistical significance in average order value"
   ]
  },
  {
   "cell_type": "markdown",
   "id": "10a7a9d3",
   "metadata": {},
   "source": [
    "Let's formulate hypothesis.\n",
    "\n",
    "- H0: there are no significant differences in the average order value between groups A and B.\n",
    "- H1: there are significant differences in the average order value between groups A and B.\n",
    "\n",
    "Let's take the level of statistical significance: 0.05"
   ]
  },
  {
   "cell_type": "code",
   "execution_count": 38,
   "id": "781921f6",
   "metadata": {},
   "outputs": [],
   "source": [
    "sample_a = orders.query('group == \"A\"')['revenue']\n",
    "\n",
    "sample_b = orders.query('group == \"B\"')['revenue']"
   ]
  },
  {
   "cell_type": "code",
   "execution_count": 39,
   "id": "21e0cc34",
   "metadata": {},
   "outputs": [
    {
     "name": "stdout",
     "output_type": "stream",
     "text": [
      "P-Value: 0.72929\n",
      "There are no reasons to reject the null hypothesis\n",
      "Relative increase in the average order value of the group B: 0.259\n"
     ]
    }
   ],
   "source": [
    "print(\"P-Value: {0:.5f}\".format(stats.mannwhitneyu(sample_a, sample_b)[1]))\n",
    "\n",
    "if stats.mannwhitneyu(sample_a, sample_b)[1] <= 0.05:\n",
    "    print('There are reasons to reject the null hypothesis')\n",
    "else:\n",
    "    print('There are no reasons to reject the null hypothesis')\n",
    "    \n",
    "print(\"Relative increase in the average order value of the group B: {0:.3f}\"\n",
    "      .format(sample_b.mean() / sample_a.mean() - 1))"
   ]
  },
  {
   "cell_type": "markdown",
   "id": "6aa14a09",
   "metadata": {},
   "source": [
    "The increase is quite large: 26% However, P-Value according to the results of the Mann-Whitney test does not allow us to say that the differences are statistically significant. Next, we will see if the results will change on the \"clean\" data."
   ]
  },
  {
   "cell_type": "markdown",
   "id": "acc113d2",
   "metadata": {},
   "source": [
    "### Statistical significance between groups based on \"clean\" data"
   ]
  },
  {
   "cell_type": "markdown",
   "id": "b486f3ee",
   "metadata": {},
   "source": [
    "#### Stat.significance in average number of orders"
   ]
  },
  {
   "cell_type": "markdown",
   "id": "da607d0d",
   "metadata": {},
   "source": [
    "Let's formulate hypotheses.\n",
    "\n",
    "- H0: there are no differences in the average number of orders between groups A and B.\n",
    "- H1: there are differences in the average number of orders between groups A and B.\n",
    "\n",
    "The level of statistical significance: 0.05"
   ]
  },
  {
   "cell_type": "markdown",
   "id": "7c87b0ca",
   "metadata": {},
   "source": [
    "We will prepare data on the number of orders, taking into account the previously defined boundary of abnormal values in 3 orders."
   ]
  },
  {
   "cell_type": "code",
   "execution_count": 40,
   "id": "49222eef",
   "metadata": {},
   "outputs": [],
   "source": [
    "sample_a = pd.concat([orders_by_users_a.query('orders <= @orders_percentile')['orders'],\n",
    "                     pd.Series(0,\n",
    "                               index=np.arange(visitors_a_daily['visitors_per_date_a'].sum()\\\n",
    "                                               - len(orders_by_users_a['orders'])),\n",
    "                               name='orders')],\n",
    "                    axis=0)\n",
    "\n",
    "sample_b = pd.concat([orders_by_users_b.query('orders <= @orders_percentile')['orders'],\n",
    "                     pd.Series(0,\n",
    "                               index=np.arange(visitors_b_daily['visitors_per_date_b'].sum()\\\n",
    "                                               - len(orders_by_users_b['orders'])),\n",
    "                               name='orders')],\n",
    "                    axis=0)"
   ]
  },
  {
   "cell_type": "code",
   "execution_count": 41,
   "id": "80668132",
   "metadata": {},
   "outputs": [
    {
     "name": "stdout",
     "output_type": "stream",
     "text": [
      "P-Value: 0.01516\n",
      "There are reasons to reject the null hypothesis\n",
      "Relative increase in the average number of orders of the group B: 0.154\n"
     ]
    }
   ],
   "source": [
    "print(\"P-Value: {0:.5f}\".format(stats.mannwhitneyu(sample_a, sample_b)[1]))\n",
    "\n",
    "if stats.mannwhitneyu(sample_a, sample_b)[1] <= 0.05:\n",
    "    print('There are reasons to reject the null hypothesis')\n",
    "else:\n",
    "    print('There are no reasons to reject the null hypothesis')\n",
    "    \n",
    "print('Relative increase in the average number of orders of the group B: {0:.3f}'\n",
    "      .format(sample_b.mean() / sample_a.mean() - 1))"
   ]
  },
  {
   "cell_type": "markdown",
   "id": "c20a0a7e",
   "metadata": {},
   "source": [
    "Here in \"clean\" data the relative increase in Group B is higher by 1% then in \"raw\" data and P-value is comparable.\n",
    "\n",
    "Group B showed better and statistically significant results on the average number of orders than group A, which follows from both \"cleaned\" and \"raw\" data."
   ]
  },
  {
   "cell_type": "markdown",
   "id": "7d8ab58d",
   "metadata": {},
   "source": [
    "#### Statistical significance in average order value"
   ]
  },
  {
   "cell_type": "markdown",
   "id": "7bdbca6f",
   "metadata": {},
   "source": [
    "Let's formulate hypothesis.\n",
    "\n",
    "- H0: there are no significant differences in the average order value between groups A and B.\n",
    "- H1: there are significant differences in the average order value between groups A and B.\n",
    "\n",
    "Let's take the level of statistical significance: 0.05"
   ]
  },
  {
   "cell_type": "markdown",
   "id": "fb0251d4",
   "metadata": {},
   "source": [
    "Preparing date taking into account the prevosly defined boundary of abnormal values in 40 0000 RUB (=percentile 99)."
   ]
  },
  {
   "cell_type": "code",
   "execution_count": 42,
   "id": "3399732b",
   "metadata": {},
   "outputs": [],
   "source": [
    "sample_a = orders.query('group == \"A\" and revenue <= @revenue_percentile')['revenue']\n",
    "\n",
    "sample_b = orders.query('group == \"B\" and revenue <= @revenue_percentile')['revenue']"
   ]
  },
  {
   "cell_type": "code",
   "execution_count": 43,
   "id": "36e224e7",
   "metadata": {},
   "outputs": [
    {
     "name": "stdout",
     "output_type": "stream",
     "text": [
      "P-Value: 0.62086\n",
      "There are no reasons to reject the null hypothesis\n",
      "Relative increase in the average order value of the group B: 0.019: 0.019\n"
     ]
    }
   ],
   "source": [
    "print(\"P-Value: {0:.5f}\".format(stats.mannwhitneyu(sample_a, sample_b)[1]))\n",
    "\n",
    "if stats.mannwhitneyu(sample_a, sample_b)[1] <= 0.05:\n",
    "    print('here are reasons to reject the null hypothesis')\n",
    "else:\n",
    "    print('There are no reasons to reject the null hypothesis')\n",
    "    \n",
    "print(\"Relative increase in the average order value of the group B: {0:.3f}: {0:.3f}\"\n",
    "      .format(sample_b.mean() / sample_a.mean() - 1))"
   ]
  },
  {
   "cell_type": "markdown",
   "id": "b3d9d4e2",
   "metadata": {},
   "source": [
    "\"Clean\" data shows more modest relative increase in the AOV: 1.9% But P-value still indicates that the differences are not statistically significant."
   ]
  },
  {
   "cell_type": "markdown",
   "id": "0980b3c0",
   "metadata": {},
   "source": [
    "### Conclusions"
   ]
  },
  {
   "cell_type": "markdown",
   "id": "02aa8abc",
   "metadata": {},
   "source": [
    "1. The origin data indicate that 5.6% of the users who made orders fell into both Group A and Group B. The analysis of the A/B test was carried out taking them into account.\n",
    "\n",
    "\n",
    "2. A number of abnormal orders were identified, especially two orders with amounts of more than 200,000 rubles and more than 1,200,000 rubles. The analysis of statistical significance was carried out both with and without their consideration.\n",
    "\n",
    "\n",
    "3. Conclusions about the differences in the average order value in group A and B:\n",
    "- The relative increase in the AOV in group B was 26% in accordance with the \"row\" data and 1.9% in accordance with the \"clean\" data excluding abnormal orders;\n",
    "- Both in the \"row\" data and in the \"clean\" data the differences in the average check are not statistically significant;\n",
    "- Since the dynamics of the AOV in group B has stabilized by mid-August (if we do not take into account the jump caused by abnormal orders) and further shows a tendency to gradually decrease, the test can be stopped and, based on the results of the analysis, there are no statistically significant differences between the groups.\n",
    "\n",
    "4. Conclusions about differences in the average number of orders:\n",
    "- The relative increase in the average number of Group B orders was 13.8% according to the \"row\" data and 15% according to the data excluding abnormal users who made more than 4 orders;\n",
    "- Both in the origin data and in the \"clean\" data the differences in the average number of orders are statistically significant;\n",
    "- Since the dynamics of the average number of orders in group B has stabilized and shows a stable increase relative to group A, the test can be stopped and, in accordance with the presence of statistically significant differences, record the victory of group B."
   ]
  }
 ],
 "metadata": {
  "ExecuteTimeLog": [
   {
    "duration": 1342,
    "start_time": "2022-11-10T06:12:41.248Z"
   },
   {
    "duration": 616,
    "start_time": "2022-11-10T06:12:42.592Z"
   },
   {
    "duration": 5,
    "start_time": "2022-11-10T06:12:43.209Z"
   },
   {
    "duration": 8,
    "start_time": "2022-11-10T06:12:43.216Z"
   },
   {
    "duration": 9,
    "start_time": "2022-11-10T06:12:43.226Z"
   },
   {
    "duration": 83,
    "start_time": "2022-11-10T06:12:43.236Z"
   },
   {
    "duration": 12,
    "start_time": "2022-11-10T06:12:43.321Z"
   },
   {
    "duration": 18,
    "start_time": "2022-11-10T06:12:43.335Z"
   },
   {
    "duration": 19,
    "start_time": "2022-11-10T06:12:43.355Z"
   },
   {
    "duration": 11,
    "start_time": "2022-11-10T06:12:43.377Z"
   },
   {
    "duration": 6,
    "start_time": "2022-11-10T06:12:43.389Z"
   },
   {
    "duration": 22,
    "start_time": "2022-11-10T06:12:43.397Z"
   },
   {
    "duration": 5,
    "start_time": "2022-11-10T06:12:43.421Z"
   },
   {
    "duration": 23,
    "start_time": "2022-11-10T06:12:43.428Z"
   },
   {
    "duration": 5,
    "start_time": "2022-11-10T06:12:43.453Z"
   },
   {
    "duration": 7,
    "start_time": "2022-11-10T06:12:43.460Z"
   },
   {
    "duration": 345,
    "start_time": "2022-11-10T06:12:43.469Z"
   },
   {
    "duration": 296,
    "start_time": "2022-11-10T06:12:43.816Z"
   },
   {
    "duration": 211,
    "start_time": "2022-11-10T06:12:44.114Z"
   },
   {
    "duration": 377,
    "start_time": "2022-11-10T06:12:44.326Z"
   },
   {
    "duration": 218,
    "start_time": "2022-11-10T06:12:44.705Z"
   },
   {
    "duration": 317,
    "start_time": "2022-11-10T06:12:44.925Z"
   },
   {
    "duration": 9,
    "start_time": "2022-11-10T06:12:45.244Z"
   },
   {
    "duration": 170,
    "start_time": "2022-11-10T06:12:45.255Z"
   },
   {
    "duration": 5,
    "start_time": "2022-11-10T06:12:45.427Z"
   },
   {
    "duration": 174,
    "start_time": "2022-11-10T06:12:45.434Z"
   },
   {
    "duration": 11,
    "start_time": "2022-11-10T06:12:45.618Z"
   },
   {
    "duration": 223,
    "start_time": "2022-11-10T06:12:45.632Z"
   },
   {
    "duration": 5,
    "start_time": "2022-11-10T06:12:45.857Z"
   },
   {
    "duration": 175,
    "start_time": "2022-11-10T06:12:45.863Z"
   },
   {
    "duration": 7,
    "start_time": "2022-11-10T06:12:46.041Z"
   },
   {
    "duration": 57,
    "start_time": "2022-11-10T06:12:46.050Z"
   },
   {
    "duration": 7,
    "start_time": "2022-11-10T06:12:46.109Z"
   },
   {
    "duration": 28,
    "start_time": "2022-11-10T06:12:46.119Z"
   },
   {
    "duration": 20,
    "start_time": "2022-11-10T06:12:46.148Z"
   },
   {
    "duration": 45,
    "start_time": "2022-11-10T06:12:46.169Z"
   },
   {
    "duration": 77,
    "start_time": "2022-11-10T06:12:46.216Z"
   },
   {
    "duration": 11,
    "start_time": "2022-11-10T06:12:46.295Z"
   },
   {
    "duration": 6,
    "start_time": "2022-11-10T06:21:38.031Z"
   },
   {
    "duration": 6,
    "start_time": "2022-11-10T06:22:15.638Z"
   },
   {
    "duration": 112,
    "start_time": "2022-11-10T06:22:58.306Z"
   },
   {
    "duration": 14,
    "start_time": "2022-11-10T06:23:16.916Z"
   },
   {
    "duration": 10,
    "start_time": "2022-11-10T06:23:31.889Z"
   },
   {
    "duration": 11,
    "start_time": "2022-11-10T06:23:35.839Z"
   },
   {
    "duration": 45,
    "start_time": "2022-11-10T06:24:50.449Z"
   },
   {
    "duration": 55,
    "start_time": "2022-11-10T06:24:56.860Z"
   },
   {
    "duration": 11,
    "start_time": "2022-11-10T06:25:36.843Z"
   },
   {
    "duration": 9,
    "start_time": "2022-11-10T06:26:19.436Z"
   },
   {
    "duration": 10,
    "start_time": "2022-11-10T06:26:29.934Z"
   },
   {
    "duration": 6,
    "start_time": "2022-11-10T06:49:03.891Z"
   },
   {
    "duration": 6,
    "start_time": "2022-11-10T06:49:10.496Z"
   },
   {
    "duration": 1400,
    "start_time": "2022-11-10T10:50:19.650Z"
   },
   {
    "duration": 462,
    "start_time": "2022-11-10T10:50:23.984Z"
   },
   {
    "duration": 134,
    "start_time": "2022-11-10T10:51:12.057Z"
   },
   {
    "duration": 134,
    "start_time": "2022-11-10T10:51:20.721Z"
   },
   {
    "duration": 1177,
    "start_time": "2022-11-10T10:51:46.392Z"
   },
   {
    "duration": 267,
    "start_time": "2022-11-10T10:51:47.571Z"
   },
   {
    "duration": 7,
    "start_time": "2022-11-10T10:51:47.839Z"
   },
   {
    "duration": 16,
    "start_time": "2022-11-10T10:51:47.849Z"
   },
   {
    "duration": 31,
    "start_time": "2022-11-10T10:51:47.867Z"
   },
   {
    "duration": 70,
    "start_time": "2022-11-10T10:51:47.899Z"
   },
   {
    "duration": 12,
    "start_time": "2022-11-10T10:51:47.971Z"
   },
   {
    "duration": 25,
    "start_time": "2022-11-10T10:51:47.985Z"
   },
   {
    "duration": 9,
    "start_time": "2022-11-10T10:51:48.013Z"
   },
   {
    "duration": 7,
    "start_time": "2022-11-10T10:51:48.026Z"
   },
   {
    "duration": 9,
    "start_time": "2022-11-10T10:51:48.035Z"
   },
   {
    "duration": 10,
    "start_time": "2022-11-10T10:51:48.045Z"
   },
   {
    "duration": 10,
    "start_time": "2022-11-10T10:51:48.057Z"
   },
   {
    "duration": 36,
    "start_time": "2022-11-10T10:51:48.070Z"
   },
   {
    "duration": 7,
    "start_time": "2022-11-10T10:51:48.107Z"
   },
   {
    "duration": 15,
    "start_time": "2022-11-10T10:51:48.115Z"
   },
   {
    "duration": 332,
    "start_time": "2022-11-10T10:51:48.132Z"
   },
   {
    "duration": 343,
    "start_time": "2022-11-10T10:51:48.466Z"
   },
   {
    "duration": 262,
    "start_time": "2022-11-10T10:51:48.811Z"
   },
   {
    "duration": 343,
    "start_time": "2022-11-10T10:51:49.075Z"
   },
   {
    "duration": 248,
    "start_time": "2022-11-10T10:51:49.420Z"
   },
   {
    "duration": 370,
    "start_time": "2022-11-10T10:51:49.670Z"
   },
   {
    "duration": 8,
    "start_time": "2022-11-10T10:51:50.041Z"
   },
   {
    "duration": 217,
    "start_time": "2022-11-10T10:51:50.050Z"
   },
   {
    "duration": 6,
    "start_time": "2022-11-10T10:51:50.269Z"
   },
   {
    "duration": 191,
    "start_time": "2022-11-10T10:51:50.276Z"
   },
   {
    "duration": 15,
    "start_time": "2022-11-10T10:51:50.469Z"
   },
   {
    "duration": 273,
    "start_time": "2022-11-10T10:51:50.488Z"
   },
   {
    "duration": 6,
    "start_time": "2022-11-10T10:51:50.763Z"
   },
   {
    "duration": 151,
    "start_time": "2022-11-10T10:51:50.771Z"
   },
   {
    "duration": 7,
    "start_time": "2022-11-10T10:51:50.923Z"
   },
   {
    "duration": 46,
    "start_time": "2022-11-10T10:51:50.931Z"
   },
   {
    "duration": 8,
    "start_time": "2022-11-10T10:51:50.980Z"
   },
   {
    "duration": 10,
    "start_time": "2022-11-10T10:51:51.004Z"
   },
   {
    "duration": 10,
    "start_time": "2022-11-10T10:51:51.015Z"
   },
   {
    "duration": 42,
    "start_time": "2022-11-10T10:51:51.027Z"
   },
   {
    "duration": 8,
    "start_time": "2022-11-10T10:51:51.071Z"
   },
   {
    "duration": 10,
    "start_time": "2022-11-10T10:51:51.104Z"
   },
   {
    "duration": 142,
    "start_time": "2022-11-10T10:52:16.932Z"
   },
   {
    "duration": 139,
    "start_time": "2022-11-10T10:52:28.480Z"
   },
   {
    "duration": 5,
    "start_time": "2022-11-10T10:54:35.433Z"
   },
   {
    "duration": 114,
    "start_time": "2022-11-10T10:54:49.998Z"
   },
   {
    "duration": 569,
    "start_time": "2022-11-10T10:55:06.622Z"
   },
   {
    "duration": 122,
    "start_time": "2022-11-10T10:55:18.558Z"
   },
   {
    "duration": 145,
    "start_time": "2022-11-10T10:58:54.638Z"
   },
   {
    "duration": 1228,
    "start_time": "2022-11-10T10:59:05.274Z"
   },
   {
    "duration": 3,
    "start_time": "2022-11-10T10:59:22.950Z"
   },
   {
    "duration": 169,
    "start_time": "2022-11-10T10:59:23.409Z"
   },
   {
    "duration": 5,
    "start_time": "2022-11-10T10:59:24.732Z"
   },
   {
    "duration": 11,
    "start_time": "2022-11-10T10:59:24.929Z"
   },
   {
    "duration": 8,
    "start_time": "2022-11-10T10:59:26.620Z"
   },
   {
    "duration": 28,
    "start_time": "2022-11-10T10:59:27.912Z"
   },
   {
    "duration": 31,
    "start_time": "2022-11-10T11:00:16.426Z"
   },
   {
    "duration": 156,
    "start_time": "2022-11-10T11:00:44.672Z"
   },
   {
    "duration": 89,
    "start_time": "2022-11-10T11:08:19.109Z"
   },
   {
    "duration": 1183,
    "start_time": "2022-11-10T11:17:56.664Z"
   },
   {
    "duration": 1190,
    "start_time": "2022-11-10T11:19:33.457Z"
   },
   {
    "duration": 3,
    "start_time": "2022-11-10T11:19:42.596Z"
   },
   {
    "duration": 166,
    "start_time": "2022-11-10T11:19:43.132Z"
   },
   {
    "duration": 6,
    "start_time": "2022-11-10T11:19:43.929Z"
   },
   {
    "duration": 5,
    "start_time": "2022-11-10T11:19:44.224Z"
   },
   {
    "duration": 8,
    "start_time": "2022-11-10T11:19:45.079Z"
   },
   {
    "duration": 25,
    "start_time": "2022-11-10T11:19:47.843Z"
   },
   {
    "duration": 191,
    "start_time": "2022-11-10T11:19:55.530Z"
   },
   {
    "duration": 81,
    "start_time": "2022-11-10T11:26:22.820Z"
   },
   {
    "duration": 578,
    "start_time": "2022-11-10T11:26:36.352Z"
   },
   {
    "duration": 8,
    "start_time": "2022-11-10T11:26:42.633Z"
   },
   {
    "duration": 6,
    "start_time": "2022-11-10T11:26:42.843Z"
   },
   {
    "duration": 15,
    "start_time": "2022-11-10T11:26:44.326Z"
   },
   {
    "duration": 35,
    "start_time": "2022-11-10T11:26:48.421Z"
   },
   {
    "duration": 211,
    "start_time": "2022-11-10T11:26:48.763Z"
   },
   {
    "duration": 16,
    "start_time": "2022-11-10T11:26:52.492Z"
   },
   {
    "duration": 17,
    "start_time": "2022-11-10T11:26:56.814Z"
   },
   {
    "duration": 13,
    "start_time": "2022-11-10T11:37:23.807Z"
   },
   {
    "duration": 18,
    "start_time": "2022-11-10T11:38:01.207Z"
   },
   {
    "duration": 14,
    "start_time": "2022-11-10T11:38:13.800Z"
   },
   {
    "duration": 12,
    "start_time": "2022-11-10T11:38:22.478Z"
   },
   {
    "duration": 11,
    "start_time": "2022-11-10T11:38:30.236Z"
   },
   {
    "duration": 90,
    "start_time": "2022-11-10T11:39:24.254Z"
   },
   {
    "duration": 10,
    "start_time": "2022-11-10T11:39:29.703Z"
   },
   {
    "duration": 11,
    "start_time": "2022-11-10T11:41:43.730Z"
   },
   {
    "duration": 70,
    "start_time": "2022-11-10T11:42:58.862Z"
   },
   {
    "duration": 10,
    "start_time": "2022-11-10T11:43:05.253Z"
   },
   {
    "duration": 9,
    "start_time": "2022-11-10T11:43:18.290Z"
   },
   {
    "duration": 12,
    "start_time": "2022-11-10T11:43:22.446Z"
   },
   {
    "duration": 5,
    "start_time": "2022-11-10T12:59:18.147Z"
   },
   {
    "duration": 14,
    "start_time": "2022-11-10T12:59:51.949Z"
   },
   {
    "duration": 5,
    "start_time": "2022-11-10T12:59:56.053Z"
   },
   {
    "duration": 72,
    "start_time": "2022-11-10T13:00:41.579Z"
   },
   {
    "duration": 6,
    "start_time": "2022-11-10T13:00:49.500Z"
   },
   {
    "duration": 10,
    "start_time": "2022-11-10T13:00:59.945Z"
   },
   {
    "duration": 14,
    "start_time": "2022-11-10T13:01:07.566Z"
   },
   {
    "duration": 8,
    "start_time": "2022-11-10T13:01:12.342Z"
   },
   {
    "duration": 7,
    "start_time": "2022-11-10T13:01:19.138Z"
   },
   {
    "duration": 16,
    "start_time": "2022-11-10T13:01:31.960Z"
   },
   {
    "duration": 10,
    "start_time": "2022-11-10T13:01:41.049Z"
   },
   {
    "duration": 11,
    "start_time": "2022-11-10T13:01:50.588Z"
   },
   {
    "duration": 6,
    "start_time": "2022-11-10T13:03:13.494Z"
   },
   {
    "duration": 6,
    "start_time": "2022-11-10T13:03:20.276Z"
   },
   {
    "duration": 6,
    "start_time": "2022-11-10T13:03:37.685Z"
   },
   {
    "duration": 6,
    "start_time": "2022-11-10T13:03:51.752Z"
   },
   {
    "duration": 6,
    "start_time": "2022-11-10T13:04:00.915Z"
   },
   {
    "duration": 10,
    "start_time": "2022-11-10T13:04:18.741Z"
   },
   {
    "duration": 9,
    "start_time": "2022-11-10T13:04:29.649Z"
   },
   {
    "duration": 9,
    "start_time": "2022-11-10T13:04:38.320Z"
   },
   {
    "duration": 7,
    "start_time": "2022-11-10T13:05:04.664Z"
   },
   {
    "duration": 8,
    "start_time": "2022-11-10T13:05:25.442Z"
   },
   {
    "duration": 8,
    "start_time": "2022-11-10T13:05:56.409Z"
   },
   {
    "duration": 7,
    "start_time": "2022-11-10T13:06:12.818Z"
   },
   {
    "duration": 5,
    "start_time": "2022-11-10T13:06:14.849Z"
   },
   {
    "duration": 4,
    "start_time": "2022-11-10T13:07:37.821Z"
   },
   {
    "duration": 6,
    "start_time": "2022-11-10T13:07:43.346Z"
   },
   {
    "duration": 7,
    "start_time": "2022-11-10T13:08:28.860Z"
   },
   {
    "duration": 14,
    "start_time": "2022-11-10T13:09:22.725Z"
   },
   {
    "duration": 10,
    "start_time": "2022-11-10T13:09:31.126Z"
   },
   {
    "duration": 12,
    "start_time": "2022-11-10T13:11:28.535Z"
   },
   {
    "duration": 13,
    "start_time": "2022-11-10T13:11:43.118Z"
   },
   {
    "duration": 10,
    "start_time": "2022-11-10T13:13:11.681Z"
   },
   {
    "duration": 13,
    "start_time": "2022-11-10T13:14:48.345Z"
   },
   {
    "duration": 12,
    "start_time": "2022-11-10T13:14:51.850Z"
   },
   {
    "duration": 4,
    "start_time": "2022-11-10T13:15:01.832Z"
   },
   {
    "duration": 5,
    "start_time": "2022-11-10T13:15:46.854Z"
   },
   {
    "duration": 5,
    "start_time": "2022-11-10T13:15:53.888Z"
   },
   {
    "duration": 13,
    "start_time": "2022-11-10T13:22:58.830Z"
   },
   {
    "duration": 22,
    "start_time": "2022-11-10T13:23:11.406Z"
   },
   {
    "duration": 12,
    "start_time": "2022-11-10T13:23:17.640Z"
   },
   {
    "duration": 90,
    "start_time": "2022-11-10T13:28:14.774Z"
   },
   {
    "duration": 14,
    "start_time": "2022-11-10T13:28:17.560Z"
   },
   {
    "duration": 89,
    "start_time": "2022-11-10T13:28:32.122Z"
   },
   {
    "duration": 14,
    "start_time": "2022-11-10T13:28:41.262Z"
   },
   {
    "duration": 12,
    "start_time": "2022-11-10T13:28:59.156Z"
   },
   {
    "duration": 11,
    "start_time": "2022-11-10T13:29:06.392Z"
   },
   {
    "duration": 13,
    "start_time": "2022-11-10T13:29:29.525Z"
   },
   {
    "duration": 22,
    "start_time": "2022-11-10T13:31:05.910Z"
   },
   {
    "duration": 23,
    "start_time": "2022-11-10T13:31:19.320Z"
   },
   {
    "duration": 27,
    "start_time": "2022-11-10T13:31:25.902Z"
   },
   {
    "duration": 22,
    "start_time": "2022-11-10T13:31:48.489Z"
   },
   {
    "duration": 11,
    "start_time": "2022-11-10T13:32:10.872Z"
   },
   {
    "duration": 15,
    "start_time": "2022-11-10T13:32:26.196Z"
   },
   {
    "duration": 15,
    "start_time": "2022-11-10T13:34:00.649Z"
   },
   {
    "duration": 11,
    "start_time": "2022-11-10T13:34:07.952Z"
   },
   {
    "duration": 27,
    "start_time": "2022-11-10T13:36:45.045Z"
   },
   {
    "duration": 21,
    "start_time": "2022-11-10T13:36:51.809Z"
   },
   {
    "duration": 15,
    "start_time": "2022-11-10T13:37:10.417Z"
   },
   {
    "duration": 17,
    "start_time": "2022-11-10T13:38:49.220Z"
   },
   {
    "duration": 17,
    "start_time": "2022-11-10T13:39:01.747Z"
   },
   {
    "duration": 13,
    "start_time": "2022-11-10T13:39:07.889Z"
   },
   {
    "duration": 16,
    "start_time": "2022-11-10T13:42:19.896Z"
   },
   {
    "duration": 16,
    "start_time": "2022-11-10T13:43:26.485Z"
   },
   {
    "duration": 19,
    "start_time": "2022-11-10T13:43:57.518Z"
   },
   {
    "duration": 15,
    "start_time": "2022-11-10T13:44:42.608Z"
   },
   {
    "duration": 19,
    "start_time": "2022-11-10T13:46:41.727Z"
   },
   {
    "duration": 19,
    "start_time": "2022-11-10T13:50:38.566Z"
   },
   {
    "duration": 19,
    "start_time": "2022-11-10T13:50:50.950Z"
   },
   {
    "duration": 21,
    "start_time": "2022-11-10T13:51:07.783Z"
   },
   {
    "duration": 5,
    "start_time": "2022-11-10T14:07:36.388Z"
   },
   {
    "duration": 77,
    "start_time": "2022-11-10T14:08:33.000Z"
   },
   {
    "duration": 4,
    "start_time": "2022-11-10T14:08:40.572Z"
   },
   {
    "duration": 4,
    "start_time": "2022-11-10T14:09:04.220Z"
   },
   {
    "duration": 270,
    "start_time": "2022-11-10T14:09:04.771Z"
   },
   {
    "duration": 8,
    "start_time": "2022-11-10T14:09:06.030Z"
   },
   {
    "duration": 6,
    "start_time": "2022-11-10T14:09:06.252Z"
   },
   {
    "duration": 9,
    "start_time": "2022-11-10T14:09:06.839Z"
   },
   {
    "duration": 35,
    "start_time": "2022-11-10T14:09:08.178Z"
   },
   {
    "duration": 235,
    "start_time": "2022-11-10T14:09:08.358Z"
   },
   {
    "duration": 13,
    "start_time": "2022-11-10T14:09:11.805Z"
   },
   {
    "duration": 14,
    "start_time": "2022-11-10T14:09:13.082Z"
   },
   {
    "duration": 8,
    "start_time": "2022-11-10T14:09:15.236Z"
   },
   {
    "duration": 6,
    "start_time": "2022-11-10T14:09:15.610Z"
   },
   {
    "duration": 6,
    "start_time": "2022-11-10T14:09:16.298Z"
   },
   {
    "duration": 5,
    "start_time": "2022-11-10T14:09:16.495Z"
   },
   {
    "duration": 19,
    "start_time": "2022-11-10T14:09:17.069Z"
   },
   {
    "duration": 12,
    "start_time": "2022-11-10T14:09:24.780Z"
   },
   {
    "duration": 4,
    "start_time": "2022-11-10T14:09:26.341Z"
   },
   {
    "duration": 28,
    "start_time": "2022-11-10T14:09:26.910Z"
   },
   {
    "duration": 4,
    "start_time": "2022-11-10T14:09:28.337Z"
   },
   {
    "duration": 4,
    "start_time": "2022-11-10T14:09:33.918Z"
   },
   {
    "duration": 15,
    "start_time": "2022-11-10T14:10:38.883Z"
   },
   {
    "duration": 6,
    "start_time": "2022-11-10T14:11:44.849Z"
   },
   {
    "duration": 7,
    "start_time": "2022-11-10T14:12:13.113Z"
   },
   {
    "duration": 8,
    "start_time": "2022-11-10T14:12:56.016Z"
   },
   {
    "duration": 9,
    "start_time": "2022-11-10T14:13:39.967Z"
   },
   {
    "duration": 17,
    "start_time": "2022-11-10T14:17:09.019Z"
   },
   {
    "duration": 6,
    "start_time": "2022-11-10T14:17:15.748Z"
   },
   {
    "duration": 73,
    "start_time": "2022-11-10T14:57:01.274Z"
   },
   {
    "duration": 83,
    "start_time": "2022-11-10T14:58:52.377Z"
   },
   {
    "duration": 10,
    "start_time": "2022-11-10T14:59:14.269Z"
   },
   {
    "duration": 72,
    "start_time": "2022-11-10T15:00:04.441Z"
   },
   {
    "duration": 76,
    "start_time": "2022-11-10T15:00:10.652Z"
   },
   {
    "duration": 72,
    "start_time": "2022-11-10T15:00:53.078Z"
   },
   {
    "duration": 14,
    "start_time": "2022-11-10T15:01:05.005Z"
   },
   {
    "duration": 7,
    "start_time": "2022-11-10T15:02:50.609Z"
   },
   {
    "duration": 6,
    "start_time": "2022-11-10T15:02:55.375Z"
   },
   {
    "duration": 3,
    "start_time": "2022-11-10T15:03:01.385Z"
   },
   {
    "duration": 94,
    "start_time": "2022-11-10T15:03:45.949Z"
   },
   {
    "duration": 13,
    "start_time": "2022-11-10T15:03:53.252Z"
   },
   {
    "duration": 13,
    "start_time": "2022-11-10T15:04:10.062Z"
   },
   {
    "duration": 80,
    "start_time": "2022-11-10T15:05:37.855Z"
   },
   {
    "duration": 61,
    "start_time": "2022-11-10T15:05:51.222Z"
   },
   {
    "duration": 47,
    "start_time": "2022-11-10T15:06:09.988Z"
   },
   {
    "duration": 46,
    "start_time": "2022-11-10T15:06:34.734Z"
   },
   {
    "duration": 52,
    "start_time": "2022-11-10T15:06:41.346Z"
   },
   {
    "duration": 4,
    "start_time": "2022-11-10T15:08:40.400Z"
   },
   {
    "duration": 3,
    "start_time": "2022-11-10T15:08:54.195Z"
   },
   {
    "duration": 6,
    "start_time": "2022-11-10T15:09:02.928Z"
   },
   {
    "duration": 4,
    "start_time": "2022-11-10T15:09:08.154Z"
   },
   {
    "duration": 12,
    "start_time": "2022-11-10T15:09:29.719Z"
   },
   {
    "duration": 51,
    "start_time": "2022-11-10T15:09:32.977Z"
   },
   {
    "duration": 10,
    "start_time": "2022-11-10T15:09:37.367Z"
   },
   {
    "duration": 12,
    "start_time": "2022-11-10T15:09:41.060Z"
   },
   {
    "duration": 167,
    "start_time": "2022-11-10T15:10:30.131Z"
   },
   {
    "duration": 7,
    "start_time": "2022-11-10T15:10:30.778Z"
   },
   {
    "duration": 48,
    "start_time": "2022-11-10T15:10:32.930Z"
   },
   {
    "duration": 9,
    "start_time": "2022-11-10T15:10:49.698Z"
   },
   {
    "duration": 12,
    "start_time": "2022-11-10T15:10:49.955Z"
   },
   {
    "duration": 16,
    "start_time": "2022-11-10T15:10:57.727Z"
   },
   {
    "duration": 11,
    "start_time": "2022-11-10T15:12:52.058Z"
   },
   {
    "duration": 12,
    "start_time": "2022-11-10T15:12:52.415Z"
   },
   {
    "duration": 11,
    "start_time": "2022-11-10T15:14:38.567Z"
   },
   {
    "duration": 1237,
    "start_time": "2022-11-10T15:19:13.658Z"
   },
   {
    "duration": 941,
    "start_time": "2022-11-10T15:19:14.898Z"
   },
   {
    "duration": 8,
    "start_time": "2022-11-10T15:19:15.841Z"
   },
   {
    "duration": 13,
    "start_time": "2022-11-10T15:19:15.851Z"
   },
   {
    "duration": 28,
    "start_time": "2022-11-10T15:19:15.865Z"
   },
   {
    "duration": 71,
    "start_time": "2022-11-10T15:19:15.895Z"
   },
   {
    "duration": 232,
    "start_time": "2022-11-10T15:19:15.968Z"
   },
   {
    "duration": 13,
    "start_time": "2022-11-10T15:19:16.205Z"
   },
   {
    "duration": 38,
    "start_time": "2022-11-10T15:19:16.220Z"
   },
   {
    "duration": 32,
    "start_time": "2022-11-10T15:19:16.262Z"
   },
   {
    "duration": 32,
    "start_time": "2022-11-10T15:19:16.296Z"
   },
   {
    "duration": 22,
    "start_time": "2022-11-10T15:19:16.330Z"
   },
   {
    "duration": 21,
    "start_time": "2022-11-10T15:19:16.354Z"
   },
   {
    "duration": 54,
    "start_time": "2022-11-10T15:19:16.377Z"
   },
   {
    "duration": 31,
    "start_time": "2022-11-10T15:19:16.433Z"
   },
   {
    "duration": 12,
    "start_time": "2022-11-10T15:19:16.466Z"
   },
   {
    "duration": 28,
    "start_time": "2022-11-10T15:19:16.480Z"
   },
   {
    "duration": 16,
    "start_time": "2022-11-10T15:19:16.510Z"
   },
   {
    "duration": 332,
    "start_time": "2022-11-10T15:19:16.528Z"
   },
   {
    "duration": 7,
    "start_time": "2022-11-10T15:19:16.862Z"
   },
   {
    "duration": 318,
    "start_time": "2022-11-10T15:19:16.871Z"
   },
   {
    "duration": 258,
    "start_time": "2022-11-10T15:19:17.190Z"
   },
   {
    "duration": 361,
    "start_time": "2022-11-10T15:19:17.450Z"
   },
   {
    "duration": 240,
    "start_time": "2022-11-10T15:19:17.813Z"
   },
   {
    "duration": 371,
    "start_time": "2022-11-10T15:19:18.055Z"
   },
   {
    "duration": 7,
    "start_time": "2022-11-10T15:19:18.428Z"
   },
   {
    "duration": 220,
    "start_time": "2022-11-10T15:19:18.437Z"
   },
   {
    "duration": 7,
    "start_time": "2022-11-10T15:19:18.662Z"
   },
   {
    "duration": 32,
    "start_time": "2022-11-10T15:19:18.670Z"
   },
   {
    "duration": 249,
    "start_time": "2022-11-10T15:19:18.704Z"
   },
   {
    "duration": 14,
    "start_time": "2022-11-10T15:19:18.955Z"
   },
   {
    "duration": 314,
    "start_time": "2022-11-10T15:19:18.971Z"
   },
   {
    "duration": 6,
    "start_time": "2022-11-10T15:19:19.287Z"
   },
   {
    "duration": 21,
    "start_time": "2022-11-10T15:19:19.305Z"
   },
   {
    "duration": 181,
    "start_time": "2022-11-10T15:19:19.328Z"
   },
   {
    "duration": 7,
    "start_time": "2022-11-10T15:19:19.511Z"
   },
   {
    "duration": 78,
    "start_time": "2022-11-10T15:19:19.520Z"
   },
   {
    "duration": 8,
    "start_time": "2022-11-10T15:19:19.600Z"
   },
   {
    "duration": 27,
    "start_time": "2022-11-10T15:19:19.611Z"
   },
   {
    "duration": 32,
    "start_time": "2022-11-10T15:19:19.640Z"
   },
   {
    "duration": 87,
    "start_time": "2022-11-10T15:19:19.674Z"
   },
   {
    "duration": 10,
    "start_time": "2022-11-10T15:19:19.764Z"
   },
   {
    "duration": 66,
    "start_time": "2022-11-10T15:19:19.776Z"
   }
  ],
  "kernelspec": {
   "display_name": "Python 3 (ipykernel)",
   "language": "python",
   "name": "python3"
  },
  "language_info": {
   "codemirror_mode": {
    "name": "ipython",
    "version": 3
   },
   "file_extension": ".py",
   "mimetype": "text/x-python",
   "name": "python",
   "nbconvert_exporter": "python",
   "pygments_lexer": "ipython3",
   "version": "3.9.12"
  },
  "toc": {
   "base_numbering": 1,
   "nav_menu": {},
   "number_sections": true,
   "sideBar": true,
   "skip_h1_title": true,
   "title_cell": "Table of Contents",
   "title_sidebar": "Contents",
   "toc_cell": false,
   "toc_position": {},
   "toc_section_display": true,
   "toc_window_display": true
  }
 },
 "nbformat": 4,
 "nbformat_minor": 5
}
