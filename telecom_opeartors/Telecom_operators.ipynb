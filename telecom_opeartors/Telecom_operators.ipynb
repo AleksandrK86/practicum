{
 "cells": [
  {
   "cell_type": "markdown",
   "id": "9d8b4270",
   "metadata": {},
   "source": [
    "# Поиск неэффективных операторов"
   ]
  },
  {
   "cell_type": "markdown",
   "id": "1d3a1904",
   "metadata": {},
   "source": [
    "## Материалы"
   ]
  },
  {
   "cell_type": "markdown",
   "id": "96572446",
   "metadata": {},
   "source": [
    "[Презентация к проекту](https://disk.yandex.ru/i/jTL_WeeA9iQZxg)\n",
    "\n",
    "[Дашборд](https://public.tableau.com/views/Telecom_16738978921550/Dashboard1?:language=en-US&publish=yes&:display_count=n&:origin=viz_share_link)"
   ]
  },
  {
   "cell_type": "markdown",
   "id": "7c7c3e97",
   "metadata": {},
   "source": [
    "## Описание проекта"
   ]
  },
  {
   "cell_type": "markdown",
   "id": "39205808",
   "metadata": {},
   "source": [
    "Компания - оператор связи \"Нупозвони\", клиентами которой являются колл-центры, как работающие с входящими вызовами, так и специализирующиеся на обзвонах, прорабатывает идею нового сервиса: определение неэффективных операторов колл-центров.\n",
    "\n",
    "Входящие звонки распределяются колл-центрами операторам, также операторы совершают исходящие обзвоны и могут делать служебные внутренние вызовы внутри сети. \n",
    "\n",
    "**Цели проекта:** \n",
    "\n",
    "1. Определить пороги значений признаков неэффективности операторов:\n",
    "\n",
    "* Количество пропущенных входящих вызовов\n",
    "* Долгое ожидание ответа при входящих внешних вызовах\n",
    "* Для колл-центров, специализирующихся на обзвонах - количество исходящих вызовов\n",
    "\n",
    "2. Исходя из количества неэффективных оперторов в колл-центрах выявить долю клиентов, которым потенциально может быть интересен данный сервис.\n",
    "\n",
    "3. Сделать выводы о потенциальной востребованности сервиса\n",
    "\n",
    "**Требования к оформлению результатов:**\n",
    "\n",
    "1. Основная часть проекта с проверкой гипотез и выводами в *Jupiter Notebook*\n",
    "2. Презентация для менеджмента с результатами исследования в формате *PDF*\n",
    "3. Дополнительно создать дашборд в Tableau Public со следующими компонентами:\n",
    "* диаграмма количества вызовов по дням\n",
    "* круговая диаграмма соотношения количества входящих и исходящих вызовов\n",
    "* фильтр по типу вызова - внешний или внутренний"
   ]
  },
  {
   "cell_type": "markdown",
   "id": "48ab71b5",
   "metadata": {},
   "source": [
    "## Описание данных"
   ]
  },
  {
   "cell_type": "markdown",
   "id": "68e57433",
   "metadata": {},
   "source": [
    "`telecom_dataset.csv`:\n",
    "\n",
    "- `user_id` — Идентификатор клиентского аккаунта колл-центра в сервисе\n",
    "- `date` — Дата статистики\n",
    "- `direction` — Направление вызовов (out - исходящий вызов, in — входящий вызов)\n",
    "- `internal` — Является ли звонок внутренним звонком между операторами клиента\n",
    "- `operator_id` — Идентификатор оператора\n",
    "- `is_missed_call` — Является ли звонок пропущенным\n",
    "- `calls_count` — Количество звонков\n",
    "- `call_duration` — Длительность звонка, сек (без учета времени ожидания)\n",
    "- `total_call_duration` — Длительность звонка, сек (с учетом времени ожидания)\n",
    "\n",
    "`telecom_clients.csv`:\n",
    "\n",
    "- `user_id` — Идентификатор клиентского аккаунта в сервисе\n",
    "- `tariff_plan` — Текущий тарифный план клиента\n",
    "- `date_start` — Дата регистрации клиентв в сервисе"
   ]
  },
  {
   "cell_type": "markdown",
   "id": "669252d4",
   "metadata": {},
   "source": [
    "## План проекта:"
   ]
  },
  {
   "cell_type": "markdown",
   "id": "5019e6ce",
   "metadata": {},
   "source": [
    "1. [**Загрузка и предобработка данных**](#load_data)\n",
    "\n",
    "* Чтение данных\n",
    "* Общая информация, типы данных\n",
    "* Пропуски в данных\n",
    "* Дубликаты в данных\n",
    "* Ошибки в данных\n",
    "* Добавление столбца с длительностью ожидания ответа на звонок\n",
    "* Добавление столбца со спецализацией колл-центра\n",
    "* Итоги предобработки"
   ]
  },
  {
   "cell_type": "markdown",
   "id": "4cdc3285",
   "metadata": {},
   "source": [
    "2. [**Исследовательский анализ данных**](#data_analyse)\n",
    "\n",
    "а) [Общая характеристика данных:](#data_analyse_1)\n",
    "* определение периода исследования, количества клиентов и операторов\n",
    "* распределение клиентов по специализации\n",
    "* распределение клиентов по количеству операторов\n",
    "* распределение клиентов по количеству вызовов"
   ]
  },
  {
   "cell_type": "markdown",
   "id": "bbc4e35d",
   "metadata": {},
   "source": [
    "б) [Определение порогов для признаков неэффективности:](#data_analyse_2)\n",
    "* Распределение доли неотвеченных вызовов в день в КЦ, определение порога;\n",
    "* Распределение по среднему времени ожидания ответа на звонок в КЦ, определение порога;\n",
    "* Распределение по среднему количеству исходящих звонков в день в КЦ, определение порога;\n",
    "* Средняя продолжительность разговора на исходящих звонках, определение порога "
   ]
  },
  {
   "cell_type": "markdown",
   "id": "2238b194",
   "metadata": {},
   "source": [
    "в) [Сбор показателей эффективности операторов, определение специализации, выявление неэффективных операторов по определённым ранее порогам](#data_analyse_3)"
   ]
  },
  {
   "cell_type": "markdown",
   "id": "e86160a6",
   "metadata": {},
   "source": [
    "г) [Определение потенциальных клиентов сервиса](#data_analyse_4)\n",
    "* Определить долю неэффективных операторов у клиентов;\n",
    "* Определить долю колл-центров с неэффективными операторами;\n",
    "* Определить, среди каких клиентов сервис может быть наиболее востребован и количество таких клиентов."
   ]
  },
  {
   "cell_type": "markdown",
   "id": "e3f87dbf",
   "metadata": {},
   "source": [
    "д) [Итоги исследовательского анализа](#itogi_eda)"
   ]
  },
  {
   "cell_type": "markdown",
   "id": "d8acc2ed",
   "metadata": {},
   "source": [
    "[**3. Статистическая проверка гипотез**](#stat_1)\n",
    "\n",
    "* Стат.различия в показателях эффективных и неэффективных операторов\n",
    "* Стат.различия в показателях операторов в колл-центрах, где есть неэффективные операторы, и где таковые отсутствуют"
   ]
  },
  {
   "cell_type": "markdown",
   "id": "49a4aa47",
   "metadata": {},
   "source": [
    "[**4. Общие выводы**](#itogi)"
   ]
  },
  {
   "cell_type": "markdown",
   "id": "0d53efa7",
   "metadata": {},
   "source": [
    "**5. Презентация результатов для коллег из коммерческого департамента (PDF)**"
   ]
  },
  {
   "cell_type": "markdown",
   "id": "dda34377",
   "metadata": {},
   "source": [
    "\n",
    "**6. Дашборд согласно схеме (Tableau Public):**"
   ]
  },
  {
   "attachments": {
    "d1c230dbd2.jpg": {
     "image/jpeg": "[encoded data removed]"
    }
   },
   "cell_type": "markdown",
   "id": "04dd9eeb",
   "metadata": {},
   "source": [
    "![d1c230dbd2.jpg](attachment:d1c230dbd2.jpg)"
   ]
  },
  {
   "cell_type": "markdown",
   "id": "05f8129c",
   "metadata": {},
   "source": [
    "## Загрузка и предобработка данных <a class=\"anchor\" id=\"load_data\"></a>"
   ]
  },
  {
   "cell_type": "markdown",
   "id": "ebb2fe20",
   "metadata": {},
   "source": [
    "### Чтение данных"
   ]
  },
  {
   "cell_type": "markdown",
   "id": "771d7e5e",
   "metadata": {},
   "source": [
    "Чтение данных, вывод первых строк, приведение полей с датами к соответствующему типу:"
   ]
  },
  {
   "cell_type": "code",
   "execution_count": 3,
   "id": "5acbf287",
   "metadata": {},
   "outputs": [],
   "source": [
    "import pandas as pd\n",
    "from urllib.parse import urlencode\n",
    "import requests\n",
    "import numpy as np\n",
    "from matplotlib import pyplot as plt\n",
    "import seaborn as sns\n",
    "from scipy import stats"
   ]
  },
  {
   "cell_type": "code",
   "execution_count": 4,
   "id": "e1e47f70",
   "metadata": {},
   "outputs": [],
   "source": [
    "try:\n",
    "    data = pd.read_csv('telecom_dataset.csv', parse_dates=['date'], date_parser=lambda x: pd.to_datetime(x).date)\n",
    "    \n",
    "except:\n",
    "    base_url = 'https://cloud-api.yandex.net/v1/disk/public/resources/download?'\n",
    "    public_key = 'https://disk.yandex.ru/d/Z6Q6KHy2I_WwCA'  \n",
    "    final_url = base_url + urlencode(dict(public_key=public_key))\n",
    "    response = requests.get(final_url)\n",
    "    download_url = response.json()['href']\n",
    "    \n",
    "    data = pd.read_csv(download_url, parse_dates=['date'], date_parser=lambda x: pd.to_datetime(x).date)\n",
    "    \n",
    "try:\n",
    "    clients = pd.read_csv('telecom_clients.csv', parse_dates=['date_start'])\n",
    "    \n",
    "except:\n",
    "    base_url = 'https://cloud-api.yandex.net/v1/disk/public/resources/download?'\n",
    "    public_key = 'https://disk.yandex.ru/d/qDyw04TLVP4CiA'  \n",
    "    final_url = base_url + urlencode(dict(public_key=public_key))\n",
    "    response = requests.get(final_url)\n",
    "    download_url = response.json()['href']\n",
    "    \n",
    "    clients = pd.read_csv(download_url, parse_dates=['date_start'])"
   ]
  },
  {
   "cell_type": "code",
   "execution_count": 5,
   "id": "4f91191d",
   "metadata": {},
   "outputs": [
    {
     "data": {
      "text/html": [
       "<div>\n",
       "<style scoped>\n",
       "    .dataframe tbody tr th:only-of-type {\n",
       "        vertical-align: middle;\n",
       "    }\n",
       "\n",
       "    .dataframe tbody tr th {\n",
       "        vertical-align: top;\n",
       "    }\n",
       "\n",
       "    .dataframe thead th {\n",
       "        text-align: right;\n",
       "    }\n",
       "</style>\n",
       "<table border=\"1\" class=\"dataframe\">\n",
       "  <thead>\n",
       "    <tr style=\"text-align: right;\">\n",
       "      <th></th>\n",
       "      <th>user_id</th>\n",
       "      <th>tariff_plan</th>\n",
       "      <th>date_start</th>\n",
       "    </tr>\n",
       "  </thead>\n",
       "  <tbody>\n",
       "    <tr>\n",
       "      <th>0</th>\n",
       "      <td>166713</td>\n",
       "      <td>A</td>\n",
       "      <td>2019-08-15</td>\n",
       "    </tr>\n",
       "    <tr>\n",
       "      <th>1</th>\n",
       "      <td>166901</td>\n",
       "      <td>A</td>\n",
       "      <td>2019-08-23</td>\n",
       "    </tr>\n",
       "    <tr>\n",
       "      <th>2</th>\n",
       "      <td>168527</td>\n",
       "      <td>A</td>\n",
       "      <td>2019-10-29</td>\n",
       "    </tr>\n",
       "    <tr>\n",
       "      <th>3</th>\n",
       "      <td>167097</td>\n",
       "      <td>A</td>\n",
       "      <td>2019-09-01</td>\n",
       "    </tr>\n",
       "    <tr>\n",
       "      <th>4</th>\n",
       "      <td>168193</td>\n",
       "      <td>A</td>\n",
       "      <td>2019-10-16</td>\n",
       "    </tr>\n",
       "  </tbody>\n",
       "</table>\n",
       "</div>"
      ],
      "text/plain": [
       "   user_id tariff_plan date_start\n",
       "0   166713           A 2019-08-15\n",
       "1   166901           A 2019-08-23\n",
       "2   168527           A 2019-10-29\n",
       "3   167097           A 2019-09-01\n",
       "4   168193           A 2019-10-16"
      ]
     },
     "execution_count": 5,
     "metadata": {},
     "output_type": "execute_result"
    }
   ],
   "source": [
    "clients.head()"
   ]
  },
  {
   "cell_type": "code",
   "execution_count": 6,
   "id": "26b745d4",
   "metadata": {},
   "outputs": [
    {
     "data": {
      "text/html": [
       "<div>\n",
       "<style scoped>\n",
       "    .dataframe tbody tr th:only-of-type {\n",
       "        vertical-align: middle;\n",
       "    }\n",
       "\n",
       "    .dataframe tbody tr th {\n",
       "        vertical-align: top;\n",
       "    }\n",
       "\n",
       "    .dataframe thead th {\n",
       "        text-align: right;\n",
       "    }\n",
       "</style>\n",
       "<table border=\"1\" class=\"dataframe\">\n",
       "  <thead>\n",
       "    <tr style=\"text-align: right;\">\n",
       "      <th></th>\n",
       "      <th>user_id</th>\n",
       "      <th>date</th>\n",
       "      <th>direction</th>\n",
       "      <th>internal</th>\n",
       "      <th>operator_id</th>\n",
       "      <th>is_missed_call</th>\n",
       "      <th>calls_count</th>\n",
       "      <th>call_duration</th>\n",
       "      <th>total_call_duration</th>\n",
       "    </tr>\n",
       "  </thead>\n",
       "  <tbody>\n",
       "    <tr>\n",
       "      <th>0</th>\n",
       "      <td>166377</td>\n",
       "      <td>2019-08-04</td>\n",
       "      <td>in</td>\n",
       "      <td>False</td>\n",
       "      <td>NaN</td>\n",
       "      <td>True</td>\n",
       "      <td>2</td>\n",
       "      <td>0</td>\n",
       "      <td>4</td>\n",
       "    </tr>\n",
       "    <tr>\n",
       "      <th>1</th>\n",
       "      <td>166377</td>\n",
       "      <td>2019-08-05</td>\n",
       "      <td>out</td>\n",
       "      <td>True</td>\n",
       "      <td>880022.0</td>\n",
       "      <td>True</td>\n",
       "      <td>3</td>\n",
       "      <td>0</td>\n",
       "      <td>5</td>\n",
       "    </tr>\n",
       "    <tr>\n",
       "      <th>2</th>\n",
       "      <td>166377</td>\n",
       "      <td>2019-08-05</td>\n",
       "      <td>out</td>\n",
       "      <td>True</td>\n",
       "      <td>880020.0</td>\n",
       "      <td>True</td>\n",
       "      <td>1</td>\n",
       "      <td>0</td>\n",
       "      <td>1</td>\n",
       "    </tr>\n",
       "    <tr>\n",
       "      <th>3</th>\n",
       "      <td>166377</td>\n",
       "      <td>2019-08-05</td>\n",
       "      <td>out</td>\n",
       "      <td>True</td>\n",
       "      <td>880020.0</td>\n",
       "      <td>False</td>\n",
       "      <td>1</td>\n",
       "      <td>10</td>\n",
       "      <td>18</td>\n",
       "    </tr>\n",
       "    <tr>\n",
       "      <th>4</th>\n",
       "      <td>166377</td>\n",
       "      <td>2019-08-05</td>\n",
       "      <td>out</td>\n",
       "      <td>False</td>\n",
       "      <td>880022.0</td>\n",
       "      <td>True</td>\n",
       "      <td>3</td>\n",
       "      <td>0</td>\n",
       "      <td>25</td>\n",
       "    </tr>\n",
       "  </tbody>\n",
       "</table>\n",
       "</div>"
      ],
      "text/plain": [
       "   user_id       date direction internal  operator_id  is_missed_call  \\\n",
       "0   166377 2019-08-04        in    False          NaN            True   \n",
       "1   166377 2019-08-05       out     True     880022.0            True   \n",
       "2   166377 2019-08-05       out     True     880020.0            True   \n",
       "3   166377 2019-08-05       out     True     880020.0           False   \n",
       "4   166377 2019-08-05       out    False     880022.0            True   \n",
       "\n",
       "   calls_count  call_duration  total_call_duration  \n",
       "0            2              0                    4  \n",
       "1            3              0                    5  \n",
       "2            1              0                    1  \n",
       "3            1             10                   18  \n",
       "4            3              0                   25  "
      ]
     },
     "execution_count": 6,
     "metadata": {},
     "output_type": "execute_result"
    }
   ],
   "source": [
    "data.head()"
   ]
  },
  {
   "cell_type": "markdown",
   "id": "56487043",
   "metadata": {},
   "source": [
    "### Общая информация, типы данных"
   ]
  },
  {
   "cell_type": "markdown",
   "id": "8fc50fe8",
   "metadata": {},
   "source": [
    "Выведем общую информацию о таблице **clients**, проверим на соответствие типам данных:"
   ]
  },
  {
   "cell_type": "code",
   "execution_count": 7,
   "id": "d9b599b2",
   "metadata": {},
   "outputs": [
    {
     "name": "stdout",
     "output_type": "stream",
     "text": [
      "<class 'pandas.core.frame.DataFrame'>\n",
      "RangeIndex: 732 entries, 0 to 731\n",
      "Data columns (total 3 columns):\n",
      " #   Column       Non-Null Count  Dtype         \n",
      "---  ------       --------------  -----         \n",
      " 0   user_id      732 non-null    int64         \n",
      " 1   tariff_plan  732 non-null    object        \n",
      " 2   date_start   732 non-null    datetime64[ns]\n",
      "dtypes: datetime64[ns](1), int64(1), object(1)\n",
      "memory usage: 17.3+ KB\n"
     ]
    }
   ],
   "source": [
    "clients.info()"
   ]
  },
  {
   "cell_type": "markdown",
   "id": "8a134427",
   "metadata": {},
   "source": [
    "В таблице 732 записи, типы данных соответствуют."
   ]
  },
  {
   "cell_type": "markdown",
   "id": "3cfa6d92",
   "metadata": {},
   "source": [
    "Выведем общую информацию о датасете **data**, проверим на соответствие типам данных:"
   ]
  },
  {
   "cell_type": "code",
   "execution_count": 8,
   "id": "f95959a3",
   "metadata": {},
   "outputs": [
    {
     "name": "stdout",
     "output_type": "stream",
     "text": [
      "<class 'pandas.core.frame.DataFrame'>\n",
      "RangeIndex: 53902 entries, 0 to 53901\n",
      "Data columns (total 9 columns):\n",
      " #   Column               Non-Null Count  Dtype         \n",
      "---  ------               --------------  -----         \n",
      " 0   user_id              53902 non-null  int64         \n",
      " 1   date                 53902 non-null  datetime64[ns]\n",
      " 2   direction            53902 non-null  object        \n",
      " 3   internal             53785 non-null  object        \n",
      " 4   operator_id          45730 non-null  float64       \n",
      " 5   is_missed_call       53902 non-null  bool          \n",
      " 6   calls_count          53902 non-null  int64         \n",
      " 7   call_duration        53902 non-null  int64         \n",
      " 8   total_call_duration  53902 non-null  int64         \n",
      "dtypes: bool(1), datetime64[ns](1), float64(1), int64(4), object(2)\n",
      "memory usage: 3.3+ MB\n"
     ]
    }
   ],
   "source": [
    "data.info()"
   ]
  },
  {
   "cell_type": "markdown",
   "id": "e426fc12",
   "metadata": {},
   "source": [
    "Поля таблицы **data** соответствует описанию, в ней 53902 записи. Поле **operator_id** необходимо привести к типу **int**, остальные типы данных соответствуют."
   ]
  },
  {
   "cell_type": "markdown",
   "id": "add68e62",
   "metadata": {},
   "source": [
    "Проверим, все ли значения в поле **operator_id** корректны:"
   ]
  },
  {
   "cell_type": "code",
   "execution_count": 9,
   "id": "b6373a3a",
   "metadata": {},
   "outputs": [
    {
     "name": "stdout",
     "output_type": "stream",
     "text": [
      "Всего значений: 53902\n",
      "Пустых значений: 8172\n",
      "Некорректные значения: []\n"
     ]
    }
   ],
   "source": [
    "count_lines = 0\n",
    "count_na = 0\n",
    "wrong_lines_content = []\n",
    "\n",
    "for row in data['operator_id']:\n",
    "    try:\n",
    "        count_lines += 1\n",
    "        level = int(row)\n",
    "        \n",
    "    except:\n",
    "        if np.isnan(row):\n",
    "            count_na += 1\n",
    "        else: wrong_lines_content.append(row)\n",
    "        \n",
    "print(f'Всего значений: {count_lines}')\n",
    "print(f'Пустых значений: {count_na}')\n",
    "print(f'Некорректные значения: {wrong_lines_content}')"
   ]
  },
  {
   "cell_type": "markdown",
   "id": "52221f26",
   "metadata": {},
   "source": [
    "Некорректных значений нет, есть пропуски. Приведём поле **operator_id** к типу **int** ниже, после обработки пропусков."
   ]
  },
  {
   "cell_type": "markdown",
   "id": "e05bc492",
   "metadata": {},
   "source": [
    "### Пропуски в данных"
   ]
  },
  {
   "cell_type": "markdown",
   "id": "c6f2ec3f",
   "metadata": {},
   "source": [
    "Проверим оба датасета на пропуски:"
   ]
  },
  {
   "cell_type": "code",
   "execution_count": 10,
   "id": "11d968c9",
   "metadata": {},
   "outputs": [
    {
     "data": {
      "text/html": [
       "<style  type=\"text/css\" >\n",
       "#T_0b534_row0_col0,#T_0b534_row0_col1,#T_0b534_row1_col0,#T_0b534_row1_col1,#T_0b534_row2_col0,#T_0b534_row2_col1{\n",
       "            background-color:  #3b4cc0;\n",
       "            color:  #f1f1f1;\n",
       "        }</style><table id=\"T_0b534_\" ><thead>    <tr>        <th class=\"blank level0\" ></th>        <th class=\"col_heading level0 col0\" >na_sum</th>        <th class=\"col_heading level0 col1\" >na_percent</th>    </tr></thead><tbody>\n",
       "                <tr>\n",
       "                        <th id=\"T_0b534_level0_row0\" class=\"row_heading level0 row0\" >user_id</th>\n",
       "                        <td id=\"T_0b534_row0_col0\" class=\"data row0 col0\" >0</td>\n",
       "                        <td id=\"T_0b534_row0_col1\" class=\"data row0 col1\" >0.000000</td>\n",
       "            </tr>\n",
       "            <tr>\n",
       "                        <th id=\"T_0b534_level0_row1\" class=\"row_heading level0 row1\" >tariff_plan</th>\n",
       "                        <td id=\"T_0b534_row1_col0\" class=\"data row1 col0\" >0</td>\n",
       "                        <td id=\"T_0b534_row1_col1\" class=\"data row1 col1\" >0.000000</td>\n",
       "            </tr>\n",
       "            <tr>\n",
       "                        <th id=\"T_0b534_level0_row2\" class=\"row_heading level0 row2\" >date_start</th>\n",
       "                        <td id=\"T_0b534_row2_col0\" class=\"data row2 col0\" >0</td>\n",
       "                        <td id=\"T_0b534_row2_col1\" class=\"data row2 col1\" >0.000000</td>\n",
       "            </tr>\n",
       "    </tbody></table>"
      ],
      "text/plain": [
       "<pandas.io.formats.style.Styler at 0x7f62053532e0>"
      ]
     },
     "metadata": {},
     "output_type": "display_data"
    },
    {
     "data": {
      "text/html": [
       "<style  type=\"text/css\" >\n",
       "#T_4c004_row0_col0,#T_4c004_row0_col1{\n",
       "            background-color:  #b40426;\n",
       "            color:  #f1f1f1;\n",
       "        }#T_4c004_row1_col0,#T_4c004_row1_col1{\n",
       "            background-color:  #3e51c5;\n",
       "            color:  #f1f1f1;\n",
       "        }#T_4c004_row2_col0,#T_4c004_row2_col1,#T_4c004_row3_col0,#T_4c004_row3_col1,#T_4c004_row4_col0,#T_4c004_row4_col1,#T_4c004_row5_col0,#T_4c004_row5_col1,#T_4c004_row6_col0,#T_4c004_row6_col1,#T_4c004_row7_col0,#T_4c004_row7_col1,#T_4c004_row8_col0,#T_4c004_row8_col1{\n",
       "            background-color:  #3b4cc0;\n",
       "            color:  #f1f1f1;\n",
       "        }</style><table id=\"T_4c004_\" ><thead>    <tr>        <th class=\"blank level0\" ></th>        <th class=\"col_heading level0 col0\" >na_sum</th>        <th class=\"col_heading level0 col1\" >na_percent</th>    </tr></thead><tbody>\n",
       "                <tr>\n",
       "                        <th id=\"T_4c004_level0_row0\" class=\"row_heading level0 row0\" >operator_id</th>\n",
       "                        <td id=\"T_4c004_row0_col0\" class=\"data row0 col0\" >8172</td>\n",
       "                        <td id=\"T_4c004_row0_col1\" class=\"data row0 col1\" >15.160000</td>\n",
       "            </tr>\n",
       "            <tr>\n",
       "                        <th id=\"T_4c004_level0_row1\" class=\"row_heading level0 row1\" >internal</th>\n",
       "                        <td id=\"T_4c004_row1_col0\" class=\"data row1 col0\" >117</td>\n",
       "                        <td id=\"T_4c004_row1_col1\" class=\"data row1 col1\" >0.220000</td>\n",
       "            </tr>\n",
       "            <tr>\n",
       "                        <th id=\"T_4c004_level0_row2\" class=\"row_heading level0 row2\" >user_id</th>\n",
       "                        <td id=\"T_4c004_row2_col0\" class=\"data row2 col0\" >0</td>\n",
       "                        <td id=\"T_4c004_row2_col1\" class=\"data row2 col1\" >0.000000</td>\n",
       "            </tr>\n",
       "            <tr>\n",
       "                        <th id=\"T_4c004_level0_row3\" class=\"row_heading level0 row3\" >date</th>\n",
       "                        <td id=\"T_4c004_row3_col0\" class=\"data row3 col0\" >0</td>\n",
       "                        <td id=\"T_4c004_row3_col1\" class=\"data row3 col1\" >0.000000</td>\n",
       "            </tr>\n",
       "            <tr>\n",
       "                        <th id=\"T_4c004_level0_row4\" class=\"row_heading level0 row4\" >direction</th>\n",
       "                        <td id=\"T_4c004_row4_col0\" class=\"data row4 col0\" >0</td>\n",
       "                        <td id=\"T_4c004_row4_col1\" class=\"data row4 col1\" >0.000000</td>\n",
       "            </tr>\n",
       "            <tr>\n",
       "                        <th id=\"T_4c004_level0_row5\" class=\"row_heading level0 row5\" >is_missed_call</th>\n",
       "                        <td id=\"T_4c004_row5_col0\" class=\"data row5 col0\" >0</td>\n",
       "                        <td id=\"T_4c004_row5_col1\" class=\"data row5 col1\" >0.000000</td>\n",
       "            </tr>\n",
       "            <tr>\n",
       "                        <th id=\"T_4c004_level0_row6\" class=\"row_heading level0 row6\" >calls_count</th>\n",
       "                        <td id=\"T_4c004_row6_col0\" class=\"data row6 col0\" >0</td>\n",
       "                        <td id=\"T_4c004_row6_col1\" class=\"data row6 col1\" >0.000000</td>\n",
       "            </tr>\n",
       "            <tr>\n",
       "                        <th id=\"T_4c004_level0_row7\" class=\"row_heading level0 row7\" >call_duration</th>\n",
       "                        <td id=\"T_4c004_row7_col0\" class=\"data row7 col0\" >0</td>\n",
       "                        <td id=\"T_4c004_row7_col1\" class=\"data row7 col1\" >0.000000</td>\n",
       "            </tr>\n",
       "            <tr>\n",
       "                        <th id=\"T_4c004_level0_row8\" class=\"row_heading level0 row8\" >total_call_duration</th>\n",
       "                        <td id=\"T_4c004_row8_col0\" class=\"data row8 col0\" >0</td>\n",
       "                        <td id=\"T_4c004_row8_col1\" class=\"data row8 col1\" >0.000000</td>\n",
       "            </tr>\n",
       "    </tbody></table>"
      ],
      "text/plain": [
       "<pandas.io.formats.style.Styler at 0x7f6205353d30>"
      ]
     },
     "metadata": {},
     "output_type": "display_data"
    }
   ],
   "source": [
    "def na_check(df):\n",
    "    data_na_sum = pd.DataFrame(df.isna().sum(), columns=['na_sum'])\n",
    "    data_na_sum['na_percent'] = round(data_na_sum['na_sum'] * 100 / len(data), 2)\n",
    "    display(data_na_sum.sort_values(by='na_sum', ascending=False).style.background_gradient(cmap =\"coolwarm\"))\n",
    "\n",
    "na_check(clients)\n",
    "na_check(data)"
   ]
  },
  {
   "cell_type": "markdown",
   "id": "99468835",
   "metadata": {},
   "source": [
    "В таблице **client** пропуски отсутствуют. В таблице **data** пропуски в полях **internal** и **operator_id**."
   ]
  },
  {
   "cell_type": "markdown",
   "id": "3125f2db",
   "metadata": {},
   "source": [
    "В таблице **data** пропуски в полях **internal** и **operator_id**."
   ]
  },
  {
   "cell_type": "markdown",
   "id": "52663bc4",
   "metadata": {},
   "source": [
    "В поле **intenal** доля пропусков около 0.2%, удалим строки с пропусками в данном поле:"
   ]
  },
  {
   "cell_type": "code",
   "execution_count": 11,
   "id": "75b6bfb7",
   "metadata": {},
   "outputs": [
    {
     "name": "stdout",
     "output_type": "stream",
     "text": [
      "Строк до удаления: 53902\n",
      "Cтрок после удаления: 53785\n"
     ]
    }
   ],
   "source": [
    "print('Строк до удаления:', len(data))\n",
    "data = data.query('not internal.isna()')\n",
    "print('Cтрок после удаления:', len(data))"
   ]
  },
  {
   "cell_type": "markdown",
   "id": "1e8eb3b6",
   "metadata": {},
   "source": [
    "В поле **operator_id** более 15% пропусков. Посмотрим на их природу."
   ]
  },
  {
   "cell_type": "code",
   "execution_count": 12,
   "id": "35d7bed5",
   "metadata": {},
   "outputs": [
    {
     "data": {
      "image/png": "[encoded data removed]",
      "text/plain": [
       "<Figure size 1080x576 with 3 Axes>"
      ]
     },
     "metadata": {},
     "output_type": "display_data"
    }
   ],
   "source": [
    "plt.figure(figsize=(15,8))\n",
    "plt.suptitle('Строки с неуказанными операторами', size=14)\n",
    "plt.subplot(2,3,1)\n",
    "plt.pie(data.query('operator_id.isna()').groupby('is_missed_call')['calls_count'].count(),\n",
    "        labels=['Принятые', 'Пропущенные'], autopct='%.0f%%')\n",
    "plt.subplot(2,3,2)\n",
    "plt.pie(data.query('operator_id.isna()').groupby('direction')['calls_count'].count(),\n",
    "        labels=['Входящие', 'Исходящие'], autopct='%.0f%%')\n",
    "plt.subplot(2,3,3)\n",
    "plt.pie(data.query('operator_id.isna()').groupby('internal')['calls_count'].count(),\n",
    "        labels=['Внешние', 'Внутренние'], autopct='%.0f%%')\n",
    "plt.show()"
   ]
  },
  {
   "cell_type": "markdown",
   "id": "a0919f1b",
   "metadata": {},
   "source": [
    "Большая часть пропусков относится к внешним входящим пропущенным вызовам. Скорее всего, это указывает на то, что данные вызовы поступили в момент, когда все операторы заняты, и были завершены прежде, нежели успели распределиться на освободившихся операторов."
   ]
  },
  {
   "cell_type": "markdown",
   "id": "92aeced6",
   "metadata": {},
   "source": [
    "Для дальнейшего анализа заполним пропуски в поле **operator_id** значением **0** для внешних входящих пропущенных звонков:"
   ]
  },
  {
   "cell_type": "code",
   "execution_count": 13,
   "id": "19957dd3",
   "metadata": {},
   "outputs": [
    {
     "name": "stdout",
     "output_type": "stream",
     "text": [
      "Количество пропусков до заполнения: 8115 из 53785,  15.09%\n",
      "Количество пропусков после заполнения: 579 из 53785,   1.08%\n"
     ]
    }
   ],
   "source": [
    "print('Количество пропусков до заполнения: {0} из {1}, {2:6.2f}%'\n",
    "      .format(data['operator_id'].isna().sum(), \n",
    "              len(data), \n",
    "              data['operator_id'].isna().sum()*100/len(data)))\n",
    "\n",
    "data.loc[(data['operator_id'].isna())&\n",
    "         (data['direction'] == 'in')&\n",
    "         (data['internal'] == False)&\n",
    "         (data['is_missed_call'] == True), 'operator_id'] = 0\n",
    "\n",
    "print('Количество пропусков после заполнения: {0} из {1}, {2:6.2f}%'\n",
    "      .format(data['operator_id'].isna().sum(), \n",
    "              len(data), \n",
    "              data['operator_id'].isna().sum()*100/len(data)))"
   ]
  },
  {
   "cell_type": "markdown",
   "id": "32a6bbcd",
   "metadata": {},
   "source": [
    "Оставшийся 1% строк с пропусками удалим из данных:"
   ]
  },
  {
   "cell_type": "code",
   "execution_count": 14,
   "id": "6a3f7ea0",
   "metadata": {},
   "outputs": [
    {
     "name": "stdout",
     "output_type": "stream",
     "text": [
      "Строк до удаления: 53785\n",
      "Строк после удаления: 53206\n"
     ]
    }
   ],
   "source": [
    "print('Строк до удаления:', len(data))\n",
    "data = data.query('operator_id.notna()')\n",
    "print('Строк после удаления:', len(data))"
   ]
  },
  {
   "cell_type": "markdown",
   "id": "8570ad04",
   "metadata": {},
   "source": [
    "Приведём поле **operator_id** к типу данных **int**:"
   ]
  },
  {
   "cell_type": "code",
   "execution_count": 15,
   "id": "c57bffed",
   "metadata": {},
   "outputs": [
    {
     "data": {
      "text/plain": [
       "dtype('int64')"
      ]
     },
     "execution_count": 15,
     "metadata": {},
     "output_type": "execute_result"
    }
   ],
   "source": [
    "data['operator_id'] = data['operator_id'].astype('int')\n",
    "data['operator_id'].dtype"
   ]
  },
  {
   "cell_type": "markdown",
   "id": "ab367510",
   "metadata": {},
   "source": [
    "Повторно проверим датасет на пропуски:"
   ]
  },
  {
   "cell_type": "code",
   "execution_count": 16,
   "id": "2de9236b",
   "metadata": {},
   "outputs": [
    {
     "data": {
      "text/html": [
       "<style  type=\"text/css\" >\n",
       "#T_8b8e6_row0_col0,#T_8b8e6_row0_col1,#T_8b8e6_row1_col0,#T_8b8e6_row1_col1,#T_8b8e6_row2_col0,#T_8b8e6_row2_col1,#T_8b8e6_row3_col0,#T_8b8e6_row3_col1,#T_8b8e6_row4_col0,#T_8b8e6_row4_col1,#T_8b8e6_row5_col0,#T_8b8e6_row5_col1,#T_8b8e6_row6_col0,#T_8b8e6_row6_col1,#T_8b8e6_row7_col0,#T_8b8e6_row7_col1,#T_8b8e6_row8_col0,#T_8b8e6_row8_col1{\n",
       "            background-color:  #3b4cc0;\n",
       "            color:  #f1f1f1;\n",
       "        }</style><table id=\"T_8b8e6_\" ><thead>    <tr>        <th class=\"blank level0\" ></th>        <th class=\"col_heading level0 col0\" >na_sum</th>        <th class=\"col_heading level0 col1\" >na_percent</th>    </tr></thead><tbody>\n",
       "                <tr>\n",
       "                        <th id=\"T_8b8e6_level0_row0\" class=\"row_heading level0 row0\" >user_id</th>\n",
       "                        <td id=\"T_8b8e6_row0_col0\" class=\"data row0 col0\" >0</td>\n",
       "                        <td id=\"T_8b8e6_row0_col1\" class=\"data row0 col1\" >0.000000</td>\n",
       "            </tr>\n",
       "            <tr>\n",
       "                        <th id=\"T_8b8e6_level0_row1\" class=\"row_heading level0 row1\" >date</th>\n",
       "                        <td id=\"T_8b8e6_row1_col0\" class=\"data row1 col0\" >0</td>\n",
       "                        <td id=\"T_8b8e6_row1_col1\" class=\"data row1 col1\" >0.000000</td>\n",
       "            </tr>\n",
       "            <tr>\n",
       "                        <th id=\"T_8b8e6_level0_row2\" class=\"row_heading level0 row2\" >direction</th>\n",
       "                        <td id=\"T_8b8e6_row2_col0\" class=\"data row2 col0\" >0</td>\n",
       "                        <td id=\"T_8b8e6_row2_col1\" class=\"data row2 col1\" >0.000000</td>\n",
       "            </tr>\n",
       "            <tr>\n",
       "                        <th id=\"T_8b8e6_level0_row3\" class=\"row_heading level0 row3\" >internal</th>\n",
       "                        <td id=\"T_8b8e6_row3_col0\" class=\"data row3 col0\" >0</td>\n",
       "                        <td id=\"T_8b8e6_row3_col1\" class=\"data row3 col1\" >0.000000</td>\n",
       "            </tr>\n",
       "            <tr>\n",
       "                        <th id=\"T_8b8e6_level0_row4\" class=\"row_heading level0 row4\" >operator_id</th>\n",
       "                        <td id=\"T_8b8e6_row4_col0\" class=\"data row4 col0\" >0</td>\n",
       "                        <td id=\"T_8b8e6_row4_col1\" class=\"data row4 col1\" >0.000000</td>\n",
       "            </tr>\n",
       "            <tr>\n",
       "                        <th id=\"T_8b8e6_level0_row5\" class=\"row_heading level0 row5\" >is_missed_call</th>\n",
       "                        <td id=\"T_8b8e6_row5_col0\" class=\"data row5 col0\" >0</td>\n",
       "                        <td id=\"T_8b8e6_row5_col1\" class=\"data row5 col1\" >0.000000</td>\n",
       "            </tr>\n",
       "            <tr>\n",
       "                        <th id=\"T_8b8e6_level0_row6\" class=\"row_heading level0 row6\" >calls_count</th>\n",
       "                        <td id=\"T_8b8e6_row6_col0\" class=\"data row6 col0\" >0</td>\n",
       "                        <td id=\"T_8b8e6_row6_col1\" class=\"data row6 col1\" >0.000000</td>\n",
       "            </tr>\n",
       "            <tr>\n",
       "                        <th id=\"T_8b8e6_level0_row7\" class=\"row_heading level0 row7\" >call_duration</th>\n",
       "                        <td id=\"T_8b8e6_row7_col0\" class=\"data row7 col0\" >0</td>\n",
       "                        <td id=\"T_8b8e6_row7_col1\" class=\"data row7 col1\" >0.000000</td>\n",
       "            </tr>\n",
       "            <tr>\n",
       "                        <th id=\"T_8b8e6_level0_row8\" class=\"row_heading level0 row8\" >total_call_duration</th>\n",
       "                        <td id=\"T_8b8e6_row8_col0\" class=\"data row8 col0\" >0</td>\n",
       "                        <td id=\"T_8b8e6_row8_col1\" class=\"data row8 col1\" >0.000000</td>\n",
       "            </tr>\n",
       "    </tbody></table>"
      ],
      "text/plain": [
       "<pandas.io.formats.style.Styler at 0x7f6205401ee0>"
      ]
     },
     "metadata": {},
     "output_type": "display_data"
    }
   ],
   "source": [
    "na_check(data)"
   ]
  },
  {
   "cell_type": "markdown",
   "id": "a0bdbd19",
   "metadata": {},
   "source": [
    "Пропуски обработаны. В результате в общей сложности было удалено чуть более 1% от первоначального объёма данных. "
   ]
  },
  {
   "cell_type": "markdown",
   "id": "5a5d041e",
   "metadata": {},
   "source": [
    "### Дубликаты в данных"
   ]
  },
  {
   "cell_type": "markdown",
   "id": "dcc7259b",
   "metadata": {},
   "source": [
    "Проверим на полные дубликаты таблицу **clients**:"
   ]
  },
  {
   "cell_type": "code",
   "execution_count": 17,
   "id": "64229ef7",
   "metadata": {},
   "outputs": [
    {
     "name": "stdout",
     "output_type": "stream",
     "text": [
      "Полные дубликаты: 0 записей, 0.00% от всех записей\n"
     ]
    }
   ],
   "source": [
    "def dup_count(df):\n",
    "    print('Полные дубликаты: {0} записей, {1:2.2f}% от всех записей'.format(df.duplicated().sum(), \n",
    "                                                                            df.duplicated().sum()*100/len(df)))\n",
    "\n",
    "dup_count(clients)"
   ]
  },
  {
   "cell_type": "markdown",
   "id": "917496a3",
   "metadata": {},
   "source": [
    "Проверим на полные дубликаты таблицу **data**:"
   ]
  },
  {
   "cell_type": "code",
   "execution_count": 18,
   "id": "62dba3b6",
   "metadata": {},
   "outputs": [
    {
     "name": "stdout",
     "output_type": "stream",
     "text": [
      "Полные дубликаты: 4845 записей, 9.11% от всех записей\n"
     ]
    }
   ],
   "source": [
    "dup_count(data)"
   ]
  },
  {
   "cell_type": "markdown",
   "id": "9e92b264",
   "metadata": {},
   "source": [
    "Данные дубликаты скорее всего появились при выгрузке данных. Удалим их:"
   ]
  },
  {
   "cell_type": "code",
   "execution_count": 19,
   "id": "8279d594",
   "metadata": {},
   "outputs": [
    {
     "name": "stdout",
     "output_type": "stream",
     "text": [
      "Количество строк до удаления полных дубликатов: 53206\n",
      "Количество строк после удаления полных дубликатов: 48361\n"
     ]
    }
   ],
   "source": [
    "print('Количество строк до удаления полных дубликатов:', len(data))\n",
    "data.drop(data[data.duplicated()].index, inplace=True)\n",
    "print('Количество строк после удаления полных дубликатов:', len(data))"
   ]
  },
  {
   "cell_type": "markdown",
   "id": "05058fc7",
   "metadata": {},
   "source": [
    "### Ошибки в данных"
   ]
  },
  {
   "cell_type": "markdown",
   "id": "4d82110d",
   "metadata": {},
   "source": [
    "Выявим и удалим ошибочные строки, где звонки значатся пропущенными, а длительность разговора не равна 0 секунд, а также строки, где звонки значатся принятыми, а длительность разговора равна 0 секунд:"
   ]
  },
  {
   "cell_type": "code",
   "execution_count": 20,
   "id": "434b2fc1",
   "metadata": {},
   "outputs": [
    {
     "name": "stdout",
     "output_type": "stream",
     "text": [
      "Количество строк до удаления: 48361\n",
      "Количество строк после удаления: 48049\n"
     ]
    }
   ],
   "source": [
    "print('Количество строк до удаления:', len(data))\n",
    "data.drop(data.query('(call_duration != 0 and is_missed_call == True) or (call_duration == 0 and is_missed_call == False)')\n",
    "          .index, inplace=True)\n",
    "print('Количество строк после удаления:', len(data))"
   ]
  },
  {
   "cell_type": "markdown",
   "id": "f41d6521",
   "metadata": {},
   "source": [
    "### Добавление столбца с длительностью ожидания ответа на звонок"
   ]
  },
  {
   "cell_type": "markdown",
   "id": "61de0965",
   "metadata": {},
   "source": [
    "Будем считать время ожидания ответа на звонок как разность общего времени звонка в поле **total_call_duration** и времени разговра c оператором в поле **call_duration**. Добавим соответствующий столбец **call_waiting_time**:"
   ]
  },
  {
   "cell_type": "code",
   "execution_count": 21,
   "id": "9a45f772",
   "metadata": {},
   "outputs": [
    {
     "data": {
      "text/html": [
       "<div>\n",
       "<style scoped>\n",
       "    .dataframe tbody tr th:only-of-type {\n",
       "        vertical-align: middle;\n",
       "    }\n",
       "\n",
       "    .dataframe tbody tr th {\n",
       "        vertical-align: top;\n",
       "    }\n",
       "\n",
       "    .dataframe thead th {\n",
       "        text-align: right;\n",
       "    }\n",
       "</style>\n",
       "<table border=\"1\" class=\"dataframe\">\n",
       "  <thead>\n",
       "    <tr style=\"text-align: right;\">\n",
       "      <th></th>\n",
       "      <th>call_duration</th>\n",
       "      <th>total_call_duration</th>\n",
       "      <th>call_waiting_time</th>\n",
       "    </tr>\n",
       "  </thead>\n",
       "  <tbody>\n",
       "    <tr>\n",
       "      <th>0</th>\n",
       "      <td>0</td>\n",
       "      <td>4</td>\n",
       "      <td>4</td>\n",
       "    </tr>\n",
       "    <tr>\n",
       "      <th>1</th>\n",
       "      <td>0</td>\n",
       "      <td>5</td>\n",
       "      <td>5</td>\n",
       "    </tr>\n",
       "    <tr>\n",
       "      <th>2</th>\n",
       "      <td>0</td>\n",
       "      <td>1</td>\n",
       "      <td>1</td>\n",
       "    </tr>\n",
       "    <tr>\n",
       "      <th>3</th>\n",
       "      <td>10</td>\n",
       "      <td>18</td>\n",
       "      <td>8</td>\n",
       "    </tr>\n",
       "    <tr>\n",
       "      <th>4</th>\n",
       "      <td>0</td>\n",
       "      <td>25</td>\n",
       "      <td>25</td>\n",
       "    </tr>\n",
       "  </tbody>\n",
       "</table>\n",
       "</div>"
      ],
      "text/plain": [
       "   call_duration  total_call_duration  call_waiting_time\n",
       "0              0                    4                  4\n",
       "1              0                    5                  5\n",
       "2              0                    1                  1\n",
       "3             10                   18                  8\n",
       "4              0                   25                 25"
      ]
     },
     "execution_count": 21,
     "metadata": {},
     "output_type": "execute_result"
    }
   ],
   "source": [
    "data['call_waiting_time'] = data['total_call_duration'] - data['call_duration']\n",
    "data.iloc[:,-3:].head()"
   ]
  },
  {
   "cell_type": "markdown",
   "id": "ad7aad19",
   "metadata": {},
   "source": [
    "### Добавление столбца со специализацией колл-центра"
   ]
  },
  {
   "cell_type": "markdown",
   "id": "0eea789b",
   "metadata": {},
   "source": [
    "Добавим столбец, в котором будет указано, на чём специализируется колл-центр: на приёме входящих вызовов, на обзвонах или на том и другом сразу.\n",
    "\n",
    "Расчитаем долю входящих вызовов для каждого колл-центра, исключая внутренние и пропущенные вызовы, после чего добавим в исходный датасет новую колонку **user_spec** по следующему условию:\n",
    "\n",
    "* Если входящих вызовов до 30% включительно - значение \"out\"\n",
    "* Если входящих вызовов более 30%, но менее 70% - значение \"universal\"\n",
    "* Если входящих вызовов от 30% включительно - значение \"in\"\n",
    "* Если в колл-центре не было ни одного внешнего звонка - значение \"inactive\""
   ]
  },
  {
   "cell_type": "code",
   "execution_count": 22,
   "id": "fd132e2c",
   "metadata": {},
   "outputs": [],
   "source": [
    "def user_spec_definition(data_calls, percent=30):\n",
    "    '''Функция возвращает датафрейм с user_id клиента и его специализацией user_spec по условию:\n",
    "    \n",
    "    Если входящих вызовов до <percent>% включительно - значение \"out\"\n",
    "    Если входящих вызовов более <percent>%, но менее 100-<percent>% - значение \"universal\"\n",
    "    Если входящих вызовов от <percent>% включительно - значение \"in\"\n",
    "    Если в колл-центре не было ни одного внешнего звонка - значение \"inactive\"\n",
    "    При расчёте доли входящих вызовов исключаются внутренние и пропущенные вызовы\n",
    "    \n",
    "    Параметры: \n",
    "\n",
    "    data_calls: агрегированный датафрейм с информацией по звонкам\n",
    "    percent=20: пороговое значение процента входящих вызовов\n",
    "    '''\n",
    "    \n",
    "    calls_d_count = data_calls.query('internal == False and is_missed_call == False').pivot_table(index='user_id',\n",
    "                                            columns='direction',\n",
    "                                            values='calls_count',\n",
    "                                            aggfunc='sum').fillna(0).reset_index()\n",
    "\n",
    "    user_spec = []\n",
    "\n",
    "    for x in range(0, len(calls_d_count)):\n",
    "        in_part = round(calls_d_count.iloc[x,1]/(calls_d_count.iloc[x,1]+calls_d_count.iloc[x,2]),2)\n",
    "        if in_part <= percent/100:\n",
    "            user_spec.append('out')\n",
    "        elif in_part > percent/100 and in_part < (1 - percent/100):\n",
    "            user_spec.append('universal')\n",
    "        elif in_part >= (1-percent/100):\n",
    "            user_spec.append('in')\n",
    "        else: user_spec.append('inactive')\n",
    "            \n",
    "    calls_d_count = pd.DataFrame({'user_spec':user_spec}, index=calls_d_count['user_id'])\n",
    "        \n",
    "    return calls_d_count"
   ]
  },
  {
   "cell_type": "code",
   "execution_count": 23,
   "id": "3bf0d703",
   "metadata": {},
   "outputs": [],
   "source": [
    "data = data.join(user_spec_definition(data, percent=30), on='user_id', how='left')\n",
    "data['user_spec'].fillna('inactive', inplace=True)"
   ]
  },
  {
   "cell_type": "markdown",
   "id": "6aea103c",
   "metadata": {},
   "source": [
    "### Итоги предобработки"
   ]
  },
  {
   "cell_type": "markdown",
   "id": "1ba93521",
   "metadata": {},
   "source": [
    "Таблица **clients**:\n",
    "* В таблице 732 записи\n",
    "* Пропуски и полные дубликаты отсутствуют\n",
    "\n",
    "Таблица **data**:\n",
    "* В изначальном датасете 53902 записи\n",
    "* Удалены строки с пропусками в поле **internal**, 0.2% от общего количества строк\n",
    "* Обработаны пропуски в поле **operator_id**, 15% от общего количества строк: 98% пропусков, предположительно означающих не назначенные операторам пропущенные вызовы, заменены значением \"0\", остальные (1% от общего объёма данных) - удалены\n",
    "* Обнаружены и удалены 4845 записей, являющиеся полными дубликатами.\n",
    "* Обнаружены и удалены 312 записей, где звонки числятся принятыми, а длительность разговора 0, либо где звонки значатся пропущенными, а длительность разговора не равна 0.\n",
    "* Добавлен столец **call_waiting_time** с временем ожидания ответа на звонок.\n",
    "* Добавлен столец **user_spec** с временем ожидания ответа на звонок.\n",
    "* Итоговый объём очищенных данных - 48049 записей."
   ]
  },
  {
   "cell_type": "markdown",
   "id": "ad5f3975",
   "metadata": {},
   "source": [
    "## Исследовательский анализ <a class=\"anchor\" id=\"data_analyse\"></a>"
   ]
  },
  {
   "cell_type": "markdown",
   "id": "8735213a",
   "metadata": {},
   "source": [
    "### Общая характеристика данных <a class=\"anchor\" id=\"data_analyse_1\"></a>"
   ]
  },
  {
   "cell_type": "markdown",
   "id": "6b1f4704",
   "metadata": {},
   "source": [
    "Определим период исследования:"
   ]
  },
  {
   "cell_type": "code",
   "execution_count": 24,
   "id": "abd4f835",
   "metadata": {},
   "outputs": [
    {
     "name": "stdout",
     "output_type": "stream",
     "text": [
      "Первый день в датасете: 2019-08-02\n",
      "Последний день в датасете: 2019-11-28\n"
     ]
    }
   ],
   "source": [
    "print('Первый день в датасете: {:%Y-%m-%d}'.format(data.date.min()))\n",
    "print('Последний день в датасете: {:%Y-%m-%d}'.format(data.date.max()))"
   ]
  },
  {
   "cell_type": "markdown",
   "id": "fc1d98fa",
   "metadata": {},
   "source": [
    "Данные собраны за период с 2 августа по 28 ноября 2019г. "
   ]
  },
  {
   "cell_type": "markdown",
   "id": "34739de8",
   "metadata": {},
   "source": [
    "Проверим, сколько клиентов оказалось в каждой специализации:"
   ]
  },
  {
   "cell_type": "code",
   "execution_count": 25,
   "id": "6b1b04db",
   "metadata": {},
   "outputs": [
    {
     "data": {
      "image/png": "[encoded data removed]",
      "text/plain": [
       "<Figure size 360x360 with 1 Axes>"
      ]
     },
     "metadata": {},
     "output_type": "display_data"
    },
    {
     "data": {
      "text/html": [
       "<div>\n",
       "<style scoped>\n",
       "    .dataframe tbody tr th:only-of-type {\n",
       "        vertical-align: middle;\n",
       "    }\n",
       "\n",
       "    .dataframe tbody tr th {\n",
       "        vertical-align: top;\n",
       "    }\n",
       "\n",
       "    .dataframe thead th {\n",
       "        text-align: right;\n",
       "    }\n",
       "</style>\n",
       "<table border=\"1\" class=\"dataframe\">\n",
       "  <thead>\n",
       "    <tr style=\"text-align: right;\">\n",
       "      <th></th>\n",
       "      <th>Специализация</th>\n",
       "      <th>Количество клиентов</th>\n",
       "    </tr>\n",
       "  </thead>\n",
       "  <tbody>\n",
       "    <tr>\n",
       "      <th>0</th>\n",
       "      <td>in</td>\n",
       "      <td>124</td>\n",
       "    </tr>\n",
       "    <tr>\n",
       "      <th>2</th>\n",
       "      <td>out</td>\n",
       "      <td>99</td>\n",
       "    </tr>\n",
       "    <tr>\n",
       "      <th>3</th>\n",
       "      <td>universal</td>\n",
       "      <td>64</td>\n",
       "    </tr>\n",
       "    <tr>\n",
       "      <th>1</th>\n",
       "      <td>inactive</td>\n",
       "      <td>19</td>\n",
       "    </tr>\n",
       "  </tbody>\n",
       "</table>\n",
       "</div>"
      ],
      "text/plain": [
       "  Специализация  Количество клиентов\n",
       "0            in                  124\n",
       "2           out                   99\n",
       "3     universal                   64\n",
       "1      inactive                   19"
      ]
     },
     "metadata": {},
     "output_type": "display_data"
    }
   ],
   "source": [
    "num_users_spec = data.groupby('user_spec', as_index=False)['user_id'].nunique().sort_values(by='user_id', ascending=False)\n",
    "num_users_spec.columns=['Специализация', 'Количество клиентов']\n",
    "\n",
    "plt.figure(figsize=(5,5))\n",
    "plt.title('Специализация колл-центров', size=14)\n",
    "plt.pie(num_users_spec['Количество клиентов'], labels=['Входящие выховы', 'Обзвоны', 'Входящие и обзвоны', 'Неактивные'], autopct='%.0f%%')\n",
    "plt.show()\n",
    "display(num_users_spec)"
   ]
  },
  {
   "cell_type": "markdown",
   "id": "579d0a28",
   "metadata": {},
   "source": [
    "* Наибольшая доля приходится на колл-центры, специализирующихся на входящих вызовах - 41%\n",
    "* Около трети клиентов, 32%, специализируются на исходящих вызовах\n",
    "* Пятая часть, 21%, совершают входящие и исходящие звонки в примерно равной степени\n",
    "* 6% колл-центров определены как неактивные, т.к за исследуемый период за ними не числится состоявшихся внешних звонков."
   ]
  },
  {
   "cell_type": "markdown",
   "id": "6160ac43",
   "metadata": {},
   "source": [
    "Взглянем на распределение количества операторов в колл-центрах:"
   ]
  },
  {
   "cell_type": "code",
   "execution_count": 26,
   "id": "e54c3fd4",
   "metadata": {},
   "outputs": [],
   "source": [
    "def distr_plot(df_col, title, label): #функция графиков распределения\n",
    "    x_values = pd.Series(range(0,len(df_col)))\n",
    "    plt.figure(figsize=(15,6))\n",
    "    plt.suptitle(title, size=14)\n",
    "    \n",
    "    plt.subplot(1,2,1)\n",
    "    plt.scatter(x_values, df_col)\n",
    "    plt.ylabel(label)\n",
    "    plt.grid(axis='y')\n",
    "    \n",
    "    plt.subplot(1,4,3)\n",
    "    sns.boxplot(y=df_col)\n",
    "    plt.ylabel(label)\n",
    "    plt.grid(axis='y')\n",
    "    \n",
    "    plt.tight_layout()\n",
    "    plt.show()"
   ]
  },
  {
   "cell_type": "code",
   "execution_count": 27,
   "id": "22a724c2",
   "metadata": {},
   "outputs": [
    {
     "data": {
      "image/png": "[encoded data removed]",
      "text/plain": [
       "<Figure size 1080x432 with 2 Axes>"
      ]
     },
     "metadata": {
      "needs_background": "light"
     },
     "output_type": "display_data"
    },
    {
     "name": "stdout",
     "output_type": "stream",
     "text": [
      "Общее количество колл-центров, пользовавшихся услугами в исследуемый период: 306\n",
      "Общее количество операторов, совершавших и принимавших вызовы: 1093\n",
      "В 90% колл-центров работали операторы количеством не более: 8\n"
     ]
    }
   ],
   "source": [
    "distr_plot(data.groupby('user_id')['operator_id'].nunique(),\n",
    "           'Распределение колл-центров по количеству работающих в них операторов',\n",
    "           'Количество операторов')\n",
    "\n",
    "print('Общее количество колл-центров, пользовавшихся услугами в исследуемый период:', \n",
    "      len(data.user_id.unique()))\n",
    "print('Общее количество операторов, совершавших и принимавших вызовы:', \n",
    "      len(data.operator_id.unique()))\n",
    "print('В 90% колл-центров работали операторы количеством не более:', \n",
    "      round(np.percentile(data.groupby('user_id')['operator_id'].nunique(), 90)))"
   ]
  },
  {
   "cell_type": "markdown",
   "id": "f199431f",
   "metadata": {},
   "source": [
    "Общее количество операторов, работавших в системе за исследуемый период, достаточно для анализа."
   ]
  },
  {
   "cell_type": "markdown",
   "id": "4864a7a9",
   "metadata": {},
   "source": [
    "Поскольку компании с большим штатом операторов могут острее нуждаться в мониторинге их работы, они могут быть более  заинтересованы в нашем сервисе, однако таких немного, лишь 10% клиентов имеют более 8 операторов в штате."
   ]
  },
  {
   "cell_type": "markdown",
   "id": "f87c8fb8",
   "metadata": {},
   "source": [
    "Посмотрим на распределение колл-центров по среднему количеству принятых/совершённых вызовов в день, только для дней, когда эти вызовы совершались:"
   ]
  },
  {
   "cell_type": "code",
   "execution_count": 28,
   "id": "fe0edeb7",
   "metadata": {
    "scrolled": false
   },
   "outputs": [
    {
     "data": {
      "image/png": "[encoded data removed]",
      "text/plain": [
       "<Figure size 1080x432 with 2 Axes>"
      ]
     },
     "metadata": {
      "needs_background": "light"
     },
     "output_type": "display_data"
    },
    {
     "name": "stdout",
     "output_type": "stream",
     "text": [
      "90% колл-центров совершили/приняли вызовов в день в среднем не более: 65\n"
     ]
    }
   ],
   "source": [
    "client_day_calls_mean = round(data.query('is_missed_call == False')\n",
    "                              .groupby('user_id')['calls_count'].sum() / \n",
    "                              data.query('is_missed_call == False')\n",
    "                              .groupby('user_id')['date'].nunique()).astype(int)\n",
    "\n",
    "distr_plot(client_day_calls_mean,\n",
    "           'Распределение колл-центров по среднему количеству принятых/совершённых вызовов в день',\n",
    "           'Среднее количество вызовов в день')\n",
    "\n",
    "print('90% колл-центров совершили/приняли вызовов в день в среднем не более:', \n",
    "      round(np.percentile(client_day_calls_mean, 90)))"
   ]
  },
  {
   "cell_type": "markdown",
   "id": "cf60f9c7",
   "metadata": {},
   "source": [
    "Среди наших клиентов есть особенно загруженные звонками. Возможно, такие клиенты также заинтересуются новым сервисом в первую очередь."
   ]
  },
  {
   "cell_type": "markdown",
   "id": "f9e4db80",
   "metadata": {},
   "source": [
    "### Определение критериев неэффективности операторов и порогов неэффективности <a class=\"anchor\" id=\"data_analyse_2\"></a>"
   ]
  },
  {
   "cell_type": "markdown",
   "id": "8545c6e9",
   "metadata": {},
   "source": [
    "#### Доля неотвеченных вызовов в день"
   ]
  },
  {
   "cell_type": "markdown",
   "id": "52599761",
   "metadata": {},
   "source": [
    "Посмотрим на распределение операторов по доле неотвеченных вызовов среди входящих, включая внутренние.\n",
    "При этом в расчёт не берём операторов колл-центров, которые не сециализируются на приёме звонков. \n",
    "Дни, когда оператор не работал, а также звонки, не назначенные на конкретного оператора, не учитываем."
   ]
  },
  {
   "cell_type": "code",
   "execution_count": 29,
   "id": "3dbd49f2",
   "metadata": {},
   "outputs": [
    {
     "data": {
      "image/png": "[encoded data removed]",
      "text/plain": [
       "<Figure size 1080x432 with 2 Axes>"
      ]
     },
     "metadata": {
      "needs_background": "light"
     },
     "output_type": "display_data"
    }
   ],
   "source": [
    "calls_missed = (data.query('operator_id != 0 and direction == \"in\" and user_spec in [\"in\", \"universal\"]')\n",
    "            .groupby(['operator_id','is_missed_call'], as_index=False)\n",
    "            .agg({'date':'nunique','calls_count':'sum'})\n",
    "           )\n",
    "\n",
    "calls_missed['calls_per_day'] = calls_missed['calls_count'] / calls_missed['date']\n",
    "\n",
    "calls_missed = calls_missed.pivot_table(index='operator_id', columns='is_missed_call', values='calls_per_day').fillna(0)\n",
    "\n",
    "calls_missed.columns = ['non_missed_per_day', 'missed_per_day']\n",
    "\n",
    "calls_missed['missed_frac_per_day'] = (round(calls_missed['missed_per_day'] / \n",
    "                                          (calls_missed['missed_per_day'] + \n",
    "                                           calls_missed['non_missed_per_day']),2)\n",
    "                                         )\n",
    "\n",
    "distr_plot(calls_missed['missed_frac_per_day'],\n",
    "           'Распределение операторов по доле неотвеченных входящих вызовов, включая внутренние',\n",
    "           'Средняя доля неотвеченных вызовов в день')"
   ]
  },
  {
   "cell_type": "markdown",
   "id": "555b5c4c",
   "metadata": {},
   "source": [
    "Определим порог неэффективности по **percentile 90**:"
   ]
  },
  {
   "cell_type": "code",
   "execution_count": 30,
   "id": "387a49aa",
   "metadata": {},
   "outputs": [
    {
     "name": "stdout",
     "output_type": "stream",
     "text": [
      "80% операторов пропускают в день вызовов, не более: 7.000000000000001%\n"
     ]
    }
   ],
   "source": [
    "percentile = 80\n",
    "\n",
    "missed_calls_limit=round(np.percentile(calls_missed['missed_frac_per_day'], percentile), 2)\n",
    "\n",
    "print(f'{percentile}% операторов пропускают в день вызовов, не более: {missed_calls_limit*100}%')"
   ]
  },
  {
   "cell_type": "markdown",
   "id": "1aa1a358",
   "metadata": {},
   "source": [
    "#### Среднее время ответа на звонок"
   ]
  },
  {
   "cell_type": "markdown",
   "id": "71e13fa3",
   "metadata": {},
   "source": [
    "Возьмём среднее время ожидания ответа на входящий звонок за весь период. При расчёте этого критерия не учитываем операторов колл-центров, которые не специализируются на приёме звонков. "
   ]
  },
  {
   "cell_type": "code",
   "execution_count": 31,
   "id": "b0da8aef",
   "metadata": {},
   "outputs": [
    {
     "data": {
      "image/png": "[encoded data removed]",
      "text/plain": [
       "<Figure size 1080x432 with 2 Axes>"
      ]
     },
     "metadata": {
      "needs_background": "light"
     },
     "output_type": "display_data"
    }
   ],
   "source": [
    "med_wait_time = (data.query('user_spec in [\"in\", \"universal\"] and direction == \"in\" and is_missed_call == False')\n",
    "             .groupby('operator_id').agg({'call_waiting_time':'sum', 'calls_count':'sum'})\n",
    "            )\n",
    "\n",
    "med_wait_time['waiting_time'] = med_wait_time['call_waiting_time'] / med_wait_time['calls_count']\n",
    "\n",
    "distr_plot(med_wait_time['waiting_time'],\n",
    "           'Распределение операторов по среднему времени ответа на звонки, включая внутренние',\n",
    "           'Среднее вемя ответа')"
   ]
  },
  {
   "cell_type": "code",
   "execution_count": 32,
   "id": "9137658f",
   "metadata": {},
   "outputs": [
    {
     "name": "stdout",
     "output_type": "stream",
     "text": [
      "У 90% операторов среднее время ответа на звонок составляет не более 32 сек\n"
     ]
    }
   ],
   "source": [
    "percentile = 90\n",
    "\n",
    "med_wait_time_limit=round(np.percentile(med_wait_time['waiting_time'], percentile))\n",
    "\n",
    "print(f'У {percentile}% операторов среднее время ответа на звонок составляет не более {med_wait_time_limit} сек')"
   ]
  },
  {
   "cell_type": "markdown",
   "id": "2679acbb",
   "metadata": {},
   "source": [
    "#### Количество исходящих звонков в день"
   ]
  },
  {
   "cell_type": "markdown",
   "id": "36f2ed25",
   "metadata": {},
   "source": [
    "Данный критерий эффективности работы - только для колл-центров, специализирующихся на обзвонах. Посмотрим на распределение в таких колл-центрах операторов по среднему количеству исходящих вызовов в день, при этом принимаем в расчёт только вызовы, которые были приняты. Дни, когда оператор не работал, не учитываем."
   ]
  },
  {
   "cell_type": "code",
   "execution_count": 33,
   "id": "31c48c6f",
   "metadata": {},
   "outputs": [
    {
     "data": {
      "image/png": "[encoded data removed]",
      "text/plain": [
       "<Figure size 1080x432 with 2 Axes>"
      ]
     },
     "metadata": {
      "needs_background": "light"
     },
     "output_type": "display_data"
    }
   ],
   "source": [
    "calls_out = (data.query('user_spec == \"out\" and direction == \"out\" and is_missed_call == False')\n",
    "             .groupby('operator_id').agg({'date':'nunique', 'calls_count':'sum'})\n",
    "            )\n",
    "\n",
    "calls_out['calls_per_date'] = (calls_out['calls_count'] / calls_out['date'])\n",
    "\n",
    "distr_plot(calls_out['calls_per_date'],\n",
    "           'Распределение операторов по количеству исходящих вызовов в день',\n",
    "           'Среднее число исходящих вызовов в день')"
   ]
  },
  {
   "cell_type": "markdown",
   "id": "5b55911e",
   "metadata": {},
   "source": [
    "Определим порог неэффективности по **percentile 20**:"
   ]
  },
  {
   "cell_type": "code",
   "execution_count": 34,
   "id": "8db56f63",
   "metadata": {},
   "outputs": [
    {
     "name": "stdout",
     "output_type": "stream",
     "text": [
      "20% операторов совершают в день вызовов, не более: 3\n"
     ]
    }
   ],
   "source": [
    "percentile=20\n",
    "\n",
    "calls_out_limit=round(np.percentile(calls_out['calls_per_date'], percentile))\n",
    "\n",
    "print(f'{percentile}% операторов совершают в день вызовов, не более: {calls_out_limit}')"
   ]
  },
  {
   "cell_type": "markdown",
   "id": "a6583cc3",
   "metadata": {},
   "source": [
    "#### Средняя продолжительность разговора исходящего звонка"
   ]
  },
  {
   "cell_type": "markdown",
   "id": "e7e0a093",
   "metadata": {},
   "source": [
    "Данный критерий эффективности работы - только для колл-центров, специализирующихся на обзвонах. Он может характеризовать, насколько долго оператор может поддерживать интерес собеседника. При расчёте критерия принимаются в расчёт только состоявшиеся внешние исходящие звонки."
   ]
  },
  {
   "cell_type": "code",
   "execution_count": 35,
   "id": "fc670c84",
   "metadata": {},
   "outputs": [
    {
     "data": {
      "image/png": "[encoded data removed]",
      "text/plain": [
       "<Figure size 1080x432 with 2 Axes>"
      ]
     },
     "metadata": {
      "needs_background": "light"
     },
     "output_type": "display_data"
    }
   ],
   "source": [
    "calls_out_duration = (data.query('user_spec == \"out\" and direction == \"out\" and is_missed_call == False')\n",
    "             .groupby('operator_id').agg({'call_duration':'sum', 'calls_count':'sum'})\n",
    "            )\n",
    "calls_out_duration['call_med_duration'] = calls_out_duration['call_duration'] / calls_out_duration['calls_count']\n",
    "\n",
    "distr_plot(calls_out_duration['call_med_duration'],\n",
    "           'Распределение операторов по продолжительности разговора при исходящем звонке',\n",
    "           'Средняя подолжительность звонка')"
   ]
  },
  {
   "cell_type": "code",
   "execution_count": 36,
   "id": "64aee04d",
   "metadata": {},
   "outputs": [
    {
     "name": "stdout",
     "output_type": "stream",
     "text": [
      "10% операторов удерживают разговор при исходящем вызове в среднем менее 37 сек\n"
     ]
    }
   ],
   "source": [
    "percentile=10\n",
    "\n",
    "calls_out_duration_limit=round(np.percentile(calls_out_duration['call_med_duration'], percentile))\n",
    "\n",
    "print(f'{percentile}% операторов удерживают разговор при исходящем вызове в среднем менее {calls_out_duration_limit} сек')"
   ]
  },
  {
   "cell_type": "markdown",
   "id": "4b462cd7",
   "metadata": {},
   "source": [
    "Выведем сводную информацию о порогах неэффективности:"
   ]
  },
  {
   "cell_type": "code",
   "execution_count": 37,
   "id": "fa2538b5",
   "metadata": {},
   "outputs": [
    {
     "name": "stdout",
     "output_type": "stream",
     "text": [
      "Для входящих: порог по средней доле пропущенных вызовов в день, не более: 0.07\n",
      "Для входящих: порог по среднему времени ожидания ответа на вызов, сек не более: 32\n",
      "Для исходящих: порог по исходящим вызовам в день, не менее: 3\n",
      "Для исходящих: порог срдней продолжительности разговора, не менее: 37\n"
     ]
    }
   ],
   "source": [
    "print('Для входящих: порог по средней доле пропущенных вызовов в день, не более:', missed_calls_limit)\n",
    "print('Для входящих: порог по среднему времени ожидания ответа на вызов, сек не более:', med_wait_time_limit)\n",
    "print('Для исходящих: порог по исходящим вызовам в день, не менее:', calls_out_limit)\n",
    "print('Для исходящих: порог срдней продолжительности разговора, не менее:', calls_out_duration_limit)"
   ]
  },
  {
   "cell_type": "markdown",
   "id": "8ff06f3d",
   "metadata": {},
   "source": [
    "### Сбор датафрейма с показателями операторов, определение неэффективных операторов <a class=\"anchor\" id=\"data_analyse_3\"></a>"
   ]
  },
  {
   "cell_type": "markdown",
   "id": "7ea6487f",
   "metadata": {},
   "source": [
    "Поскольку в датасете присутствует большая доля клиентов, где количество входящих и исходящих вызовов сопоставимо, это вызывает определённые трудности с индивидуализацией подхода к оценке эффективности операторов исходя из специализации колл-центра.\n",
    "\n",
    "В одном колл-центре могут работать операторы с разной ролью - как совершать исходящие звонки, так и принимать входящие.\n",
    "\n",
    "Соберём показатели эффективности по всем операторам, определим их роль (работают ли они на входящих или исходящих звонках) и далее оценим их эффективность исходя из их роли, а если её определить невозможно - исходя из специализации колл-центра."
   ]
  },
  {
   "cell_type": "markdown",
   "id": "43bbf62d",
   "metadata": {},
   "source": [
    "Напишем функцию для формирования таблицы с показателями эффективности операторов. В таблицу войдут:\n",
    "* все указанные ранее показатели эффективности, но рассчитанные по каждому оператору, без привязки к специализации колл-центра;\n",
    "* id колл-центра оператора;\n",
    "* доля входящих вызовов среди всех состоявшихся вызовов, как показатель специализации оператора."
   ]
  },
  {
   "cell_type": "code",
   "execution_count": 38,
   "id": "7a1b069e",
   "metadata": {},
   "outputs": [],
   "source": [
    "def create_ops_tab(data_calls):\n",
    "    '''\n",
    "        Функция принимает датафрейм с данными звонков и возвращает датафрейм с показателями эффективности операторов.\n",
    "        \n",
    "        Поля возвращаемого датафрейма:\n",
    "        operator_id (index) - id оператора\n",
    "        user_id - id колл-центра\n",
    "        frac_in_out - доля входящих вызовов (показатель специализации оператора)\n",
    "        missed_frac_per_day - доля пропущенных входящих вызовов в день\n",
    "        waiting_time - среднее время ожидания входящего звонка\n",
    "        calls_per_date - среднее количество исходящих звонков в день\n",
    "        calls_missed - количество пропущенных входящих вызовов в день\n",
    "        call_med_duration - средняя продолжительность разговора для исходящих звонков\n",
    "        \n",
    "    '''\n",
    "\n",
    "    #Количество пропущенных входящих вызовов в день\n",
    "    calls_missed = (data_calls.query('operator_id != 0 and direction == \"in\"')\n",
    "                    .groupby(['operator_id','is_missed_call'], as_index=False)\n",
    "                    .agg({'date':'nunique','calls_count':'sum'})\n",
    "                   )\n",
    "    calls_missed['calls_per_day'] = calls_missed['calls_count'] / calls_missed['date']\n",
    "    calls_missed = calls_missed.pivot_table(index='operator_id', columns='is_missed_call', values='calls_per_day').fillna(0)\n",
    "    calls_missed.columns = ['non_missed_per_day', 'missed_per_day']\n",
    "    calls_missed['missed_frac_per_day'] = (calls_missed['missed_per_day'] / \n",
    "                                          (calls_missed['missed_per_day'] + \n",
    "                                           calls_missed['non_missed_per_day']))\n",
    "    calls_missed.drop(['non_missed_per_day', 'missed_per_day'], axis=1, inplace=True)\n",
    "\n",
    "    #Среднее время ожидания ответа на звонок для входящих вызовов\n",
    "    med_wait_time = (data_calls.query('operator_id != 0 and direction == \"in\" and is_missed_call == False')\n",
    "                     .groupby('operator_id').agg({'call_waiting_time':'sum', 'calls_count':'sum'})\n",
    "                    )\n",
    "    med_wait_time['waiting_time'] = med_wait_time['call_waiting_time'] / med_wait_time['calls_count']\n",
    "    med_wait_time.drop(['call_waiting_time', 'calls_count'], axis=1, inplace=True)\n",
    "\n",
    "    #Количество состоявшихся исходящих вызовов в день\n",
    "    calls_out = (data_calls.query('operator_id != 0 and direction == \"out\" and is_missed_call == False')\n",
    "                 .groupby('operator_id').agg({'date':'nunique', 'calls_count':'sum'})\n",
    "                )\n",
    "    calls_out['calls_per_date'] = (calls_out['calls_count'] / calls_out['date'])\n",
    "    calls_out.drop(['date', 'calls_count'], axis=1, inplace=True)\n",
    "    \n",
    "    #Средняя продолжительность разговора исходящего звонка\n",
    "    calls_out_duration = (data_calls.query('operator_id != 0 and direction == \"out\" and is_missed_call == False')\n",
    "                          .groupby('operator_id').agg({'call_duration':'sum', 'calls_count':'sum'})\n",
    "                         )\n",
    "    calls_out_duration['call_med_duration'] = calls_out_duration['call_duration'] / calls_out_duration['calls_count']\n",
    "    calls_out_duration.drop(['call_duration', 'calls_count'], axis=1, inplace=True)\n",
    "    \n",
    "    #Доля входящих вызовов\n",
    "    calls_in_out = (data_calls.query('operator_id != 0 and is_missed_call == False').pivot_table(index='operator_id',\n",
    "                                                                       columns='direction',\n",
    "                                                                       values='calls_count',\n",
    "                                                                       aggfunc='sum').fillna(0)\n",
    "                    )\n",
    "    calls_in_out['frac_in_out'] = calls_in_out['in'] / (calls_in_out['in'] + calls_in_out['out'])\n",
    "    calls_in_out.drop(['in', 'out'], axis=1, inplace=True)\n",
    "    calls_in_out.columns = ['frac_in_out']\n",
    "\n",
    "    #id колл-ценра\n",
    "    operators = data_calls.query('operator_id != 0').groupby('operator_id').agg({'user_id':'first'})\n",
    "\n",
    "    #объединение в единую таблицу\n",
    "    operators_ind = (operators.join(calls_in_out)\n",
    "                 .join(calls_missed)\n",
    "                 .join(med_wait_time)\n",
    "                 .join(calls_out)\n",
    "                 .join(calls_out_duration)\n",
    "                )\n",
    "    \n",
    "    return(operators_ind)"
   ]
  },
  {
   "cell_type": "code",
   "execution_count": 39,
   "id": "e41e3d46",
   "metadata": {},
   "outputs": [
    {
     "data": {
      "text/html": [
       "<div>\n",
       "<style scoped>\n",
       "    .dataframe tbody tr th:only-of-type {\n",
       "        vertical-align: middle;\n",
       "    }\n",
       "\n",
       "    .dataframe tbody tr th {\n",
       "        vertical-align: top;\n",
       "    }\n",
       "\n",
       "    .dataframe thead th {\n",
       "        text-align: right;\n",
       "    }\n",
       "</style>\n",
       "<table border=\"1\" class=\"dataframe\">\n",
       "  <thead>\n",
       "    <tr style=\"text-align: right;\">\n",
       "      <th></th>\n",
       "      <th>user_id</th>\n",
       "      <th>frac_in_out</th>\n",
       "      <th>missed_frac_per_day</th>\n",
       "      <th>waiting_time</th>\n",
       "      <th>calls_per_date</th>\n",
       "      <th>call_med_duration</th>\n",
       "    </tr>\n",
       "    <tr>\n",
       "      <th>operator_id</th>\n",
       "      <th></th>\n",
       "      <th></th>\n",
       "      <th></th>\n",
       "      <th></th>\n",
       "      <th></th>\n",
       "      <th></th>\n",
       "    </tr>\n",
       "  </thead>\n",
       "  <tbody>\n",
       "    <tr>\n",
       "      <th>879896</th>\n",
       "      <td>166406</td>\n",
       "      <td>0.085420</td>\n",
       "      <td>0.0</td>\n",
       "      <td>9.896552</td>\n",
       "      <td>13.800000</td>\n",
       "      <td>93.793881</td>\n",
       "    </tr>\n",
       "    <tr>\n",
       "      <th>879898</th>\n",
       "      <td>166406</td>\n",
       "      <td>0.020800</td>\n",
       "      <td>0.0</td>\n",
       "      <td>16.242718</td>\n",
       "      <td>61.379747</td>\n",
       "      <td>51.771087</td>\n",
       "    </tr>\n",
       "    <tr>\n",
       "      <th>880020</th>\n",
       "      <td>166377</td>\n",
       "      <td>0.304348</td>\n",
       "      <td>0.0</td>\n",
       "      <td>7.714286</td>\n",
       "      <td>2.666667</td>\n",
       "      <td>121.625000</td>\n",
       "    </tr>\n",
       "    <tr>\n",
       "      <th>880022</th>\n",
       "      <td>166377</td>\n",
       "      <td>0.086957</td>\n",
       "      <td>0.0</td>\n",
       "      <td>14.000000</td>\n",
       "      <td>2.545455</td>\n",
       "      <td>174.226190</td>\n",
       "    </tr>\n",
       "    <tr>\n",
       "      <th>880026</th>\n",
       "      <td>166377</td>\n",
       "      <td>0.015152</td>\n",
       "      <td>0.0</td>\n",
       "      <td>5.958333</td>\n",
       "      <td>20.259740</td>\n",
       "      <td>97.268590</td>\n",
       "    </tr>\n",
       "  </tbody>\n",
       "</table>\n",
       "</div>"
      ],
      "text/plain": [
       "             user_id  frac_in_out  missed_frac_per_day  waiting_time  \\\n",
       "operator_id                                                            \n",
       "879896        166406     0.085420                  0.0      9.896552   \n",
       "879898        166406     0.020800                  0.0     16.242718   \n",
       "880020        166377     0.304348                  0.0      7.714286   \n",
       "880022        166377     0.086957                  0.0     14.000000   \n",
       "880026        166377     0.015152                  0.0      5.958333   \n",
       "\n",
       "             calls_per_date  call_med_duration  \n",
       "operator_id                                     \n",
       "879896            13.800000          93.793881  \n",
       "879898            61.379747          51.771087  \n",
       "880020             2.666667         121.625000  \n",
       "880022             2.545455         174.226190  \n",
       "880026            20.259740          97.268590  "
      ]
     },
     "execution_count": 39,
     "metadata": {},
     "output_type": "execute_result"
    }
   ],
   "source": [
    "ops_tab = create_ops_tab(data)\n",
    "ops_tab.head()"
   ]
  },
  {
   "cell_type": "markdown",
   "id": "8033cbe4",
   "metadata": {},
   "source": [
    "Чтобы определить набор критериев для оценки эффективности (для входящих вызовов или исходящих), определим специализацию операторов, внесём эту информацию в отдельный столбец **op_spec**:\n",
    "* до 35% включительно входящих вызовов - оцениваем исходя из критериев эффективности для исходящих вызовов (значение **out**)\n",
    "* от 65% и выше входящих вызовов - оцениваем исходя из критериев для входящих вызовов (значение **in**)\n",
    "* Если специализация оператора не очевидна - в зависимости от специализации колл-центра.\n",
    "* Если специализация колл-центра не определена- применяем критерии для входящих звонков.  "
   ]
  },
  {
   "cell_type": "code",
   "execution_count": 40,
   "id": "f9cefd00",
   "metadata": {},
   "outputs": [],
   "source": [
    "def ops_type_definition(ops_df, clients_df, percent=35):\n",
    "\n",
    "    '''Функция возвращает датафрейм с id оператора и его специализацией op_spec по условию:\n",
    "        Если входящих вызовов до <percent>% включительно - значение \"out\"\n",
    "        Если входящих вызовов от 100-<percent>% включительно - значение \"in\"\n",
    "        В остальных случаях - значение поля со специализацией колл-центра (\"in\"/\"out\")\n",
    "        Если специализация колл-центра тоже не определена - значение \"in\"\n",
    "    \n",
    "        Параметры: \n",
    "\n",
    "        ops_df: датафрейм с id оператора в индексе, полем id колл-центра 'user_id' и полем с долей входящих звонков 'frac_in_out'\n",
    "        clients_df: датафрейм с id колл-центра в индексе и полем 'user_spec' со специализацией колл-центра\n",
    "        percent=35: пороговое значение процента входящих вызовов для определения специализации оператора  \n",
    "    '''\n",
    "    \n",
    "    ops_df = (ops_df[['user_id', 'frac_in_out']]\n",
    "              .join(clients_df.query('user_spec in [\"in\", \"out\"]'), \n",
    "                    on='user_id', \n",
    "                    how='left')\n",
    "             )\n",
    "    ops_df['op_spec'] = np.where(ops_df['frac_in_out']<=percent/100, 'out',\n",
    "                                np.where(ops_df['frac_in_out']>=1-percent/100, 'in', None))\n",
    "    ops_df.loc[ops_df['op_spec'].isna(), 'op_spec'] = ops_df.loc[ops_df['op_spec'].isna(), 'user_spec']\n",
    "    ops_df['op_spec'].fillna('in', inplace=True)\n",
    "    \n",
    "    return ops_df.drop(['user_id', 'frac_in_out', 'user_spec'], axis=1)"
   ]
  },
  {
   "cell_type": "code",
   "execution_count": 41,
   "id": "6a528e0d",
   "metadata": {},
   "outputs": [
    {
     "data": {
      "text/html": [
       "<div>\n",
       "<style scoped>\n",
       "    .dataframe tbody tr th:only-of-type {\n",
       "        vertical-align: middle;\n",
       "    }\n",
       "\n",
       "    .dataframe tbody tr th {\n",
       "        vertical-align: top;\n",
       "    }\n",
       "\n",
       "    .dataframe thead th {\n",
       "        text-align: right;\n",
       "    }\n",
       "</style>\n",
       "<table border=\"1\" class=\"dataframe\">\n",
       "  <thead>\n",
       "    <tr style=\"text-align: right;\">\n",
       "      <th></th>\n",
       "      <th>user_id</th>\n",
       "      <th>frac_in_out</th>\n",
       "      <th>missed_frac_per_day</th>\n",
       "      <th>waiting_time</th>\n",
       "      <th>calls_per_date</th>\n",
       "      <th>call_med_duration</th>\n",
       "      <th>op_spec</th>\n",
       "    </tr>\n",
       "    <tr>\n",
       "      <th>operator_id</th>\n",
       "      <th></th>\n",
       "      <th></th>\n",
       "      <th></th>\n",
       "      <th></th>\n",
       "      <th></th>\n",
       "      <th></th>\n",
       "      <th></th>\n",
       "    </tr>\n",
       "  </thead>\n",
       "  <tbody>\n",
       "    <tr>\n",
       "      <th>879896</th>\n",
       "      <td>166406</td>\n",
       "      <td>0.085420</td>\n",
       "      <td>0.0</td>\n",
       "      <td>9.896552</td>\n",
       "      <td>13.800000</td>\n",
       "      <td>93.793881</td>\n",
       "      <td>out</td>\n",
       "    </tr>\n",
       "    <tr>\n",
       "      <th>879898</th>\n",
       "      <td>166406</td>\n",
       "      <td>0.020800</td>\n",
       "      <td>0.0</td>\n",
       "      <td>16.242718</td>\n",
       "      <td>61.379747</td>\n",
       "      <td>51.771087</td>\n",
       "      <td>out</td>\n",
       "    </tr>\n",
       "    <tr>\n",
       "      <th>880020</th>\n",
       "      <td>166377</td>\n",
       "      <td>0.304348</td>\n",
       "      <td>0.0</td>\n",
       "      <td>7.714286</td>\n",
       "      <td>2.666667</td>\n",
       "      <td>121.625000</td>\n",
       "      <td>out</td>\n",
       "    </tr>\n",
       "    <tr>\n",
       "      <th>880022</th>\n",
       "      <td>166377</td>\n",
       "      <td>0.086957</td>\n",
       "      <td>0.0</td>\n",
       "      <td>14.000000</td>\n",
       "      <td>2.545455</td>\n",
       "      <td>174.226190</td>\n",
       "      <td>out</td>\n",
       "    </tr>\n",
       "    <tr>\n",
       "      <th>880026</th>\n",
       "      <td>166377</td>\n",
       "      <td>0.015152</td>\n",
       "      <td>0.0</td>\n",
       "      <td>5.958333</td>\n",
       "      <td>20.259740</td>\n",
       "      <td>97.268590</td>\n",
       "      <td>out</td>\n",
       "    </tr>\n",
       "  </tbody>\n",
       "</table>\n",
       "</div>"
      ],
      "text/plain": [
       "             user_id  frac_in_out  missed_frac_per_day  waiting_time  \\\n",
       "operator_id                                                            \n",
       "879896        166406     0.085420                  0.0      9.896552   \n",
       "879898        166406     0.020800                  0.0     16.242718   \n",
       "880020        166377     0.304348                  0.0      7.714286   \n",
       "880022        166377     0.086957                  0.0     14.000000   \n",
       "880026        166377     0.015152                  0.0      5.958333   \n",
       "\n",
       "             calls_per_date  call_med_duration op_spec  \n",
       "operator_id                                             \n",
       "879896            13.800000          93.793881     out  \n",
       "879898            61.379747          51.771087     out  \n",
       "880020             2.666667         121.625000     out  \n",
       "880022             2.545455         174.226190     out  \n",
       "880026            20.259740          97.268590     out  "
      ]
     },
     "execution_count": 41,
     "metadata": {},
     "output_type": "execute_result"
    }
   ],
   "source": [
    "ops_tab = ops_tab.join(ops_type_definition(ops_tab, user_spec_definition(data, percent=30), percent=35), how='left')\n",
    "ops_tab.head()"
   ]
  },
  {
   "cell_type": "markdown",
   "id": "a04e6c61",
   "metadata": {},
   "source": [
    "Датафрейм с данными, необходимыми для определения неэффективных операторов, собран. "
   ]
  },
  {
   "cell_type": "markdown",
   "id": "efb00d8a",
   "metadata": {},
   "source": [
    "Пометим неэффективных операторов в отдельном булевом столбце **inefficient**.\n",
    "\n",
    "Будем считать оператора неэффективным, если хотя бы один его показатель в соответствии со специализацией выходит за пороговое значение. Пороговые значения критериев эффективности определены нами ранее."
   ]
  },
  {
   "cell_type": "code",
   "execution_count": 48,
   "id": "3b30daff",
   "metadata": {},
   "outputs": [
    {
     "data": {
      "text/html": [
       "<div>\n",
       "<style scoped>\n",
       "    .dataframe tbody tr th:only-of-type {\n",
       "        vertical-align: middle;\n",
       "    }\n",
       "\n",
       "    .dataframe tbody tr th {\n",
       "        vertical-align: top;\n",
       "    }\n",
       "\n",
       "    .dataframe thead th {\n",
       "        text-align: right;\n",
       "    }\n",
       "</style>\n",
       "<table border=\"1\" class=\"dataframe\">\n",
       "  <thead>\n",
       "    <tr style=\"text-align: right;\">\n",
       "      <th></th>\n",
       "      <th>user_id</th>\n",
       "      <th>frac_in_out</th>\n",
       "      <th>missed_frac_per_day</th>\n",
       "      <th>waiting_time</th>\n",
       "      <th>calls_per_date</th>\n",
       "      <th>call_med_duration</th>\n",
       "      <th>op_spec</th>\n",
       "      <th>inefficient</th>\n",
       "    </tr>\n",
       "    <tr>\n",
       "      <th>operator_id</th>\n",
       "      <th></th>\n",
       "      <th></th>\n",
       "      <th></th>\n",
       "      <th></th>\n",
       "      <th></th>\n",
       "      <th></th>\n",
       "      <th></th>\n",
       "      <th></th>\n",
       "    </tr>\n",
       "  </thead>\n",
       "  <tbody>\n",
       "    <tr>\n",
       "      <th>879896</th>\n",
       "      <td>166406</td>\n",
       "      <td>0.085420</td>\n",
       "      <td>0.0</td>\n",
       "      <td>9.896552</td>\n",
       "      <td>13.800000</td>\n",
       "      <td>93.793881</td>\n",
       "      <td>out</td>\n",
       "      <td>False</td>\n",
       "    </tr>\n",
       "    <tr>\n",
       "      <th>879898</th>\n",
       "      <td>166406</td>\n",
       "      <td>0.020800</td>\n",
       "      <td>0.0</td>\n",
       "      <td>16.242718</td>\n",
       "      <td>61.379747</td>\n",
       "      <td>51.771087</td>\n",
       "      <td>out</td>\n",
       "      <td>False</td>\n",
       "    </tr>\n",
       "    <tr>\n",
       "      <th>880020</th>\n",
       "      <td>166377</td>\n",
       "      <td>0.304348</td>\n",
       "      <td>0.0</td>\n",
       "      <td>7.714286</td>\n",
       "      <td>2.666667</td>\n",
       "      <td>121.625000</td>\n",
       "      <td>out</td>\n",
       "      <td>True</td>\n",
       "    </tr>\n",
       "    <tr>\n",
       "      <th>880022</th>\n",
       "      <td>166377</td>\n",
       "      <td>0.086957</td>\n",
       "      <td>0.0</td>\n",
       "      <td>14.000000</td>\n",
       "      <td>2.545455</td>\n",
       "      <td>174.226190</td>\n",
       "      <td>out</td>\n",
       "      <td>True</td>\n",
       "    </tr>\n",
       "    <tr>\n",
       "      <th>880026</th>\n",
       "      <td>166377</td>\n",
       "      <td>0.015152</td>\n",
       "      <td>0.0</td>\n",
       "      <td>5.958333</td>\n",
       "      <td>20.259740</td>\n",
       "      <td>97.268590</td>\n",
       "      <td>out</td>\n",
       "      <td>False</td>\n",
       "    </tr>\n",
       "  </tbody>\n",
       "</table>\n",
       "</div>"
      ],
      "text/plain": [
       "             user_id  frac_in_out  missed_frac_per_day  waiting_time  \\\n",
       "operator_id                                                            \n",
       "879896        166406     0.085420                  0.0      9.896552   \n",
       "879898        166406     0.020800                  0.0     16.242718   \n",
       "880020        166377     0.304348                  0.0      7.714286   \n",
       "880022        166377     0.086957                  0.0     14.000000   \n",
       "880026        166377     0.015152                  0.0      5.958333   \n",
       "\n",
       "             calls_per_date  call_med_duration op_spec  inefficient  \n",
       "operator_id                                                          \n",
       "879896            13.800000          93.793881     out        False  \n",
       "879898            61.379747          51.771087     out        False  \n",
       "880020             2.666667         121.625000     out         True  \n",
       "880022             2.545455         174.226190     out         True  \n",
       "880026            20.259740          97.268590     out        False  "
      ]
     },
     "execution_count": 48,
     "metadata": {},
     "output_type": "execute_result"
    }
   ],
   "source": [
    "ops_tab['inefficient'] = np.where((ops_tab['missed_frac_per_day']>missed_calls_limit)&(ops_tab['op_spec'] == \"in\"), True, \n",
    "                        np.where((ops_tab['waiting_time']>med_wait_time_limit)&(ops_tab['op_spec'] == \"in\"), True,\n",
    "                        np.where((ops_tab['calls_per_date']<calls_out_limit)&(ops_tab['op_spec'] == \"out\"), True,\n",
    "                        np.where((ops_tab['call_med_duration']<calls_out_duration_limit)&(ops_tab['op_spec'] == \"out\"), True,\n",
    "                        False))))\n",
    "ops_tab.head()"
   ]
  },
  {
   "cell_type": "markdown",
   "id": "b427f623",
   "metadata": {},
   "source": [
    "Неэффективные операторы определены. Посмотрим на их долю и на распределение по колл-центрам:"
   ]
  },
  {
   "cell_type": "code",
   "execution_count": 49,
   "id": "6b685d9f",
   "metadata": {},
   "outputs": [
    {
     "data": {
      "image/png": "[encoded data removed]",
      "text/plain": [
       "<Figure size 1080x360 with 2 Axes>"
      ]
     },
     "metadata": {
      "needs_background": "light"
     },
     "output_type": "display_data"
    }
   ],
   "source": [
    "users_ops_eff = ops_tab.reset_index().groupby('user_id').agg({'operator_id':'nunique','inefficient':'sum'})\n",
    "users_ops_eff['inefficient_coef'] = users_ops_eff['inefficient'] / users_ops_eff['operator_id']\n",
    "users_ops_eff.columns=['ops_all', 'ops_inefficient', 'inefficient_coef']\n",
    "\n",
    "plt.figure(figsize=(15,5))\n",
    "plt.subplot(1,2,1)\n",
    "plt.pie([ops_tab['inefficient'].sum(), len(ops_tab.query('inefficient == False')['inefficient'])], labels=['Неэффективные', 'Нормальная эффективность'], colors=['orange','green'], autopct='%.0f%%')\n",
    "plt.title('Доля неэффективных среди всех операторов')\n",
    "plt.grid(True)\n",
    "plt.subplot(1,2,2)\n",
    "sns.boxplot(x=users_ops_eff.query('inefficient_coef > 0 and ops_all >= 3')['inefficient_coef'])\n",
    "plt.title('Распределение КЦ с штатом от 3 операторов по доле неэффективных операторов')\n",
    "plt.xlabel('Доля неэффективных операторов')\n",
    "plt.grid()\n",
    "plt.show()"
   ]
  },
  {
   "cell_type": "markdown",
   "id": "2ca3fbba",
   "metadata": {},
   "source": [
    "Четверть всех операторов определены как неэффективные. В большей части колл-центров, где в штате присутствуют неэффективные операторы и сам штат от 3 операторов, доля неэффективных операторов от 30% до 50%."
   ]
  },
  {
   "cell_type": "markdown",
   "id": "e0ceddda",
   "metadata": {},
   "source": [
    "### Определение потенциальных клиентов сервиса <a class=\"anchor\" id=\"data_analyse_4\"></a>"
   ]
  },
  {
   "cell_type": "markdown",
   "id": "42a86d5d",
   "metadata": {},
   "source": [
    "Определим, среди каких клиентов сервис может быть наиболее востребован."
   ]
  },
  {
   "cell_type": "markdown",
   "id": "d3b00ba5",
   "metadata": {},
   "source": [
    "Будем считать, что потенциальные клиенты сервиса обладают следующими характеристиками:\n",
    "\n",
    "* имеют в штате неэффективных оераторов\n",
    "* количество операторов в штате - от трёх и выше\n",
    "* средняя нагрузка на колл-центр - от 10 состоявшихся разговоров в день"
   ]
  },
  {
   "cell_type": "markdown",
   "id": "f5b4f127",
   "metadata": {},
   "source": [
    "Выведем информацию по соответствию колл-центров вышеназваным критериям:"
   ]
  },
  {
   "cell_type": "code",
   "execution_count": 50,
   "id": "d6da27f0",
   "metadata": {},
   "outputs": [
    {
     "data": {
      "text/html": [
       "<div>\n",
       "<style scoped>\n",
       "    .dataframe tbody tr th:only-of-type {\n",
       "        vertical-align: middle;\n",
       "    }\n",
       "\n",
       "    .dataframe tbody tr th {\n",
       "        vertical-align: top;\n",
       "    }\n",
       "\n",
       "    .dataframe thead th {\n",
       "        text-align: right;\n",
       "    }\n",
       "</style>\n",
       "<table border=\"1\" class=\"dataframe\">\n",
       "  <thead>\n",
       "    <tr style=\"text-align: right;\">\n",
       "      <th></th>\n",
       "      <th>user_id</th>\n",
       "      <th>ineff_ops</th>\n",
       "      <th>many_ops</th>\n",
       "      <th>many_day_calls</th>\n",
       "      <th>total_interest</th>\n",
       "    </tr>\n",
       "  </thead>\n",
       "  <tbody>\n",
       "    <tr>\n",
       "      <th>0</th>\n",
       "      <td>166713</td>\n",
       "      <td>0</td>\n",
       "      <td>1</td>\n",
       "      <td>0</td>\n",
       "      <td>1</td>\n",
       "    </tr>\n",
       "    <tr>\n",
       "      <th>1</th>\n",
       "      <td>166901</td>\n",
       "      <td>1</td>\n",
       "      <td>1</td>\n",
       "      <td>1</td>\n",
       "      <td>3</td>\n",
       "    </tr>\n",
       "    <tr>\n",
       "      <th>2</th>\n",
       "      <td>168527</td>\n",
       "      <td>0</td>\n",
       "      <td>0</td>\n",
       "      <td>0</td>\n",
       "      <td>0</td>\n",
       "    </tr>\n",
       "    <tr>\n",
       "      <th>3</th>\n",
       "      <td>167097</td>\n",
       "      <td>0</td>\n",
       "      <td>0</td>\n",
       "      <td>0</td>\n",
       "      <td>0</td>\n",
       "    </tr>\n",
       "    <tr>\n",
       "      <th>4</th>\n",
       "      <td>168193</td>\n",
       "      <td>0</td>\n",
       "      <td>1</td>\n",
       "      <td>1</td>\n",
       "      <td>2</td>\n",
       "    </tr>\n",
       "  </tbody>\n",
       "</table>\n",
       "</div>"
      ],
      "text/plain": [
       "   user_id  ineff_ops  many_ops  many_day_calls  total_interest\n",
       "0   166713          0         1               0               1\n",
       "1   166901          1         1               1               3\n",
       "2   168527          0         0               0               0\n",
       "3   167097          0         0               0               0\n",
       "4   168193          0         1               1               2"
      ]
     },
     "execution_count": 50,
     "metadata": {},
     "output_type": "execute_result"
    }
   ],
   "source": [
    "\n",
    "\n",
    "#список КЦ, имеющих в штате неэффективных операторов\n",
    "users_with_ineff_ops = users_ops_eff.query('inefficient_coef > 0').index\n",
    "\n",
    "#список КЦ, имеющих в штате от трёх и выше операторов за исследуемый период\n",
    "users_with_many_ops = data.groupby('user_id', as_index=False)['operator_id'].nunique().query('operator_id >= 3')['user_id']\n",
    "\n",
    "#список КЦ со средней нагрузкой на КЦ от 10 разговоров в день\n",
    "users_with_many_day_calls = client_day_calls_mean[client_day_calls_mean >= 10].index\n",
    "\n",
    "#Собираем в датафрейм\n",
    "users_with_interest = pd.DataFrame({'user_id':clients['user_id'],\n",
    "                                   'ineff_ops':np.where(clients['user_id'].isin(users_with_ineff_ops), 1, 0),\n",
    "                                   'many_ops':np.where(clients['user_id'].isin(users_with_many_ops), 1, 0),\n",
    "                                   'many_day_calls':np.where(clients['user_id'].isin(users_with_many_day_calls), 1, 0)})\n",
    "\n",
    "users_with_interest['total_interest'] =  (users_with_interest['ineff_ops'] +\n",
    "                                         users_with_interest['many_ops'] + \n",
    "                                         users_with_interest['many_day_calls'])\n",
    "users_with_interest.head()"
   ]
  },
  {
   "cell_type": "code",
   "execution_count": 51,
   "id": "41e352d3",
   "metadata": {
    "scrolled": false
   },
   "outputs": [
    {
     "data": {
      "image/png": "[encoded data removed]",
      "text/plain": [
       "<Figure size 1080x720 with 4 Axes>"
      ]
     },
     "metadata": {},
     "output_type": "display_data"
    }
   ],
   "source": [
    "users_interest = users_with_interest.groupby('total_interest')['user_id'].count()\n",
    "users_with_interest.groupby('many_ops')['many_ops'].count()\n",
    "\n",
    "plt.figure(figsize=(15,10))\n",
    "\n",
    "plt.subplot(2,3,4)\n",
    "plt.pie([len(users_ops_eff.query('inefficient_coef==0')), \n",
    "         len(users_ops_eff.query('inefficient_coef>0'))], \n",
    "        labels=['Нет неэффективных', 'Есть нэффективные'],\n",
    "        autopct='%.0f%%')\n",
    "plt.title('Доля клиентов c неэффективными операторами', size=14)\n",
    "\n",
    "plt.subplot(2,3,5)\n",
    "plt.pie([len(users_with_interest.query('many_ops == 0')),\n",
    "         len(users_with_interest.query('many_ops == 1'))],\n",
    "        labels=['В штате менее 3 операторов', 'В штате от 3 операторов'], \n",
    "        autopct='%.0f%%')\n",
    "plt.title('Доля клиентов с штатом от 3 операторов', size=14)\n",
    "\n",
    "plt.subplot(2,3,6)\n",
    "plt.pie([len(users_with_interest.query('many_day_calls == 0')),\n",
    "         len(users_with_interest.query('many_day_calls == 1'))],\n",
    "        labels=['В КЦ менее 10 разговоров в день', 'В КЦ более 10 разговоров в день'],\n",
    "        autopct='%.0f%%')\n",
    "plt.title('Доля клиентов, где в день более 10 звонков', size=14)\n",
    "\n",
    "plt.subplot(2,1,1)\n",
    "plt.pie(users_interest, labels=['Потенциально не заинтересованы',\n",
    "                                'Потенциально заинтересованы по одному критерию',\n",
    "                                'Потенциально заинтересованы по двум критериям',\n",
    "                                'Потенциально заинтересованы по трём критериям'], autopct='%.0f%%')\n",
    "plt.title('Доли клиентов по уровню потенциальной заинтересованности', size=14)\n",
    "\n",
    "plt.tight_layout()\n",
    "    \n",
    "plt.show()"
   ]
  },
  {
   "cell_type": "code",
   "execution_count": 52,
   "id": "c3fe581b",
   "metadata": {},
   "outputs": [
    {
     "data": {
      "text/plain": [
       "many_ops\n",
       "0    549\n",
       "1    183\n",
       "Name: many_ops, dtype: int64"
      ]
     },
     "execution_count": 52,
     "metadata": {},
     "output_type": "execute_result"
    }
   ],
   "source": [
    "users_with_interest.groupby('many_ops')['many_ops'].count()"
   ]
  },
  {
   "cell_type": "markdown",
   "id": "aea6a442",
   "metadata": {},
   "source": [
    "Получены следующие результаты:\n",
    "    \n",
    "* Неэффеективные операторы определены в 46% колл-центров;\n",
    "* Штат, состоящий из не менее 3 операторов - у 25% колл-центров;\n",
    "* Доля колл-центров, где в день совершается более 10 звонков, составляет 16%\n",
    "\n",
    "При этом одним из вышеназванных признаков обладает 9% клиентов, двумя - 13%, тремя - 8%.\n",
    "\n",
    "Всего доля потенциальных клиентов, которая обладает хотя бы одним признаком потенциальной заинтересованности в сервисе - 30%"
   ]
  },
  {
   "cell_type": "markdown",
   "id": "4d30b1da",
   "metadata": {},
   "source": [
    "### Итоги исследовательского анализа <a class=\"anchor\" id=\"itogi_eda\"></a>"
   ]
  },
  {
   "cell_type": "markdown",
   "id": "d9a88c69",
   "metadata": {},
   "source": [
    "**Общая информация:**\n",
    "\n",
    "1. Данные собраны за период с 2 августа по 28 ноября 2019г. \n",
    "2. Количество колл-центров, пользовавшихся услугами: 306. Количество операторов, совершавших и принимавших вызовы: 1093\n",
    "3. В 90% колл-центров штат операторов не превышает 8, также в 90% колл-центров совершено/принято не более 65 вызовов в день\n",
    "4. По специализация колл-центры распределились следующим образом:\n",
    "* 41% специализируются на входящих вызовах (у них более 70% входящих вызовов)\n",
    "* 32% специализируются на исходящих вызовах (у них более 70% исходящих вызовов)\n",
    "* 21% совершают входящие и исходящие звонки примерно в равной степени\n",
    "* в 6% колл-центров не совершалось внешних звонков за исследуемый период.\n",
    "\n",
    "**Признаки неэффективности и пороги**\n",
    "\n",
    "1. Средняя доля пропущенных вызовов в день: порог эффективности определён на уровне не более 22% пропущенных вызовов для операторов, специализирующихся на входящих вызовах.\n",
    "2. Среднее время ожидания ответа на вызов: не более 32 секунд для операторов, специализирующихся на входящих вызовах\n",
    "3. Количество исходящих вызовов в день: не менее 3, установлен для операторов, специализирующихся на исходящих вызовах.\n",
    "4. Средняя продолжительность разговора: не менее 37 секунда, установлен для операторов, специализирующихся на исходящих вызовах.\n",
    "\n",
    "**Результаты анализа эффективности операторов**\n",
    "\n",
    "1. Четверть всех операторов определены как неэффективные.Такие операторы определены в 46% колл-центров.\n",
    "2. Доля неэффективных операторов в большинстве колл-центров, где такие операторы есть - от 30% до 50%.\n",
    "\n",
    "**Колл-центры, потенциально заинтересованные в новом сервисе**\n",
    "1. Неэффеективные операторы определены в 46% колл-центров;\n",
    "2. Штат, состоящий из не менее 3 операторов - у 25% колл-центров;\n",
    "3. Доля колл-центров, где в день совершается более 10 звонков, составляет 16%;\n",
    "4. Одним из вышеназванных признаков обладает 9% клиентов, двумя - 13%, тремя - 8%;\n",
    "5. Всего доля потенциальных клиентов, которая обладает хотя бы одним признаком потенциальной заинтересованности в сервисе - 30%."
   ]
  },
  {
   "cell_type": "markdown",
   "id": "91da2c12",
   "metadata": {},
   "source": [
    "## Проверка статистических гипотез <a class=\"anchor\" id=\"stat_1\"></a>"
   ]
  },
  {
   "cell_type": "markdown",
   "id": "6adddb4f",
   "metadata": {},
   "source": [
    "### Стат. различия в показателях эффективных и неэффективных операторов"
   ]
  },
  {
   "cell_type": "markdown",
   "id": "eed19a22",
   "metadata": {},
   "source": [
    "Ранее мы посчитали неэффективными операторов, вышедших за порог хотя бы по одному из двух критериев эффективности для своей специализации.\n",
    "\n",
    "Теперь проверим, что различия по всем критериям для каждой специализации у эффективных и неэффективных операторов статистически значимы."
   ]
  },
  {
   "cell_type": "markdown",
   "id": "17c79830",
   "metadata": {},
   "source": [
    "Проведём тесты по каждому признаку неэффективности для операторов, специализирующихся на входящих и исходящих вызовах."
   ]
  },
  {
   "cell_type": "markdown",
   "id": "6ed766a8",
   "metadata": {},
   "source": [
    "Сформулируем гипотезы для первого признака неэффективности:\n",
    "* Н0: Среднее время ожидания ответа на звонок для эффекивных и неэффективных операторов не отличается\n",
    "* Н1: Среднее время ожидания ответа на звонок для эффективных и неэффективных операторов отличается"
   ]
  },
  {
   "cell_type": "markdown",
   "id": "fdfb36a9",
   "metadata": {},
   "source": [
    "Сформируем выборки и проведём тест. Уровень значимости alpha примем 0.05 и применим поправку Бонферрони для четырёх тестов:"
   ]
  },
  {
   "cell_type": "code",
   "execution_count": 53,
   "id": "eadc8c2c",
   "metadata": {},
   "outputs": [],
   "source": [
    "alpha = 0.05/4"
   ]
  },
  {
   "cell_type": "code",
   "execution_count": 54,
   "id": "ee7ce393",
   "metadata": {},
   "outputs": [],
   "source": [
    "def hyp_ttest(sample_a, sample_b):\n",
    "    \n",
    "    sample_a = sample_a[sample_a.notna()]\n",
    "    sample_b = sample_b[sample_b.notna()]\n",
    "    \n",
    "    print('P-Value: {0:.50f}'.format(stats.ttest_ind(sample_a, sample_b)[1]))\n",
    "    \n",
    "    if stats.ttest_ind(sample_a, sample_b)[1] <= alpha:\n",
    "        print('Есть основания отвергнуть нулевую гипотезу')\n",
    "    else:\n",
    "        print('Нет оснований отвергнуть нулевую гипотезу')\n",
    "    print(\"Относительное отличие среднего показателя в группе B: {0:.3f}\"\n",
    "      .format(sample_b.mean() / sample_a.mean() - 1))"
   ]
  },
  {
   "cell_type": "code",
   "execution_count": 55,
   "id": "f2b034a2",
   "metadata": {},
   "outputs": [
    {
     "name": "stdout",
     "output_type": "stream",
     "text": [
      "P-Value: 0.00000000000000000000000000003910911374545393114005\n",
      "Есть основания отвергнуть нулевую гипотезу\n",
      "Относительное отличие среднего показателя в группе B: 0.875\n"
     ]
    }
   ],
   "source": [
    "sample_a = ops_tab.query('inefficient == False and op_spec == \"in\"')['waiting_time']\n",
    "sample_b = ops_tab.query('inefficient == True and op_spec == \"in\"')['waiting_time']\n",
    "\n",
    "hyp_ttest(sample_a, sample_b)"
   ]
  },
  {
   "cell_type": "markdown",
   "id": "c81adbe1",
   "metadata": {},
   "source": [
    "Сформулируем гипотезы для второго признака неэффективности:\n",
    "* Н0: Среднее количество пропущенных в день вызовов для эффекивных и неэффективных операторов не отличается\n",
    "* Н1: Среднее количество пропущенных в день вызовов для эффекивных и неэффективных операторов отличается"
   ]
  },
  {
   "cell_type": "code",
   "execution_count": 56,
   "id": "aebc8614",
   "metadata": {},
   "outputs": [
    {
     "name": "stdout",
     "output_type": "stream",
     "text": [
      "P-Value: 0.00000000000000000000000000000000000000000000000000\n",
      "Есть основания отвергнуть нулевую гипотезу\n",
      "Относительное отличие среднего показателя в группе B: 71.945\n"
     ]
    }
   ],
   "source": [
    "sample_a = ops_tab.query('inefficient == False and op_spec == \"in\"')['missed_frac_per_day']\n",
    "sample_b = ops_tab.query('inefficient == True and op_spec == \"in\"')['missed_frac_per_day']\n",
    "\n",
    "hyp_ttest(sample_a, sample_b)"
   ]
  },
  {
   "cell_type": "markdown",
   "id": "5e068755",
   "metadata": {},
   "source": [
    "Сформулируем гипотезы для третьего признака неэффективности:\n",
    "* Н0: Средняя продолжительность звонка для эффекивных и неэффективных операторов не отличается\n",
    "* Н1: Средняя продолжительность звонка для эффекивных и неэффективных операторов отличается"
   ]
  },
  {
   "cell_type": "code",
   "execution_count": 57,
   "id": "aedf617e",
   "metadata": {},
   "outputs": [
    {
     "name": "stdout",
     "output_type": "stream",
     "text": [
      "P-Value: 0.01127191830141972828105423332090140320360660552979\n",
      "Есть основания отвергнуть нулевую гипотезу\n",
      "Относительное отличие среднего показателя в группе B: -0.196\n"
     ]
    }
   ],
   "source": [
    "sample_a = ops_tab.query('inefficient == False and op_spec == \"out\"')['call_med_duration']\n",
    "sample_b = ops_tab.query('inefficient == True and op_spec == \"out\"')['call_med_duration']\n",
    "\n",
    "hyp_ttest(sample_a, sample_b)"
   ]
  },
  {
   "cell_type": "markdown",
   "id": "15eed7ef",
   "metadata": {},
   "source": [
    "Сформулируем гипотезы для четвёртого признака неэффективности:\n",
    "* Н0: Среднее количество звонков в день для эффекивных и неэффективных операторов не отличается\n",
    "* Н1: Среднее количество звонков в день для эффективных и неэффективных операторов отличается"
   ]
  },
  {
   "cell_type": "code",
   "execution_count": 58,
   "id": "9583c0f4",
   "metadata": {},
   "outputs": [
    {
     "name": "stdout",
     "output_type": "stream",
     "text": [
      "P-Value: 0.00000000009933450432325836732166660573200493537793\n",
      "Есть основания отвергнуть нулевую гипотезу\n",
      "Относительное отличие среднего показателя в группе B: -0.778\n"
     ]
    }
   ],
   "source": [
    "sample_a = ops_tab.query('inefficient == False and op_spec == \"out\"')['calls_per_date']\n",
    "sample_b = ops_tab.query('inefficient == True and op_spec == \"out\"')['calls_per_date']\n",
    "\n",
    "hyp_ttest(sample_a, sample_b)"
   ]
  },
  {
   "cell_type": "markdown",
   "id": "ddcbdc4b",
   "metadata": {},
   "source": [
    "По всем четырём тестам нулевая гипотеза отвергнута.\n",
    "\n",
    "Различия в критериях эффективности статистически значимы по всем четырём критериям у операторов, признанных неэффективными и у операторов с нормальной эффективностью. "
   ]
  },
  {
   "cell_type": "markdown",
   "id": "ab10a506",
   "metadata": {},
   "source": [
    "### Стат. различия в показателях операторов в колл-центрах, где есть и где отсутствуют неэффективные операторы <a class=\"anchor\" id=\"stat_2\"></a>"
   ]
  },
  {
   "cell_type": "markdown",
   "id": "e4a7f3fe",
   "metadata": {},
   "source": [
    "Проверим, значимо ли отличаются показатели работы операторов в колл-центрах, где присутствуют неэффективные операторы."
   ]
  },
  {
   "cell_type": "markdown",
   "id": "d6611b2c",
   "metadata": {},
   "source": [
    "Сформулируем гипотезы для первого признака неэффективности:\n",
    "* Н0: Среднее время ожидания ответа на звонок у операторов в КЦ, где присутствуют и где отсутствуют неэффективные операторы, не отличается\n",
    "* Н0: Среднее время ожидания ответа на звонок у операторов в КЦ, где присутствуют и где отсутствуют неэффективные операторы, отличается"
   ]
  },
  {
   "cell_type": "markdown",
   "id": "9919a0e0",
   "metadata": {},
   "source": [
    "Сформируем выборки и проведём тест. Уровень значимости alpha примем 0.05 и применим поправку Бонферрони для четырёх тестов:"
   ]
  },
  {
   "cell_type": "code",
   "execution_count": 59,
   "id": "0f351ef9",
   "metadata": {},
   "outputs": [],
   "source": [
    "alpha = 0.05/4"
   ]
  },
  {
   "cell_type": "code",
   "execution_count": 60,
   "id": "d65681ee",
   "metadata": {},
   "outputs": [
    {
     "name": "stdout",
     "output_type": "stream",
     "text": [
      "P-Value: 0.00000008381522241020787647037534667457392423273177\n",
      "Есть основания отвергнуть нулевую гипотезу\n",
      "Относительное отличие среднего показателя в группе B: 0.451\n"
     ]
    }
   ],
   "source": [
    "users_eff = users_ops_eff.query('inefficient_coef==0').index\n",
    "users_ineff = users_ops_eff.query('inefficient_coef > 0').index\n",
    "\n",
    "sample_a = ops_tab.query('user_id in @users_eff and op_spec == \"in\"')['waiting_time']\n",
    "sample_b = ops_tab.query('user_id in @users_ineff and op_spec == \"in\"')['waiting_time']\n",
    "\n",
    "hyp_ttest(sample_a, sample_b)"
   ]
  },
  {
   "cell_type": "markdown",
   "id": "b6171c16",
   "metadata": {},
   "source": [
    "Сформулируем гипотезы для второго признака неэффективности:\n",
    "* Н0: Средняя доля неотвеченных звонков у операторов в КЦ, где присутствуют и где отсутствуют неэффективные операторы, не отличается\n",
    "* Н0: Среднее доля неотвеченных звонков у операторов в КЦ, где присутствуют и где отсутствуют неэффективные операторы, отличается"
   ]
  },
  {
   "cell_type": "code",
   "execution_count": 61,
   "id": "87e7b98a",
   "metadata": {},
   "outputs": [
    {
     "name": "stdout",
     "output_type": "stream",
     "text": [
      "P-Value: 0.00000000023071142327972151371869866982058884172235\n",
      "Есть основания отвергнуть нулевую гипотезу\n",
      "Относительное отличие среднего показателя в группе B: 37.331\n"
     ]
    }
   ],
   "source": [
    "users_eff = users_ops_eff.query('inefficient_coef==0').index\n",
    "users_ineff = users_ops_eff.query('inefficient_coef > 0').index\n",
    "\n",
    "sample_a = ops_tab.query('user_id in @users_eff and op_spec == \"in\"')['missed_frac_per_day']\n",
    "sample_b = ops_tab.query('user_id in @users_ineff and op_spec == \"in\"')['missed_frac_per_day']\n",
    "\n",
    "hyp_ttest(sample_a, sample_b)"
   ]
  },
  {
   "cell_type": "markdown",
   "id": "9c200e49",
   "metadata": {},
   "source": [
    "Сформулируем гипотезы для третьего признака неэффективности:\n",
    "* Н0: Средняя продолжительность исходящих звонков у операторов в КЦ, где присутствуют и где отсутствуют неэффективные операторы, не отличается\n",
    "* Н0: Средняя продолжительность исходящих звонков у операторов в КЦ, где присутствуют и где отсутствуют неэффективные операторы, отличается"
   ]
  },
  {
   "cell_type": "code",
   "execution_count": 62,
   "id": "eb4067e4",
   "metadata": {},
   "outputs": [
    {
     "name": "stdout",
     "output_type": "stream",
     "text": [
      "P-Value: 0.07812577535656210769854368436426739208400249481201\n",
      "Нет оснований отвергнуть нулевую гипотезу\n",
      "Относительное отличие среднего показателя в группе B: -0.153\n"
     ]
    }
   ],
   "source": [
    "users_eff = users_ops_eff.query('inefficient_coef==0').index\n",
    "users_ineff = users_ops_eff.query('inefficient_coef > 0').index\n",
    "\n",
    "sample_a = ops_tab.query('user_id in @users_eff and op_spec == \"out\"')['call_med_duration']\n",
    "sample_b = ops_tab.query('user_id in @users_ineff and op_spec == \"out\"')['call_med_duration']\n",
    "\n",
    "hyp_ttest(sample_a, sample_b)"
   ]
  },
  {
   "cell_type": "markdown",
   "id": "046365b9",
   "metadata": {},
   "source": [
    "Сформулируем гипотезы для четвёртого признака неэффективности:\n",
    "* Н0: Среднее количество звонков в день у операторов в КЦ, где присутствуют и где отсутствуют неэффективные операторы, не отличается\n",
    "* Н0: Среднее количество звонков в день у операторов в КЦ, где присутствуют и где отсутствуют неэффективные операторы, не отличается, отличается"
   ]
  },
  {
   "cell_type": "code",
   "execution_count": 63,
   "id": "8cab4f39",
   "metadata": {},
   "outputs": [
    {
     "name": "stdout",
     "output_type": "stream",
     "text": [
      "P-Value: 0.00001024588673515632699696515511833538880637206603\n",
      "Есть основания отвергнуть нулевую гипотезу\n",
      "Относительное отличие среднего показателя в группе B: -0.502\n"
     ]
    }
   ],
   "source": [
    "users_eff = users_ops_eff.query('inefficient_coef==0').index\n",
    "users_ineff = users_ops_eff.query('inefficient_coef > 0').index\n",
    "\n",
    "sample_a = ops_tab.query('user_id in @users_eff and op_spec == \"out\"')['calls_per_date']\n",
    "sample_b = ops_tab.query('user_id in @users_ineff and op_spec == \"out\"')['calls_per_date']\n",
    "\n",
    "hyp_ttest(sample_a, sample_b)"
   ]
  },
  {
   "cell_type": "markdown",
   "id": "66aa5449",
   "metadata": {},
   "source": [
    "Нулевая гипотеза отвергнута в трёх случаях из четырёх, не удалось отергнуть нулевую гипотезу по признаку неэффективности \"средняя продолжительность исходящего звонка\". По остальным критериям можно сделать вывод, что они статистически лучше в колл-центрах, где работают только операторы с нормальной эффективностью "
   ]
  },
  {
   "cell_type": "markdown",
   "id": "67d42064",
   "metadata": {},
   "source": [
    "### Выводы статистического анализа  "
   ]
  },
  {
   "cell_type": "markdown",
   "id": "e61b362b",
   "metadata": {},
   "source": [
    "* Различия в критериях эффективности статистически значимы по всем четырём критериям у операторов, признанных неэффективными и у операторов с нормальной эффективностью. \n",
    "* По остальным критериям критерия \"средняя продолжительность исходящего звонка\" можно сделать вывод, что они статистически лучше в колл-центрах, где работают только операторы с нормальной эффективностью."
   ]
  },
  {
   "cell_type": "markdown",
   "id": "c3ad0a17",
   "metadata": {},
   "source": [
    "## Общие выводы <a class=\"anchor\" id=\"itogi\"></a>"
   ]
  },
  {
   "cell_type": "markdown",
   "id": "e63b4206",
   "metadata": {},
   "source": [
    "**По качеству данных**\n",
    "\n",
    "Таблица **clients**:\n",
    "* В таблице 732 записи\n",
    "* Пропуски и полные дубликаты отсутствуют\n",
    "\n",
    "Таблица **data**:\n",
    "* В изначальном датасете 53902 записи\n",
    "* Удалены строки с пропусками в поле **internal**, 0.2% от общего количества строк\n",
    "* Обработаны пропуски в поле **operator_id**, 15% от общего количества строк: 98% пропусков, предположительно означающих не назначенные операторам пропущенные вызовы, заменены значением \"0\", остальные (1% от общего объёма данных) - удалены\n",
    "* Обнаружены и удалены 4845 записей, являющиеся полными дубликатами.\n",
    "* Обнаружены и удалены 312 записей, где звонки числятся принятыми, а длительность разговора 0, либо где звонки значатся пропущенными, а длительность разговора не равна 0.\n",
    "* Итоговый объём очищенных данных - 48049 записей.\n",
    "\n",
    "**Общая информация**\n",
    "\n",
    "1. Данные собраны за период с 2 августа по 28 ноября 2019г. \n",
    "2. Количество колл-центров, пользовавшихся услугами: 306. Количество операторов, совершавших и принимавших вызовы: 1093\n",
    "3. В 90% колл-центров штат операторов не превышает 8, также в 90% колл-центров совершено/принято не более 65 вызовов в день\n",
    "4. По специализация колл-центры распределились следующим образом:\n",
    "* 41% специализируются на входящих вызовах (у них более 70% входящих вызовов)\n",
    "* 32% специализируются на исходящих вызовах (у них более 70% исходящих вызовов)\n",
    "* 21% совершают входящие и исходящие звонки примерно в равной степени\n",
    "* в 6% колл-центров не совершалось внешних звонков за исследуемый период.\n",
    "\n",
    "**Признаки неэффективности и пороги**\n",
    "\n",
    "1. Средняя доля пропущенных вызовов в день: порог эффективности определён на уровне не более 22% пропущенных вызовов для операторов, специализирующихся на входящих вызовах.\n",
    "2. Среднее время ожидания ответа на вызов: не более 32 секунд для операторов, специализирующихся на входящих вызовах\n",
    "3. Количество исходящих вызовов в день: не менее 3, установлен для операторов, специализирующихся на исходящих вызовах.\n",
    "4. Средняя продолжительность разговора: не менее 37 секунда, установлен для операторов, специализирующихся на исходящих вызовах.\n",
    "\n",
    "**По статистическому анализу**\n",
    "\n",
    "* Различия в критериях эффективности статистически значимы по всем четырём критериям у операторов, признанных неэффективными и у операторов с нормальной эффективностью. \n",
    "* По остальным критериям критерия \"средняя продолжительность исходящего звонка\" можно сделать вывод, что они статистически лучше в колл-центрах, где работают только операторы с нормальной эффективностью.\n",
    "\n",
    "**Результаты анализа эффективности операторов**\n",
    "\n",
    "1. Четверть всех операторов определены как неэффективные.Такие операторы определены в 46% колл-центров.\n",
    "2. Доля неэффективных операторов в большинстве колл-центров, где такие операторы есть - от 30% до 50%.\n",
    "\n",
    "**Колл-центры, потенциально заинтересованные в новом сервисе**\n",
    "1. Неэффеективные операторы определены в 46% колл-центров;\n",
    "2. Штат, состоящий из не менее 3 операторов - у 25% колл-центров;\n",
    "3. Доля колл-центров, где в день совершается более 10 звонков, составляет 16%;\n",
    "4. Одним из вышеназванных признаков обладает 9% клиентов, двумя - 13%, тремя - 8%;\n",
    "5. Всего доля потенциальных клиентов, которая обладает хотя бы одним признаком потенциальной заинтересованности в сервисе - 30%."
   ]
  }
 ],
 "metadata": {
  "ExecuteTimeLog": [
   {
    "duration": 1273,
    "start_time": "2023-01-16T13:02:32.049Z"
   },
   {
    "duration": 1947,
    "start_time": "2023-01-16T13:02:33.323Z"
   },
   {
    "duration": 12,
    "start_time": "2023-01-16T13:02:35.271Z"
   },
   {
    "duration": 10,
    "start_time": "2023-01-16T13:02:35.286Z"
   },
   {
    "duration": 13,
    "start_time": "2023-01-16T13:02:35.298Z"
   },
   {
    "duration": 14,
    "start_time": "2023-01-16T13:02:35.313Z"
   },
   {
    "duration": 35,
    "start_time": "2023-01-16T13:02:35.329Z"
   },
   {
    "duration": 71,
    "start_time": "2023-01-16T13:02:35.365Z"
   },
   {
    "duration": 11,
    "start_time": "2023-01-16T13:02:35.438Z"
   },
   {
    "duration": 303,
    "start_time": "2023-01-16T13:02:35.451Z"
   },
   {
    "duration": 13,
    "start_time": "2023-01-16T13:02:35.756Z"
   },
   {
    "duration": 12,
    "start_time": "2023-01-16T13:02:35.770Z"
   },
   {
    "duration": 5,
    "start_time": "2023-01-16T13:02:35.796Z"
   },
   {
    "duration": 23,
    "start_time": "2023-01-16T13:02:35.804Z"
   },
   {
    "duration": 5,
    "start_time": "2023-01-16T13:02:35.829Z"
   },
   {
    "duration": 33,
    "start_time": "2023-01-16T13:02:35.836Z"
   },
   {
    "duration": 32,
    "start_time": "2023-01-16T13:02:35.870Z"
   },
   {
    "duration": 10,
    "start_time": "2023-01-16T13:02:35.903Z"
   },
   {
    "duration": 20,
    "start_time": "2023-01-16T13:02:35.914Z"
   },
   {
    "duration": 8,
    "start_time": "2023-01-16T13:02:35.936Z"
   },
   {
    "duration": 89,
    "start_time": "2023-01-16T13:02:35.946Z"
   },
   {
    "duration": 5,
    "start_time": "2023-01-16T13:02:36.036Z"
   },
   {
    "duration": 100,
    "start_time": "2023-01-16T13:02:36.043Z"
   },
   {
    "duration": 4,
    "start_time": "2023-01-16T13:02:36.145Z"
   },
   {
    "duration": 501,
    "start_time": "2023-01-16T13:02:36.151Z"
   },
   {
    "duration": 372,
    "start_time": "2023-01-16T13:02:36.654Z"
   },
   {
    "duration": 382,
    "start_time": "2023-01-16T13:02:37.028Z"
   },
   {
    "duration": 4,
    "start_time": "2023-01-16T13:02:37.412Z"
   },
   {
    "duration": 358,
    "start_time": "2023-01-16T13:02:37.418Z"
   },
   {
    "duration": 5,
    "start_time": "2023-01-16T13:02:37.777Z"
   },
   {
    "duration": 315,
    "start_time": "2023-01-16T13:02:37.784Z"
   },
   {
    "duration": 3,
    "start_time": "2023-01-16T13:02:38.101Z"
   },
   {
    "duration": 339,
    "start_time": "2023-01-16T13:02:38.106Z"
   },
   {
    "duration": 4,
    "start_time": "2023-01-16T13:02:38.446Z"
   },
   {
    "duration": 10,
    "start_time": "2023-01-16T13:02:38.452Z"
   },
   {
    "duration": 13,
    "start_time": "2023-01-16T13:02:38.464Z"
   },
   {
    "duration": 109,
    "start_time": "2023-01-16T13:02:38.479Z"
   },
   {
    "duration": 5,
    "start_time": "2023-01-16T13:02:38.590Z"
   },
   {
    "duration": 65,
    "start_time": "2023-01-16T13:02:38.596Z"
   },
   {
    "duration": 14,
    "start_time": "2023-01-16T13:02:38.662Z"
   },
   {
    "duration": 194,
    "start_time": "2023-01-16T13:02:38.681Z"
   },
   {
    "duration": 26,
    "start_time": "2023-01-16T13:02:38.877Z"
   },
   {
    "duration": 5,
    "start_time": "2023-01-16T13:02:38.904Z"
   },
   {
    "duration": 552,
    "start_time": "2023-01-16T13:02:38.910Z"
   },
   {
    "duration": 2,
    "start_time": "2023-01-16T13:02:39.464Z"
   },
   {
    "duration": 7,
    "start_time": "2023-01-16T13:02:39.468Z"
   },
   {
    "duration": 14,
    "start_time": "2023-01-16T13:02:39.477Z"
   },
   {
    "duration": 12,
    "start_time": "2023-01-16T13:02:39.492Z"
   },
   {
    "duration": 11,
    "start_time": "2023-01-16T13:02:39.505Z"
   },
   {
    "duration": 9,
    "start_time": "2023-01-16T13:02:39.517Z"
   },
   {
    "duration": 5,
    "start_time": "2023-01-16T13:02:39.528Z"
   },
   {
    "duration": 19,
    "start_time": "2023-01-16T13:02:39.535Z"
   },
   {
    "duration": 17,
    "start_time": "2023-01-16T13:02:39.556Z"
   },
   {
    "duration": 24,
    "start_time": "2023-01-16T13:02:39.575Z"
   },
   {
    "duration": 17,
    "start_time": "2023-01-16T13:02:39.601Z"
   },
   {
    "duration": 64,
    "start_time": "2023-01-17T20:04:33.322Z"
   },
   {
    "duration": 1421,
    "start_time": "2023-01-17T20:04:38.401Z"
   },
   {
    "duration": 1370,
    "start_time": "2023-01-17T20:04:39.823Z"
   },
   {
    "duration": 12,
    "start_time": "2023-01-17T20:04:41.196Z"
   },
   {
    "duration": 11,
    "start_time": "2023-01-17T20:04:41.210Z"
   },
   {
    "duration": 16,
    "start_time": "2023-01-17T20:04:41.223Z"
   },
   {
    "duration": 19,
    "start_time": "2023-01-17T20:04:41.240Z"
   },
   {
    "duration": 78,
    "start_time": "2023-01-17T20:04:41.261Z"
   },
   {
    "duration": 83,
    "start_time": "2023-01-17T20:04:41.342Z"
   },
   {
    "duration": 13,
    "start_time": "2023-01-17T20:04:41.426Z"
   },
   {
    "duration": 312,
    "start_time": "2023-01-17T20:04:41.442Z"
   },
   {
    "duration": 16,
    "start_time": "2023-01-17T20:04:41.756Z"
   },
   {
    "duration": 11,
    "start_time": "2023-01-17T20:04:41.774Z"
   },
   {
    "duration": 29,
    "start_time": "2023-01-17T20:04:41.787Z"
   },
   {
    "duration": 28,
    "start_time": "2023-01-17T20:04:41.818Z"
   },
   {
    "duration": 8,
    "start_time": "2023-01-17T20:04:41.848Z"
   },
   {
    "duration": 55,
    "start_time": "2023-01-17T20:04:41.858Z"
   },
   {
    "duration": 25,
    "start_time": "2023-01-17T20:04:41.915Z"
   },
   {
    "duration": 22,
    "start_time": "2023-01-17T20:04:41.942Z"
   },
   {
    "duration": 15,
    "start_time": "2023-01-17T20:04:41.966Z"
   },
   {
    "duration": 32,
    "start_time": "2023-01-17T20:04:41.983Z"
   },
   {
    "duration": 72,
    "start_time": "2023-01-17T20:04:42.017Z"
   },
   {
    "duration": 5,
    "start_time": "2023-01-17T20:04:42.091Z"
   },
   {
    "duration": 107,
    "start_time": "2023-01-17T20:04:42.097Z"
   },
   {
    "duration": 9,
    "start_time": "2023-01-17T20:04:42.206Z"
   },
   {
    "duration": 442,
    "start_time": "2023-01-17T20:04:42.217Z"
   },
   {
    "duration": 425,
    "start_time": "2023-01-17T20:04:42.660Z"
   },
   {
    "duration": 478,
    "start_time": "2023-01-17T20:04:43.087Z"
   },
   {
    "duration": 4,
    "start_time": "2023-01-17T20:04:43.568Z"
   },
   {
    "duration": 5,
    "start_time": "2023-01-17T20:04:55.482Z"
   },
   {
    "duration": 5,
    "start_time": "2023-01-17T20:05:00.168Z"
   },
   {
    "duration": 7,
    "start_time": "2023-01-17T20:05:04.012Z"
   },
   {
    "duration": 8,
    "start_time": "2023-01-17T20:05:08.211Z"
   },
   {
    "duration": 5,
    "start_time": "2023-01-17T20:05:18.964Z"
   },
   {
    "duration": 5,
    "start_time": "2023-01-17T20:05:42.577Z"
   },
   {
    "duration": 4,
    "start_time": "2023-01-17T20:05:46.064Z"
   },
   {
    "duration": 392,
    "start_time": "2023-01-17T20:05:52.273Z"
   },
   {
    "duration": 4,
    "start_time": "2023-01-17T20:05:52.667Z"
   },
   {
    "duration": 355,
    "start_time": "2023-01-17T20:05:53.103Z"
   },
   {
    "duration": 4,
    "start_time": "2023-01-17T20:05:53.491Z"
   },
   {
    "duration": 434,
    "start_time": "2023-01-17T20:05:54.026Z"
   },
   {
    "duration": 5,
    "start_time": "2023-01-17T20:05:54.462Z"
   },
   {
    "duration": 13,
    "start_time": "2023-01-17T20:05:54.810Z"
   },
   {
    "duration": 10,
    "start_time": "2023-01-17T20:05:55.974Z"
   },
   {
    "duration": 110,
    "start_time": "2023-01-17T20:05:56.172Z"
   },
   {
    "duration": 5,
    "start_time": "2023-01-17T20:05:56.574Z"
   },
   {
    "duration": 60,
    "start_time": "2023-01-17T20:05:56.845Z"
   },
   {
    "duration": 17,
    "start_time": "2023-01-17T20:05:57.683Z"
   },
   {
    "duration": 226,
    "start_time": "2023-01-17T20:05:58.285Z"
   },
   {
    "duration": 21,
    "start_time": "2023-01-17T20:06:23.345Z"
   },
   {
    "duration": 721,
    "start_time": "2023-01-17T20:06:23.982Z"
   },
   {
    "duration": 7,
    "start_time": "2023-01-17T20:06:25.637Z"
   },
   {
    "duration": 4,
    "start_time": "2023-01-17T20:06:29.703Z"
   },
   {
    "duration": 7,
    "start_time": "2023-01-17T20:06:29.928Z"
   },
   {
    "duration": 13,
    "start_time": "2023-01-17T20:06:30.133Z"
   },
   {
    "duration": 14,
    "start_time": "2023-01-17T20:06:30.607Z"
   },
   {
    "duration": 13,
    "start_time": "2023-01-17T20:06:31.039Z"
   },
   {
    "duration": 19,
    "start_time": "2023-01-17T20:06:31.524Z"
   },
   {
    "duration": 3,
    "start_time": "2023-01-17T20:06:32.836Z"
   },
   {
    "duration": 14,
    "start_time": "2023-01-17T20:06:33.050Z"
   },
   {
    "duration": 15,
    "start_time": "2023-01-17T20:06:33.475Z"
   },
   {
    "duration": 15,
    "start_time": "2023-01-17T20:06:34.027Z"
   },
   {
    "duration": 15,
    "start_time": "2023-01-17T20:06:34.467Z"
   },
   {
    "duration": 1567,
    "start_time": "2023-01-18T05:33:20.519Z"
   },
   {
    "duration": 1145,
    "start_time": "2023-01-18T05:33:22.090Z"
   },
   {
    "duration": 12,
    "start_time": "2023-01-18T05:33:23.238Z"
   },
   {
    "duration": 19,
    "start_time": "2023-01-18T05:33:23.252Z"
   },
   {
    "duration": 21,
    "start_time": "2023-01-18T05:33:23.273Z"
   },
   {
    "duration": 31,
    "start_time": "2023-01-18T05:33:23.296Z"
   },
   {
    "duration": 35,
    "start_time": "2023-01-18T05:33:23.329Z"
   },
   {
    "duration": 89,
    "start_time": "2023-01-18T05:33:23.366Z"
   },
   {
    "duration": 12,
    "start_time": "2023-01-18T05:33:23.457Z"
   },
   {
    "duration": 326,
    "start_time": "2023-01-18T05:33:23.471Z"
   },
   {
    "duration": 16,
    "start_time": "2023-01-18T05:33:23.799Z"
   },
   {
    "duration": 28,
    "start_time": "2023-01-18T05:33:23.817Z"
   },
   {
    "duration": 13,
    "start_time": "2023-01-18T05:33:23.847Z"
   },
   {
    "duration": 47,
    "start_time": "2023-01-18T05:33:23.861Z"
   },
   {
    "duration": 13,
    "start_time": "2023-01-18T05:33:23.909Z"
   },
   {
    "duration": 44,
    "start_time": "2023-01-18T05:33:23.924Z"
   },
   {
    "duration": 25,
    "start_time": "2023-01-18T05:33:23.970Z"
   },
   {
    "duration": 13,
    "start_time": "2023-01-18T05:33:23.997Z"
   },
   {
    "duration": 30,
    "start_time": "2023-01-18T05:33:24.013Z"
   },
   {
    "duration": 11,
    "start_time": "2023-01-18T05:33:24.045Z"
   },
   {
    "duration": 80,
    "start_time": "2023-01-18T05:33:24.057Z"
   },
   {
    "duration": 5,
    "start_time": "2023-01-18T05:33:24.139Z"
   },
   {
    "duration": 112,
    "start_time": "2023-01-18T05:34:26.052Z"
   },
   {
    "duration": 1273,
    "start_time": "2023-01-21T15:32:23.283Z"
   },
   {
    "duration": 1756,
    "start_time": "2023-01-21T15:32:24.558Z"
   },
   {
    "duration": 10,
    "start_time": "2023-01-21T15:32:26.316Z"
   },
   {
    "duration": 9,
    "start_time": "2023-01-21T15:32:26.328Z"
   },
   {
    "duration": 18,
    "start_time": "2023-01-21T15:32:26.338Z"
   },
   {
    "duration": 24,
    "start_time": "2023-01-21T15:32:26.357Z"
   },
   {
    "duration": 31,
    "start_time": "2023-01-21T15:32:26.382Z"
   },
   {
    "duration": 70,
    "start_time": "2023-01-21T15:32:26.415Z"
   },
   {
    "duration": 10,
    "start_time": "2023-01-21T15:32:26.486Z"
   },
   {
    "duration": 278,
    "start_time": "2023-01-21T15:32:26.499Z"
   },
   {
    "duration": 16,
    "start_time": "2023-01-21T15:32:26.779Z"
   },
   {
    "duration": 20,
    "start_time": "2023-01-21T15:32:26.797Z"
   },
   {
    "duration": 14,
    "start_time": "2023-01-21T15:32:26.819Z"
   },
   {
    "duration": 26,
    "start_time": "2023-01-21T15:32:26.834Z"
   },
   {
    "duration": 8,
    "start_time": "2023-01-21T15:32:26.862Z"
   },
   {
    "duration": 33,
    "start_time": "2023-01-21T15:32:26.871Z"
   },
   {
    "duration": 20,
    "start_time": "2023-01-21T15:32:26.906Z"
   },
   {
    "duration": 11,
    "start_time": "2023-01-21T15:32:26.928Z"
   },
   {
    "duration": 31,
    "start_time": "2023-01-21T15:32:26.940Z"
   },
   {
    "duration": 6,
    "start_time": "2023-01-21T15:32:26.972Z"
   },
   {
    "duration": 55,
    "start_time": "2023-01-21T15:32:26.979Z"
   },
   {
    "duration": 4,
    "start_time": "2023-01-21T15:32:27.036Z"
   },
   {
    "duration": 110,
    "start_time": "2023-01-21T15:32:27.042Z"
   },
   {
    "duration": 4,
    "start_time": "2023-01-21T15:32:27.153Z"
   },
   {
    "duration": 348,
    "start_time": "2023-01-21T15:32:27.167Z"
   },
   {
    "duration": 385,
    "start_time": "2023-01-21T15:32:27.516Z"
   },
   {
    "duration": 391,
    "start_time": "2023-01-21T15:32:27.903Z"
   },
   {
    "duration": 4,
    "start_time": "2023-01-21T15:32:28.297Z"
   },
   {
    "duration": 360,
    "start_time": "2023-01-21T15:32:28.302Z"
   },
   {
    "duration": 4,
    "start_time": "2023-01-21T15:32:28.666Z"
   },
   {
    "duration": 347,
    "start_time": "2023-01-21T15:32:28.672Z"
   },
   {
    "duration": 4,
    "start_time": "2023-01-21T15:32:29.020Z"
   },
   {
    "duration": 18,
    "start_time": "2023-01-21T15:32:36.360Z"
   },
   {
    "duration": 13,
    "start_time": "2023-01-21T15:34:18.839Z"
   },
   {
    "duration": 11,
    "start_time": "2023-01-21T15:35:52.174Z"
   },
   {
    "duration": 132,
    "start_time": "2023-01-21T15:36:28.989Z"
   },
   {
    "duration": 882,
    "start_time": "2023-01-21T15:36:42.596Z"
   },
   {
    "duration": 100,
    "start_time": "2023-01-21T15:36:47.537Z"
   },
   {
    "duration": 175,
    "start_time": "2023-01-21T15:37:21.840Z"
   },
   {
    "duration": 95,
    "start_time": "2023-01-21T15:37:29.653Z"
   },
   {
    "duration": 97,
    "start_time": "2023-01-21T15:37:54.453Z"
   },
   {
    "duration": 110,
    "start_time": "2023-01-21T15:38:03.097Z"
   },
   {
    "duration": 116,
    "start_time": "2023-01-21T15:38:08.132Z"
   },
   {
    "duration": 100,
    "start_time": "2023-01-21T15:38:27.218Z"
   },
   {
    "duration": 99,
    "start_time": "2023-01-21T15:38:38.556Z"
   },
   {
    "duration": 108,
    "start_time": "2023-01-21T15:39:06.409Z"
   },
   {
    "duration": 107,
    "start_time": "2023-01-21T15:39:20.435Z"
   },
   {
    "duration": 98,
    "start_time": "2023-01-21T15:39:31.946Z"
   },
   {
    "duration": 15,
    "start_time": "2023-01-21T15:41:41.204Z"
   },
   {
    "duration": 20,
    "start_time": "2023-01-21T15:42:36.992Z"
   },
   {
    "duration": 670,
    "start_time": "2023-01-21T15:42:55.441Z"
   },
   {
    "duration": 21,
    "start_time": "2023-01-21T15:43:12.669Z"
   },
   {
    "duration": 8,
    "start_time": "2023-01-21T15:47:30.379Z"
   },
   {
    "duration": 3,
    "start_time": "2023-01-21T15:47:37.177Z"
   },
   {
    "duration": 1614,
    "start_time": "2023-01-21T15:47:37.182Z"
   },
   {
    "duration": 8,
    "start_time": "2023-01-21T15:47:38.797Z"
   },
   {
    "duration": 14,
    "start_time": "2023-01-21T15:47:38.807Z"
   },
   {
    "duration": 10,
    "start_time": "2023-01-21T15:47:38.823Z"
   },
   {
    "duration": 15,
    "start_time": "2023-01-21T15:47:38.834Z"
   },
   {
    "duration": 32,
    "start_time": "2023-01-21T15:47:38.850Z"
   },
   {
    "duration": 30,
    "start_time": "2023-01-21T15:47:38.883Z"
   },
   {
    "duration": 10,
    "start_time": "2023-01-21T15:47:38.915Z"
   },
   {
    "duration": 228,
    "start_time": "2023-01-21T15:47:38.927Z"
   },
   {
    "duration": 19,
    "start_time": "2023-01-21T15:47:39.158Z"
   },
   {
    "duration": 9,
    "start_time": "2023-01-21T15:47:39.179Z"
   },
   {
    "duration": 14,
    "start_time": "2023-01-21T15:47:39.190Z"
   },
   {
    "duration": 21,
    "start_time": "2023-01-21T15:47:39.205Z"
   },
   {
    "duration": 6,
    "start_time": "2023-01-21T15:47:39.227Z"
   },
   {
    "duration": 50,
    "start_time": "2023-01-21T15:47:39.235Z"
   },
   {
    "duration": 21,
    "start_time": "2023-01-21T15:47:39.287Z"
   },
   {
    "duration": 12,
    "start_time": "2023-01-21T15:47:39.309Z"
   },
   {
    "duration": 8,
    "start_time": "2023-01-21T15:47:39.323Z"
   },
   {
    "duration": 5,
    "start_time": "2023-01-21T15:47:39.333Z"
   },
   {
    "duration": 47,
    "start_time": "2023-01-21T15:47:39.368Z"
   },
   {
    "duration": 4,
    "start_time": "2023-01-21T15:47:39.416Z"
   },
   {
    "duration": 114,
    "start_time": "2023-01-21T15:47:39.422Z"
   },
   {
    "duration": 4,
    "start_time": "2023-01-21T15:47:39.538Z"
   },
   {
    "duration": 346,
    "start_time": "2023-01-21T15:47:39.544Z"
   },
   {
    "duration": 407,
    "start_time": "2023-01-21T15:47:39.892Z"
   },
   {
    "duration": 388,
    "start_time": "2023-01-21T15:47:40.301Z"
   },
   {
    "duration": 4,
    "start_time": "2023-01-21T15:47:40.691Z"
   },
   {
    "duration": 411,
    "start_time": "2023-01-21T15:47:40.698Z"
   },
   {
    "duration": 4,
    "start_time": "2023-01-21T15:47:41.111Z"
   },
   {
    "duration": 361,
    "start_time": "2023-01-21T15:47:41.117Z"
   },
   {
    "duration": 4,
    "start_time": "2023-01-21T15:47:41.480Z"
   },
   {
    "duration": 384,
    "start_time": "2023-01-21T15:47:41.485Z"
   },
   {
    "duration": 4,
    "start_time": "2023-01-21T15:47:41.871Z"
   },
   {
    "duration": 9,
    "start_time": "2023-01-21T15:47:41.877Z"
   },
   {
    "duration": 17,
    "start_time": "2023-01-21T15:47:41.887Z"
   },
   {
    "duration": 97,
    "start_time": "2023-01-21T15:47:41.906Z"
   },
   {
    "duration": 5,
    "start_time": "2023-01-21T15:47:42.004Z"
   },
   {
    "duration": 63,
    "start_time": "2023-01-21T15:47:42.010Z"
   },
   {
    "duration": 13,
    "start_time": "2023-01-21T15:47:44.758Z"
   },
   {
    "duration": 13,
    "start_time": "2023-01-21T15:49:42.903Z"
   },
   {
    "duration": 16,
    "start_time": "2023-01-21T15:52:21.441Z"
   },
   {
    "duration": 15,
    "start_time": "2023-01-21T15:54:19.221Z"
   },
   {
    "duration": 18,
    "start_time": "2023-01-21T15:54:30.434Z"
   },
   {
    "duration": 18,
    "start_time": "2023-01-21T15:56:17.013Z"
   },
   {
    "duration": 17,
    "start_time": "2023-01-21T15:56:28.822Z"
   },
   {
    "duration": 22,
    "start_time": "2023-01-21T15:58:31.747Z"
   },
   {
    "duration": 45,
    "start_time": "2023-01-21T15:59:24.741Z"
   },
   {
    "duration": 21,
    "start_time": "2023-01-21T15:59:33.605Z"
   },
   {
    "duration": 11,
    "start_time": "2023-01-21T16:01:38.581Z"
   },
   {
    "duration": 14,
    "start_time": "2023-01-21T16:01:46.305Z"
   },
   {
    "duration": 52,
    "start_time": "2023-01-21T16:02:00.223Z"
   },
   {
    "duration": 21,
    "start_time": "2023-01-21T16:02:06.985Z"
   },
   {
    "duration": 27,
    "start_time": "2023-01-21T16:02:47.314Z"
   },
   {
    "duration": 54,
    "start_time": "2023-01-21T16:05:05.130Z"
   },
   {
    "duration": 0,
    "start_time": "2023-01-21T16:05:05.186Z"
   },
   {
    "duration": 6,
    "start_time": "2023-01-21T16:05:14.076Z"
   },
   {
    "duration": 1372,
    "start_time": "2023-01-21T16:05:27.126Z"
   },
   {
    "duration": 1649,
    "start_time": "2023-01-21T16:05:28.501Z"
   },
   {
    "duration": 12,
    "start_time": "2023-01-21T16:05:30.152Z"
   },
   {
    "duration": 42,
    "start_time": "2023-01-21T16:05:30.166Z"
   },
   {
    "duration": 39,
    "start_time": "2023-01-21T16:05:30.211Z"
   },
   {
    "duration": 42,
    "start_time": "2023-01-21T16:05:30.252Z"
   },
   {
    "duration": 49,
    "start_time": "2023-01-21T16:05:30.296Z"
   },
   {
    "duration": 101,
    "start_time": "2023-01-21T16:05:30.347Z"
   },
   {
    "duration": 22,
    "start_time": "2023-01-21T16:05:30.451Z"
   },
   {
    "duration": 346,
    "start_time": "2023-01-21T16:05:30.477Z"
   },
   {
    "duration": 20,
    "start_time": "2023-01-21T16:05:30.825Z"
   },
   {
    "duration": 48,
    "start_time": "2023-01-21T16:05:30.847Z"
   },
   {
    "duration": 33,
    "start_time": "2023-01-21T16:05:30.897Z"
   },
   {
    "duration": 45,
    "start_time": "2023-01-21T16:05:30.932Z"
   },
   {
    "duration": 33,
    "start_time": "2023-01-21T16:05:30.979Z"
   },
   {
    "duration": 70,
    "start_time": "2023-01-21T16:05:31.014Z"
   },
   {
    "duration": 34,
    "start_time": "2023-01-21T16:05:31.086Z"
   },
   {
    "duration": 17,
    "start_time": "2023-01-21T16:05:31.122Z"
   },
   {
    "duration": 48,
    "start_time": "2023-01-21T16:05:31.141Z"
   },
   {
    "duration": 9,
    "start_time": "2023-01-21T16:05:31.191Z"
   },
   {
    "duration": 73,
    "start_time": "2023-01-21T16:05:31.202Z"
   },
   {
    "duration": 5,
    "start_time": "2023-01-21T16:05:31.276Z"
   },
   {
    "duration": 127,
    "start_time": "2023-01-21T16:05:31.282Z"
   },
   {
    "duration": 5,
    "start_time": "2023-01-21T16:05:31.410Z"
   },
   {
    "duration": 389,
    "start_time": "2023-01-21T16:05:31.417Z"
   },
   {
    "duration": 432,
    "start_time": "2023-01-21T16:05:31.808Z"
   },
   {
    "duration": 425,
    "start_time": "2023-01-21T16:05:32.243Z"
   },
   {
    "duration": 4,
    "start_time": "2023-01-21T16:05:32.671Z"
   },
   {
    "duration": 414,
    "start_time": "2023-01-21T16:05:32.677Z"
   },
   {
    "duration": 4,
    "start_time": "2023-01-21T16:05:33.094Z"
   },
   {
    "duration": 434,
    "start_time": "2023-01-21T16:05:33.100Z"
   },
   {
    "duration": 5,
    "start_time": "2023-01-21T16:05:33.536Z"
   },
   {
    "duration": 391,
    "start_time": "2023-01-21T16:05:33.544Z"
   },
   {
    "duration": 5,
    "start_time": "2023-01-21T16:05:33.936Z"
   },
   {
    "duration": 7,
    "start_time": "2023-01-21T16:05:33.942Z"
   },
   {
    "duration": 30,
    "start_time": "2023-01-21T16:05:33.951Z"
   },
   {
    "duration": 104,
    "start_time": "2023-01-21T16:05:33.985Z"
   },
   {
    "duration": 7,
    "start_time": "2023-01-21T16:05:34.092Z"
   },
   {
    "duration": 76,
    "start_time": "2023-01-21T16:05:34.100Z"
   },
   {
    "duration": 11,
    "start_time": "2023-01-21T16:05:34.178Z"
   },
   {
    "duration": 36,
    "start_time": "2023-01-21T16:05:37.132Z"
   },
   {
    "duration": 26,
    "start_time": "2023-01-21T16:05:38.335Z"
   },
   {
    "duration": 26,
    "start_time": "2023-01-21T16:06:01.921Z"
   },
   {
    "duration": 24,
    "start_time": "2023-01-21T16:06:11.337Z"
   },
   {
    "duration": 15,
    "start_time": "2023-01-21T16:06:21.661Z"
   },
   {
    "duration": 189,
    "start_time": "2023-01-21T16:07:20.315Z"
   },
   {
    "duration": 160,
    "start_time": "2023-01-21T16:07:42.057Z"
   },
   {
    "duration": 261,
    "start_time": "2023-01-21T16:07:51.393Z"
   },
   {
    "duration": 108,
    "start_time": "2023-01-21T16:08:00.632Z"
   },
   {
    "duration": 132,
    "start_time": "2023-01-21T16:08:25.988Z"
   },
   {
    "duration": 19,
    "start_time": "2023-01-21T16:08:31.237Z"
   },
   {
    "duration": 8,
    "start_time": "2023-01-21T16:09:51.755Z"
   }
  ],
  "kernelspec": {
   "display_name": "Python 3 (ipykernel)",
   "language": "python",
   "name": "python3"
  },
  "language_info": {
   "codemirror_mode": {
    "name": "ipython",
    "version": 3
   },
   "file_extension": ".py",
   "mimetype": "text/x-python",
   "name": "python",
   "nbconvert_exporter": "python",
   "pygments_lexer": "ipython3",
   "version": "3.9.12"
  },
  "toc": {
   "base_numbering": 1,
   "nav_menu": {},
   "number_sections": true,
   "sideBar": true,
   "skip_h1_title": true,
   "title_cell": "Table of Contents",
   "title_sidebar": "Contents",
   "toc_cell": false,
   "toc_position": {},
   "toc_section_display": true,
   "toc_window_display": false
  }
 },
 "nbformat": 4,
 "nbformat_minor": 5
}
