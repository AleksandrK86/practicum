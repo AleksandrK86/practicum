{
 "cells": [
  {
   "cell_type": "markdown",
   "metadata": {},
   "source": [
    "# Определение критериев для продвижения игр в интернет-магазине \"Стримчик\""
   ]
  },
  {
   "cell_type": "markdown",
   "metadata": {},
   "source": [
    "# Описание проекта"
   ]
  },
  {
   "cell_type": "markdown",
   "metadata": {},
   "source": [
    "Имеются исторические данные интернет-магазина \"Стримчик\" о продажах компьютерных игр, оценки пользователей и экспертов, жанры и платформы. Данные до 2016 года.\n",
    "\n",
    "**Задача:** Выявить определяющие успешность игры закономерности, позволяющие сделать ставку на потенциально популярный продукт и спланировать рекламные кампании на 2017 год.\n",
    "\n",
    "\n",
    "**Описание данных**:\n",
    "*\tName — название игры\n",
    "*\tPlatform — платформа\n",
    "*\tYear_of_Release — год выпуска\n",
    "*\tGenre — жанр игры\n",
    "*\tNA_sales — продажи в Северной Америке (миллионы проданных копий)\n",
    "*\tEU_sales — продажи в Европе (миллионы проданных копий)\n",
    "*\tJP_sales — продажи в Японии (миллионы проданных копий)\n",
    "*\tOther_sales — продажи в других странах (миллионы проданных копий)\n",
    "*\tCritic_Score — оценка критиков (максимум 100)\n",
    "*\tUser_Score — оценка пользователей (максимум 10)\n",
    "*\tRating — рейтинг от организации ESRB (англ. Entertainment Software Rating Board). Эта ассоциация определяет рейтинг компьютерных игр и присваивает им подходящую возрастную категорию.\n"
   ]
  },
  {
   "cell_type": "markdown",
   "metadata": {},
   "source": [
    "# План исследования"
   ]
  },
  {
   "cell_type": "markdown",
   "metadata": {},
   "source": [
    "1. Изучение общей информации о данных.\n",
    "\n",
    "2. Подготовка данных:\n",
    "* Приведение названий столбцов к единому стилю\n",
    "* Преобразование данных в нужные типы\n",
    "* Обработка пропусков\n",
    "* Добавление столбца с суммарными продажами во всех регионах.\n",
    "\n",
    "3. Исследовательский анализ:\n",
    "* Количество выпущенных игр в разные годы\n",
    "* Подажи по платформам\n",
    "* Определение актуального периода для исследования\n",
    "* Динамика продаж по платформам\n",
    "* Влияние на продажи отзывов пользователей и критиков.\n",
    "* Прибыльность жанров\n",
    "\n",
    "4. Портрет пользователя каждого региона:\n",
    "* Самые популярные платформы в регионах\n",
    "* Самые популярные жанры в регионах\n",
    "* Влияние рейтинга ESRB на продажи в отдельном регионе\n",
    "\n",
    "5. Проверка гипотез:\n",
    "* Средние пользовательские рейтинги платформ Xbox One и PC одинаковые\n",
    "* Средние пользовательские рейтинги жанров Action и Sports разные\n",
    "\n",
    "6. Выводы исследоваия"
   ]
  },
  {
   "cell_type": "markdown",
   "metadata": {},
   "source": [
    "## Изучение общей информации о данных"
   ]
  },
  {
   "cell_type": "markdown",
   "metadata": {},
   "source": [
    "Импортируем библиотеки, выведем первые строки датасета и сводную информацию о нём."
   ]
  },
  {
   "cell_type": "code",
   "execution_count": 2,
   "metadata": {},
   "outputs": [],
   "source": [
    "#Импортирование библиотек\n",
    "import pandas as pd\n",
    "import matplotlib.pyplot as plt\n",
    "import seaborn as sns\n",
    "import scipy.stats"
   ]
  },
  {
   "cell_type": "code",
   "execution_count": 3,
   "metadata": {},
   "outputs": [
    {
     "data": {
      "text/html": [
       "<div>\n",
       "<style scoped>\n",
       "    .dataframe tbody tr th:only-of-type {\n",
       "        vertical-align: middle;\n",
       "    }\n",
       "\n",
       "    .dataframe tbody tr th {\n",
       "        vertical-align: top;\n",
       "    }\n",
       "\n",
       "    .dataframe thead th {\n",
       "        text-align: right;\n",
       "    }\n",
       "</style>\n",
       "<table border=\"1\" class=\"dataframe\">\n",
       "  <thead>\n",
       "    <tr style=\"text-align: right;\">\n",
       "      <th></th>\n",
       "      <th>Name</th>\n",
       "      <th>Platform</th>\n",
       "      <th>Year_of_Release</th>\n",
       "      <th>Genre</th>\n",
       "      <th>NA_sales</th>\n",
       "      <th>EU_sales</th>\n",
       "      <th>JP_sales</th>\n",
       "      <th>Other_sales</th>\n",
       "      <th>Critic_Score</th>\n",
       "      <th>User_Score</th>\n",
       "      <th>Rating</th>\n",
       "    </tr>\n",
       "  </thead>\n",
       "  <tbody>\n",
       "    <tr>\n",
       "      <th>0</th>\n",
       "      <td>Wii Sports</td>\n",
       "      <td>Wii</td>\n",
       "      <td>2006.0</td>\n",
       "      <td>Sports</td>\n",
       "      <td>41.36</td>\n",
       "      <td>28.96</td>\n",
       "      <td>3.77</td>\n",
       "      <td>8.45</td>\n",
       "      <td>76.0</td>\n",
       "      <td>8</td>\n",
       "      <td>E</td>\n",
       "    </tr>\n",
       "    <tr>\n",
       "      <th>1</th>\n",
       "      <td>Super Mario Bros.</td>\n",
       "      <td>NES</td>\n",
       "      <td>1985.0</td>\n",
       "      <td>Platform</td>\n",
       "      <td>29.08</td>\n",
       "      <td>3.58</td>\n",
       "      <td>6.81</td>\n",
       "      <td>0.77</td>\n",
       "      <td>NaN</td>\n",
       "      <td>NaN</td>\n",
       "      <td>NaN</td>\n",
       "    </tr>\n",
       "    <tr>\n",
       "      <th>2</th>\n",
       "      <td>Mario Kart Wii</td>\n",
       "      <td>Wii</td>\n",
       "      <td>2008.0</td>\n",
       "      <td>Racing</td>\n",
       "      <td>15.68</td>\n",
       "      <td>12.76</td>\n",
       "      <td>3.79</td>\n",
       "      <td>3.29</td>\n",
       "      <td>82.0</td>\n",
       "      <td>8.3</td>\n",
       "      <td>E</td>\n",
       "    </tr>\n",
       "    <tr>\n",
       "      <th>3</th>\n",
       "      <td>Wii Sports Resort</td>\n",
       "      <td>Wii</td>\n",
       "      <td>2009.0</td>\n",
       "      <td>Sports</td>\n",
       "      <td>15.61</td>\n",
       "      <td>10.93</td>\n",
       "      <td>3.28</td>\n",
       "      <td>2.95</td>\n",
       "      <td>80.0</td>\n",
       "      <td>8</td>\n",
       "      <td>E</td>\n",
       "    </tr>\n",
       "    <tr>\n",
       "      <th>4</th>\n",
       "      <td>Pokemon Red/Pokemon Blue</td>\n",
       "      <td>GB</td>\n",
       "      <td>1996.0</td>\n",
       "      <td>Role-Playing</td>\n",
       "      <td>11.27</td>\n",
       "      <td>8.89</td>\n",
       "      <td>10.22</td>\n",
       "      <td>1.00</td>\n",
       "      <td>NaN</td>\n",
       "      <td>NaN</td>\n",
       "      <td>NaN</td>\n",
       "    </tr>\n",
       "  </tbody>\n",
       "</table>\n",
       "</div>"
      ],
      "text/plain": [
       "                       Name Platform  Year_of_Release         Genre  NA_sales  \\\n",
       "0                Wii Sports      Wii           2006.0        Sports     41.36   \n",
       "1         Super Mario Bros.      NES           1985.0      Platform     29.08   \n",
       "2            Mario Kart Wii      Wii           2008.0        Racing     15.68   \n",
       "3         Wii Sports Resort      Wii           2009.0        Sports     15.61   \n",
       "4  Pokemon Red/Pokemon Blue       GB           1996.0  Role-Playing     11.27   \n",
       "\n",
       "   EU_sales  JP_sales  Other_sales  Critic_Score User_Score Rating  \n",
       "0     28.96      3.77         8.45          76.0          8      E  \n",
       "1      3.58      6.81         0.77           NaN        NaN    NaN  \n",
       "2     12.76      3.79         3.29          82.0        8.3      E  \n",
       "3     10.93      3.28         2.95          80.0          8      E  \n",
       "4      8.89     10.22         1.00           NaN        NaN    NaN  "
      ]
     },
     "execution_count": 3,
     "metadata": {},
     "output_type": "execute_result"
    }
   ],
   "source": [
    "#Чтение файла с данными\n",
    "data = pd.read_csv('https://code.s3.yandex.net/datasets/games.csv')\n",
    "\n",
    "#Вывод первых строк\n",
    "data.head()"
   ]
  },
  {
   "cell_type": "code",
   "execution_count": 3,
   "metadata": {},
   "outputs": [
    {
     "name": "stdout",
     "output_type": "stream",
     "text": [
      "<class 'pandas.core.frame.DataFrame'>\n",
      "RangeIndex: 16715 entries, 0 to 16714\n",
      "Data columns (total 11 columns):\n",
      " #   Column           Non-Null Count  Dtype  \n",
      "---  ------           --------------  -----  \n",
      " 0   Name             16713 non-null  object \n",
      " 1   Platform         16715 non-null  object \n",
      " 2   Year_of_Release  16446 non-null  float64\n",
      " 3   Genre            16713 non-null  object \n",
      " 4   NA_sales         16715 non-null  float64\n",
      " 5   EU_sales         16715 non-null  float64\n",
      " 6   JP_sales         16715 non-null  float64\n",
      " 7   Other_sales      16715 non-null  float64\n",
      " 8   Critic_Score     8137 non-null   float64\n",
      " 9   User_Score       10014 non-null  object \n",
      " 10  Rating           9949 non-null   object \n",
      "dtypes: float64(6), object(5)\n",
      "memory usage: 1.4+ MB\n"
     ]
    }
   ],
   "source": [
    "#Вывод сводной инфрмации о датафрейме\n",
    "data.info()"
   ]
  },
  {
   "cell_type": "code",
   "execution_count": 4,
   "metadata": {},
   "outputs": [
    {
     "name": "stdout",
     "output_type": "stream",
     "text": [
      "Явных дубликатов в датасете: 0\n"
     ]
    }
   ],
   "source": [
    "#проверка на явные дубликаты\n",
    "print('Явных дубликатов в датасете:', data.duplicated().sum())"
   ]
  },
  {
   "cell_type": "markdown",
   "metadata": {},
   "source": [
    "**Выводы:**\n",
    "\n",
    "1. В исходном датафрейме 10 колонок, 16715 записей\n",
    "2. Названия колонок требуют приведение к единому стилю\n",
    "3. Есть колонки с пропущенными значениями, большая их доля - в колонках с рейтингами\n",
    "4. Не все типы данных колонок соотвествуют их содержанию  "
   ]
  },
  {
   "cell_type": "markdown",
   "metadata": {},
   "source": [
    "## Предобработка данных"
   ]
  },
  {
   "cell_type": "markdown",
   "metadata": {},
   "source": [
    "### Приведение названий столбцов к единому стилю"
   ]
  },
  {
   "cell_type": "markdown",
   "metadata": {},
   "source": [
    "Чтобы привести названия столбцов к snake_case, достаточно привести их к нижнему регистру."
   ]
  },
  {
   "cell_type": "code",
   "execution_count": 5,
   "metadata": {},
   "outputs": [
    {
     "data": {
      "text/plain": [
       "Index(['name', 'platform', 'year_of_release', 'genre', 'na_sales', 'eu_sales',\n",
       "       'jp_sales', 'other_sales', 'critic_score', 'user_score', 'rating'],\n",
       "      dtype='object')"
      ]
     },
     "execution_count": 5,
     "metadata": {},
     "output_type": "execute_result"
    }
   ],
   "source": [
    "data.columns = data.columns.str.lower()\n",
    "data.columns"
   ]
  },
  {
   "cell_type": "markdown",
   "metadata": {},
   "source": [
    "### Преобразование типов данных и обработка пропусков:\n"
   ]
  },
  {
   "cell_type": "markdown",
   "metadata": {},
   "source": [
    "Выведем процент пропусков в столбцах:"
   ]
  },
  {
   "cell_type": "code",
   "execution_count": 6,
   "metadata": {},
   "outputs": [
    {
     "data": {
      "text/html": [
       "<style  type=\"text/css\" >\n",
       "#T_797e2_row0_col0,#T_797e2_row0_col1{\n",
       "            background-color:  #b40426;\n",
       "            color:  #f1f1f1;\n",
       "        }#T_797e2_row1_col0,#T_797e2_row1_col1{\n",
       "            background-color:  #f08a6c;\n",
       "            color:  #000000;\n",
       "        }#T_797e2_row2_col0,#T_797e2_row2_col1{\n",
       "            background-color:  #f18d6f;\n",
       "            color:  #000000;\n",
       "        }#T_797e2_row3_col0,#T_797e2_row3_col1{\n",
       "            background-color:  #445acc;\n",
       "            color:  #f1f1f1;\n",
       "        }#T_797e2_row4_col0,#T_797e2_row4_col1,#T_797e2_row5_col0,#T_797e2_row5_col1,#T_797e2_row6_col0,#T_797e2_row6_col1,#T_797e2_row7_col0,#T_797e2_row7_col1,#T_797e2_row8_col0,#T_797e2_row8_col1,#T_797e2_row9_col0,#T_797e2_row9_col1,#T_797e2_row10_col0,#T_797e2_row10_col1{\n",
       "            background-color:  #3b4cc0;\n",
       "            color:  #f1f1f1;\n",
       "        }</style><table id=\"T_797e2_\" ><thead>    <tr>        <th class=\"blank level0\" ></th>        <th class=\"col_heading level0 col0\" >na_count</th>        <th class=\"col_heading level0 col1\" >na_percent</th>    </tr></thead><tbody>\n",
       "                <tr>\n",
       "                        <th id=\"T_797e2_level0_row0\" class=\"row_heading level0 row0\" >critic_score</th>\n",
       "                        <td id=\"T_797e2_row0_col0\" class=\"data row0 col0\" >8578</td>\n",
       "                        <td id=\"T_797e2_row0_col1\" class=\"data row0 col1\" >51.319174</td>\n",
       "            </tr>\n",
       "            <tr>\n",
       "                        <th id=\"T_797e2_level0_row1\" class=\"row_heading level0 row1\" >rating</th>\n",
       "                        <td id=\"T_797e2_row1_col0\" class=\"data row1 col0\" >6766</td>\n",
       "                        <td id=\"T_797e2_row1_col1\" class=\"data row1 col1\" >40.478612</td>\n",
       "            </tr>\n",
       "            <tr>\n",
       "                        <th id=\"T_797e2_level0_row2\" class=\"row_heading level0 row2\" >user_score</th>\n",
       "                        <td id=\"T_797e2_row2_col0\" class=\"data row2 col0\" >6701</td>\n",
       "                        <td id=\"T_797e2_row2_col1\" class=\"data row2 col1\" >40.089740</td>\n",
       "            </tr>\n",
       "            <tr>\n",
       "                        <th id=\"T_797e2_level0_row3\" class=\"row_heading level0 row3\" >year_of_release</th>\n",
       "                        <td id=\"T_797e2_row3_col0\" class=\"data row3 col0\" >269</td>\n",
       "                        <td id=\"T_797e2_row3_col1\" class=\"data row3 col1\" >1.609333</td>\n",
       "            </tr>\n",
       "            <tr>\n",
       "                        <th id=\"T_797e2_level0_row4\" class=\"row_heading level0 row4\" >name</th>\n",
       "                        <td id=\"T_797e2_row4_col0\" class=\"data row4 col0\" >2</td>\n",
       "                        <td id=\"T_797e2_row4_col1\" class=\"data row4 col1\" >0.011965</td>\n",
       "            </tr>\n",
       "            <tr>\n",
       "                        <th id=\"T_797e2_level0_row5\" class=\"row_heading level0 row5\" >genre</th>\n",
       "                        <td id=\"T_797e2_row5_col0\" class=\"data row5 col0\" >2</td>\n",
       "                        <td id=\"T_797e2_row5_col1\" class=\"data row5 col1\" >0.011965</td>\n",
       "            </tr>\n",
       "            <tr>\n",
       "                        <th id=\"T_797e2_level0_row6\" class=\"row_heading level0 row6\" >platform</th>\n",
       "                        <td id=\"T_797e2_row6_col0\" class=\"data row6 col0\" >0</td>\n",
       "                        <td id=\"T_797e2_row6_col1\" class=\"data row6 col1\" >0.000000</td>\n",
       "            </tr>\n",
       "            <tr>\n",
       "                        <th id=\"T_797e2_level0_row7\" class=\"row_heading level0 row7\" >na_sales</th>\n",
       "                        <td id=\"T_797e2_row7_col0\" class=\"data row7 col0\" >0</td>\n",
       "                        <td id=\"T_797e2_row7_col1\" class=\"data row7 col1\" >0.000000</td>\n",
       "            </tr>\n",
       "            <tr>\n",
       "                        <th id=\"T_797e2_level0_row8\" class=\"row_heading level0 row8\" >eu_sales</th>\n",
       "                        <td id=\"T_797e2_row8_col0\" class=\"data row8 col0\" >0</td>\n",
       "                        <td id=\"T_797e2_row8_col1\" class=\"data row8 col1\" >0.000000</td>\n",
       "            </tr>\n",
       "            <tr>\n",
       "                        <th id=\"T_797e2_level0_row9\" class=\"row_heading level0 row9\" >jp_sales</th>\n",
       "                        <td id=\"T_797e2_row9_col0\" class=\"data row9 col0\" >0</td>\n",
       "                        <td id=\"T_797e2_row9_col1\" class=\"data row9 col1\" >0.000000</td>\n",
       "            </tr>\n",
       "            <tr>\n",
       "                        <th id=\"T_797e2_level0_row10\" class=\"row_heading level0 row10\" >other_sales</th>\n",
       "                        <td id=\"T_797e2_row10_col0\" class=\"data row10 col0\" >0</td>\n",
       "                        <td id=\"T_797e2_row10_col1\" class=\"data row10 col1\" >0.000000</td>\n",
       "            </tr>\n",
       "    </tbody></table>"
      ],
      "text/plain": [
       "<pandas.io.formats.style.Styler at 0x7f0b803060a0>"
      ]
     },
     "metadata": {},
     "output_type": "display_data"
    },
    {
     "name": "stdout",
     "output_type": "stream",
     "text": [
      "Общее количество строк: 16715\n"
     ]
    }
   ],
   "source": [
    "na_counts = (\n",
    "    pd.DataFrame(\n",
    "        (data.isnull().sum()), \n",
    "        columns=['na_count'])\n",
    ")\n",
    "na_counts['na_percent'] = data.isnull().mean()*100\n",
    "\n",
    "display(na_counts.sort_values(by='na_percent', ascending=False)\\\n",
    ".style.background_gradient(cmap='coolwarm'))\n",
    "\n",
    "print('Общее количество строк:', data.shape[0])"
   ]
  },
  {
   "cell_type": "markdown",
   "metadata": {},
   "source": [
    "#### Столбец **year_of_release**"
   ]
  },
  {
   "cell_type": "markdown",
   "metadata": {},
   "source": [
    "Преобразуем тип данных **float -> int** для корректного отображения значений. Для этого предварительно необходимо обработать пустые значения в этом столбце. Подходящий алгоритм для автоматического заполнения пустых значений здесь отсутствует. Учитывая, что доля таких строк около 1.6%, можем их удалить, а затем преобразовать тип данных в **int**: "
   ]
  },
  {
   "cell_type": "code",
   "execution_count": 7,
   "metadata": {},
   "outputs": [
    {
     "data": {
      "text/plain": [
       "0    2006\n",
       "1    1985\n",
       "2    2008\n",
       "3    2009\n",
       "4    1996\n",
       "Name: year_of_release, dtype: int64"
      ]
     },
     "execution_count": 7,
     "metadata": {},
     "output_type": "execute_result"
    }
   ],
   "source": [
    "#заменим пустые значения в столбце year_of_release на 0:\n",
    "data.dropna(subset=['year_of_release'], inplace=True)\n",
    "\n",
    "#приведём столбец year_of_release к типу int\n",
    "data.loc[data['year_of_release'].notnull(), 'year_of_release'] = \\\n",
    "data.loc[data['year_of_release'].notnull(), 'year_of_release'].astype('int')\n",
    "data.year_of_release.head()"
   ]
  },
  {
   "cell_type": "markdown",
   "metadata": {},
   "source": [
    "#### Столбец **user_score**"
   ]
  },
  {
   "cell_type": "markdown",
   "metadata": {},
   "source": [
    "\n",
    "Необходимо преобразовать **object -> float** для последующего применения методов, работающих с числами. Однако, столбец содержит не только числа, что по всей видимости и явилось причиной того, что данный столбец имеет тип **object**:"
   ]
  },
  {
   "cell_type": "code",
   "execution_count": 8,
   "metadata": {},
   "outputs": [
    {
     "data": {
      "text/plain": [
       "array(['0', '0.2', '0.3', '0.5', '0.6', '0.7', '0.9', '1', '1.1', '1.2',\n",
       "       '1.3', '1.4', '1.5', '1.6', '1.7', '1.8', '1.9', '2', '2.1', '2.2',\n",
       "       '2.3', '2.4', '2.5', '2.6', '2.7', '2.8', '2.9', '3', '3.1', '3.2',\n",
       "       '3.3', '3.4', '3.5', '3.6', '3.7', '3.8', '3.9', '4', '4.1', '4.2',\n",
       "       '4.3', '4.4', '4.5', '4.6', '4.7', '4.8', '4.9', '5', '5.1', '5.2',\n",
       "       '5.3', '5.4', '5.5', '5.6', '5.7', '5.8', '5.9', '6', '6.1', '6.2',\n",
       "       '6.3', '6.4', '6.5', '6.6', '6.7', '6.8', '6.9', '7', '7.1', '7.2',\n",
       "       '7.3', '7.4', '7.5', '7.6', '7.7', '7.8', '7.9', '8', '8.1', '8.2',\n",
       "       '8.3', '8.4', '8.5', '8.6', '8.7', '8.8', '8.9', '9', '9.1', '9.2',\n",
       "       '9.3', '9.4', '9.5', '9.6', '9.7', 'tbd', nan], dtype=object)"
      ]
     },
     "execution_count": 8,
     "metadata": {},
     "output_type": "execute_result"
    }
   ],
   "source": [
    "data.user_score.sort_values().unique()"
   ]
  },
  {
   "cell_type": "markdown",
   "metadata": {},
   "source": [
    "Значение **\"tbd\" (\"to be decided\")** могло проставляться в том случае, если рейтинг не определён, например, есть некоторое количество оценок пользователей, но его ещё не достаточно, чтобы объявить рейтинг. \n",
    "\n",
    "Возможности проверить это предположение и, например, запросить предварительный рейтинг по соответствующим играм, у нас нет. Поэтому будем считать, что пользовательский рейтинг в этих строках неизвестен, как и в других 6 тысячах строк с пустыми значениями в столбце с рейтингом.\n",
    "\n",
    "Таким образом, чтобы получить возможность преобразовать столбец в тип **\"float\"**, предварительно изменим значение **\"tbd\"** на **None**."
   ]
  },
  {
   "cell_type": "code",
   "execution_count": 9,
   "metadata": {},
   "outputs": [
    {
     "data": {
      "text/plain": [
       "array(['0', '0.2', '0.3', '0.5', '0.6', '0.7', '0.9', '1', '1.1', '1.2',\n",
       "       '1.3', '1.4', '1.5', '1.6', '1.7', '1.8', '1.9', '2', '2.1', '2.2',\n",
       "       '2.3', '2.4', '2.5', '2.6', '2.7', '2.8', '2.9', '3', '3.1', '3.2',\n",
       "       '3.3', '3.4', '3.5', '3.6', '3.7', '3.8', '3.9', '4', '4.1', '4.2',\n",
       "       '4.3', '4.4', '4.5', '4.6', '4.7', '4.8', '4.9', '5', '5.1', '5.2',\n",
       "       '5.3', '5.4', '5.5', '5.6', '5.7', '5.8', '5.9', '6', '6.1', '6.2',\n",
       "       '6.3', '6.4', '6.5', '6.6', '6.7', '6.8', '6.9', '7', '7.1', '7.2',\n",
       "       '7.3', '7.4', '7.5', '7.6', '7.7', '7.8', '7.9', '8', '8.1', '8.2',\n",
       "       '8.3', '8.4', '8.5', '8.6', '8.7', '8.8', '8.9', '9', '9.1', '9.2',\n",
       "       '9.3', '9.4', '9.5', '9.6', '9.7', nan, None], dtype=object)"
      ]
     },
     "execution_count": 9,
     "metadata": {},
     "output_type": "execute_result"
    }
   ],
   "source": [
    "data.loc[data['user_score'] == 'tbd', 'user_score'] = None\n",
    "data.user_score.sort_values().unique()"
   ]
  },
  {
   "cell_type": "code",
   "execution_count": 10,
   "metadata": {},
   "outputs": [
    {
     "data": {
      "text/plain": [
       "0    8.0\n",
       "1    NaN\n",
       "2    8.3\n",
       "3    8.0\n",
       "4    NaN\n",
       "Name: user_score, dtype: float64"
      ]
     },
     "execution_count": 10,
     "metadata": {},
     "output_type": "execute_result"
    }
   ],
   "source": [
    "#приведём столбец user_score к типу данных 'float'\n",
    "data.user_score = data.user_score.astype('float')\n",
    "data.user_score.head()"
   ]
  },
  {
   "cell_type": "markdown",
   "metadata": {},
   "source": [
    "#### Столбцы **name** и **genre**"
   ]
  },
  {
   "cell_type": "markdown",
   "metadata": {},
   "source": [
    "Строк с пустыми значениями в столбцах **name** и **genre** всего две, можем удалить:"
   ]
  },
  {
   "cell_type": "code",
   "execution_count": 11,
   "metadata": {},
   "outputs": [
    {
     "data": {
      "text/plain": [
       "16444"
      ]
     },
     "execution_count": 11,
     "metadata": {},
     "output_type": "execute_result"
    }
   ],
   "source": [
    "data = data.query('name.notnull() and genre.notnull()')\n",
    "data.shape[0]"
   ]
  },
  {
   "cell_type": "markdown",
   "metadata": {},
   "source": [
    "#### Столбцы **year_of_release**, **user_score**, **critic_score**"
   ]
  },
  {
   "cell_type": "markdown",
   "metadata": {},
   "source": [
    "Пустых строк с годом релиза в столбце **year_of_release** не так много, но оставим их как есть, поскольку алгоритм для автоматического заполнения отсутствует, а удалять их нецелесообразно: далее при определении целевого периода для исследования они в любом случае не войдут в исследуемый срез."
   ]
  },
  {
   "cell_type": "markdown",
   "metadata": {},
   "source": [
    "Пустые строки в столбцах **user_score**, **critic_score** так же оставляем, поскольку заполнение их синтетическими данными исказло бы статистику, а в случае их удаления мы лишились бы большой доли данных для анализа."
   ]
  },
  {
   "cell_type": "markdown",
   "metadata": {},
   "source": [
    "#### Столбец **rating**"
   ]
  },
  {
   "cell_type": "markdown",
   "metadata": {},
   "source": [
    "В данном столбце содержится инфрмация о возрастном рейтинге. Заменим пропуски, означающие его отсутствие, на значение \"Unknown\":  "
   ]
  },
  {
   "cell_type": "code",
   "execution_count": 12,
   "metadata": {},
   "outputs": [],
   "source": [
    "data.rating = data.rating.fillna('Unknown')"
   ]
  },
  {
   "cell_type": "markdown",
   "metadata": {},
   "source": [
    "Выведем итоговые данные по пропускам:"
   ]
  },
  {
   "cell_type": "code",
   "execution_count": 13,
   "metadata": {},
   "outputs": [
    {
     "data": {
      "text/html": [
       "<style  type=\"text/css\" >\n",
       "#T_0f3a6_row0_col0,#T_0f3a6_row0_col1{\n",
       "            background-color:  #b40426;\n",
       "            color:  #f1f1f1;\n",
       "        }#T_0f3a6_row1_col0,#T_0f3a6_row1_col1{\n",
       "            background-color:  #c83836;\n",
       "            color:  #f1f1f1;\n",
       "        }#T_0f3a6_row2_col0,#T_0f3a6_row2_col1,#T_0f3a6_row3_col0,#T_0f3a6_row3_col1,#T_0f3a6_row4_col0,#T_0f3a6_row4_col1,#T_0f3a6_row5_col0,#T_0f3a6_row5_col1,#T_0f3a6_row6_col0,#T_0f3a6_row6_col1,#T_0f3a6_row7_col0,#T_0f3a6_row7_col1,#T_0f3a6_row8_col0,#T_0f3a6_row8_col1,#T_0f3a6_row9_col0,#T_0f3a6_row9_col1,#T_0f3a6_row10_col0,#T_0f3a6_row10_col1{\n",
       "            background-color:  #3b4cc0;\n",
       "            color:  #f1f1f1;\n",
       "        }</style><table id=\"T_0f3a6_\" ><thead>    <tr>        <th class=\"blank level0\" ></th>        <th class=\"col_heading level0 col0\" >na_count</th>        <th class=\"col_heading level0 col1\" >na_percent</th>    </tr></thead><tbody>\n",
       "                <tr>\n",
       "                        <th id=\"T_0f3a6_level0_row0\" class=\"row_heading level0 row0\" >user_score</th>\n",
       "                        <td id=\"T_0f3a6_row0_col0\" class=\"data row0 col0\" >8981</td>\n",
       "                        <td id=\"T_0f3a6_row0_col1\" class=\"data row0 col1\" >54.615665</td>\n",
       "            </tr>\n",
       "            <tr>\n",
       "                        <th id=\"T_0f3a6_level0_row1\" class=\"row_heading level0 row1\" >critic_score</th>\n",
       "                        <td id=\"T_0f3a6_row1_col0\" class=\"data row1 col0\" >8461</td>\n",
       "                        <td id=\"T_0f3a6_row1_col1\" class=\"data row1 col1\" >51.453418</td>\n",
       "            </tr>\n",
       "            <tr>\n",
       "                        <th id=\"T_0f3a6_level0_row2\" class=\"row_heading level0 row2\" >name</th>\n",
       "                        <td id=\"T_0f3a6_row2_col0\" class=\"data row2 col0\" >0</td>\n",
       "                        <td id=\"T_0f3a6_row2_col1\" class=\"data row2 col1\" >0.000000</td>\n",
       "            </tr>\n",
       "            <tr>\n",
       "                        <th id=\"T_0f3a6_level0_row3\" class=\"row_heading level0 row3\" >platform</th>\n",
       "                        <td id=\"T_0f3a6_row3_col0\" class=\"data row3 col0\" >0</td>\n",
       "                        <td id=\"T_0f3a6_row3_col1\" class=\"data row3 col1\" >0.000000</td>\n",
       "            </tr>\n",
       "            <tr>\n",
       "                        <th id=\"T_0f3a6_level0_row4\" class=\"row_heading level0 row4\" >year_of_release</th>\n",
       "                        <td id=\"T_0f3a6_row4_col0\" class=\"data row4 col0\" >0</td>\n",
       "                        <td id=\"T_0f3a6_row4_col1\" class=\"data row4 col1\" >0.000000</td>\n",
       "            </tr>\n",
       "            <tr>\n",
       "                        <th id=\"T_0f3a6_level0_row5\" class=\"row_heading level0 row5\" >genre</th>\n",
       "                        <td id=\"T_0f3a6_row5_col0\" class=\"data row5 col0\" >0</td>\n",
       "                        <td id=\"T_0f3a6_row5_col1\" class=\"data row5 col1\" >0.000000</td>\n",
       "            </tr>\n",
       "            <tr>\n",
       "                        <th id=\"T_0f3a6_level0_row6\" class=\"row_heading level0 row6\" >na_sales</th>\n",
       "                        <td id=\"T_0f3a6_row6_col0\" class=\"data row6 col0\" >0</td>\n",
       "                        <td id=\"T_0f3a6_row6_col1\" class=\"data row6 col1\" >0.000000</td>\n",
       "            </tr>\n",
       "            <tr>\n",
       "                        <th id=\"T_0f3a6_level0_row7\" class=\"row_heading level0 row7\" >eu_sales</th>\n",
       "                        <td id=\"T_0f3a6_row7_col0\" class=\"data row7 col0\" >0</td>\n",
       "                        <td id=\"T_0f3a6_row7_col1\" class=\"data row7 col1\" >0.000000</td>\n",
       "            </tr>\n",
       "            <tr>\n",
       "                        <th id=\"T_0f3a6_level0_row8\" class=\"row_heading level0 row8\" >jp_sales</th>\n",
       "                        <td id=\"T_0f3a6_row8_col0\" class=\"data row8 col0\" >0</td>\n",
       "                        <td id=\"T_0f3a6_row8_col1\" class=\"data row8 col1\" >0.000000</td>\n",
       "            </tr>\n",
       "            <tr>\n",
       "                        <th id=\"T_0f3a6_level0_row9\" class=\"row_heading level0 row9\" >other_sales</th>\n",
       "                        <td id=\"T_0f3a6_row9_col0\" class=\"data row9 col0\" >0</td>\n",
       "                        <td id=\"T_0f3a6_row9_col1\" class=\"data row9 col1\" >0.000000</td>\n",
       "            </tr>\n",
       "            <tr>\n",
       "                        <th id=\"T_0f3a6_level0_row10\" class=\"row_heading level0 row10\" >rating</th>\n",
       "                        <td id=\"T_0f3a6_row10_col0\" class=\"data row10 col0\" >0</td>\n",
       "                        <td id=\"T_0f3a6_row10_col1\" class=\"data row10 col1\" >0.000000</td>\n",
       "            </tr>\n",
       "    </tbody></table>"
      ],
      "text/plain": [
       "<pandas.io.formats.style.Styler at 0x7f0afed84f70>"
      ]
     },
     "metadata": {},
     "output_type": "display_data"
    },
    {
     "name": "stdout",
     "output_type": "stream",
     "text": [
      "Общее количество строк: 16444\n"
     ]
    }
   ],
   "source": [
    "na_counts = (\n",
    "    pd.DataFrame(\n",
    "        (data.isnull().sum()), \n",
    "        columns=['na_count'])\n",
    ")\n",
    "na_counts['na_percent'] = data.isnull().mean()*100\n",
    "\n",
    "display(na_counts.sort_values(by='na_percent', ascending=False)\\\n",
    ".style.background_gradient(cmap='coolwarm'))\n",
    "\n",
    "print('Общее количество строк:', data.shape[0])"
   ]
  },
  {
   "cell_type": "markdown",
   "metadata": {},
   "source": [
    "### Добавление столбца с суммарными продажами во всех регионах."
   ]
  },
  {
   "cell_type": "markdown",
   "metadata": {},
   "source": [
    "В данных отсутствует столбец с суммарными продажами. Добавим его."
   ]
  },
  {
   "cell_type": "code",
   "execution_count": 14,
   "metadata": {},
   "outputs": [
    {
     "data": {
      "text/html": [
       "<div>\n",
       "<style scoped>\n",
       "    .dataframe tbody tr th:only-of-type {\n",
       "        vertical-align: middle;\n",
       "    }\n",
       "\n",
       "    .dataframe tbody tr th {\n",
       "        vertical-align: top;\n",
       "    }\n",
       "\n",
       "    .dataframe thead th {\n",
       "        text-align: right;\n",
       "    }\n",
       "</style>\n",
       "<table border=\"1\" class=\"dataframe\">\n",
       "  <thead>\n",
       "    <tr style=\"text-align: right;\">\n",
       "      <th></th>\n",
       "      <th>na_sales</th>\n",
       "      <th>eu_sales</th>\n",
       "      <th>jp_sales</th>\n",
       "      <th>other_sales</th>\n",
       "      <th>total_sales</th>\n",
       "    </tr>\n",
       "  </thead>\n",
       "  <tbody>\n",
       "    <tr>\n",
       "      <th>0</th>\n",
       "      <td>41.36</td>\n",
       "      <td>28.96</td>\n",
       "      <td>3.77</td>\n",
       "      <td>8.45</td>\n",
       "      <td>82.54</td>\n",
       "    </tr>\n",
       "    <tr>\n",
       "      <th>1</th>\n",
       "      <td>29.08</td>\n",
       "      <td>3.58</td>\n",
       "      <td>6.81</td>\n",
       "      <td>0.77</td>\n",
       "      <td>40.24</td>\n",
       "    </tr>\n",
       "    <tr>\n",
       "      <th>2</th>\n",
       "      <td>15.68</td>\n",
       "      <td>12.76</td>\n",
       "      <td>3.79</td>\n",
       "      <td>3.29</td>\n",
       "      <td>35.52</td>\n",
       "    </tr>\n",
       "    <tr>\n",
       "      <th>3</th>\n",
       "      <td>15.61</td>\n",
       "      <td>10.93</td>\n",
       "      <td>3.28</td>\n",
       "      <td>2.95</td>\n",
       "      <td>32.77</td>\n",
       "    </tr>\n",
       "    <tr>\n",
       "      <th>4</th>\n",
       "      <td>11.27</td>\n",
       "      <td>8.89</td>\n",
       "      <td>10.22</td>\n",
       "      <td>1.00</td>\n",
       "      <td>31.38</td>\n",
       "    </tr>\n",
       "  </tbody>\n",
       "</table>\n",
       "</div>"
      ],
      "text/plain": [
       "   na_sales  eu_sales  jp_sales  other_sales  total_sales\n",
       "0     41.36     28.96      3.77         8.45        82.54\n",
       "1     29.08      3.58      6.81         0.77        40.24\n",
       "2     15.68     12.76      3.79         3.29        35.52\n",
       "3     15.61     10.93      3.28         2.95        32.77\n",
       "4     11.27      8.89     10.22         1.00        31.38"
      ]
     },
     "execution_count": 14,
     "metadata": {},
     "output_type": "execute_result"
    }
   ],
   "source": [
    "data['total_sales'] = data.na_sales + data.eu_sales + data.jp_sales + data.other_sales\n",
    "data.iloc[:,[4,5,6,7,-1]].head()"
   ]
  },
  {
   "cell_type": "markdown",
   "metadata": {},
   "source": [
    "### Выводы по результатам предобработки данных"
   ]
  },
  {
   "cell_type": "markdown",
   "metadata": {},
   "source": []
  },
  {
   "cell_type": "markdown",
   "metadata": {},
   "source": [
    "1.\tДля приведения стиля к snake_case называния столбцов приведены к нижнему регистру.\n",
    "2.\tДля двух игр не были указаны название и жанр. Эти строки удалены.\n",
    "3.\tВ столбце с годом выпуска пропущены 269 значений. Для приведения типа данных к **int** они заполнены значениями «0», в дальнейшем исследовании учитываться не будут. \n",
    "4.\tСтолбец с пользовательским рейтингом помимо пропусков содержал текстовые значения **tbd**, в рамках нашего исследования равнозначные отсутствию рейтинга. Для приведения типа данных в столбце к **float** были заменены на пустые значения.\n",
    "5.\tВозрастой рейтинг не проставлен в 40% случаев, в половине игр отсутствуют оценки экспертов или пользовательский рейтинг. При исследовании рейтинга данные строки учитываться не будут.\n",
    "6.\tДля дальнейшего исследования в датасет добавлен столбец с суммарными продажами по всем регионам."
   ]
  },
  {
   "cell_type": "code",
   "execution_count": 15,
   "metadata": {},
   "outputs": [
    {
     "name": "stdout",
     "output_type": "stream",
     "text": [
      "<class 'pandas.core.frame.DataFrame'>\n",
      "Int64Index: 16444 entries, 0 to 16714\n",
      "Data columns (total 12 columns):\n",
      " #   Column           Non-Null Count  Dtype  \n",
      "---  ------           --------------  -----  \n",
      " 0   name             16444 non-null  object \n",
      " 1   platform         16444 non-null  object \n",
      " 2   year_of_release  16444 non-null  int64  \n",
      " 3   genre            16444 non-null  object \n",
      " 4   na_sales         16444 non-null  float64\n",
      " 5   eu_sales         16444 non-null  float64\n",
      " 6   jp_sales         16444 non-null  float64\n",
      " 7   other_sales      16444 non-null  float64\n",
      " 8   critic_score     7983 non-null   float64\n",
      " 9   user_score       7463 non-null   float64\n",
      " 10  rating           16444 non-null  object \n",
      " 11  total_sales      16444 non-null  float64\n",
      "dtypes: float64(7), int64(1), object(4)\n",
      "memory usage: 1.6+ MB\n",
      "None\n",
      "-------------------------\n",
      "name [' Beyblade Burst' ' Fire Emblem Fates' \" Frozen: Olaf's Quest\" ...\n",
      " 'uDraw Studio' 'uDraw Studio: Instant Artist'\n",
      " '¡Shin Chan Flipa en colores!']\n",
      "name  : кол-во 0 0 , процент 0 0.0 %\n",
      "name : кол-во NaN 0 , процент NaN 0.0 %\n",
      "-------------------------\n",
      "platform ['2600' '3DO' '3DS' 'DC' 'DS' 'GB' 'GBA' 'GC' 'GEN' 'GG' 'N64' 'NES' 'NG'\n",
      " 'PC' 'PCFX' 'PS' 'PS2' 'PS3' 'PS4' 'PSP' 'PSV' 'SAT' 'SCD' 'SNES' 'TG16'\n",
      " 'WS' 'Wii' 'WiiU' 'X360' 'XB' 'XOne']\n",
      "platform  : кол-во 0 0 , процент 0 0.0 %\n",
      "platform : кол-во NaN 0 , процент NaN 0.0 %\n",
      "-------------------------\n",
      "year_of_release [1980 1981 1982 1983 1984 1985 1986 1987 1988 1989 1990 1991 1992 1993\n",
      " 1994 1995 1996 1997 1998 1999 2000 2001 2002 2003 2004 2005 2006 2007\n",
      " 2008 2009 2010 2011 2012 2013 2014 2015 2016]\n",
      "year_of_release  : кол-во 0 0 , процент 0 0.0 %\n",
      "year_of_release : кол-во NaN 0 , процент NaN 0.0 %\n",
      "-------------------------\n",
      "genre ['Action' 'Adventure' 'Fighting' 'Misc' 'Platform' 'Puzzle' 'Racing'\n",
      " 'Role-Playing' 'Shooter' 'Simulation' 'Sports' 'Strategy']\n",
      "genre  : кол-во 0 0 , процент 0 0.0 %\n",
      "genre : кол-во NaN 0 , процент NaN 0.0 %\n",
      "-------------------------\n",
      "critic_score [13. 17. 19. 20. 21. 23. 24. 25. 26. 27. 28. 29. 30. 31. 32. 33. 34. 35.\n",
      " 36. 37. 38. 39. 40. 41. 42. 43. 44. 45. 46. 47. 48. 49. 50. 51. 52. 53.\n",
      " 54. 55. 56. 57. 58. 59. 60. 61. 62. 63. 64. 65. 66. 67. 68. 69. 70. 71.\n",
      " 72. 73. 74. 75. 76. 77. 78. 79. 80. 81. 82. 83. 84. 85. 86. 87. 88. 89.\n",
      " 90. 91. 92. 93. 94. 95. 96. 97. 98. nan]\n",
      "critic_score  : кол-во 0 0 , процент 0 0.0 %\n",
      "critic_score : кол-во NaN 8461 , процент NaN 51.45 %\n",
      "-------------------------\n",
      "user_score [0.  0.2 0.3 0.5 0.6 0.7 0.9 1.  1.1 1.2 1.3 1.4 1.5 1.6 1.7 1.8 1.9 2.\n",
      " 2.1 2.2 2.3 2.4 2.5 2.6 2.7 2.8 2.9 3.  3.1 3.2 3.3 3.4 3.5 3.6 3.7 3.8\n",
      " 3.9 4.  4.1 4.2 4.3 4.4 4.5 4.6 4.7 4.8 4.9 5.  5.1 5.2 5.3 5.4 5.5 5.6\n",
      " 5.7 5.8 5.9 6.  6.1 6.2 6.3 6.4 6.5 6.6 6.7 6.8 6.9 7.  7.1 7.2 7.3 7.4\n",
      " 7.5 7.6 7.7 7.8 7.9 8.  8.1 8.2 8.3 8.4 8.5 8.6 8.7 8.8 8.9 9.  9.1 9.2\n",
      " 9.3 9.4 9.5 9.6 9.7 nan]\n",
      "user_score  : кол-во 0 1 , процент 0 0.01 %\n",
      "user_score : кол-во NaN 8981 , процент NaN 54.62 %\n",
      "-------------------------\n",
      "rating ['AO' 'E' 'E10+' 'EC' 'K-A' 'M' 'RP' 'T' 'Unknown']\n",
      "rating  : кол-во 0 0 , процент 0 0.0 %\n",
      "rating : кол-во NaN 0 , процент NaN 0.0 %\n"
     ]
    }
   ],
   "source": [
    "# Комментарий ревьюера\n",
    "# Посмотрим, что у нас осталось\n",
    "temp = data.copy() \n",
    "list_c = ['name', 'platform', 'year_of_release', 'genre', 'critic_score', 'user_score', 'rating']\n",
    "print(temp.info())\n",
    "for col_l in list_c:\n",
    "  print('-'* 25)\n",
    "  print(col_l, temp[col_l].sort_values().unique())\n",
    "  print(col_l,' : кол-во 0', temp[temp[col_l] == 0][col_l].count(),\n",
    "        ', процент 0', round(temp[temp[col_l] == 0][col_l].count()/len(temp)*100, 2),'%')\n",
    "  print(col_l,': кол-во NaN',temp[col_l].isna().sum(),\n",
    "        ', процент NaN', round(temp[col_l].isna().sum()/len(temp)*100, 2),'%')"
   ]
  },
  {
   "cell_type": "markdown",
   "metadata": {},
   "source": [
    "## Исследовательский анализ данных"
   ]
  },
  {
   "cell_type": "markdown",
   "metadata": {},
   "source": [
    "### Количество выпущенных игр в разные годы"
   ]
  },
  {
   "cell_type": "markdown",
   "metadata": {},
   "source": [
    "Выведем количество игр, выпущенных в разные годы"
   ]
  },
  {
   "cell_type": "code",
   "execution_count": 16,
   "metadata": {},
   "outputs": [
    {
     "data": {
      "image/png": "[encoded data removed]",
      "text/plain": [
       "<Figure size 720x360 with 1 Axes>"
      ]
     },
     "metadata": {
      "needs_background": "light"
     },
     "output_type": "display_data"
    }
   ],
   "source": [
    "plt.figure(figsize=(10,5))\n",
    "plt.plot(data.groupby('year_of_release')['name'].count())\n",
    "plt.grid(True)\n",
    "plt.title('Количество выпущенных игр по годам', size=14)\n",
    "plt.xlabel('Год выпуска')\n",
    "plt.ylabel('Количество выпущенных игр')\n",
    "plt.show()"
   ]
  },
  {
   "cell_type": "markdown",
   "metadata": {},
   "source": [
    "Количество выпускаемых игр начало существенно расти с 1995 года.\\\n",
    "Наибольшее количество выпущено в 2000-х, при этом пик пришёлся на 2008-2009 годы, когда выпускалось более 1400 игр в год.\\\n",
    "С 2010 года количество выпускаемых игр перешло к снижению и после 2012 года стабилизировалось в районе 500-600 игр в год."
   ]
  },
  {
   "cell_type": "markdown",
   "metadata": {},
   "source": [
    "### Определение актуального временного периода"
   ]
  },
  {
   "cell_type": "markdown",
   "metadata": {},
   "source": [
    "Определим Топ-10 платформ с наибольшими суммарными продажами:"
   ]
  },
  {
   "cell_type": "code",
   "execution_count": 17,
   "metadata": {},
   "outputs": [
    {
     "data": {
      "image/png": "[encoded data removed]",
      "text/plain": [
       "<Figure size 720x360 with 1 Axes>"
      ]
     },
     "metadata": {
      "needs_background": "light"
     },
     "output_type": "display_data"
    },
    {
     "data": {
      "text/html": [
       "<div>\n",
       "<style scoped>\n",
       "    .dataframe tbody tr th:only-of-type {\n",
       "        vertical-align: middle;\n",
       "    }\n",
       "\n",
       "    .dataframe tbody tr th {\n",
       "        vertical-align: top;\n",
       "    }\n",
       "\n",
       "    .dataframe thead th {\n",
       "        text-align: right;\n",
       "    }\n",
       "</style>\n",
       "<table border=\"1\" class=\"dataframe\">\n",
       "  <thead>\n",
       "    <tr style=\"text-align: right;\">\n",
       "      <th></th>\n",
       "      <th>platform</th>\n",
       "      <th>total_sales</th>\n",
       "    </tr>\n",
       "  </thead>\n",
       "  <tbody>\n",
       "    <tr>\n",
       "      <th>10</th>\n",
       "      <td>PC</td>\n",
       "      <td>255.76</td>\n",
       "    </tr>\n",
       "    <tr>\n",
       "      <th>9</th>\n",
       "      <td>3DS</td>\n",
       "      <td>257.81</td>\n",
       "    </tr>\n",
       "    <tr>\n",
       "      <th>8</th>\n",
       "      <td>PSP</td>\n",
       "      <td>289.53</td>\n",
       "    </tr>\n",
       "    <tr>\n",
       "      <th>7</th>\n",
       "      <td>GBA</td>\n",
       "      <td>312.88</td>\n",
       "    </tr>\n",
       "    <tr>\n",
       "      <th>6</th>\n",
       "      <td>PS4</td>\n",
       "      <td>314.14</td>\n",
       "    </tr>\n",
       "    <tr>\n",
       "      <th>5</th>\n",
       "      <td>PS</td>\n",
       "      <td>727.58</td>\n",
       "    </tr>\n",
       "    <tr>\n",
       "      <th>4</th>\n",
       "      <td>DS</td>\n",
       "      <td>802.78</td>\n",
       "    </tr>\n",
       "    <tr>\n",
       "      <th>3</th>\n",
       "      <td>Wii</td>\n",
       "      <td>891.18</td>\n",
       "    </tr>\n",
       "    <tr>\n",
       "      <th>2</th>\n",
       "      <td>PS3</td>\n",
       "      <td>931.34</td>\n",
       "    </tr>\n",
       "    <tr>\n",
       "      <th>1</th>\n",
       "      <td>X360</td>\n",
       "      <td>961.24</td>\n",
       "    </tr>\n",
       "    <tr>\n",
       "      <th>0</th>\n",
       "      <td>PS2</td>\n",
       "      <td>1233.56</td>\n",
       "    </tr>\n",
       "  </tbody>\n",
       "</table>\n",
       "</div>"
      ],
      "text/plain": [
       "   platform  total_sales\n",
       "10       PC       255.76\n",
       "9       3DS       257.81\n",
       "8       PSP       289.53\n",
       "7       GBA       312.88\n",
       "6       PS4       314.14\n",
       "5        PS       727.58\n",
       "4        DS       802.78\n",
       "3       Wii       891.18\n",
       "2       PS3       931.34\n",
       "1      X360       961.24\n",
       "0       PS2      1233.56"
      ]
     },
     "execution_count": 17,
     "metadata": {},
     "output_type": "execute_result"
    }
   ],
   "source": [
    "top_sales_platforms = (\n",
    "    data.groupby('platform').agg({'total_sales' : 'sum'})\n",
    "    .sort_values(by='total_sales', ascending=False)\n",
    "    .head(11)\n",
    "    .reset_index()\n",
    "    .sort_values(by='total_sales')\n",
    ")\n",
    "\n",
    "plt.figure(figsize=(10,5))\n",
    "plt.barh(top_sales_platforms.platform, top_sales_platforms.total_sales)\n",
    "plt.title('Суммарные продажи для 10 самых продаваемых платформ (все годы)', size=14)\n",
    "plt.xlabel('Продажи, млн.копий')\n",
    "plt.grid(axis='x')\n",
    "plt.show()\n",
    "\n",
    "top_sales_platforms"
   ]
  },
  {
   "cell_type": "markdown",
   "metadata": {},
   "source": [
    "Посмотрим на распределение продаж для данных платформ по времени"
   ]
  },
  {
   "cell_type": "code",
   "execution_count": 19,
   "metadata": {},
   "outputs": [
    {
     "data": {
      "image/png": "[encoded data removed]",
      "text/plain": [
       "<Figure size 720x360 with 2 Axes>"
      ]
     },
     "metadata": {
      "needs_background": "light"
     },
     "output_type": "display_data"
    }
   ],
   "source": [
    "data = data.query('not(platform == \"DS\" and year_of_release == 1985)')\n",
    "\n",
    "top_sales_years = (\n",
    "    data.query('platform.isin(@top_sales_platforms.platform) and year_of_release > 0')\n",
    "    .pivot_table(index='platform', \n",
    "                 columns='year_of_release', \n",
    "                 values='total_sales', \n",
    "                 aggfunc='sum')\n",
    ")\n",
    "\n",
    "plt.figure(figsize=(10,5))\n",
    "ax = sns.heatmap(top_sales_years, cmap='Blues')\n",
    "ax.set_title('Продажи топ-10 популярных платформ по годам выпуска игр', size=14)\n",
    "ax.set(xlabel=None, ylabel=None)\n",
    "plt.show()"
   ]
  },
  {
   "cell_type": "markdown",
   "metadata": {},
   "source": [
    "Видим, что в данных содержатся игры с платформой DS, год выпуска которых датируется 1985 годом. Платформа DS впервые поступила в продажу в 2004 году, в связи с чем считаем эти данные ошибкой и удаляем соответствующие строки. Выводим график заново:"
   ]
  },
  {
   "cell_type": "markdown",
   "metadata": {},
   "source": [
    "Период роста спроса на наиболее попуряные платформы (за исключеним PC, где спрос всегда относительно стабилен) составляет около 4-5 лет, около 2-3 лет - пик спроса, далее поисходит спад, который составляет около 5-6 лет.\n",
    "\n",
    "Цикл \"жизни\" на платформы с точки зрения спроса обычно составляет около 10 лет."
   ]
  },
  {
   "cell_type": "markdown",
   "metadata": {},
   "source": [
    "Определим актуальный для исследования период с 2012 года. Количество выпускаемых игр с этого года стабильно, в то же время период в 5 лет позволит сделать выводы о том, на каком этапе \"жизни\" находятся актуальные платформы. В дальнейшем анализе будем в то же время учитывать, что данные за 2016 год могут быть не полными.\n",
    "\n",
    "Сделаем соответствующий срез данных."
   ]
  },
  {
   "cell_type": "code",
   "execution_count": 20,
   "metadata": {},
   "outputs": [
    {
     "data": {
      "text/html": [
       "<div>\n",
       "<style scoped>\n",
       "    .dataframe tbody tr th:only-of-type {\n",
       "        vertical-align: middle;\n",
       "    }\n",
       "\n",
       "    .dataframe tbody tr th {\n",
       "        vertical-align: top;\n",
       "    }\n",
       "\n",
       "    .dataframe thead th {\n",
       "        text-align: right;\n",
       "    }\n",
       "</style>\n",
       "<table border=\"1\" class=\"dataframe\">\n",
       "  <thead>\n",
       "    <tr style=\"text-align: right;\">\n",
       "      <th></th>\n",
       "      <th>name</th>\n",
       "      <th>platform</th>\n",
       "      <th>year_of_release</th>\n",
       "      <th>genre</th>\n",
       "      <th>na_sales</th>\n",
       "      <th>eu_sales</th>\n",
       "      <th>jp_sales</th>\n",
       "      <th>other_sales</th>\n",
       "      <th>critic_score</th>\n",
       "      <th>user_score</th>\n",
       "      <th>rating</th>\n",
       "      <th>total_sales</th>\n",
       "    </tr>\n",
       "  </thead>\n",
       "  <tbody>\n",
       "    <tr>\n",
       "      <th>16</th>\n",
       "      <td>Grand Theft Auto V</td>\n",
       "      <td>PS3</td>\n",
       "      <td>2013</td>\n",
       "      <td>Action</td>\n",
       "      <td>7.02</td>\n",
       "      <td>9.09</td>\n",
       "      <td>0.98</td>\n",
       "      <td>3.96</td>\n",
       "      <td>97.0</td>\n",
       "      <td>8.2</td>\n",
       "      <td>M</td>\n",
       "      <td>21.05</td>\n",
       "    </tr>\n",
       "    <tr>\n",
       "      <th>23</th>\n",
       "      <td>Grand Theft Auto V</td>\n",
       "      <td>X360</td>\n",
       "      <td>2013</td>\n",
       "      <td>Action</td>\n",
       "      <td>9.66</td>\n",
       "      <td>5.14</td>\n",
       "      <td>0.06</td>\n",
       "      <td>1.41</td>\n",
       "      <td>97.0</td>\n",
       "      <td>8.1</td>\n",
       "      <td>M</td>\n",
       "      <td>16.27</td>\n",
       "    </tr>\n",
       "    <tr>\n",
       "      <th>31</th>\n",
       "      <td>Call of Duty: Black Ops 3</td>\n",
       "      <td>PS4</td>\n",
       "      <td>2015</td>\n",
       "      <td>Shooter</td>\n",
       "      <td>6.03</td>\n",
       "      <td>5.86</td>\n",
       "      <td>0.36</td>\n",
       "      <td>2.38</td>\n",
       "      <td>NaN</td>\n",
       "      <td>NaN</td>\n",
       "      <td>Unknown</td>\n",
       "      <td>14.63</td>\n",
       "    </tr>\n",
       "    <tr>\n",
       "      <th>33</th>\n",
       "      <td>Pokemon X/Pokemon Y</td>\n",
       "      <td>3DS</td>\n",
       "      <td>2013</td>\n",
       "      <td>Role-Playing</td>\n",
       "      <td>5.28</td>\n",
       "      <td>4.19</td>\n",
       "      <td>4.35</td>\n",
       "      <td>0.78</td>\n",
       "      <td>NaN</td>\n",
       "      <td>NaN</td>\n",
       "      <td>Unknown</td>\n",
       "      <td>14.60</td>\n",
       "    </tr>\n",
       "    <tr>\n",
       "      <th>34</th>\n",
       "      <td>Call of Duty: Black Ops II</td>\n",
       "      <td>PS3</td>\n",
       "      <td>2012</td>\n",
       "      <td>Shooter</td>\n",
       "      <td>4.99</td>\n",
       "      <td>5.73</td>\n",
       "      <td>0.65</td>\n",
       "      <td>2.42</td>\n",
       "      <td>83.0</td>\n",
       "      <td>5.3</td>\n",
       "      <td>M</td>\n",
       "      <td>13.79</td>\n",
       "    </tr>\n",
       "  </tbody>\n",
       "</table>\n",
       "</div>"
      ],
      "text/plain": [
       "                          name platform  year_of_release         genre  \\\n",
       "16          Grand Theft Auto V      PS3             2013        Action   \n",
       "23          Grand Theft Auto V     X360             2013        Action   \n",
       "31   Call of Duty: Black Ops 3      PS4             2015       Shooter   \n",
       "33         Pokemon X/Pokemon Y      3DS             2013  Role-Playing   \n",
       "34  Call of Duty: Black Ops II      PS3             2012       Shooter   \n",
       "\n",
       "    na_sales  eu_sales  jp_sales  other_sales  critic_score  user_score  \\\n",
       "16      7.02      9.09      0.98         3.96          97.0         8.2   \n",
       "23      9.66      5.14      0.06         1.41          97.0         8.1   \n",
       "31      6.03      5.86      0.36         2.38           NaN         NaN   \n",
       "33      5.28      4.19      4.35         0.78           NaN         NaN   \n",
       "34      4.99      5.73      0.65         2.42          83.0         5.3   \n",
       "\n",
       "     rating  total_sales  \n",
       "16        M        21.05  \n",
       "23        M        16.27  \n",
       "31  Unknown        14.63  \n",
       "33  Unknown        14.60  \n",
       "34        M        13.79  "
      ]
     },
     "metadata": {},
     "output_type": "display_data"
    },
    {
     "name": "stdout",
     "output_type": "stream",
     "text": [
      "Количество строк: 2886\n"
     ]
    }
   ],
   "source": [
    "new_data = data.query('year_of_release >= 2012')\n",
    "display(new_data.head())\n",
    "print('Количество строк:', new_data.shape[0])"
   ]
  },
  {
   "cell_type": "markdown",
   "metadata": {},
   "source": [
    "### Продажи игр по платформам"
   ]
  },
  {
   "cell_type": "markdown",
   "metadata": {},
   "source": [
    "Выведем количество продаж по платформам с 2012 года. При этом при рассмотрении продаж в динамике 2016 год в расчёт не берём, поскольку данные по нему могут быть неполными)"
   ]
  },
  {
   "cell_type": "code",
   "execution_count": 21,
   "metadata": {},
   "outputs": [
    {
     "data": {
      "image/png": "[encoded data removed]",
      "text/plain": [
       "<Figure size 1080x360 with 3 Axes>"
      ]
     },
     "metadata": {
      "needs_background": "light"
     },
     "output_type": "display_data"
    }
   ],
   "source": [
    "#формируем сводные таблицы\n",
    "new_platform_total_sales = (new_data.groupby('platform')['total_sales'].sum()\n",
    "                            .sort_values(ascending=False)\n",
    "                            .reset_index()\n",
    "                           )\n",
    "\n",
    "new_platform_sales = new_data.pivot_table(index='platform', \n",
    "                                          columns='year_of_release', \n",
    "                                          values='total_sales', \n",
    "                                          aggfunc='sum')\n",
    "\n",
    "#рисуем графики\n",
    "plt.figure(figsize=(15,5))\n",
    "\n",
    "plt.subplot(1,2,1)\n",
    "ax = sns.heatmap(new_platform_sales.iloc[:,0:4], cmap='Blues')\n",
    "ax.set_title('Продажи игр 2012-2015гг., по годам выпуска', size=12)\n",
    "ax.set(xlabel=None, ylabel=None)\n",
    "\n",
    "plt.subplot(1,2,2)\n",
    "plt.bar(new_platform_total_sales.platform, new_platform_total_sales.total_sales)\n",
    "plt.title('Продажи игр 2012-2016гг., суммарно', size=12)\n",
    "plt.grid(axis='y')\n",
    "plt.ylabel('Объём продаж, млн.копий')\n",
    "plt.show()"
   ]
  },
  {
   "cell_type": "markdown",
   "metadata": {},
   "source": [
    "По графикам видно, что платформа **PS3** пользовалась самой большой среди других платформ популярностью до 2014 года, но с этого момента уступила место своему преемнику **PS4**, последняя и является лидером продаж, причём от года к году продажи растут и можно предположить, что в 2017 году эта платформа останется самой перспективной.\n",
    "\n",
    "Вторая платформа, которая находится в первой половине своего жизненного цикла продаж - **XOne**, к концу исследуемого периода она уступает по объёмам продаж только лидеру, **PS4**.\n",
    "\n",
    "Платформы **3DS, WiiU, X360** также отличаются высокими продажами, но их динамика уже несколько лет отрицательная, жизненный цикл подходит к концу.\n",
    "\n",
    "Отдельно стоит отметить платформу **PC** - у неё наблюдаем относительно небольшие продажи и постепенное их дальнейшее снижение, однако, в исторической перспективе подобные колбания не влияли на \"живучесть\" платформы в течение долгих лет. Из чего делаем вывод, что, с одной стороны, ожидать от неё взлётов не стоит, но и вряд ли в перспективе продажи сильно упадут."
   ]
  },
  {
   "cell_type": "markdown",
   "metadata": {},
   "source": [
    "Построим, как распределяются показатели продаж игр на разных платформах:"
   ]
  },
  {
   "cell_type": "markdown",
   "metadata": {},
   "source": [
    "Посмотрим, как влияют на продажи внутри популярной платформы **XOne** отзывы пользователей и критиков. Построим диаграмму рассеяния и посчитаем корреляцию между отзывами и продажами."
   ]
  },
  {
   "cell_type": "code",
   "execution_count": 22,
   "metadata": {},
   "outputs": [
    {
     "data": {
      "image/png": "[encoded data removed]",
      "text/plain": [
       "<Figure size 1080x360 with 2 Axes>"
      ]
     },
     "metadata": {
      "needs_background": "light"
     },
     "output_type": "display_data"
    }
   ],
   "source": [
    "plt.figure(figsize=(15,5))\n",
    "plt.suptitle('Распределение показателей продаж игр 2012-2016гг. по платформам', size=14)\n",
    "plt.subplot(1,2,1)\n",
    "ax = sns.boxplot(data=new_data, x='platform', y='total_sales')\n",
    "plt.grid(axis='y')\n",
    "\n",
    "plt.subplot(1,2,2)\n",
    "ax = sns.boxplot(data=new_data, x='platform', y='total_sales')\n",
    "plt.ylim(0,2)\n",
    "plt.grid(axis='y')\n",
    "plt.show()"
   ]
  },
  {
   "cell_type": "markdown",
   "metadata": {},
   "source": [
    "Наибольшее количество игр с высокими продажами приходится на платформы X360, XOne, PS3, PS4, Wii, WiiU. Это подтверждает выводы, сделанные выше, относительно наиболее перспективных с точки зрения продаж платформ."
   ]
  },
  {
   "cell_type": "markdown",
   "metadata": {},
   "source": [
    "### Влияние на продажи отзывов пользователей и критиков"
   ]
  },
  {
   "cell_type": "markdown",
   "metadata": {},
   "source": [
    "Исследуем влияние на продажи отзывов. Для этоо построим диаграммы рассеяния и рассчитаем корреляцию для пяти платформ с наибольшим количеством отзывов."
   ]
  },
  {
   "cell_type": "code",
   "execution_count": 23,
   "metadata": {
    "scrolled": false
   },
   "outputs": [
    {
     "data": {
      "image/png": "[encoded data removed]",
      "text/plain": [
       "<Figure size 1080x288 with 2 Axes>"
      ]
     },
     "metadata": {
      "needs_background": "light"
     },
     "output_type": "display_data"
    },
    {
     "name": "stdout",
     "output_type": "stream",
     "text": [
      "Коэффициент корреляции продаж и оценок пользователей: -0.03\n",
      "Коэффициент корреляции продаж и оценок критиков: 0.41\n"
     ]
    },
    {
     "data": {
      "image/png": "[encoded data removed]",
      "text/plain": [
       "<Figure size 1080x288 with 2 Axes>"
      ]
     },
     "metadata": {
      "needs_background": "light"
     },
     "output_type": "display_data"
    },
    {
     "name": "stdout",
     "output_type": "stream",
     "text": [
      "Коэффициент корреляции продаж и оценок пользователей: -0.01\n",
      "Коэффициент корреляции продаж и оценок критиков: 0.33\n"
     ]
    },
    {
     "data": {
      "image/png": "[encoded data removed]",
      "text/plain": [
       "<Figure size 1080x288 with 2 Axes>"
      ]
     },
     "metadata": {
      "needs_background": "light"
     },
     "output_type": "display_data"
    },
    {
     "name": "stdout",
     "output_type": "stream",
     "text": [
      "Коэффициент корреляции продаж и оценок пользователей: 0.01\n",
      "Коэффициент корреляции продаж и оценок критиков: 0.36\n"
     ]
    },
    {
     "data": {
      "image/png": "[encoded data removed]",
      "text/plain": [
       "<Figure size 1080x288 with 2 Axes>"
      ]
     },
     "metadata": {
      "needs_background": "light"
     },
     "output_type": "display_data"
    },
    {
     "name": "stdout",
     "output_type": "stream",
     "text": [
      "Коэффициент корреляции продаж и оценок пользователей: -0.12\n",
      "Коэффициент корреляции продаж и оценок критиков: 0.24\n"
     ]
    },
    {
     "data": {
      "image/png": "[encoded data removed]",
      "text/plain": [
       "<Figure size 1080x288 with 2 Axes>"
      ]
     },
     "metadata": {
      "needs_background": "light"
     },
     "output_type": "display_data"
    },
    {
     "name": "stdout",
     "output_type": "stream",
     "text": [
      "Коэффициент корреляции продаж и оценок пользователей: -0.07\n",
      "Коэффициент корреляции продаж и оценок критиков: 0.42\n"
     ]
    }
   ],
   "source": [
    "def platform_score_plots(platform):\n",
    "    platform_data = new_data.query('platform == @platform')\n",
    "    plt.figure(figsize=(15,4))\n",
    "    plt.suptitle(f'Платформа {platform}', size=14)\n",
    "    plt.subplot(1,2,1)\n",
    "    plt.scatter(x=platform_data.user_score, y=platform_data.total_sales, s=10)\n",
    "    plt.title('Зависимость продаж игр от оценок пользователей', size=13)\n",
    "    plt.xlabel('Оценка пользователей по шкале от 1 до 10')\n",
    "    plt.ylabel('Продажи, млн.копий')\n",
    "    plt.grid(True)\n",
    "    plt.ylim(0,2)\n",
    "    \n",
    "    plt.subplot(1,2,2)\n",
    "    plt.scatter(x=platform_data.critic_score, y=platform_data.total_sales, s=10, c='green')\n",
    "    plt.title('Зависимость продаж игр от оценок критиков', size=13)\n",
    "    plt.xlabel('Оценка критиков по шкале от 1 до 100')\n",
    "    plt.ylabel('Продажи, млн.копий')\n",
    "    plt.ylim(0,2)\n",
    "    plt.grid(True)\n",
    "    plt.show()\n",
    "    \n",
    "    print('Коэффициент корреляции продаж и оценок пользователей:', \n",
    "      round(platform_data.total_sales.corr(platform_data.user_score),2))\n",
    "    print('Коэффициент корреляции продаж и оценок критиков:', \n",
    "      round(platform_data.total_sales.corr(platform_data.critic_score),2))\n",
    "\n",
    "platforms_score = new_data.groupby('platform')[['critic_score', 'user_score']].agg('count')\n",
    "platforms_score['total_score'] = platforms_score[['critic_score', 'user_score']].sum(axis=1)\n",
    "platforms_score = platforms_score.sort_values(by='total_score', ascending=False).head(5).index\n",
    "\n",
    "for x in platforms_score:\n",
    "    platform_score_plots(x)"
   ]
  },
  {
   "cell_type": "markdown",
   "metadata": {},
   "source": [
    "Как те, так и другие отзывы нельзя назвать определяющим фактором, влияющим на продажи. Но если зависимости показателей продаж от оценок пользователей не наблюдаем вовсе, то в случае с оценками критиков наблюдаем среднюю положительную корреляцию с продажами. Возможно, это связано с тем, что покупатели при принятии решения о покупке всё же в какой-то мере ориентируются на мнение критиков. Впрочем, возможно и обратное, что критики чаще объективно оценивают потенциал игры на рынке."
   ]
  },
  {
   "cell_type": "markdown",
   "metadata": {},
   "source": [
    "### Спрос на игры разных жанров"
   ]
  },
  {
   "cell_type": "markdown",
   "metadata": {},
   "source": [
    "Посмотрим на количество изданных игр разных жанров и их суммарные продажи."
   ]
  },
  {
   "cell_type": "code",
   "execution_count": 24,
   "metadata": {},
   "outputs": [
    {
     "data": {
      "image/png": "[encoded data removed]",
      "text/plain": [
       "<Figure size 1080x360 with 2 Axes>"
      ]
     },
     "metadata": {
      "needs_background": "light"
     },
     "output_type": "display_data"
    }
   ],
   "source": [
    "genres_sales = new_data.groupby('genre')['total_sales'].agg(['count','sum','median'])\n",
    "genres_sales.columns = ['count_games', 'total_sales', 'median_sales']\n",
    "genres_sales = genres_sales.sort_values(by='total_sales', ascending=False)\n",
    "\n",
    "plt.figure(figsize=(15,5))\n",
    "plt.subplot(1,2,2)\n",
    "plt.bar(genres_sales.index, genres_sales.count_games)\n",
    "plt.title('Количество игр разных жанров, выпущенных в 2012-2016гг.', size=14)\n",
    "plt.xticks(rotation=45)\n",
    "plt.xlabel('Количество выпущенных игр')\n",
    "plt.grid(axis='y')\n",
    "\n",
    "plt.subplot(1,2,1)\n",
    "plt.bar(genres_sales.index, genres_sales.total_sales, color='green')\n",
    "plt.title('Продажи игр разных жанров, выпущенных в 2012-2016гг.', size=14)\n",
    "plt.xlabel('Продажи, млн.копий')\n",
    "plt.xticks(rotation=45)\n",
    "plt.grid(axis='y')\n",
    "plt.show()"
   ]
  },
  {
   "cell_type": "markdown",
   "metadata": {},
   "source": [
    "Больше всего суммарных продаж в жанрах **Action, Shooter, Role_Playing, Sports**, что объяснимо, поскольку именно в этих жанрах вышло больше всего игр. Исключение - жанр **Adventure**, где игр вышло много, а продаж мало."
   ]
  },
  {
   "cell_type": "markdown",
   "metadata": {},
   "source": [
    "Сравним медианные показатели продаж на игры разных жанров."
   ]
  },
  {
   "cell_type": "code",
   "execution_count": 25,
   "metadata": {},
   "outputs": [
    {
     "data": {
      "image/png": "[encoded data removed]",
      "text/plain": [
       "<Figure size 1080x720 with 2 Axes>"
      ]
     },
     "metadata": {
      "needs_background": "light"
     },
     "output_type": "display_data"
    },
    {
     "data": {
      "image/png": "[encoded data removed]",
      "text/plain": [
       "<Figure size 1080x360 with 1 Axes>"
      ]
     },
     "metadata": {
      "needs_background": "light"
     },
     "output_type": "display_data"
    }
   ],
   "source": [
    "plt.figure(figsize=(15,10))\n",
    "plt.subplot(2,1,1)\n",
    "ax = sns.boxplot(data=new_data, x='genre', y='total_sales')\n",
    "ax.set_title('Продажи игр разных жанров, выпущенных в 2012-2016гг.', size=14)\n",
    "plt.grid(axis='y')\n",
    "\n",
    "plt.subplot(2,1,2)\n",
    "ax = sns.boxplot(data=new_data, x='genre', y='total_sales')\n",
    "plt.ylim(0,3.6)\n",
    "plt.grid(axis='y')\n",
    "\n",
    "plt.figure(figsize=(15,5))\n",
    "plt.barh(genres_sales.sort_values(by='median_sales').index, \n",
    "         genres_sales.sort_values(by='median_sales').median_sales,\n",
    "         color='red')\n",
    "plt.title('Медианные продажи игр разных жанров, выпущенных в 2012-2016гг.', size=14)\n",
    "plt.xlabel('Медианные продажи с одной игры, млн.копий')\n",
    "plt.grid(axis='x')\n",
    "plt.show()"
   ]
  },
  {
   "cell_type": "markdown",
   "metadata": {},
   "source": [
    "Самый эффективный с точки зрения продаж жанр - **Shooter**, мединные продажи - примерно 450млн. копий с игры.\n",
    "\n",
    "Жанры **Platform, Sports** - следующие по эффективности продаж, здесь медиана - 200 и 250тыс.копий на одну игру, соответственно.\n",
    "\n",
    "Наименьшим спросом пользуются игры жанров - **Strategy, Puzzle, Adventure**, медианные продажи - менее 100тыс.копий на игру.\n",
    "\n",
    "Медианные показатели продаж остальных жанров сопоставимы и составляют 120-150тыс. проданных копий на игру."
   ]
  },
  {
   "cell_type": "markdown",
   "metadata": {},
   "source": [
    "### Выводы по исследовательскому анализу"
   ]
  },
  {
   "cell_type": "markdown",
   "metadata": {},
   "source": [
    "1. По динамике количества выпускаемых игр:\n",
    "* Количество выпускаемых игр начало существенно расти с 1995 года, наибольшее количество выпущено в 2000-х, с 2010 года – спад и к 2012 году стабилизация на уровне 500-600 игр в год. \n",
    "* Для исследования выбран период с 2012 года, когда количество выпускаемых игр стабилизировалось\n",
    "2. По динамике спроса на платформы:\n",
    "* «Жизненный цикл» спроса на наиболее популярные платформы составляет около 10 лет: около 4-5 лет - рост, 2-3 года – стабильный пик спроса, далее постепенное снижение на протяжении 5-6 лет\n",
    "* PC – платформа с небольшим, но самым стабильным спросом\n",
    "* Самые перспективные платформы с точки зрения общего количества продаж – PS4, пришедшая в 2014 году на замену всё ещё популярной PS3, а также XOne, спрос на которую пока также растёт.\n",
    "* Игры на платформах **3DS, WiiU, X360** отличаются высокими суммарными продажами, но их динамика уже несколько лет отрицательная, жизненный цикл подходит к концу.\n",
    "3. По влиянию отзывов на продажи:\n",
    "* Корреляция продаж и оценок пользователей отсутствует. Есть средняя положительная корреляция оценок игр критиками и объёмов их продаж. Возможно, это связано с тем, что покупатели при принятии решения о покупке всё же в какой-то мере ориентируются на мнение критиков. Впрочем, возможно и обратное, что критики часто достаточно объективно оценивают потенциал игры на рынке.\n",
    "4. По популярности жанров:\n",
    "* Больше всего суммарных продаж в жанрах **Action, Shooter, Role_Playing, Sports**, что объяснимо, поскольку именно в этих жанрах вышло больше всего игр. Исключение - жанр **Adventure**, где игр вышло много, а продаж мало.\n",
    "* Самый эффективный с точки зрения продаж жанр - **Shooter**, медианные объёмы продаж - примерно 450млн. копий с игры. Жанры **Platform, Sports** - следующие по эффективности продаж, здесь медиана - 200 и 250тыс.копий на одну игру, соответственно. Наименьшим спросом пользуются игры жанров - **Strategy, Puzzle, Adventure**, медианные продажи - менее 100тыс.копий на игру. Медианные показатели продаж остальных жанров сопоставимы и составляют 120-150тыс. проданных копий на игру.\n"
   ]
  },
  {
   "cell_type": "markdown",
   "metadata": {},
   "source": [
    "## Портрет пользователя по регионам"
   ]
  },
  {
   "cell_type": "markdown",
   "metadata": {},
   "source": [
    "### Топ-5 популярных жанров в регионах "
   ]
  },
  {
   "cell_type": "markdown",
   "metadata": {},
   "source": [
    "Выведем мединные продажи игр каждого жанра по регионам."
   ]
  },
  {
   "cell_type": "code",
   "execution_count": 26,
   "metadata": {},
   "outputs": [
    {
     "data": {
      "image/png": "[encoded data removed]",
      "text/plain": [
       "<Figure size 1080x216 with 2 Axes>"
      ]
     },
     "metadata": {
      "needs_background": "light"
     },
     "output_type": "display_data"
    },
    {
     "data": {
      "image/png": "[encoded data removed]",
      "text/plain": [
       "<Figure size 1080x216 with 2 Axes>"
      ]
     },
     "metadata": {
      "needs_background": "light"
     },
     "output_type": "display_data"
    },
    {
     "data": {
      "image/png": "[encoded data removed]",
      "text/plain": [
       "<Figure size 1080x216 with 2 Axes>"
      ]
     },
     "metadata": {
      "needs_background": "light"
     },
     "output_type": "display_data"
    }
   ],
   "source": [
    "def pie_bar_plots(group, col, title, clr='Green', numtop=5):\n",
    "    df_sales = (new_data.groupby(group)\n",
    "                    .agg({col:'median'})\n",
    "                    .sort_values(by=col, ascending=False)\n",
    "                    .reset_index()\n",
    "                   )\n",
    "    df_sales.iloc[(numtop):,0] = 'Other'\n",
    "    df_sales = df_sales.groupby(group).agg({col:'sum'}).sort_values(by=col,ascending=False)\n",
    "    \n",
    "    plt.figure(figsize=(15,3))\n",
    "    plt.suptitle(title, fontsize=14)\n",
    "    plt.subplot(1,2,1)\n",
    "    plt.pie(df_sales[col], labels=df_sales.index, normalize=True, autopct='%1.0f%%')\n",
    "    plt.subplot(1,2,2)\n",
    "    plt.bar(df_sales.index, df_sales[col], color=clr)\n",
    "    plt.ylabel('Медианные продажи, млн.копий')\n",
    "    plt.grid(axis='y')\n",
    "    plt.show()\n",
    "\n",
    "pie_bar_plots('genre', 'eu_sales', 'Топ-5 жанров по медианным продажам 2012-2016гг., Европа')\n",
    "pie_bar_plots('genre', 'na_sales', 'Северная Америка', clr='Blue')\n",
    "pie_bar_plots('genre', 'jp_sales', 'Япония', clr='Red')"
   ]
  },
  {
   "cell_type": "markdown",
   "metadata": {},
   "source": [
    "Первое место по полуряности жанров в Европе и Америке - жанр **Shooter**, доля спроса - 34% в Европе и 39% в Америке.\n",
    "\n",
    "Второе по популярности в Европе занимает жанр **Raicing**, в то время как в Северной Америке этот жанр на пятом месте.\n",
    "Жанр **Platform** одинаково популярен в Европе и Северной Америке, занимая 16% спроса в Европе и 18% в Америке. Затем следует жанр **Sports**, более популярный в Северной Америке (10% спроса) и чуть менее в Европе(16%).\n",
    "\n",
    "Иначе распределяются медианные продажи в Японии. Здесь лучше всего покупают игры жанра **Role-Playing**, 46% от спроса среди других популярных жанров. На втором месте - **Fighting** (23%), далее - **Misc** (15%) и в равной степени **Action** и **Adventure** (по 8%)"
   ]
  },
  {
   "cell_type": "markdown",
   "metadata": {},
   "source": [
    "### Топ-5 популярных платформ в регионах "
   ]
  },
  {
   "cell_type": "code",
   "execution_count": 27,
   "metadata": {},
   "outputs": [
    {
     "data": {
      "image/png": "[encoded data removed]",
      "text/plain": [
       "<Figure size 1080x216 with 2 Axes>"
      ]
     },
     "metadata": {
      "needs_background": "light"
     },
     "output_type": "display_data"
    },
    {
     "data": {
      "image/png": "[encoded data removed]",
      "text/plain": [
       "<Figure size 1080x216 with 2 Axes>"
      ]
     },
     "metadata": {
      "needs_background": "light"
     },
     "output_type": "display_data"
    },
    {
     "data": {
      "image/png": "[encoded data removed]",
      "text/plain": [
       "<Figure size 1080x216 with 2 Axes>"
      ]
     },
     "metadata": {
      "needs_background": "light"
     },
     "output_type": "display_data"
    }
   ],
   "source": [
    "pie_bar_plots('platform', 'eu_sales', 'Топ-5 платформ по медианным подажам 2012-2016гг., Европа')\n",
    "pie_bar_plots('platform', 'na_sales', 'Северная Америка', 'Blue')\n",
    "pie_bar_plots('platform', 'jp_sales', 'Япония', 'Red')"
   ]
  },
  {
   "cell_type": "markdown",
   "metadata": {},
   "source": [
    "В Европе и Америке наибольшим медианным спросом пользуются игры на платформе **X360**, доля продаж среди популярных платформ - 21% и 31%, соответстсвенно. \n",
    "\n",
    "На втором месте - **PS4** в Европе (17%), в то время как в Америке эта платформа занимает четвёртое место по популярности (11% в топе). \n",
    "\n",
    "Напротив, **XOne** более популярная в Америке (22%) и менее - в Европе (15%). Платфрма WiiU - на третьем месте, одинаково популярна в Европе и Америке. \n",
    "\n",
    "Пятое место занимает **PC** в Европе и **PS3** в Америке.\n",
    "\n",
    "В Японии популярность платформ распределяется по-другому: лидирующие позиции - у платформы **3DS** (доля спроса 38%), затем одинаковыми медианными продажами с игры обладают платформы **PS3, PSP, PSV** и на пятом месте **PS4**.\n",
    "\n",
    "Как видно, Япония отстаёт от остальных регионов по современности платформ: платформа **3DS**, как мы наблюдали ранее, постепенно уходит с рынка, здесь же в ближайшие годы ещё точно будет пользоваться популярностью. В то же время, популярная в других региоах **PS4** только начала приходить в Японию и, вероятно, скоро её популярность возрастёт и здесь, начав отбирать долю у **PS3**."
   ]
  },
  {
   "cell_type": "markdown",
   "metadata": {},
   "source": [
    "### Влияние на продажи рейтинга ESRB"
   ]
  },
  {
   "cell_type": "markdown",
   "metadata": {},
   "source": [
    "Посмотрим, как влияет на продажи рейтинг ESRB."
   ]
  },
  {
   "cell_type": "code",
   "execution_count": 28,
   "metadata": {},
   "outputs": [
    {
     "data": {
      "image/png": "[encoded data removed]",
      "text/plain": [
       "<Figure size 1080x216 with 2 Axes>"
      ]
     },
     "metadata": {
      "needs_background": "light"
     },
     "output_type": "display_data"
    },
    {
     "data": {
      "image/png": "[encoded data removed]",
      "text/plain": [
       "<Figure size 1080x216 with 2 Axes>"
      ]
     },
     "metadata": {
      "needs_background": "light"
     },
     "output_type": "display_data"
    },
    {
     "data": {
      "image/png": "[encoded data removed]",
      "text/plain": [
       "<Figure size 1080x216 with 2 Axes>"
      ]
     },
     "metadata": {
      "needs_background": "light"
     },
     "output_type": "display_data"
    }
   ],
   "source": [
    "pie_bar_plots('rating', 'eu_sales', 'Медианные продажи игр в 2012-2016гг. в Европе зависимости от рейтинга ESRB', \n",
    "              numtop=len(new_data.rating.unique()))\n",
    "pie_bar_plots('rating', 'na_sales', 'Медианные продажи игр в 2012-2016гг. в Северной Америке зависимости от рейтинга ESRB', \n",
    "              numtop=len(new_data.rating.unique()))\n",
    "pie_bar_plots('rating', 'jp_sales', 'Медианные продажи игр в 2012-2016гг. в Японии зависимости от рейтинга ESRB', \n",
    "              numtop=len(new_data.rating.unique()))"
   ]
  },
  {
   "cell_type": "markdown",
   "metadata": {},
   "source": [
    "Как видим, в Европе и Америке продаются лучше других игры с рейтингом **М** (для детей от 17 и старше) и **E10+** (для детей старше 10 лет). Игры с рейтингом **E** (для всех возрастов) и **T** (для детей старше 13 лет) пользуюся меньшим спросом.\n",
    "\n",
    "В Японии большую часть продаж занимают игры без возрастного рейтинга, что логично, поскольку в Японии маркировка игр отсутствует."
   ]
  },
  {
   "cell_type": "code",
   "execution_count": 29,
   "metadata": {},
   "outputs": [
    {
     "name": "stdout",
     "output_type": "stream",
     "text": [
      "0 0.0\n"
     ]
    },
    {
     "data": {
      "text/plain": [
       "Unknown    1275\n",
       "M           498\n",
       "T           412\n",
       "E           395\n",
       "E10+        306\n",
       "Name: rating, dtype: int64"
      ]
     },
     "execution_count": 29,
     "metadata": {},
     "output_type": "execute_result"
    }
   ],
   "source": [
    "# Комментарий ревьюера\n",
    "temp = new_data.copy()\n",
    "print(temp.rating.isna().sum(), temp.rating.isna().sum()/len(temp))\n",
    "temp.rating.value_counts()"
   ]
  },
  {
   "cell_type": "markdown",
   "metadata": {},
   "source": [
    "## Проверка гипотез"
   ]
  },
  {
   "cell_type": "markdown",
   "metadata": {},
   "source": [
    "Согласно заданию, нам неободимо проверить следующие гипотезы:\n",
    "1. Средние пользовательские рейтинги платформ Xbox One и PC одинаковые;\n",
    "2. Средние пользовательские рейтинги жанров Action (англ. «действие», экшен-игры) и Sports (англ. «спортивные соревнования») разные."
   ]
  },
  {
   "cell_type": "markdown",
   "metadata": {},
   "source": [
    "### Средние пользовательские рейтинги платформ Xbox One и PC одинаковые"
   ]
  },
  {
   "cell_type": "markdown",
   "metadata": {},
   "source": [
    "Нулевая гипотеза: Средние пользовательские рейтинги платформ Xbox One и PC одинаковые, т.е. принадлежат одной генеральной совокупности.\n",
    "Альтернативная гипотеза: Средние пользовательские рейтинги платформ Xbox One и PC отличаются, т.е. принадлежат разным генеральным совокупностям."
   ]
  },
  {
   "cell_type": "markdown",
   "metadata": {},
   "source": [
    "Построим графики распределения пользовательского рейтинга для платформ XBox One и PC:"
   ]
  },
  {
   "cell_type": "code",
   "execution_count": 30,
   "metadata": {},
   "outputs": [
    {
     "data": {
      "image/png": "[encoded data removed]",
      "text/plain": [
       "<Figure size 1080x360 with 2 Axes>"
      ]
     },
     "metadata": {
      "needs_background": "light"
     },
     "output_type": "display_data"
    }
   ],
   "source": [
    "pc_user_scores = new_data.query('platform == \"PC\" and user_score.notna()').user_score\n",
    "xone_user_scores = new_data.query('platform == \"XOne\" and user_score.notna()').user_score\n",
    "\n",
    "plt.figure(figsize=(15,5))\n",
    "plt.subplot(1,2,1)\n",
    "plt.hist(pc_user_scores, bins=10)\n",
    "plt.title('Распределение пользовательского рейтинга, PC')\n",
    "plt.axvline(pc_user_scores.mean(), color='black', linestyle='dashed', linewidth=1)\n",
    "plt.text(6.5, 47, f'Средн.рейтинг: {round(pc_user_scores.mean(), 2)}')\n",
    "plt.ylim(0,50)\n",
    "plt.xlabel('Пользовательский рейтинг')\n",
    "\n",
    "plt.subplot(1,2,2)\n",
    "plt.hist(xone_user_scores, bins=10)\n",
    "plt.title('Распределение пользовательского рейтинга, XBox One')\n",
    "plt.axvline(xone_user_scores.mean(), color='black', linestyle='dashed', linewidth=1)\n",
    "plt.text(6.6, 47, f'Средн.рейтинг: {round(xone_user_scores.mean(), 2)}')\n",
    "plt.xlabel('Пользовательский рейтинг')\n",
    "plt.ylim(0,50)\n",
    "plt.show()"
   ]
  },
  {
   "cell_type": "markdown",
   "metadata": {},
   "source": [
    "Проведём тест Стюдента для двух выборок:"
   ]
  },
  {
   "cell_type": "code",
   "execution_count": 31,
   "metadata": {},
   "outputs": [
    {
     "name": "stdout",
     "output_type": "stream",
     "text": [
      "P-Value: 0.5535080500643661\n",
      "P-Value выше порогового, нет оснований отвергнуть нулевую гипотезу\n"
     ]
    }
   ],
   "source": [
    "alpha = 0.01\n",
    "results = scipy.stats.ttest_ind(pc_user_scores, xone_user_scores)\n",
    "print('P-Value:', results.pvalue)\n",
    "if results.pvalue < alpha:\n",
    "    print('P-value ниже порогового значения, отвергаем нулевую гипотезу')\n",
    "else:\n",
    "    print('P-Value выше порогового, нет оснований отвергнуть нулевую гипотезу')"
   ]
  },
  {
   "cell_type": "markdown",
   "metadata": {},
   "source": [
    "Таким образом, считаем верной гипотезу о равенстве средних пользовательских рейтингов платформ **Xbox One и PC**."
   ]
  },
  {
   "cell_type": "markdown",
   "metadata": {},
   "source": [
    "### Средние пользовательские рейтинги жанров Action (англ. «действие», экшен-игры) и Sports (англ. «спортивные соревнования») разные."
   ]
  },
  {
   "cell_type": "markdown",
   "metadata": {},
   "source": [
    "Нулевая гипотеза: Средние пользовательские рейтинги жанров **Action и Sports** одинаковые, то есть выбрки принадлежат к одной генеральной совокупности.\\\n",
    "Альтернативная гипотеза: Средние пользовательске рейтинги жанров **Acion и Sports** разные, то есть выборки принадлежат к разным генеральным совокупностям."
   ]
  },
  {
   "cell_type": "markdown",
   "metadata": {},
   "source": [
    "Построим графики распределения пользовательского рейтинга для жанров **Action и Sports**:"
   ]
  },
  {
   "cell_type": "code",
   "execution_count": 32,
   "metadata": {},
   "outputs": [
    {
     "data": {
      "image/png": "[encoded data removed]",
      "text/plain": [
       "<Figure size 1080x360 with 2 Axes>"
      ]
     },
     "metadata": {
      "needs_background": "light"
     },
     "output_type": "display_data"
    }
   ],
   "source": [
    "action_user_scores = new_data.query('genre == \"Action\" and user_score.notna()').user_score\n",
    "sports_user_scores = new_data.query('genre == \"Sports\" and user_score.notna()').user_score\n",
    "\n",
    "plt.figure(figsize=(15,5))\n",
    "plt.subplot(1,2,1)\n",
    "plt.hist(action_user_scores, bins=10)\n",
    "plt.title('Распределение пользовательского рейтинга, жанр Action')\n",
    "plt.axvline(action_user_scores.mean(), color='black', linestyle='dashed', linewidth=1)\n",
    "plt.text(7, 152, f'Средн.рейтинг: {round(action_user_scores.mean(), 2)}')\n",
    "plt.ylim(0,160)\n",
    "plt.xlabel('Пользовательский рейтинг')\n",
    "\n",
    "plt.subplot(1,2,2)\n",
    "plt.hist(sports_user_scores, bins=10)\n",
    "plt.title('Распределение пользовательского рейтинга, жанр Sports')\n",
    "plt.xlabel('Пользовательский рейтинг')\n",
    "plt.axvline(sports_user_scores.mean(), color='black', linestyle='dashed', linewidth=1)\n",
    "plt.text(5.5, 152, f'Средн.рейтинг: {round(sports_user_scores.mean(), 2)}')\n",
    "plt.ylim(0,160)\n",
    "plt.show()"
   ]
  },
  {
   "cell_type": "markdown",
   "metadata": {},
   "source": [
    "Количество наблюдений во второй выборке меньше, что, впрочем, не мешает применить t-китерий Стьюдента для двух выборок."
   ]
  },
  {
   "cell_type": "code",
   "execution_count": 33,
   "metadata": {},
   "outputs": [
    {
     "name": "stdout",
     "output_type": "stream",
     "text": [
      "P-Value: 3.7163089460934874e-26\n",
      "P-value ниже порогового значения, отвергаем нулевую гипотезу\n"
     ]
    }
   ],
   "source": [
    "alpha = 0.01\n",
    "results = scipy.stats.ttest_ind(action_user_scores, sports_user_scores)\n",
    "print('P-Value:', results.pvalue)\n",
    "if results.pvalue < alpha:\n",
    "    print('P-value ниже порогового значения, отвергаем нулевую гипотезу')\n",
    "else:\n",
    "    print('P-Value выше порогового, нет оснований отвергнуть нулевую гипотезу')"
   ]
  },
  {
   "cell_type": "markdown",
   "metadata": {},
   "source": [
    "Поскольку нулевая гипотеза отвергнута, считаем верной альтернативную ей гипотезу о том, что средние пользовательские рейтинги жанров **Action и Sports** разные."
   ]
  },
  {
   "cell_type": "markdown",
   "metadata": {},
   "source": [
    "## Общие выводы"
   ]
  },
  {
   "cell_type": "markdown",
   "metadata": {},
   "source": [
    "1. Замечания к исходному датасету:\n",
    "* В названиях столбцов использованы оба регистра. В исследовании для приведения стиля к *snake_case* называния столбцов приведены к нижнему регистру.\n",
    "* Для двух игр не указаны название и жанр. В исследовании они не учитывались.\n",
    "* В столбце с годом выпуска пропущены 269 значений. В исследовании они так же не учитывались. \n",
    "* Столбец с пользовательским рейтингом помимо пропусков содержит текстовые значения “tbd”, по всей видимости равнозначные отсутствию рейтинга. Текстовые значения мешают единству типа данных в данном столбце. \n",
    "* В половине игр в датасете отсутствуют оценки экспертов или пользовательский рейтинг.\n",
    "* В датасете содржалась игра на платформе **\"DS\"** 1985 года выпуска, но данная платформа выпущена только в 2004 году.\n",
    "\n",
    "2. По динамике количества выпускаемых игр:\n",
    "* Количество выпускаемых игр начало существенно расти с 1995 года, наибольшее количество выпущено в 2000-х, с 2010 года – спад и к 2012 году стабилизация на уровне 500-600 игр в год. \n",
    "* Для исследования выбран период с 2012 года, когда количество выпускаемых игр стабилизировалось\n",
    "3. По динамике спроса на платформы:\n",
    "* «Жизненный цикл» спроса на наиболее популярные платформы составляет около 10 лет: около 4-5 лет - рост, 2-3 года – стабильный пик спроса, далее постепенное снижение на протяжении 5-6 лет\n",
    "* PC – платформа с небольшим, но самым стабильным спросом\n",
    "* Самые перспективные платформы с точки зрения общего количества продаж – **PS4**, пришедшая в 2014 году на замену всё ещё популярной **PS3**, а также **XOne**, спрос на которую пока также растёт.\n",
    "* Игры на платформах **3DS, WiiU, X360** отличаются высокими суммарными продажами, но их динамика уже несколько лет отрицательная, жизненный цикл подходит к концу.\n",
    "4. По влиянию отзывов на продажи:\n",
    "* Корреляция продаж и оценок пользователей отсутствует. Есть средняя положительная корреляция оценок игр критиками и объёмов их продаж. Возможно, это связано с тем, что покупатели при принятии решения о покупке всё же в какой-то мере ориентируются на мнение критиков. Впрочем, возможно и обратное, что критики часто достаточно объективно оценивают потенциал игры на рынке.\n",
    "5. По популярности жанров:\n",
    "* Больше всего суммарных продаж в жанрах **Action, Shooter, Role_Playing, Sports**, что объяснимо, поскольку именно в этих жанрах вышло больше всего игр. Исключение - жанр **Adventure**, где игр вышло много, а продаж мало.\n",
    "* Самый эффективный с точки зрения продаж жанр - **Shooter**, медианные объёмы продаж - примерно 450млн. копий с игры. Жанры **Platform, Sports** - следующие по эффективности продаж, здесь медиана - 200 и 250тыс.копий на одну игру, соответственно. Наименьшим спросом пользуются игры жанров - **Strategy, Puzzle, Adventure**, медианные продажи - менее 100тыс.копий на игру. Медианные показатели продаж остальных жанров сопоставимы и составляют 120-150тыс. проданных копий на игру.\n",
    "6. По популярности жанров по регионам исходя из медианных продаж на одну игру:\n",
    "* Первое место по полуряности жанров в Европе и Америке - жанр **Shooter**, доля спроса - 34% в Европе и 39% в Америке.\n",
    "\n",
    "* Второе по популярности в Европе занимает жанр **Raicing**, в то время как в Северной Америке этот жанр на пятом месте.\n",
    "* Жанр **Platform** одинаково популярен в Европе и Северной Америке, занимая 16% спроса в Европе и 18% в Америке. Затем следует жанр **Sports**, более популярный в Северной Америке (10% спроса) и чуть менее в Европе(16%).\n",
    "\n",
    "* Иначе распределяются медианные продажи в Японии. Здесь лучше всего покупают игры жанра **Role-Playing**, 46% от спроса среди других популярных жанров. На втором месте - **Fighting** (23%), далее - **Misc** (15%) и в равной степени **Action** и **Adventure** (по 8%)\n",
    "\n",
    "7. По популярности платформ по регионам исходя из медианных продаж на игру:\n",
    "* В Европе и Америке наибольшим медианным спросом пользуются игры на платформе **X360**, доля продаж среди популярных платформ - 21% и 31%, соответстсвенно. \n",
    "\n",
    "* На втором месте - **PS4** в Европе (17%), в то время как в Америке эта платформа занимает четвёртое место по популярности\n",
    "\n",
    "* Напротив, **XOne** более популярная в Америке (22%) и менее - в Европе (15%). Платфрма WiiU - на третьем месте, одинаково популярна в Европе и Америке. \n",
    "\n",
    "* Пятое место занимает **PC** в Европе и **PS3** в Америке.\n",
    "\n",
    "* В Японии популярность платформ распределяется по-другому: лидирующие позиции - у платформы **3DS** (доля спроса 38%), затем одинаковыми медианными продажами с игры обладают платформы **PS3, PSP, PSV** и на пятом месте **PS4**.\n",
    "\n",
    "* Как видно, Япония отстаёт от остальных регионов по современности платформ: платформа **3DS**, как мы наблюдали ранее, постепенно уходит с рынка, здесь же в ближайшие годы ещё точно будет пользоваться популярностью. В то же время, популярная в других региоах **PS4** только начала приходить в Японию и, вероятно, скоро её популярность возрастёт и здесь, начав отбирать долю у **PS3**.\n",
    "8. По влиянию возрастного рейтинга на продажи:\n",
    "* Как видим, в Европе и Америке продаются лучше других игры с рейтингом **М** (для детей от 17 и старше) и **E10+** (для детей старше 10 лет). Игры с рейтингом **E** (для всех возрастов) и **T** (для детей старше 13 лет) пользуюся меньшим спросом.\n",
    "* В Японии большую часть продаж занимают игры без возрастного рейтинга, что логично, поскольку в Японии маркировка игр отсутствует.\n",
    "9. По гипотезам:\n",
    "* Принимаем гипотезу о равенстве средних пользовательских рейтингов платформ **Xbox One и PC**.\n",
    "* Принимаем гипотезу о том, что средние пользовательские рейтинги жанров **Action и Sports** разные, причём средние рейтинги жанра Sports ниже."
   ]
  },
  {
   "cell_type": "markdown",
   "metadata": {},
   "source": [
    "###  **Итоговые рекомендации по выбору игр для продвижения:**\n",
    "* **Для Европы**:  Платформы - **PS4** и **X360** (но готовиться к тому, что через какое-то время последнюю сменит набирающая попуярность **XOne** ). Жанры - **Shooter** и **Racing**\n",
    "* **Для Северной Америки**: Платформы - **X360** и **XOne**, жанры - **Shooter**, **Platform** и **Sports**.\n",
    "* **Для Японии**: Платформа - **3DS**, жанры - **Role_Playing** и **Fighting**\n",
    "* По рейтингу **ESRB**: **M**, **E10+**, при этом не ориентируемся на этот рейтинг в Японии.\n",
    "* Не обращаем внимания на пользовательский рейтинг игр, при этом стоит в некоторой степени ориентироваться на рейтинг критиков."
   ]
  }
 ],
 "metadata": {
  "ExecuteTimeLog": [
   {
    "duration": 353,
    "start_time": "2022-09-05T15:16:03.755Z"
   },
   {
    "duration": 114,
    "start_time": "2022-09-05T15:17:54.330Z"
   },
   {
    "duration": 78,
    "start_time": "2022-09-05T15:18:01.999Z"
   },
   {
    "duration": 84,
    "start_time": "2022-09-05T15:18:35.955Z"
   },
   {
    "duration": 60,
    "start_time": "2022-09-05T15:19:29.644Z"
   },
   {
    "duration": 21,
    "start_time": "2022-09-05T15:20:12.804Z"
   },
   {
    "duration": 1022,
    "start_time": "2022-09-05T15:29:53.178Z"
   },
   {
    "duration": 592,
    "start_time": "2022-09-05T15:30:00.482Z"
   },
   {
    "duration": 2,
    "start_time": "2022-09-05T15:30:34.276Z"
   },
   {
    "duration": 75,
    "start_time": "2022-09-05T15:30:34.656Z"
   },
   {
    "duration": 16,
    "start_time": "2022-09-05T15:30:35.336Z"
   },
   {
    "duration": 495,
    "start_time": "2022-09-05T15:30:37.284Z"
   },
   {
    "duration": 500,
    "start_time": "2022-09-05T15:30:45.799Z"
   },
   {
    "duration": 229,
    "start_time": "2022-09-05T15:31:14.548Z"
   },
   {
    "duration": 579,
    "start_time": "2022-09-05T15:31:26.047Z"
   },
   {
    "duration": 563,
    "start_time": "2022-09-05T15:32:10.235Z"
   },
   {
    "duration": 601,
    "start_time": "2022-09-05T15:32:15.531Z"
   },
   {
    "duration": 819,
    "start_time": "2022-09-05T15:32:21.114Z"
   },
   {
    "duration": 848,
    "start_time": "2022-09-05T15:32:30.393Z"
   },
   {
    "duration": 4,
    "start_time": "2022-09-05T16:46:00.963Z"
   },
   {
    "duration": 6,
    "start_time": "2022-09-05T16:46:22.006Z"
   },
   {
    "duration": 7,
    "start_time": "2022-09-05T16:48:03.676Z"
   },
   {
    "duration": 4,
    "start_time": "2022-09-05T16:48:23.656Z"
   },
   {
    "duration": 4,
    "start_time": "2022-09-05T16:48:49.070Z"
   },
   {
    "duration": 4,
    "start_time": "2022-09-05T16:49:07.165Z"
   },
   {
    "duration": 6,
    "start_time": "2022-09-05T16:49:12.669Z"
   },
   {
    "duration": 8,
    "start_time": "2022-09-05T16:49:20.709Z"
   },
   {
    "duration": 4,
    "start_time": "2022-09-05T16:49:25.080Z"
   },
   {
    "duration": 3,
    "start_time": "2022-09-05T16:51:34.039Z"
   },
   {
    "duration": 92,
    "start_time": "2022-09-05T16:51:34.044Z"
   },
   {
    "duration": 13,
    "start_time": "2022-09-05T16:51:34.138Z"
   },
   {
    "duration": 592,
    "start_time": "2022-09-05T16:51:34.153Z"
   },
   {
    "duration": 4,
    "start_time": "2022-09-05T16:51:41.452Z"
   },
   {
    "duration": 5,
    "start_time": "2022-09-05T16:51:47.092Z"
   },
   {
    "duration": 17,
    "start_time": "2022-09-05T16:54:39.668Z"
   },
   {
    "duration": 4,
    "start_time": "2022-09-05T16:54:51.331Z"
   },
   {
    "duration": 6,
    "start_time": "2022-09-05T16:55:06.224Z"
   },
   {
    "duration": 13,
    "start_time": "2022-09-05T16:55:48.091Z"
   },
   {
    "duration": 5,
    "start_time": "2022-09-05T16:59:50.403Z"
   },
   {
    "duration": 2,
    "start_time": "2022-09-05T16:59:58.703Z"
   },
   {
    "duration": 75,
    "start_time": "2022-09-05T16:59:58.707Z"
   },
   {
    "duration": 12,
    "start_time": "2022-09-05T16:59:58.783Z"
   },
   {
    "duration": 577,
    "start_time": "2022-09-05T16:59:58.797Z"
   },
   {
    "duration": 4,
    "start_time": "2022-09-05T16:59:59.376Z"
   },
   {
    "duration": 6,
    "start_time": "2022-09-05T17:16:47.623Z"
   },
   {
    "duration": 7,
    "start_time": "2022-09-05T17:17:02.664Z"
   },
   {
    "duration": 8,
    "start_time": "2022-09-05T17:20:18.043Z"
   },
   {
    "duration": 7,
    "start_time": "2022-09-05T17:20:35.828Z"
   },
   {
    "duration": 7,
    "start_time": "2022-09-05T17:20:49.794Z"
   },
   {
    "duration": 6,
    "start_time": "2022-09-05T17:21:05.304Z"
   },
   {
    "duration": 440,
    "start_time": "2022-09-05T17:21:41.259Z"
   },
   {
    "duration": 6,
    "start_time": "2022-09-05T17:21:58.345Z"
   },
   {
    "duration": 4,
    "start_time": "2022-09-05T17:25:03.128Z"
   },
   {
    "duration": 20,
    "start_time": "2022-09-05T17:25:10.924Z"
   },
   {
    "duration": 108,
    "start_time": "2022-09-05T17:26:50.347Z"
   },
   {
    "duration": 25,
    "start_time": "2022-09-05T17:27:30.504Z"
   },
   {
    "duration": 10,
    "start_time": "2022-09-05T17:27:32.826Z"
   },
   {
    "duration": 12,
    "start_time": "2022-09-05T17:28:13.750Z"
   },
   {
    "duration": 11,
    "start_time": "2022-09-05T17:28:17.740Z"
   },
   {
    "duration": 4,
    "start_time": "2022-09-05T17:28:49.835Z"
   },
   {
    "duration": 4,
    "start_time": "2022-09-05T17:28:54.868Z"
   },
   {
    "duration": 14,
    "start_time": "2022-09-05T17:29:34.293Z"
   },
   {
    "duration": 17,
    "start_time": "2022-09-05T17:31:18.373Z"
   },
   {
    "duration": 14,
    "start_time": "2022-09-05T17:32:07.877Z"
   },
   {
    "duration": 17,
    "start_time": "2022-09-05T17:32:14.665Z"
   },
   {
    "duration": 17,
    "start_time": "2022-09-05T17:32:22.765Z"
   },
   {
    "duration": 64,
    "start_time": "2022-09-05T17:32:36.971Z"
   },
   {
    "duration": 11,
    "start_time": "2022-09-05T17:32:45.282Z"
   },
   {
    "duration": 12,
    "start_time": "2022-09-05T17:33:18.492Z"
   },
   {
    "duration": 12,
    "start_time": "2022-09-05T17:34:38.045Z"
   },
   {
    "duration": 18,
    "start_time": "2022-09-05T17:34:57.723Z"
   },
   {
    "duration": 6,
    "start_time": "2022-09-05T17:36:03.091Z"
   },
   {
    "duration": 14,
    "start_time": "2022-09-05T17:36:08.262Z"
   },
   {
    "duration": 4,
    "start_time": "2022-09-05T17:36:52.870Z"
   },
   {
    "duration": 14,
    "start_time": "2022-09-05T17:40:55.823Z"
   },
   {
    "duration": 2,
    "start_time": "2022-09-05T17:41:14.271Z"
   },
   {
    "duration": 8,
    "start_time": "2022-09-05T17:42:12.324Z"
   },
   {
    "duration": 8,
    "start_time": "2022-09-05T17:42:34.979Z"
   },
   {
    "duration": 7,
    "start_time": "2022-09-05T17:42:42.025Z"
   },
   {
    "duration": 6,
    "start_time": "2022-09-05T17:43:06.691Z"
   },
   {
    "duration": 10,
    "start_time": "2022-09-05T17:43:13.742Z"
   },
   {
    "duration": 10,
    "start_time": "2022-09-05T17:43:27.668Z"
   },
   {
    "duration": 11,
    "start_time": "2022-09-05T17:43:34.256Z"
   },
   {
    "duration": 7,
    "start_time": "2022-09-05T18:32:58.355Z"
   },
   {
    "duration": 72,
    "start_time": "2022-09-05T18:33:53.197Z"
   },
   {
    "duration": 4,
    "start_time": "2022-09-05T18:34:16.954Z"
   },
   {
    "duration": 16,
    "start_time": "2022-09-05T18:34:33.650Z"
   },
   {
    "duration": 5,
    "start_time": "2022-09-05T18:34:52.561Z"
   },
   {
    "duration": 13,
    "start_time": "2022-09-05T18:37:26.669Z"
   },
   {
    "duration": 14,
    "start_time": "2022-09-05T18:37:53.839Z"
   },
   {
    "duration": 2,
    "start_time": "2022-09-05T18:37:58.047Z"
   },
   {
    "duration": 74,
    "start_time": "2022-09-05T18:37:58.051Z"
   },
   {
    "duration": 15,
    "start_time": "2022-09-05T18:37:58.127Z"
   },
   {
    "duration": 603,
    "start_time": "2022-09-05T18:37:58.144Z"
   },
   {
    "duration": 5,
    "start_time": "2022-09-05T18:37:58.749Z"
   },
   {
    "duration": 27,
    "start_time": "2022-09-05T18:37:58.755Z"
   },
   {
    "duration": 11,
    "start_time": "2022-09-05T18:37:58.784Z"
   },
   {
    "duration": 17,
    "start_time": "2022-09-05T18:38:01.440Z"
   },
   {
    "duration": 10,
    "start_time": "2022-09-05T18:40:50.332Z"
   },
   {
    "duration": 10,
    "start_time": "2022-09-05T18:41:45.340Z"
   },
   {
    "duration": 11,
    "start_time": "2022-09-05T18:42:00.137Z"
   },
   {
    "duration": 9,
    "start_time": "2022-09-05T18:42:20.961Z"
   },
   {
    "duration": 9,
    "start_time": "2022-09-05T18:42:33.489Z"
   },
   {
    "duration": 12,
    "start_time": "2022-09-05T18:42:42.430Z"
   },
   {
    "duration": 7,
    "start_time": "2022-09-05T18:43:42.736Z"
   },
   {
    "duration": 12,
    "start_time": "2022-09-05T18:43:48.379Z"
   },
   {
    "duration": 13,
    "start_time": "2022-09-05T18:43:58.850Z"
   },
   {
    "duration": 13,
    "start_time": "2022-09-05T18:44:10.538Z"
   },
   {
    "duration": 6,
    "start_time": "2022-09-05T18:44:21.341Z"
   },
   {
    "duration": 13,
    "start_time": "2022-09-05T19:43:53.235Z"
   },
   {
    "duration": 9,
    "start_time": "2022-09-05T19:44:32.840Z"
   },
   {
    "duration": 11,
    "start_time": "2022-09-05T19:44:39.238Z"
   },
   {
    "duration": 13,
    "start_time": "2022-09-05T19:44:48.658Z"
   },
   {
    "duration": 123,
    "start_time": "2022-09-05T19:45:17.758Z"
   },
   {
    "duration": 7,
    "start_time": "2022-09-05T19:45:37.299Z"
   },
   {
    "duration": 16,
    "start_time": "2022-09-05T19:45:49.490Z"
   },
   {
    "duration": 11,
    "start_time": "2022-09-05T19:46:27.445Z"
   },
   {
    "duration": 17,
    "start_time": "2022-09-05T19:46:50.626Z"
   },
   {
    "duration": 141,
    "start_time": "2022-09-05T19:48:00.340Z"
   },
   {
    "duration": 212,
    "start_time": "2022-09-05T19:48:14.788Z"
   },
   {
    "duration": 11,
    "start_time": "2022-09-05T19:52:46.148Z"
   },
   {
    "duration": 15,
    "start_time": "2022-09-05T19:52:55.129Z"
   },
   {
    "duration": 11,
    "start_time": "2022-09-05T19:53:05.835Z"
   },
   {
    "duration": 11,
    "start_time": "2022-09-05T19:53:08.977Z"
   },
   {
    "duration": 17,
    "start_time": "2022-09-05T19:53:21.237Z"
   },
   {
    "duration": 11,
    "start_time": "2022-09-05T19:53:35.932Z"
   },
   {
    "duration": 12,
    "start_time": "2022-09-05T19:53:40.935Z"
   },
   {
    "duration": 126,
    "start_time": "2022-09-05T19:53:46.432Z"
   },
   {
    "duration": 13,
    "start_time": "2022-09-05T19:54:33.601Z"
   },
   {
    "duration": 8,
    "start_time": "2022-09-05T19:54:37.440Z"
   },
   {
    "duration": 9,
    "start_time": "2022-09-05T19:54:46.491Z"
   },
   {
    "duration": 9,
    "start_time": "2022-09-05T19:54:54.680Z"
   },
   {
    "duration": 8,
    "start_time": "2022-09-05T19:55:01.573Z"
   },
   {
    "duration": 19,
    "start_time": "2022-09-05T19:56:20.541Z"
   },
   {
    "duration": 12,
    "start_time": "2022-09-05T19:57:44.982Z"
   },
   {
    "duration": 61,
    "start_time": "2022-09-05T19:57:59.186Z"
   },
   {
    "duration": 53,
    "start_time": "2022-09-05T19:58:44.555Z"
   },
   {
    "duration": 14,
    "start_time": "2022-09-05T19:58:48.547Z"
   },
   {
    "duration": 23,
    "start_time": "2022-09-05T19:59:42.439Z"
   },
   {
    "duration": 18,
    "start_time": "2022-09-05T20:00:02.883Z"
   },
   {
    "duration": 32,
    "start_time": "2022-09-05T20:00:23.302Z"
   },
   {
    "duration": 15,
    "start_time": "2022-09-05T20:00:28.594Z"
   },
   {
    "duration": 46,
    "start_time": "2022-09-05T20:00:38.304Z"
   },
   {
    "duration": 13,
    "start_time": "2022-09-05T20:00:49.151Z"
   },
   {
    "duration": 14,
    "start_time": "2022-09-05T20:01:17.487Z"
   },
   {
    "duration": 13,
    "start_time": "2022-09-05T20:01:40.579Z"
   },
   {
    "duration": 18,
    "start_time": "2022-09-05T20:02:00.676Z"
   },
   {
    "duration": 13,
    "start_time": "2022-09-05T20:02:15.787Z"
   },
   {
    "duration": 13,
    "start_time": "2022-09-05T20:03:43.340Z"
   },
   {
    "duration": 19,
    "start_time": "2022-09-05T20:04:31.275Z"
   },
   {
    "duration": 8,
    "start_time": "2022-09-05T20:09:21.082Z"
   },
   {
    "duration": 7,
    "start_time": "2022-09-05T20:09:31.091Z"
   },
   {
    "duration": 6,
    "start_time": "2022-09-05T20:10:30.260Z"
   },
   {
    "duration": 131,
    "start_time": "2022-09-05T20:10:47.971Z"
   },
   {
    "duration": 18,
    "start_time": "2022-09-05T20:13:41.971Z"
   },
   {
    "duration": 40,
    "start_time": "2022-09-05T20:14:12.697Z"
   },
   {
    "duration": 22,
    "start_time": "2022-09-05T20:14:32.443Z"
   },
   {
    "duration": 40,
    "start_time": "2022-09-05T20:16:32.411Z"
   },
   {
    "duration": 43,
    "start_time": "2022-09-05T20:16:40.109Z"
   },
   {
    "duration": 15,
    "start_time": "2022-09-05T20:17:05.083Z"
   },
   {
    "duration": 45,
    "start_time": "2022-09-05T20:17:11.794Z"
   },
   {
    "duration": 17,
    "start_time": "2022-09-05T20:17:27.343Z"
   },
   {
    "duration": 30,
    "start_time": "2022-09-05T20:17:50.136Z"
   },
   {
    "duration": 20,
    "start_time": "2022-09-05T20:18:39.761Z"
   },
   {
    "duration": 22,
    "start_time": "2022-09-05T20:19:05.939Z"
   },
   {
    "duration": 53,
    "start_time": "2022-09-05T20:20:07.200Z"
   },
   {
    "duration": 58,
    "start_time": "2022-09-05T20:20:51.296Z"
   },
   {
    "duration": 58,
    "start_time": "2022-09-05T20:23:32.604Z"
   },
   {
    "duration": 14,
    "start_time": "2022-09-05T20:23:57.158Z"
   },
   {
    "duration": 694,
    "start_time": "2022-09-05T20:24:00.305Z"
   },
   {
    "duration": 21,
    "start_time": "2022-09-05T20:24:11.280Z"
   },
   {
    "duration": 7,
    "start_time": "2022-09-05T20:25:52.877Z"
   },
   {
    "duration": 30,
    "start_time": "2022-09-05T20:32:52.631Z"
   },
   {
    "duration": 14,
    "start_time": "2022-09-05T20:33:13.594Z"
   },
   {
    "duration": 9,
    "start_time": "2022-09-05T20:34:13.498Z"
   },
   {
    "duration": 14,
    "start_time": "2022-09-05T20:34:21.481Z"
   },
   {
    "duration": 9,
    "start_time": "2022-09-05T20:34:56.276Z"
   },
   {
    "duration": 40,
    "start_time": "2022-09-05T20:35:16.203Z"
   },
   {
    "duration": 24,
    "start_time": "2022-09-05T20:35:24.539Z"
   },
   {
    "duration": 9,
    "start_time": "2022-09-05T20:35:32.090Z"
   },
   {
    "duration": 9,
    "start_time": "2022-09-05T20:36:15.084Z"
   },
   {
    "duration": 18,
    "start_time": "2022-09-05T20:36:23.047Z"
   },
   {
    "duration": 15,
    "start_time": "2022-09-05T20:37:22.159Z"
   },
   {
    "duration": 13,
    "start_time": "2022-09-05T20:37:44.942Z"
   },
   {
    "duration": 37,
    "start_time": "2022-09-05T20:37:57.503Z"
   },
   {
    "duration": 11,
    "start_time": "2022-09-05T20:38:03.362Z"
   },
   {
    "duration": 21,
    "start_time": "2022-09-05T20:39:30.235Z"
   },
   {
    "duration": 14,
    "start_time": "2022-09-05T20:42:06.303Z"
   },
   {
    "duration": 2,
    "start_time": "2022-09-05T20:52:38.010Z"
   },
   {
    "duration": 73,
    "start_time": "2022-09-05T20:52:38.013Z"
   },
   {
    "duration": 12,
    "start_time": "2022-09-05T20:52:38.088Z"
   },
   {
    "duration": 723,
    "start_time": "2022-09-05T20:52:38.101Z"
   },
   {
    "duration": 7,
    "start_time": "2022-09-05T20:52:38.826Z"
   },
   {
    "duration": 21,
    "start_time": "2022-09-05T20:52:38.834Z"
   },
   {
    "duration": 9,
    "start_time": "2022-09-05T20:52:38.857Z"
   },
   {
    "duration": 11,
    "start_time": "2022-09-05T20:52:38.867Z"
   },
   {
    "duration": 6,
    "start_time": "2022-09-05T20:52:38.879Z"
   },
   {
    "duration": 42,
    "start_time": "2022-09-05T20:52:38.887Z"
   },
   {
    "duration": 12,
    "start_time": "2022-09-05T20:52:38.931Z"
   },
   {
    "duration": 14,
    "start_time": "2022-09-05T20:52:38.945Z"
   },
   {
    "duration": 7,
    "start_time": "2022-09-05T20:58:34.236Z"
   },
   {
    "duration": 6,
    "start_time": "2022-09-05T20:58:39.587Z"
   },
   {
    "duration": 37,
    "start_time": "2022-09-05T20:58:45.107Z"
   },
   {
    "duration": 12,
    "start_time": "2022-09-05T20:59:05.138Z"
   },
   {
    "duration": 96,
    "start_time": "2022-09-05T21:09:41.885Z"
   },
   {
    "duration": 2,
    "start_time": "2022-09-05T21:17:05.450Z"
   },
   {
    "duration": 62,
    "start_time": "2022-09-06T16:04:27.061Z"
   },
   {
    "duration": 877,
    "start_time": "2022-09-06T16:04:35.970Z"
   },
   {
    "duration": 127,
    "start_time": "2022-09-06T16:04:36.849Z"
   },
   {
    "duration": 14,
    "start_time": "2022-09-06T16:04:36.978Z"
   },
   {
    "duration": 832,
    "start_time": "2022-09-06T16:04:36.994Z"
   },
   {
    "duration": 6,
    "start_time": "2022-09-06T16:04:37.828Z"
   },
   {
    "duration": 16,
    "start_time": "2022-09-06T16:04:37.835Z"
   },
   {
    "duration": 11,
    "start_time": "2022-09-06T16:04:37.853Z"
   },
   {
    "duration": 12,
    "start_time": "2022-09-06T16:04:37.865Z"
   },
   {
    "duration": 41,
    "start_time": "2022-09-06T16:04:37.879Z"
   },
   {
    "duration": 66,
    "start_time": "2022-09-06T16:04:37.922Z"
   },
   {
    "duration": 26,
    "start_time": "2022-09-06T16:04:37.990Z"
   },
   {
    "duration": 1080,
    "start_time": "2022-09-06T16:06:39.552Z"
   },
   {
    "duration": 5,
    "start_time": "2022-09-06T16:08:30.507Z"
   },
   {
    "duration": 87,
    "start_time": "2022-09-06T16:08:30.517Z"
   },
   {
    "duration": 19,
    "start_time": "2022-09-06T16:08:30.610Z"
   },
   {
    "duration": 5,
    "start_time": "2022-09-06T16:08:30.631Z"
   },
   {
    "duration": 20,
    "start_time": "2022-09-06T16:08:30.638Z"
   },
   {
    "duration": 12,
    "start_time": "2022-09-06T16:08:30.660Z"
   },
   {
    "duration": 13,
    "start_time": "2022-09-06T16:08:30.673Z"
   },
   {
    "duration": 14,
    "start_time": "2022-09-06T16:08:30.703Z"
   },
   {
    "duration": 28,
    "start_time": "2022-09-06T16:08:30.719Z"
   },
   {
    "duration": 13,
    "start_time": "2022-09-06T16:08:30.748Z"
   },
   {
    "duration": 666,
    "start_time": "2022-09-06T16:09:00.073Z"
   },
   {
    "duration": 72,
    "start_time": "2022-09-06T16:09:00.741Z"
   },
   {
    "duration": 20,
    "start_time": "2022-09-06T16:09:00.814Z"
   },
   {
    "duration": 23,
    "start_time": "2022-09-06T16:09:00.837Z"
   },
   {
    "duration": 30,
    "start_time": "2022-09-06T16:09:00.862Z"
   },
   {
    "duration": 46,
    "start_time": "2022-09-06T16:09:00.894Z"
   },
   {
    "duration": 50,
    "start_time": "2022-09-06T16:09:00.942Z"
   },
   {
    "duration": 55,
    "start_time": "2022-09-06T16:09:00.994Z"
   },
   {
    "duration": 96,
    "start_time": "2022-09-06T16:09:01.051Z"
   },
   {
    "duration": 14,
    "start_time": "2022-09-06T16:09:01.149Z"
   },
   {
    "duration": 8,
    "start_time": "2022-09-06T16:11:43.605Z"
   },
   {
    "duration": 18,
    "start_time": "2022-09-06T16:12:22.874Z"
   },
   {
    "duration": 551,
    "start_time": "2022-09-06T16:13:56.945Z"
   },
   {
    "duration": 15,
    "start_time": "2022-09-06T16:14:04.685Z"
   },
   {
    "duration": 2259,
    "start_time": "2022-09-06T16:14:11.286Z"
   },
   {
    "duration": 1005,
    "start_time": "2022-09-06T16:14:22.695Z"
   },
   {
    "duration": 506,
    "start_time": "2022-09-06T16:14:31.863Z"
   },
   {
    "duration": 70,
    "start_time": "2022-09-06T16:14:44.674Z"
   },
   {
    "duration": 72,
    "start_time": "2022-09-06T16:14:55.883Z"
   },
   {
    "duration": 18,
    "start_time": "2022-09-06T16:15:06.204Z"
   },
   {
    "duration": 23,
    "start_time": "2022-09-06T16:15:22.402Z"
   },
   {
    "duration": 14,
    "start_time": "2022-09-06T16:15:31.960Z"
   },
   {
    "duration": 13,
    "start_time": "2022-09-06T16:15:39.926Z"
   },
   {
    "duration": 4,
    "start_time": "2022-09-06T16:18:15.394Z"
   },
   {
    "duration": 12,
    "start_time": "2022-09-06T16:22:17.959Z"
   },
   {
    "duration": 23,
    "start_time": "2022-09-06T16:23:00.557Z"
   },
   {
    "duration": 21,
    "start_time": "2022-09-06T16:24:59.300Z"
   },
   {
    "duration": 9,
    "start_time": "2022-09-06T16:25:12.329Z"
   },
   {
    "duration": 3,
    "start_time": "2022-09-06T16:25:24.635Z"
   },
   {
    "duration": 79,
    "start_time": "2022-09-06T16:25:24.640Z"
   },
   {
    "duration": 16,
    "start_time": "2022-09-06T16:25:24.721Z"
   },
   {
    "duration": 5,
    "start_time": "2022-09-06T16:25:24.739Z"
   },
   {
    "duration": 12,
    "start_time": "2022-09-06T16:25:27.518Z"
   },
   {
    "duration": 14,
    "start_time": "2022-09-06T16:25:50.917Z"
   },
   {
    "duration": 13,
    "start_time": "2022-09-06T16:26:43.384Z"
   },
   {
    "duration": 8,
    "start_time": "2022-09-06T16:27:30.292Z"
   },
   {
    "duration": 9,
    "start_time": "2022-09-06T16:27:54.050Z"
   },
   {
    "duration": 66,
    "start_time": "2022-09-06T16:28:17.090Z"
   },
   {
    "duration": 6,
    "start_time": "2022-09-06T16:28:26.640Z"
   },
   {
    "duration": 8,
    "start_time": "2022-09-06T16:28:32.219Z"
   },
   {
    "duration": 10,
    "start_time": "2022-09-06T16:38:16.339Z"
   },
   {
    "duration": 33,
    "start_time": "2022-09-06T16:41:51.963Z"
   },
   {
    "duration": 3,
    "start_time": "2022-09-06T16:42:01.446Z"
   },
   {
    "duration": 105,
    "start_time": "2022-09-06T16:42:01.451Z"
   },
   {
    "duration": 20,
    "start_time": "2022-09-06T16:42:01.558Z"
   },
   {
    "duration": 22,
    "start_time": "2022-09-06T16:42:01.580Z"
   },
   {
    "duration": 45,
    "start_time": "2022-09-06T16:42:01.603Z"
   },
   {
    "duration": 9,
    "start_time": "2022-09-06T16:42:01.650Z"
   },
   {
    "duration": 11,
    "start_time": "2022-09-06T16:42:01.660Z"
   },
   {
    "duration": 12,
    "start_time": "2022-09-06T16:42:01.673Z"
   },
   {
    "duration": 19,
    "start_time": "2022-09-06T16:42:01.688Z"
   },
   {
    "duration": 20,
    "start_time": "2022-09-06T16:42:01.708Z"
   },
   {
    "duration": 23,
    "start_time": "2022-09-06T16:42:01.730Z"
   },
   {
    "duration": 22,
    "start_time": "2022-09-06T16:42:59.818Z"
   },
   {
    "duration": 16,
    "start_time": "2022-09-06T16:43:04.430Z"
   },
   {
    "duration": 10,
    "start_time": "2022-09-06T16:43:32.872Z"
   },
   {
    "duration": 14,
    "start_time": "2022-09-06T16:43:45.731Z"
   },
   {
    "duration": 27,
    "start_time": "2022-09-06T16:44:01.984Z"
   },
   {
    "duration": 11,
    "start_time": "2022-09-06T16:44:38.521Z"
   },
   {
    "duration": 10,
    "start_time": "2022-09-06T16:45:21.089Z"
   },
   {
    "duration": 9,
    "start_time": "2022-09-06T16:45:33.239Z"
   },
   {
    "duration": 162,
    "start_time": "2022-09-06T16:46:12.698Z"
   },
   {
    "duration": 7,
    "start_time": "2022-09-06T16:46:32.922Z"
   },
   {
    "duration": 18,
    "start_time": "2022-09-06T16:47:12.693Z"
   },
   {
    "duration": 148,
    "start_time": "2022-09-06T16:47:24.987Z"
   },
   {
    "duration": 137,
    "start_time": "2022-09-06T16:47:42.422Z"
   },
   {
    "duration": 207,
    "start_time": "2022-09-06T16:48:12.840Z"
   },
   {
    "duration": 144,
    "start_time": "2022-09-06T16:48:29.500Z"
   },
   {
    "duration": 155,
    "start_time": "2022-09-06T16:48:32.285Z"
   },
   {
    "duration": 151,
    "start_time": "2022-09-06T16:48:38.249Z"
   },
   {
    "duration": 152,
    "start_time": "2022-09-06T16:48:43.547Z"
   },
   {
    "duration": 155,
    "start_time": "2022-09-06T16:48:46.455Z"
   },
   {
    "duration": 136,
    "start_time": "2022-09-06T16:49:04.619Z"
   },
   {
    "duration": 273,
    "start_time": "2022-09-06T16:49:11.839Z"
   },
   {
    "duration": 148,
    "start_time": "2022-09-06T16:49:26.551Z"
   },
   {
    "duration": 157,
    "start_time": "2022-09-06T16:49:35.193Z"
   },
   {
    "duration": 170,
    "start_time": "2022-09-06T16:49:47.951Z"
   },
   {
    "duration": 172,
    "start_time": "2022-09-06T16:49:54.355Z"
   },
   {
    "duration": 262,
    "start_time": "2022-09-06T16:50:19.097Z"
   },
   {
    "duration": 183,
    "start_time": "2022-09-06T16:51:21.296Z"
   },
   {
    "duration": 183,
    "start_time": "2022-09-06T16:53:46.983Z"
   },
   {
    "duration": 195,
    "start_time": "2022-09-06T16:53:53.098Z"
   },
   {
    "duration": 45,
    "start_time": "2022-09-06T20:49:18.011Z"
   },
   {
    "duration": 6,
    "start_time": "2022-09-06T20:49:30.283Z"
   },
   {
    "duration": 721,
    "start_time": "2022-09-06T20:49:35.959Z"
   },
   {
    "duration": 9528,
    "start_time": "2022-09-06T20:49:36.682Z"
   },
   {
    "duration": 12,
    "start_time": "2022-09-06T20:49:46.212Z"
   },
   {
    "duration": 3,
    "start_time": "2022-09-06T20:49:46.226Z"
   },
   {
    "duration": 54,
    "start_time": "2022-09-06T20:49:46.231Z"
   },
   {
    "duration": 7,
    "start_time": "2022-09-06T20:49:46.286Z"
   },
   {
    "duration": 8,
    "start_time": "2022-09-06T20:49:46.295Z"
   },
   {
    "duration": 9,
    "start_time": "2022-09-06T20:49:46.305Z"
   },
   {
    "duration": 6,
    "start_time": "2022-09-06T20:49:46.315Z"
   },
   {
    "duration": 34,
    "start_time": "2022-09-06T20:49:46.323Z"
   },
   {
    "duration": 18,
    "start_time": "2022-09-06T20:49:46.359Z"
   },
   {
    "duration": 13,
    "start_time": "2022-09-06T20:49:46.378Z"
   },
   {
    "duration": 156,
    "start_time": "2022-09-06T20:49:46.392Z"
   },
   {
    "duration": 146,
    "start_time": "2022-09-06T20:49:54.072Z"
   },
   {
    "duration": 137,
    "start_time": "2022-09-06T20:49:59.225Z"
   },
   {
    "duration": 11,
    "start_time": "2022-09-06T20:53:46.733Z"
   },
   {
    "duration": 782,
    "start_time": "2022-09-07T08:42:02.081Z"
   },
   {
    "duration": 504,
    "start_time": "2022-09-07T08:44:25.938Z"
   },
   {
    "duration": 3,
    "start_time": "2022-09-07T08:44:32.405Z"
   },
   {
    "duration": 179,
    "start_time": "2022-09-07T08:44:32.410Z"
   },
   {
    "duration": 13,
    "start_time": "2022-09-07T08:44:32.591Z"
   },
   {
    "duration": 43,
    "start_time": "2022-09-07T08:44:32.605Z"
   },
   {
    "duration": 86,
    "start_time": "2022-09-07T08:44:32.650Z"
   },
   {
    "duration": 9,
    "start_time": "2022-09-07T08:44:32.737Z"
   },
   {
    "duration": 26,
    "start_time": "2022-09-07T08:44:32.747Z"
   },
   {
    "duration": 17,
    "start_time": "2022-09-07T08:44:32.775Z"
   },
   {
    "duration": 45,
    "start_time": "2022-09-07T08:44:32.793Z"
   },
   {
    "duration": 29,
    "start_time": "2022-09-07T08:44:32.840Z"
   },
   {
    "duration": 28,
    "start_time": "2022-09-07T08:44:32.871Z"
   },
   {
    "duration": 56,
    "start_time": "2022-09-07T08:44:32.900Z"
   },
   {
    "duration": 195,
    "start_time": "2022-09-07T08:44:32.957Z"
   },
   {
    "duration": 132,
    "start_time": "2022-09-07T08:44:53.699Z"
   },
   {
    "duration": 473,
    "start_time": "2022-09-07T08:47:10.865Z"
   },
   {
    "duration": 17,
    "start_time": "2022-09-07T08:48:30.947Z"
   },
   {
    "duration": 36,
    "start_time": "2022-09-07T08:48:48.611Z"
   },
   {
    "duration": 12,
    "start_time": "2022-09-07T08:55:49.914Z"
   },
   {
    "duration": 12,
    "start_time": "2022-09-07T09:01:51.387Z"
   },
   {
    "duration": 7,
    "start_time": "2022-09-07T09:02:02.042Z"
   },
   {
    "duration": 8,
    "start_time": "2022-09-07T09:02:07.370Z"
   },
   {
    "duration": 11,
    "start_time": "2022-09-07T09:02:13.580Z"
   },
   {
    "duration": 7,
    "start_time": "2022-09-07T09:02:44.300Z"
   },
   {
    "duration": 76,
    "start_time": "2022-09-07T09:03:38.284Z"
   },
   {
    "duration": 6,
    "start_time": "2022-09-07T09:03:41.242Z"
   },
   {
    "duration": 12,
    "start_time": "2022-09-07T09:04:08.986Z"
   },
   {
    "duration": 17,
    "start_time": "2022-09-07T09:06:22.736Z"
   },
   {
    "duration": 14,
    "start_time": "2022-09-07T09:06:32.077Z"
   },
   {
    "duration": 133,
    "start_time": "2022-09-07T09:07:30.446Z"
   },
   {
    "duration": 129,
    "start_time": "2022-09-07T09:08:13.454Z"
   },
   {
    "duration": 131,
    "start_time": "2022-09-07T09:08:23.342Z"
   },
   {
    "duration": 126,
    "start_time": "2022-09-07T09:10:33.295Z"
   },
   {
    "duration": 187,
    "start_time": "2022-09-07T09:10:41.823Z"
   },
   {
    "duration": 233,
    "start_time": "2022-09-07T09:10:50.430Z"
   },
   {
    "duration": 118,
    "start_time": "2022-09-07T09:10:56.541Z"
   },
   {
    "duration": 127,
    "start_time": "2022-09-07T09:11:35.648Z"
   },
   {
    "duration": 146,
    "start_time": "2022-09-07T09:14:05.121Z"
   },
   {
    "duration": 171,
    "start_time": "2022-09-07T09:15:02.913Z"
   },
   {
    "duration": 60,
    "start_time": "2022-09-07T09:17:29.015Z"
   },
   {
    "duration": 6,
    "start_time": "2022-09-07T09:17:32.129Z"
   },
   {
    "duration": 11,
    "start_time": "2022-09-07T09:17:37.489Z"
   },
   {
    "duration": 8,
    "start_time": "2022-09-07T09:18:02.002Z"
   },
   {
    "duration": 55,
    "start_time": "2022-09-07T09:18:12.755Z"
   },
   {
    "duration": 13,
    "start_time": "2022-09-07T09:18:25.333Z"
   },
   {
    "duration": 184,
    "start_time": "2022-09-07T09:20:27.107Z"
   },
   {
    "duration": 8,
    "start_time": "2022-09-07T09:20:38.372Z"
   },
   {
    "duration": 140,
    "start_time": "2022-09-07T09:25:25.387Z"
   },
   {
    "duration": 47,
    "start_time": "2022-09-07T12:49:48.527Z"
   },
   {
    "duration": 1350,
    "start_time": "2022-09-07T12:49:52.131Z"
   },
   {
    "duration": 195,
    "start_time": "2022-09-07T12:49:53.483Z"
   },
   {
    "duration": 15,
    "start_time": "2022-09-07T12:49:53.680Z"
   },
   {
    "duration": 5,
    "start_time": "2022-09-07T12:49:53.697Z"
   },
   {
    "duration": 85,
    "start_time": "2022-09-07T12:49:53.704Z"
   },
   {
    "duration": 9,
    "start_time": "2022-09-07T12:49:53.790Z"
   },
   {
    "duration": 10,
    "start_time": "2022-09-07T12:49:53.801Z"
   },
   {
    "duration": 11,
    "start_time": "2022-09-07T12:49:53.813Z"
   },
   {
    "duration": 7,
    "start_time": "2022-09-07T12:49:53.825Z"
   },
   {
    "duration": 48,
    "start_time": "2022-09-07T12:49:53.833Z"
   },
   {
    "duration": 22,
    "start_time": "2022-09-07T12:49:53.883Z"
   },
   {
    "duration": 15,
    "start_time": "2022-09-07T12:49:53.906Z"
   },
   {
    "duration": 188,
    "start_time": "2022-09-07T12:49:53.922Z"
   },
   {
    "duration": 152,
    "start_time": "2022-09-07T12:49:55.865Z"
   },
   {
    "duration": 159,
    "start_time": "2022-09-07T12:50:18.102Z"
   },
   {
    "duration": 161,
    "start_time": "2022-09-07T12:50:49.786Z"
   },
   {
    "duration": 89,
    "start_time": "2022-09-07T12:52:02.118Z"
   },
   {
    "duration": 107,
    "start_time": "2022-09-07T12:52:42.075Z"
   },
   {
    "duration": 28,
    "start_time": "2022-09-07T12:52:52.103Z"
   },
   {
    "duration": 13,
    "start_time": "2022-09-07T12:53:14.779Z"
   },
   {
    "duration": 4,
    "start_time": "2022-09-07T12:53:29.118Z"
   },
   {
    "duration": 13,
    "start_time": "2022-09-07T12:54:30.395Z"
   },
   {
    "duration": 25,
    "start_time": "2022-09-07T12:54:48.660Z"
   },
   {
    "duration": 8,
    "start_time": "2022-09-07T12:55:07.541Z"
   },
   {
    "duration": 25,
    "start_time": "2022-09-07T12:55:23.676Z"
   },
   {
    "duration": 37,
    "start_time": "2022-09-07T12:57:35.443Z"
   },
   {
    "duration": 4,
    "start_time": "2022-09-07T12:59:26.681Z"
   },
   {
    "duration": 30,
    "start_time": "2022-09-07T12:59:34.326Z"
   },
   {
    "duration": 41,
    "start_time": "2022-09-07T13:00:03.312Z"
   },
   {
    "duration": 42,
    "start_time": "2022-09-07T13:01:49.171Z"
   },
   {
    "duration": 77,
    "start_time": "2022-09-07T13:02:43.382Z"
   },
   {
    "duration": 41,
    "start_time": "2022-09-07T13:02:48.855Z"
   },
   {
    "duration": 20,
    "start_time": "2022-09-07T13:04:12.055Z"
   },
   {
    "duration": 24,
    "start_time": "2022-09-07T13:04:41.923Z"
   },
   {
    "duration": 472,
    "start_time": "2022-09-07T13:04:52.520Z"
   },
   {
    "duration": 26,
    "start_time": "2022-09-07T13:05:55.833Z"
   },
   {
    "duration": 583,
    "start_time": "2022-09-07T13:06:01.034Z"
   },
   {
    "duration": 477,
    "start_time": "2022-09-07T13:06:18.835Z"
   },
   {
    "duration": 489,
    "start_time": "2022-09-07T13:08:19.842Z"
   },
   {
    "duration": 477,
    "start_time": "2022-09-07T13:13:19.859Z"
   },
   {
    "duration": 514,
    "start_time": "2022-09-07T13:13:27.428Z"
   },
   {
    "duration": 479,
    "start_time": "2022-09-07T13:15:25.859Z"
   },
   {
    "duration": 1205,
    "start_time": "2022-09-07T13:16:51.080Z"
   },
   {
    "duration": 431,
    "start_time": "2022-09-07T13:17:04.431Z"
   },
   {
    "duration": 456,
    "start_time": "2022-09-07T13:17:25.586Z"
   },
   {
    "duration": 460,
    "start_time": "2022-09-07T13:18:19.456Z"
   },
   {
    "duration": 461,
    "start_time": "2022-09-07T13:18:30.470Z"
   },
   {
    "duration": 459,
    "start_time": "2022-09-07T13:18:54.607Z"
   },
   {
    "duration": 157,
    "start_time": "2022-09-07T13:23:05.212Z"
   },
   {
    "duration": 512,
    "start_time": "2022-09-07T13:23:11.516Z"
   },
   {
    "duration": 7,
    "start_time": "2022-09-07T13:45:41.878Z"
   },
   {
    "duration": 16,
    "start_time": "2022-09-07T13:50:21.515Z"
   },
   {
    "duration": 5,
    "start_time": "2022-09-07T13:51:42.911Z"
   },
   {
    "duration": 17,
    "start_time": "2022-09-07T13:51:52.132Z"
   },
   {
    "duration": 19,
    "start_time": "2022-09-07T13:57:11.949Z"
   },
   {
    "duration": 18,
    "start_time": "2022-09-07T13:57:38.384Z"
   },
   {
    "duration": 267,
    "start_time": "2022-09-07T14:02:55.532Z"
   },
   {
    "duration": 48,
    "start_time": "2022-09-07T16:07:42.442Z"
   },
   {
    "duration": 7,
    "start_time": "2022-09-07T16:07:51.010Z"
   },
   {
    "duration": 1381,
    "start_time": "2022-09-07T16:07:58.745Z"
   },
   {
    "duration": 486,
    "start_time": "2022-09-07T16:08:00.128Z"
   },
   {
    "duration": 20,
    "start_time": "2022-09-07T16:08:00.616Z"
   },
   {
    "duration": 6,
    "start_time": "2022-09-07T16:08:00.640Z"
   },
   {
    "duration": 86,
    "start_time": "2022-09-07T16:08:00.647Z"
   },
   {
    "duration": 11,
    "start_time": "2022-09-07T16:08:00.734Z"
   },
   {
    "duration": 19,
    "start_time": "2022-09-07T16:08:00.746Z"
   },
   {
    "duration": 27,
    "start_time": "2022-09-07T16:08:00.767Z"
   },
   {
    "duration": 8,
    "start_time": "2022-09-07T16:08:00.795Z"
   },
   {
    "duration": 30,
    "start_time": "2022-09-07T16:08:00.805Z"
   },
   {
    "duration": 30,
    "start_time": "2022-09-07T16:08:00.837Z"
   },
   {
    "duration": 22,
    "start_time": "2022-09-07T16:08:00.869Z"
   },
   {
    "duration": 193,
    "start_time": "2022-09-07T16:08:00.893Z"
   },
   {
    "duration": 174,
    "start_time": "2022-09-07T16:08:01.087Z"
   },
   {
    "duration": 564,
    "start_time": "2022-09-07T16:08:01.263Z"
   },
   {
    "duration": 26,
    "start_time": "2022-09-07T16:08:01.830Z"
   },
   {
    "duration": 21,
    "start_time": "2022-09-07T16:08:06.194Z"
   },
   {
    "duration": 469,
    "start_time": "2022-09-07T16:10:18.728Z"
   },
   {
    "duration": 331,
    "start_time": "2022-09-07T16:12:05.331Z"
   },
   {
    "duration": 20,
    "start_time": "2022-09-07T16:13:00.263Z"
   },
   {
    "duration": 631,
    "start_time": "2022-09-07T16:13:01.412Z"
   },
   {
    "duration": 481,
    "start_time": "2022-09-07T16:14:22.888Z"
   },
   {
    "duration": 21,
    "start_time": "2022-09-07T16:14:23.520Z"
   },
   {
    "duration": 470,
    "start_time": "2022-09-07T16:14:38.635Z"
   },
   {
    "duration": 413,
    "start_time": "2022-09-07T16:14:47.228Z"
   },
   {
    "duration": 480,
    "start_time": "2022-09-07T16:14:53.532Z"
   },
   {
    "duration": 516,
    "start_time": "2022-09-07T16:15:07.130Z"
   },
   {
    "duration": 19,
    "start_time": "2022-09-07T16:15:13.532Z"
   },
   {
    "duration": 471,
    "start_time": "2022-09-07T16:15:14.640Z"
   },
   {
    "duration": 20,
    "start_time": "2022-09-07T16:15:41.682Z"
   },
   {
    "duration": 372,
    "start_time": "2022-09-07T16:15:52.280Z"
   },
   {
    "duration": 170,
    "start_time": "2022-09-07T16:16:55.263Z"
   },
   {
    "duration": 80,
    "start_time": "2022-09-07T16:17:59.915Z"
   },
   {
    "duration": 0,
    "start_time": "2022-09-07T16:18:18.941Z"
   },
   {
    "duration": 6224,
    "start_time": "2022-09-07T16:20:06.590Z"
   },
   {
    "duration": 992,
    "start_time": "2022-09-07T16:22:27.241Z"
   },
   {
    "duration": 1310,
    "start_time": "2022-09-07T16:22:46.633Z"
   },
   {
    "duration": 1021,
    "start_time": "2022-09-07T16:23:02.701Z"
   },
   {
    "duration": 12,
    "start_time": "2022-09-07T16:23:38.119Z"
   },
   {
    "duration": 27,
    "start_time": "2022-09-07T16:23:51.831Z"
   },
   {
    "duration": 5,
    "start_time": "2022-09-07T16:26:30.042Z"
   },
   {
    "duration": 16,
    "start_time": "2022-09-07T16:27:11.432Z"
   },
   {
    "duration": 16,
    "start_time": "2022-09-07T16:27:29.292Z"
   },
   {
    "duration": 19,
    "start_time": "2022-09-07T16:27:53.270Z"
   },
   {
    "duration": 145,
    "start_time": "2022-09-07T16:29:50.499Z"
   },
   {
    "duration": 20,
    "start_time": "2022-09-07T16:30:35.421Z"
   },
   {
    "duration": 125,
    "start_time": "2022-09-07T16:31:36.592Z"
   },
   {
    "duration": 118,
    "start_time": "2022-09-07T16:31:47.998Z"
   },
   {
    "duration": 128,
    "start_time": "2022-09-07T16:31:53.454Z"
   },
   {
    "duration": 12,
    "start_time": "2022-09-07T16:32:57.182Z"
   },
   {
    "duration": 118,
    "start_time": "2022-09-07T16:34:02.657Z"
   },
   {
    "duration": 10,
    "start_time": "2022-09-07T16:34:11.863Z"
   },
   {
    "duration": 107,
    "start_time": "2022-09-07T16:34:38.138Z"
   },
   {
    "duration": 11,
    "start_time": "2022-09-07T16:34:49.591Z"
   },
   {
    "duration": 3,
    "start_time": "2022-09-07T16:34:56.460Z"
   },
   {
    "duration": 84,
    "start_time": "2022-09-07T16:34:56.465Z"
   },
   {
    "duration": 16,
    "start_time": "2022-09-07T16:34:56.550Z"
   },
   {
    "duration": 11,
    "start_time": "2022-09-07T16:34:56.568Z"
   },
   {
    "duration": 32,
    "start_time": "2022-09-07T16:34:56.581Z"
   },
   {
    "duration": 11,
    "start_time": "2022-09-07T16:34:56.615Z"
   },
   {
    "duration": 12,
    "start_time": "2022-09-07T16:34:56.627Z"
   },
   {
    "duration": 13,
    "start_time": "2022-09-07T16:34:56.641Z"
   },
   {
    "duration": 40,
    "start_time": "2022-09-07T16:34:56.656Z"
   },
   {
    "duration": 18,
    "start_time": "2022-09-07T16:34:56.698Z"
   },
   {
    "duration": 33,
    "start_time": "2022-09-07T16:34:56.718Z"
   },
   {
    "duration": 39,
    "start_time": "2022-09-07T16:34:56.753Z"
   },
   {
    "duration": 210,
    "start_time": "2022-09-07T16:34:56.794Z"
   },
   {
    "duration": 265,
    "start_time": "2022-09-07T16:34:57.006Z"
   },
   {
    "duration": 520,
    "start_time": "2022-09-07T16:34:57.274Z"
   },
   {
    "duration": 27,
    "start_time": "2022-09-07T16:34:57.797Z"
   },
   {
    "duration": 12,
    "start_time": "2022-09-07T16:35:00.807Z"
   },
   {
    "duration": 13,
    "start_time": "2022-09-07T16:35:07.927Z"
   },
   {
    "duration": 147,
    "start_time": "2022-09-07T16:35:14.072Z"
   },
   {
    "duration": 196,
    "start_time": "2022-09-07T16:35:21.938Z"
   },
   {
    "duration": 20,
    "start_time": "2022-09-07T16:36:08.870Z"
   },
   {
    "duration": 135,
    "start_time": "2022-09-07T16:36:09.790Z"
   },
   {
    "duration": 142,
    "start_time": "2022-09-07T17:21:07.334Z"
   },
   {
    "duration": 127,
    "start_time": "2022-09-07T17:21:14.906Z"
   },
   {
    "duration": 6,
    "start_time": "2022-09-07T17:26:52.754Z"
   },
   {
    "duration": 16,
    "start_time": "2022-09-07T17:27:19.355Z"
   },
   {
    "duration": 187,
    "start_time": "2022-09-07T17:27:28.688Z"
   },
   {
    "duration": 248,
    "start_time": "2022-09-07T17:30:05.991Z"
   },
   {
    "duration": 638,
    "start_time": "2022-09-07T17:30:18.505Z"
   },
   {
    "duration": 14,
    "start_time": "2022-09-07T17:30:43.038Z"
   },
   {
    "duration": 376,
    "start_time": "2022-09-07T17:30:47.433Z"
   },
   {
    "duration": 358,
    "start_time": "2022-09-07T17:31:43.119Z"
   },
   {
    "duration": 356,
    "start_time": "2022-09-07T17:31:52.909Z"
   },
   {
    "duration": 416,
    "start_time": "2022-09-07T17:32:11.855Z"
   },
   {
    "duration": 397,
    "start_time": "2022-09-07T17:32:46.454Z"
   },
   {
    "duration": 345,
    "start_time": "2022-09-07T17:32:54.111Z"
   },
   {
    "duration": 19,
    "start_time": "2022-09-07T17:33:00.767Z"
   },
   {
    "duration": 313,
    "start_time": "2022-09-07T17:33:03.205Z"
   },
   {
    "duration": 29,
    "start_time": "2022-09-07T17:34:06.388Z"
   },
   {
    "duration": 314,
    "start_time": "2022-09-07T17:35:02.344Z"
   },
   {
    "duration": 411,
    "start_time": "2022-09-07T17:35:11.231Z"
   },
   {
    "duration": 193,
    "start_time": "2022-09-07T17:35:20.408Z"
   },
   {
    "duration": 388,
    "start_time": "2022-09-07T17:35:24.555Z"
   },
   {
    "duration": 359,
    "start_time": "2022-09-07T17:35:30.231Z"
   },
   {
    "duration": 352,
    "start_time": "2022-09-07T17:37:18.166Z"
   },
   {
    "duration": 348,
    "start_time": "2022-09-07T17:37:27.462Z"
   },
   {
    "duration": 351,
    "start_time": "2022-09-07T17:37:36.758Z"
   },
   {
    "duration": 335,
    "start_time": "2022-09-07T17:40:19.099Z"
   },
   {
    "duration": 337,
    "start_time": "2022-09-07T17:40:34.066Z"
   },
   {
    "duration": 301,
    "start_time": "2022-09-07T17:40:42.112Z"
   },
   {
    "duration": 346,
    "start_time": "2022-09-07T17:40:59.690Z"
   },
   {
    "duration": 371,
    "start_time": "2022-09-07T17:42:23.653Z"
   },
   {
    "duration": 1635,
    "start_time": "2022-09-07T17:42:36.790Z"
   },
   {
    "duration": 466,
    "start_time": "2022-09-07T17:43:09.225Z"
   },
   {
    "duration": 495,
    "start_time": "2022-09-07T17:43:33.555Z"
   },
   {
    "duration": 449,
    "start_time": "2022-09-07T18:07:05.725Z"
   },
   {
    "duration": 533,
    "start_time": "2022-09-07T18:08:03.915Z"
   },
   {
    "duration": 462,
    "start_time": "2022-09-07T18:08:37.679Z"
   },
   {
    "duration": 579,
    "start_time": "2022-09-07T18:08:54.814Z"
   },
   {
    "duration": 359,
    "start_time": "2022-09-07T18:09:35.441Z"
   },
   {
    "duration": 555,
    "start_time": "2022-09-07T18:09:40.024Z"
   },
   {
    "duration": 326,
    "start_time": "2022-09-07T18:10:13.510Z"
   },
   {
    "duration": 192,
    "start_time": "2022-09-07T18:10:19.768Z"
   },
   {
    "duration": 477,
    "start_time": "2022-09-07T18:10:25.866Z"
   },
   {
    "duration": 617,
    "start_time": "2022-09-07T18:10:37.920Z"
   },
   {
    "duration": 476,
    "start_time": "2022-09-07T18:10:46.281Z"
   },
   {
    "duration": 507,
    "start_time": "2022-09-07T18:13:40.363Z"
   },
   {
    "duration": 33,
    "start_time": "2022-09-07T18:13:51.937Z"
   },
   {
    "duration": 483,
    "start_time": "2022-09-07T18:13:56.745Z"
   },
   {
    "duration": 177,
    "start_time": "2022-09-07T18:14:32.603Z"
   },
   {
    "duration": 502,
    "start_time": "2022-09-07T18:14:35.494Z"
   },
   {
    "duration": 550,
    "start_time": "2022-09-07T18:14:57.183Z"
   },
   {
    "duration": 459,
    "start_time": "2022-09-07T18:15:26.063Z"
   },
   {
    "duration": 484,
    "start_time": "2022-09-07T18:15:30.913Z"
   },
   {
    "duration": 483,
    "start_time": "2022-09-07T18:16:01.060Z"
   },
   {
    "duration": 355,
    "start_time": "2022-09-07T18:16:11.238Z"
   },
   {
    "duration": 585,
    "start_time": "2022-09-07T18:16:18.530Z"
   },
   {
    "duration": 490,
    "start_time": "2022-09-07T18:16:25.392Z"
   },
   {
    "duration": 489,
    "start_time": "2022-09-07T18:16:34.740Z"
   },
   {
    "duration": 508,
    "start_time": "2022-09-07T18:16:44.140Z"
   },
   {
    "duration": 487,
    "start_time": "2022-09-07T18:16:58.506Z"
   },
   {
    "duration": 461,
    "start_time": "2022-09-07T18:17:12.761Z"
   },
   {
    "duration": 616,
    "start_time": "2022-09-07T18:18:49.305Z"
   },
   {
    "duration": 29,
    "start_time": "2022-09-07T18:21:31.119Z"
   },
   {
    "duration": 21,
    "start_time": "2022-09-07T18:21:39.271Z"
   },
   {
    "duration": 467,
    "start_time": "2022-09-07T18:31:13.496Z"
   },
   {
    "duration": 455,
    "start_time": "2022-09-07T18:33:22.590Z"
   },
   {
    "duration": 511,
    "start_time": "2022-09-07T18:33:42.228Z"
   },
   {
    "duration": 463,
    "start_time": "2022-09-07T18:35:47.002Z"
   },
   {
    "duration": 597,
    "start_time": "2022-09-07T18:36:09.173Z"
   },
   {
    "duration": 486,
    "start_time": "2022-09-07T18:36:15.176Z"
   },
   {
    "duration": 474,
    "start_time": "2022-09-07T18:36:30.300Z"
   },
   {
    "duration": 487,
    "start_time": "2022-09-07T18:36:37.960Z"
   },
   {
    "duration": 472,
    "start_time": "2022-09-07T18:36:54.490Z"
   },
   {
    "duration": 28,
    "start_time": "2022-09-07T18:37:43.260Z"
   },
   {
    "duration": 474,
    "start_time": "2022-09-07T18:38:12.177Z"
   },
   {
    "duration": 608,
    "start_time": "2022-09-07T18:38:29.576Z"
   },
   {
    "duration": 471,
    "start_time": "2022-09-07T18:39:20.302Z"
   },
   {
    "duration": 474,
    "start_time": "2022-09-07T18:39:46.319Z"
   },
   {
    "duration": 478,
    "start_time": "2022-09-07T18:39:52.294Z"
   },
   {
    "duration": 491,
    "start_time": "2022-09-07T18:42:12.060Z"
   },
   {
    "duration": 601,
    "start_time": "2022-09-07T18:42:59.349Z"
   },
   {
    "duration": 503,
    "start_time": "2022-09-07T18:50:16.332Z"
   },
   {
    "duration": 536,
    "start_time": "2022-09-07T18:52:11.928Z"
   },
   {
    "duration": 728,
    "start_time": "2022-09-07T18:54:50.781Z"
   },
   {
    "duration": 29,
    "start_time": "2022-09-07T18:55:57.448Z"
   },
   {
    "duration": 743,
    "start_time": "2022-09-07T18:56:15.172Z"
   },
   {
    "duration": 827,
    "start_time": "2022-09-07T18:56:29.499Z"
   },
   {
    "duration": 885,
    "start_time": "2022-09-07T18:56:35.597Z"
   },
   {
    "duration": 790,
    "start_time": "2022-09-07T18:57:07.863Z"
   },
   {
    "duration": 511,
    "start_time": "2022-09-07T20:18:25.175Z"
   },
   {
    "duration": 20,
    "start_time": "2022-09-07T20:28:13.565Z"
   },
   {
    "duration": 16,
    "start_time": "2022-09-07T20:29:20.157Z"
   },
   {
    "duration": 36,
    "start_time": "2022-09-07T20:29:40.073Z"
   },
   {
    "duration": 29,
    "start_time": "2022-09-07T20:30:29.547Z"
   },
   {
    "duration": 235,
    "start_time": "2022-09-07T20:33:44.255Z"
   },
   {
    "duration": 258,
    "start_time": "2022-09-07T20:35:15.587Z"
   },
   {
    "duration": 348,
    "start_time": "2022-09-07T20:35:25.746Z"
   },
   {
    "duration": 12,
    "start_time": "2022-09-07T20:36:58.422Z"
   },
   {
    "duration": 255,
    "start_time": "2022-09-07T20:37:05.299Z"
   },
   {
    "duration": 255,
    "start_time": "2022-09-07T20:37:35.232Z"
   },
   {
    "duration": 270,
    "start_time": "2022-09-07T20:37:48.661Z"
   },
   {
    "duration": 269,
    "start_time": "2022-09-07T20:40:19.296Z"
   },
   {
    "duration": 364,
    "start_time": "2022-09-07T20:40:34.334Z"
   },
   {
    "duration": 20,
    "start_time": "2022-09-07T20:41:13.596Z"
   },
   {
    "duration": 259,
    "start_time": "2022-09-07T20:41:28.862Z"
   },
   {
    "duration": 269,
    "start_time": "2022-09-07T20:41:41.221Z"
   },
   {
    "duration": 255,
    "start_time": "2022-09-07T20:41:59.899Z"
   },
   {
    "duration": 12,
    "start_time": "2022-09-07T20:42:13.435Z"
   },
   {
    "duration": 38,
    "start_time": "2022-09-07T20:42:20.147Z"
   },
   {
    "duration": 260,
    "start_time": "2022-09-07T20:42:37.340Z"
   },
   {
    "duration": 363,
    "start_time": "2022-09-07T20:42:48.479Z"
   },
   {
    "duration": 278,
    "start_time": "2022-09-07T20:43:25.184Z"
   },
   {
    "duration": 269,
    "start_time": "2022-09-07T20:43:59.471Z"
   },
   {
    "duration": 288,
    "start_time": "2022-09-07T20:56:12.029Z"
   },
   {
    "duration": 239,
    "start_time": "2022-09-07T20:56:58.231Z"
   },
   {
    "duration": 276,
    "start_time": "2022-09-07T20:57:09.931Z"
   },
   {
    "duration": 374,
    "start_time": "2022-09-07T20:57:14.444Z"
   },
   {
    "duration": 276,
    "start_time": "2022-09-07T20:57:22.381Z"
   },
   {
    "duration": 381,
    "start_time": "2022-09-07T20:57:41.735Z"
   },
   {
    "duration": 277,
    "start_time": "2022-09-07T20:59:35.014Z"
   },
   {
    "duration": 253,
    "start_time": "2022-09-07T20:59:44.652Z"
   },
   {
    "duration": 364,
    "start_time": "2022-09-07T20:59:57.853Z"
   },
   {
    "duration": 243,
    "start_time": "2022-09-07T21:01:24.296Z"
   },
   {
    "duration": 233,
    "start_time": "2022-09-07T21:01:33.529Z"
   },
   {
    "duration": 209,
    "start_time": "2022-09-07T21:01:41.075Z"
   },
   {
    "duration": 234,
    "start_time": "2022-09-07T21:01:51.968Z"
   },
   {
    "duration": 245,
    "start_time": "2022-09-07T21:02:19.641Z"
   },
   {
    "duration": 348,
    "start_time": "2022-09-07T21:02:25.918Z"
   },
   {
    "duration": 244,
    "start_time": "2022-09-07T21:03:18.303Z"
   },
   {
    "duration": 257,
    "start_time": "2022-09-07T21:03:44.322Z"
   },
   {
    "duration": 272,
    "start_time": "2022-09-07T21:05:16.324Z"
   },
   {
    "duration": 468,
    "start_time": "2022-09-07T21:06:04.427Z"
   },
   {
    "duration": 467,
    "start_time": "2022-09-07T21:06:23.437Z"
   },
   {
    "duration": 559,
    "start_time": "2022-09-07T21:08:32.526Z"
   },
   {
    "duration": 476,
    "start_time": "2022-09-07T21:08:50.291Z"
   },
   {
    "duration": 475,
    "start_time": "2022-09-07T21:09:08.877Z"
   },
   {
    "duration": 486,
    "start_time": "2022-09-07T21:09:16.587Z"
   },
   {
    "duration": 471,
    "start_time": "2022-09-07T21:09:21.195Z"
   },
   {
    "duration": 637,
    "start_time": "2022-09-07T21:11:56.183Z"
   },
   {
    "duration": 302,
    "start_time": "2022-09-07T21:13:27.789Z"
   },
   {
    "duration": 15,
    "start_time": "2022-09-07T21:22:28.074Z"
   },
   {
    "duration": 149,
    "start_time": "2022-09-07T21:23:56.269Z"
   },
   {
    "duration": 112,
    "start_time": "2022-09-07T21:24:32.832Z"
   },
   {
    "duration": 222,
    "start_time": "2022-09-07T21:24:59.964Z"
   },
   {
    "duration": 209,
    "start_time": "2022-09-07T21:25:17.444Z"
   },
   {
    "duration": 204,
    "start_time": "2022-09-07T21:25:28.059Z"
   },
   {
    "duration": 229,
    "start_time": "2022-09-07T21:26:05.558Z"
   },
   {
    "duration": 211,
    "start_time": "2022-09-07T21:26:11.055Z"
   },
   {
    "duration": 225,
    "start_time": "2022-09-07T21:32:21.403Z"
   },
   {
    "duration": 223,
    "start_time": "2022-09-07T21:32:30.975Z"
   },
   {
    "duration": 272,
    "start_time": "2022-09-07T21:33:25.239Z"
   },
   {
    "duration": 310,
    "start_time": "2022-09-07T21:33:56.605Z"
   },
   {
    "duration": 270,
    "start_time": "2022-09-07T21:35:44.648Z"
   },
   {
    "duration": 314,
    "start_time": "2022-09-07T21:36:29.279Z"
   },
   {
    "duration": 291,
    "start_time": "2022-09-07T21:38:05.801Z"
   },
   {
    "duration": 70,
    "start_time": "2022-09-07T21:38:36.153Z"
   },
   {
    "duration": 285,
    "start_time": "2022-09-07T21:38:40.900Z"
   },
   {
    "duration": 286,
    "start_time": "2022-09-07T21:38:51.508Z"
   },
   {
    "duration": 314,
    "start_time": "2022-09-07T21:39:10.079Z"
   },
   {
    "duration": 303,
    "start_time": "2022-09-07T21:39:37.247Z"
   },
   {
    "duration": 424,
    "start_time": "2022-09-07T21:40:27.726Z"
   },
   {
    "duration": 365,
    "start_time": "2022-09-07T21:41:29.145Z"
   },
   {
    "duration": 322,
    "start_time": "2022-09-07T21:41:49.871Z"
   },
   {
    "duration": 335,
    "start_time": "2022-09-07T21:43:01.393Z"
   },
   {
    "duration": 390,
    "start_time": "2022-09-07T21:43:41.861Z"
   },
   {
    "duration": 75,
    "start_time": "2022-09-07T21:56:23.827Z"
   },
   {
    "duration": 8,
    "start_time": "2022-09-07T21:56:42.729Z"
   },
   {
    "duration": 320,
    "start_time": "2022-09-07T21:56:47.360Z"
   },
   {
    "duration": 329,
    "start_time": "2022-09-07T21:57:05.700Z"
   },
   {
    "duration": 43,
    "start_time": "2022-09-08T09:35:02.511Z"
   },
   {
    "duration": 1263,
    "start_time": "2022-09-08T09:35:07.368Z"
   },
   {
    "duration": 104,
    "start_time": "2022-09-08T09:35:08.633Z"
   },
   {
    "duration": 12,
    "start_time": "2022-09-08T09:35:08.739Z"
   },
   {
    "duration": 5,
    "start_time": "2022-09-08T09:35:08.752Z"
   },
   {
    "duration": 62,
    "start_time": "2022-09-08T09:35:08.759Z"
   },
   {
    "duration": 9,
    "start_time": "2022-09-08T09:35:08.823Z"
   },
   {
    "duration": 10,
    "start_time": "2022-09-08T09:35:08.833Z"
   },
   {
    "duration": 12,
    "start_time": "2022-09-08T09:35:08.844Z"
   },
   {
    "duration": 7,
    "start_time": "2022-09-08T09:35:08.857Z"
   },
   {
    "duration": 18,
    "start_time": "2022-09-08T09:35:08.884Z"
   },
   {
    "duration": 23,
    "start_time": "2022-09-08T09:35:08.903Z"
   },
   {
    "duration": 14,
    "start_time": "2022-09-08T09:35:08.928Z"
   },
   {
    "duration": 200,
    "start_time": "2022-09-08T09:35:08.944Z"
   },
   {
    "duration": 154,
    "start_time": "2022-09-08T09:35:09.147Z"
   },
   {
    "duration": 457,
    "start_time": "2022-09-08T09:35:09.303Z"
   },
   {
    "duration": 27,
    "start_time": "2022-09-08T09:35:09.762Z"
   },
   {
    "duration": 443,
    "start_time": "2022-09-08T09:35:09.791Z"
   },
   {
    "duration": 295,
    "start_time": "2022-09-08T09:35:10.236Z"
   },
   {
    "duration": 258,
    "start_time": "2022-09-08T09:35:10.534Z"
   },
   {
    "duration": 12,
    "start_time": "2022-09-08T09:35:14.266Z"
   },
   {
    "duration": 7,
    "start_time": "2022-09-08T09:36:26.795Z"
   },
   {
    "duration": 77,
    "start_time": "2022-09-08T09:37:23.771Z"
   },
   {
    "duration": 12,
    "start_time": "2022-09-08T09:38:17.005Z"
   },
   {
    "duration": 8,
    "start_time": "2022-09-08T09:38:31.434Z"
   },
   {
    "duration": 11,
    "start_time": "2022-09-08T09:38:44.043Z"
   },
   {
    "duration": 14,
    "start_time": "2022-09-08T09:38:51.786Z"
   },
   {
    "duration": 9,
    "start_time": "2022-09-08T09:38:56.107Z"
   },
   {
    "duration": 128,
    "start_time": "2022-09-08T09:40:07.215Z"
   },
   {
    "duration": 146,
    "start_time": "2022-09-08T09:41:19.685Z"
   },
   {
    "duration": 152,
    "start_time": "2022-09-08T09:41:52.481Z"
   },
   {
    "duration": 330,
    "start_time": "2022-09-08T09:45:11.342Z"
   },
   {
    "duration": 257,
    "start_time": "2022-09-08T09:45:23.169Z"
   },
   {
    "duration": 261,
    "start_time": "2022-09-08T09:45:33.039Z"
   },
   {
    "duration": 365,
    "start_time": "2022-09-08T09:45:42.671Z"
   },
   {
    "duration": 263,
    "start_time": "2022-09-08T09:45:55.825Z"
   },
   {
    "duration": 222,
    "start_time": "2022-09-08T09:46:04.625Z"
   },
   {
    "duration": 234,
    "start_time": "2022-09-08T09:46:10.158Z"
   },
   {
    "duration": 273,
    "start_time": "2022-09-08T09:48:17.233Z"
   },
   {
    "duration": 286,
    "start_time": "2022-09-08T09:48:22.219Z"
   },
   {
    "duration": 279,
    "start_time": "2022-09-08T09:48:31.632Z"
   },
   {
    "duration": 380,
    "start_time": "2022-09-08T09:48:35.809Z"
   },
   {
    "duration": 253,
    "start_time": "2022-09-08T09:48:40.885Z"
   },
   {
    "duration": 263,
    "start_time": "2022-09-08T09:48:44.757Z"
   },
   {
    "duration": 272,
    "start_time": "2022-09-08T09:48:59.057Z"
   },
   {
    "duration": 315,
    "start_time": "2022-09-08T09:50:03.696Z"
   },
   {
    "duration": 255,
    "start_time": "2022-09-08T09:50:43.843Z"
   },
   {
    "duration": 95,
    "start_time": "2022-09-08T09:50:50.912Z"
   },
   {
    "duration": 234,
    "start_time": "2022-09-08T09:50:57.042Z"
   },
   {
    "duration": 373,
    "start_time": "2022-09-08T10:26:24.035Z"
   },
   {
    "duration": 259,
    "start_time": "2022-09-08T10:27:02.629Z"
   },
   {
    "duration": 15,
    "start_time": "2022-09-08T10:28:12.212Z"
   },
   {
    "duration": 4,
    "start_time": "2022-09-08T10:28:42.340Z"
   },
   {
    "duration": 13,
    "start_time": "2022-09-08T10:28:50.038Z"
   },
   {
    "duration": 6,
    "start_time": "2022-09-08T10:28:58.483Z"
   },
   {
    "duration": 208,
    "start_time": "2022-09-08T10:29:54.407Z"
   },
   {
    "duration": 261,
    "start_time": "2022-09-08T10:30:10.916Z"
   },
   {
    "duration": 268,
    "start_time": "2022-09-08T10:30:51.812Z"
   },
   {
    "duration": 249,
    "start_time": "2022-09-08T10:31:01.737Z"
   },
   {
    "duration": 362,
    "start_time": "2022-09-08T10:31:47.990Z"
   },
   {
    "duration": 270,
    "start_time": "2022-09-08T10:34:09.655Z"
   },
   {
    "duration": 98,
    "start_time": "2022-09-08T10:36:59.704Z"
   },
   {
    "duration": 1499,
    "start_time": "2022-09-08T10:37:22.887Z"
   },
   {
    "duration": 258,
    "start_time": "2022-09-08T10:37:33.464Z"
   },
   {
    "duration": 252,
    "start_time": "2022-09-08T10:47:28.957Z"
   },
   {
    "duration": 398,
    "start_time": "2022-09-08T10:50:48.942Z"
   },
   {
    "duration": 477,
    "start_time": "2022-09-08T10:51:53.710Z"
   },
   {
    "duration": 416,
    "start_time": "2022-09-08T10:52:25.342Z"
   },
   {
    "duration": 435,
    "start_time": "2022-09-08T10:53:10.094Z"
   },
   {
    "duration": 477,
    "start_time": "2022-09-08T10:53:17.468Z"
   },
   {
    "duration": 311,
    "start_time": "2022-09-08T10:53:51.804Z"
   },
   {
    "duration": 420,
    "start_time": "2022-09-08T10:54:10.703Z"
   },
   {
    "duration": 415,
    "start_time": "2022-09-08T10:54:18.604Z"
   },
   {
    "duration": 224,
    "start_time": "2022-09-08T10:55:07.825Z"
   },
   {
    "duration": 275,
    "start_time": "2022-09-08T10:55:24.426Z"
   },
   {
    "duration": 226,
    "start_time": "2022-09-08T10:57:09.923Z"
   },
   {
    "duration": 507,
    "start_time": "2022-09-08T10:57:24.767Z"
   },
   {
    "duration": 392,
    "start_time": "2022-09-08T10:57:48.849Z"
   },
   {
    "duration": 409,
    "start_time": "2022-09-08T10:57:58.799Z"
   },
   {
    "duration": 481,
    "start_time": "2022-09-08T10:58:50.324Z"
   },
   {
    "duration": 449,
    "start_time": "2022-09-08T11:03:36.916Z"
   },
   {
    "duration": 396,
    "start_time": "2022-09-08T11:04:21.764Z"
   },
   {
    "duration": 462,
    "start_time": "2022-09-08T11:04:43.046Z"
   },
   {
    "duration": 485,
    "start_time": "2022-09-08T11:05:01.620Z"
   },
   {
    "duration": 409,
    "start_time": "2022-09-08T11:06:22.947Z"
   },
   {
    "duration": 430,
    "start_time": "2022-09-08T11:07:13.204Z"
   },
   {
    "duration": 431,
    "start_time": "2022-09-08T11:07:30.500Z"
   },
   {
    "duration": 242,
    "start_time": "2022-09-08T11:15:32.871Z"
   },
   {
    "duration": 286,
    "start_time": "2022-09-08T11:15:36.103Z"
   },
   {
    "duration": 163,
    "start_time": "2022-09-08T11:24:43.147Z"
   },
   {
    "duration": 12,
    "start_time": "2022-09-08T11:56:21.270Z"
   },
   {
    "duration": 17,
    "start_time": "2022-09-08T11:56:49.478Z"
   },
   {
    "duration": 97,
    "start_time": "2022-09-08T11:57:56.551Z"
   },
   {
    "duration": 106,
    "start_time": "2022-09-08T11:58:50.137Z"
   },
   {
    "duration": 78,
    "start_time": "2022-09-08T11:59:26.856Z"
   },
   {
    "duration": 114,
    "start_time": "2022-09-08T11:59:40.210Z"
   },
   {
    "duration": 115,
    "start_time": "2022-09-08T11:59:46.343Z"
   },
   {
    "duration": 108,
    "start_time": "2022-09-08T11:59:50.056Z"
   },
   {
    "duration": 118,
    "start_time": "2022-09-08T11:59:55.527Z"
   },
   {
    "duration": 118,
    "start_time": "2022-09-08T12:00:48.674Z"
   },
   {
    "duration": 407,
    "start_time": "2022-09-08T12:01:27.835Z"
   },
   {
    "duration": 367,
    "start_time": "2022-09-08T12:01:41.705Z"
   },
   {
    "duration": 329,
    "start_time": "2022-09-08T12:01:48.665Z"
   },
   {
    "duration": 319,
    "start_time": "2022-09-08T12:02:03.672Z"
   },
   {
    "duration": 427,
    "start_time": "2022-09-08T12:02:11.528Z"
   },
   {
    "duration": 314,
    "start_time": "2022-09-08T12:02:21.159Z"
   },
   {
    "duration": 350,
    "start_time": "2022-09-08T12:02:42.553Z"
   },
   {
    "duration": 324,
    "start_time": "2022-09-08T12:02:49.672Z"
   },
   {
    "duration": 316,
    "start_time": "2022-09-08T12:02:56.586Z"
   },
   {
    "duration": 324,
    "start_time": "2022-09-08T12:03:00.939Z"
   },
   {
    "duration": 407,
    "start_time": "2022-09-08T12:03:52.332Z"
   },
   {
    "duration": 307,
    "start_time": "2022-09-08T12:04:16.505Z"
   },
   {
    "duration": 316,
    "start_time": "2022-09-08T12:09:35.692Z"
   },
   {
    "duration": 331,
    "start_time": "2022-09-08T12:13:49.904Z"
   },
   {
    "duration": 609,
    "start_time": "2022-09-08T12:14:05.982Z"
   },
   {
    "duration": 611,
    "start_time": "2022-09-08T12:14:12.957Z"
   },
   {
    "duration": 616,
    "start_time": "2022-09-08T12:14:29.965Z"
   },
   {
    "duration": 515,
    "start_time": "2022-09-08T12:14:53.518Z"
   },
   {
    "duration": 49,
    "start_time": "2022-09-08T12:15:15.565Z"
   },
   {
    "duration": 631,
    "start_time": "2022-09-08T12:15:30.702Z"
   },
   {
    "duration": 689,
    "start_time": "2022-09-08T12:15:49.423Z"
   },
   {
    "duration": 661,
    "start_time": "2022-09-08T12:16:01.158Z"
   },
   {
    "duration": 637,
    "start_time": "2022-09-08T12:16:21.840Z"
   },
   {
    "duration": 608,
    "start_time": "2022-09-08T12:16:34.626Z"
   },
   {
    "duration": 697,
    "start_time": "2022-09-08T12:17:58.851Z"
   },
   {
    "duration": 813,
    "start_time": "2022-09-08T12:18:12.464Z"
   },
   {
    "duration": 911,
    "start_time": "2022-09-08T12:18:38.513Z"
   },
   {
    "duration": 790,
    "start_time": "2022-09-08T12:18:53.315Z"
   },
   {
    "duration": 886,
    "start_time": "2022-09-08T12:19:02.851Z"
   },
   {
    "duration": 825,
    "start_time": "2022-09-08T12:19:35.536Z"
   },
   {
    "duration": 828,
    "start_time": "2022-09-08T12:21:08.833Z"
   },
   {
    "duration": 862,
    "start_time": "2022-09-08T12:21:22.066Z"
   },
   {
    "duration": 812,
    "start_time": "2022-09-08T12:22:08.290Z"
   },
   {
    "duration": 826,
    "start_time": "2022-09-08T12:22:46.274Z"
   },
   {
    "duration": 996,
    "start_time": "2022-09-08T12:23:02.018Z"
   },
   {
    "duration": 891,
    "start_time": "2022-09-08T12:29:21.443Z"
   },
   {
    "duration": 69,
    "start_time": "2022-09-08T19:08:48.906Z"
   },
   {
    "duration": 1469,
    "start_time": "2022-09-08T19:08:56.151Z"
   },
   {
    "duration": 253,
    "start_time": "2022-09-08T19:08:57.622Z"
   },
   {
    "duration": 14,
    "start_time": "2022-09-08T19:08:57.876Z"
   },
   {
    "duration": 5,
    "start_time": "2022-09-08T19:08:57.892Z"
   },
   {
    "duration": 70,
    "start_time": "2022-09-08T19:08:57.898Z"
   },
   {
    "duration": 12,
    "start_time": "2022-09-08T19:08:57.969Z"
   },
   {
    "duration": 11,
    "start_time": "2022-09-08T19:08:57.982Z"
   },
   {
    "duration": 11,
    "start_time": "2022-09-08T19:08:57.994Z"
   },
   {
    "duration": 7,
    "start_time": "2022-09-08T19:08:58.006Z"
   },
   {
    "duration": 47,
    "start_time": "2022-09-08T19:08:58.016Z"
   },
   {
    "duration": 31,
    "start_time": "2022-09-08T19:08:58.065Z"
   },
   {
    "duration": 15,
    "start_time": "2022-09-08T19:08:58.098Z"
   },
   {
    "duration": 187,
    "start_time": "2022-09-08T19:08:58.114Z"
   },
   {
    "duration": 172,
    "start_time": "2022-09-08T19:08:58.304Z"
   },
   {
    "duration": 519,
    "start_time": "2022-09-08T19:08:58.477Z"
   },
   {
    "duration": 19,
    "start_time": "2022-09-08T19:08:58.998Z"
   },
   {
    "duration": 483,
    "start_time": "2022-09-08T19:08:59.019Z"
   },
   {
    "duration": 328,
    "start_time": "2022-09-08T19:08:59.503Z"
   },
   {
    "duration": 288,
    "start_time": "2022-09-08T19:08:59.832Z"
   },
   {
    "duration": 305,
    "start_time": "2022-09-08T19:09:00.122Z"
   },
   {
    "duration": 188,
    "start_time": "2022-09-08T19:09:00.429Z"
   },
   {
    "duration": 974,
    "start_time": "2022-09-08T19:09:00.619Z"
   },
   {
    "duration": 963,
    "start_time": "2022-09-08T19:12:54.212Z"
   },
   {
    "duration": 1061,
    "start_time": "2022-09-08T19:14:10.835Z"
   },
   {
    "duration": 377,
    "start_time": "2022-09-08T19:17:49.248Z"
   },
   {
    "duration": 77,
    "start_time": "2022-09-08T19:30:44.374Z"
   },
   {
    "duration": 260,
    "start_time": "2022-09-08T19:30:55.137Z"
   },
   {
    "duration": 216,
    "start_time": "2022-09-08T19:31:04.273Z"
   },
   {
    "duration": 15,
    "start_time": "2022-09-08T19:31:15.779Z"
   },
   {
    "duration": 178,
    "start_time": "2022-09-08T19:31:24.280Z"
   },
   {
    "duration": 548,
    "start_time": "2022-09-08T19:32:22.297Z"
   },
   {
    "duration": 721,
    "start_time": "2022-09-08T19:33:09.592Z"
   },
   {
    "duration": 687,
    "start_time": "2022-09-08T19:33:47.141Z"
   },
   {
    "duration": 550,
    "start_time": "2022-09-08T19:35:24.492Z"
   },
   {
    "duration": 21,
    "start_time": "2022-09-08T19:36:13.808Z"
   },
   {
    "duration": 669,
    "start_time": "2022-09-08T19:36:26.040Z"
   },
   {
    "duration": 514,
    "start_time": "2022-09-08T19:36:59.243Z"
   },
   {
    "duration": 605,
    "start_time": "2022-09-08T19:37:07.203Z"
   },
   {
    "duration": 529,
    "start_time": "2022-09-08T19:38:04.756Z"
   },
   {
    "duration": 600,
    "start_time": "2022-09-08T19:40:18.041Z"
   },
   {
    "duration": 532,
    "start_time": "2022-09-08T19:45:01.465Z"
   },
   {
    "duration": 543,
    "start_time": "2022-09-08T19:53:39.167Z"
   },
   {
    "duration": 684,
    "start_time": "2022-09-08T19:54:09.803Z"
   },
   {
    "duration": 196,
    "start_time": "2022-09-08T19:56:21.044Z"
   },
   {
    "duration": 607,
    "start_time": "2022-09-08T19:56:41.043Z"
   },
   {
    "duration": 611,
    "start_time": "2022-09-08T20:09:26.612Z"
   },
   {
    "duration": 519,
    "start_time": "2022-09-08T20:15:16.672Z"
   },
   {
    "duration": 593,
    "start_time": "2022-09-08T20:15:40.747Z"
   },
   {
    "duration": 544,
    "start_time": "2022-09-08T20:16:11.303Z"
   },
   {
    "duration": 584,
    "start_time": "2022-09-08T20:19:02.239Z"
   },
   {
    "duration": 681,
    "start_time": "2022-09-08T20:19:43.296Z"
   },
   {
    "duration": 259,
    "start_time": "2022-09-08T20:20:11.192Z"
   },
   {
    "duration": 285,
    "start_time": "2022-09-08T20:20:32.101Z"
   },
   {
    "duration": 281,
    "start_time": "2022-09-08T20:20:41.341Z"
   },
   {
    "duration": 197,
    "start_time": "2022-09-08T20:20:53.894Z"
   },
   {
    "duration": 167,
    "start_time": "2022-09-08T20:21:10.945Z"
   },
   {
    "duration": 154,
    "start_time": "2022-09-08T20:21:15.335Z"
   },
   {
    "duration": 453,
    "start_time": "2022-09-08T20:21:28.338Z"
   },
   {
    "duration": 573,
    "start_time": "2022-09-08T20:21:32.938Z"
   },
   {
    "duration": 413,
    "start_time": "2022-09-08T20:21:53.577Z"
   },
   {
    "duration": 288,
    "start_time": "2022-09-08T20:22:13.901Z"
   },
   {
    "duration": 350,
    "start_time": "2022-09-08T20:22:22.353Z"
   },
   {
    "duration": 630,
    "start_time": "2022-09-08T20:22:36.848Z"
   },
   {
    "duration": 766,
    "start_time": "2022-09-08T20:22:41.413Z"
   },
   {
    "duration": 631,
    "start_time": "2022-09-08T20:22:45.893Z"
   },
   {
    "duration": 571,
    "start_time": "2022-09-08T20:23:57.715Z"
   },
   {
    "duration": 619,
    "start_time": "2022-09-08T20:24:12.607Z"
   },
   {
    "duration": 688,
    "start_time": "2022-09-08T20:25:44.238Z"
   },
   {
    "duration": 593,
    "start_time": "2022-09-08T20:25:58.624Z"
   },
   {
    "duration": 593,
    "start_time": "2022-09-08T20:27:46.454Z"
   },
   {
    "duration": 549,
    "start_time": "2022-09-08T20:28:10.788Z"
   },
   {
    "duration": 50,
    "start_time": "2022-09-09T06:22:01.022Z"
   },
   {
    "duration": 1309,
    "start_time": "2022-09-09T06:22:05.945Z"
   },
   {
    "duration": 114,
    "start_time": "2022-09-09T06:22:07.256Z"
   },
   {
    "duration": 17,
    "start_time": "2022-09-09T06:22:07.374Z"
   },
   {
    "duration": 4,
    "start_time": "2022-09-09T06:22:07.393Z"
   },
   {
    "duration": 69,
    "start_time": "2022-09-09T06:22:07.398Z"
   },
   {
    "duration": 9,
    "start_time": "2022-09-09T06:22:07.468Z"
   },
   {
    "duration": 16,
    "start_time": "2022-09-09T06:22:07.478Z"
   },
   {
    "duration": 11,
    "start_time": "2022-09-09T06:22:07.496Z"
   },
   {
    "duration": 12,
    "start_time": "2022-09-09T06:22:07.509Z"
   },
   {
    "duration": 52,
    "start_time": "2022-09-09T06:22:07.524Z"
   },
   {
    "duration": 26,
    "start_time": "2022-09-09T06:22:07.577Z"
   },
   {
    "duration": 14,
    "start_time": "2022-09-09T06:22:07.605Z"
   },
   {
    "duration": 184,
    "start_time": "2022-09-09T06:22:07.620Z"
   },
   {
    "duration": 162,
    "start_time": "2022-09-09T06:22:07.805Z"
   },
   {
    "duration": 516,
    "start_time": "2022-09-09T06:22:07.969Z"
   },
   {
    "duration": 17,
    "start_time": "2022-09-09T06:22:08.486Z"
   },
   {
    "duration": 483,
    "start_time": "2022-09-09T06:22:08.504Z"
   },
   {
    "duration": 319,
    "start_time": "2022-09-09T06:22:08.989Z"
   },
   {
    "duration": 307,
    "start_time": "2022-09-09T06:22:09.310Z"
   },
   {
    "duration": 285,
    "start_time": "2022-09-09T06:22:09.619Z"
   },
   {
    "duration": 183,
    "start_time": "2022-09-09T06:22:09.906Z"
   },
   {
    "duration": 542,
    "start_time": "2022-09-09T06:22:11.744Z"
   },
   {
    "duration": 627,
    "start_time": "2022-09-09T06:23:32.082Z"
   },
   {
    "duration": 544,
    "start_time": "2022-09-09T06:27:42.042Z"
   },
   {
    "duration": 622,
    "start_time": "2022-09-09T06:27:49.927Z"
   },
   {
    "duration": 75,
    "start_time": "2022-09-09T06:37:42.491Z"
   },
   {
    "duration": 19,
    "start_time": "2022-09-09T06:38:44.871Z"
   },
   {
    "duration": 61,
    "start_time": "2022-09-09T06:39:00.703Z"
   },
   {
    "duration": 15,
    "start_time": "2022-09-09T06:42:13.784Z"
   },
   {
    "duration": 16,
    "start_time": "2022-09-09T06:43:12.927Z"
   },
   {
    "duration": 14,
    "start_time": "2022-09-09T06:43:28.138Z"
   },
   {
    "duration": 16,
    "start_time": "2022-09-09T06:44:46.970Z"
   },
   {
    "duration": 303,
    "start_time": "2022-09-09T06:46:02.477Z"
   },
   {
    "duration": 179,
    "start_time": "2022-09-09T06:47:04.623Z"
   },
   {
    "duration": 162,
    "start_time": "2022-09-09T06:47:20.180Z"
   },
   {
    "duration": 386,
    "start_time": "2022-09-09T06:54:09.276Z"
   },
   {
    "duration": 191,
    "start_time": "2022-09-09T06:57:09.334Z"
   },
   {
    "duration": 568,
    "start_time": "2022-09-09T07:08:45.642Z"
   },
   {
    "duration": 615,
    "start_time": "2022-09-09T07:09:12.353Z"
   },
   {
    "duration": 638,
    "start_time": "2022-09-09T07:28:41.260Z"
   },
   {
    "duration": 643,
    "start_time": "2022-09-09T07:29:06.107Z"
   },
   {
    "duration": 591,
    "start_time": "2022-09-09T07:29:10.018Z"
   },
   {
    "duration": 613,
    "start_time": "2022-09-09T07:55:21.910Z"
   },
   {
    "duration": 657,
    "start_time": "2022-09-09T07:55:32.178Z"
   },
   {
    "duration": 650,
    "start_time": "2022-09-09T07:56:15.870Z"
   },
   {
    "duration": 604,
    "start_time": "2022-09-09T07:59:08.955Z"
   },
   {
    "duration": 11,
    "start_time": "2022-09-09T08:00:39.895Z"
   },
   {
    "duration": 60,
    "start_time": "2022-09-09T08:01:13.237Z"
   },
   {
    "duration": 90,
    "start_time": "2022-09-09T08:01:29.230Z"
   },
   {
    "duration": 574,
    "start_time": "2022-09-09T08:01:43.345Z"
   },
   {
    "duration": 281,
    "start_time": "2022-09-09T08:05:41.721Z"
   },
   {
    "duration": 176,
    "start_time": "2022-09-09T08:07:18.179Z"
   },
   {
    "duration": 5,
    "start_time": "2022-09-09T08:12:46.164Z"
   },
   {
    "duration": 5,
    "start_time": "2022-09-09T08:13:04.538Z"
   },
   {
    "duration": 608,
    "start_time": "2022-09-09T08:13:52.989Z"
   },
   {
    "duration": 178,
    "start_time": "2022-09-09T08:14:07.094Z"
   },
   {
    "duration": 547,
    "start_time": "2022-09-09T08:14:21.553Z"
   },
   {
    "duration": 194,
    "start_time": "2022-09-09T08:14:43.505Z"
   },
   {
    "duration": 2,
    "start_time": "2022-09-09T08:17:17.446Z"
   },
   {
    "duration": 120,
    "start_time": "2022-09-09T08:36:07.040Z"
   },
   {
    "duration": 230,
    "start_time": "2022-09-09T08:36:43.801Z"
   },
   {
    "duration": 144,
    "start_time": "2022-09-09T08:36:53.337Z"
   },
   {
    "duration": 120,
    "start_time": "2022-09-09T08:37:07.203Z"
   },
   {
    "duration": 127,
    "start_time": "2022-09-09T08:37:44.652Z"
   },
   {
    "duration": 227,
    "start_time": "2022-09-09T08:39:08.895Z"
   },
   {
    "duration": 226,
    "start_time": "2022-09-09T08:40:08.989Z"
   },
   {
    "duration": 272,
    "start_time": "2022-09-09T08:41:42.218Z"
   },
   {
    "duration": 276,
    "start_time": "2022-09-09T08:42:07.758Z"
   },
   {
    "duration": 238,
    "start_time": "2022-09-09T08:42:19.057Z"
   },
   {
    "duration": 317,
    "start_time": "2022-09-09T08:42:32.776Z"
   },
   {
    "duration": 10,
    "start_time": "2022-09-09T08:43:00.640Z"
   },
   {
    "duration": 6,
    "start_time": "2022-09-09T08:43:11.263Z"
   },
   {
    "duration": 6,
    "start_time": "2022-09-09T08:43:22.848Z"
   },
   {
    "duration": 250,
    "start_time": "2022-09-09T08:43:39.648Z"
   },
   {
    "duration": 252,
    "start_time": "2022-09-09T08:45:37.696Z"
   },
   {
    "duration": 238,
    "start_time": "2022-09-09T08:45:44.676Z"
   },
   {
    "duration": 266,
    "start_time": "2022-09-09T08:45:51.211Z"
   },
   {
    "duration": 270,
    "start_time": "2022-09-09T08:45:58.006Z"
   },
   {
    "duration": 432,
    "start_time": "2022-09-09T08:46:06.090Z"
   },
   {
    "duration": 261,
    "start_time": "2022-09-09T08:48:17.268Z"
   },
   {
    "duration": 250,
    "start_time": "2022-09-09T08:53:53.451Z"
   },
   {
    "duration": 140,
    "start_time": "2022-09-09T10:22:08.858Z"
   },
   {
    "duration": 242,
    "start_time": "2022-09-09T10:22:31.418Z"
   },
   {
    "duration": 3,
    "start_time": "2022-09-09T10:28:46.739Z"
   },
   {
    "duration": 7,
    "start_time": "2022-09-09T10:29:28.984Z"
   },
   {
    "duration": 5,
    "start_time": "2022-09-09T10:33:45.779Z"
   },
   {
    "duration": 8,
    "start_time": "2022-09-09T10:35:24.804Z"
   },
   {
    "duration": 8,
    "start_time": "2022-09-09T10:50:05.547Z"
   },
   {
    "duration": 4,
    "start_time": "2022-09-09T10:51:15.096Z"
   },
   {
    "duration": 6,
    "start_time": "2022-09-09T10:51:22.861Z"
   },
   {
    "duration": 6,
    "start_time": "2022-09-09T10:54:50.601Z"
   },
   {
    "duration": 6,
    "start_time": "2022-09-09T10:54:55.275Z"
   },
   {
    "duration": 5,
    "start_time": "2022-09-09T10:55:02.614Z"
   },
   {
    "duration": 6,
    "start_time": "2022-09-09T10:55:06.633Z"
   },
   {
    "duration": 7,
    "start_time": "2022-09-09T11:00:29.870Z"
   },
   {
    "duration": 4,
    "start_time": "2022-09-09T11:16:10.759Z"
   },
   {
    "duration": 5,
    "start_time": "2022-09-09T11:16:24.837Z"
   },
   {
    "duration": 4,
    "start_time": "2022-09-09T11:16:29.523Z"
   },
   {
    "duration": 7,
    "start_time": "2022-09-09T11:16:32.961Z"
   },
   {
    "duration": 7,
    "start_time": "2022-09-09T11:22:06.533Z"
   },
   {
    "duration": 6,
    "start_time": "2022-09-09T11:22:19.109Z"
   },
   {
    "duration": 7,
    "start_time": "2022-09-09T11:22:38.183Z"
   },
   {
    "duration": 5,
    "start_time": "2022-09-09T11:28:10.318Z"
   },
   {
    "duration": 5,
    "start_time": "2022-09-09T13:04:40.590Z"
   },
   {
    "duration": 273,
    "start_time": "2022-09-09T13:18:39.020Z"
   },
   {
    "duration": 282,
    "start_time": "2022-09-09T13:18:54.000Z"
   },
   {
    "duration": 385,
    "start_time": "2022-09-09T13:19:00.599Z"
   },
   {
    "duration": 274,
    "start_time": "2022-09-09T13:19:12.843Z"
   },
   {
    "duration": 283,
    "start_time": "2022-09-09T13:19:23.794Z"
   },
   {
    "duration": 285,
    "start_time": "2022-09-09T13:19:28.225Z"
   },
   {
    "duration": 328,
    "start_time": "2022-09-09T13:19:32.538Z"
   },
   {
    "duration": 273,
    "start_time": "2022-09-09T13:19:39.784Z"
   },
   {
    "duration": 441,
    "start_time": "2022-09-09T13:19:43.103Z"
   },
   {
    "duration": 290,
    "start_time": "2022-09-09T13:20:33.618Z"
   },
   {
    "duration": 330,
    "start_time": "2022-09-09T13:20:56.006Z"
   },
   {
    "duration": 6,
    "start_time": "2022-09-09T13:21:38.938Z"
   },
   {
    "duration": 11,
    "start_time": "2022-09-09T13:21:47.264Z"
   },
   {
    "duration": 5,
    "start_time": "2022-09-09T13:21:52.537Z"
   },
   {
    "duration": 6,
    "start_time": "2022-09-09T13:22:03.673Z"
   },
   {
    "duration": 6,
    "start_time": "2022-09-09T13:22:10.301Z"
   },
   {
    "duration": 4,
    "start_time": "2022-09-09T17:49:57.291Z"
   },
   {
    "duration": 5,
    "start_time": "2022-09-09T17:50:12.269Z"
   },
   {
    "duration": 3,
    "start_time": "2022-09-09T17:51:39.421Z"
   },
   {
    "duration": 78,
    "start_time": "2022-09-09T17:51:39.426Z"
   },
   {
    "duration": 12,
    "start_time": "2022-09-09T17:51:39.506Z"
   },
   {
    "duration": 4,
    "start_time": "2022-09-09T17:51:39.520Z"
   },
   {
    "duration": 32,
    "start_time": "2022-09-09T17:51:39.526Z"
   },
   {
    "duration": 9,
    "start_time": "2022-09-09T17:51:39.560Z"
   },
   {
    "duration": 10,
    "start_time": "2022-09-09T17:51:39.571Z"
   },
   {
    "duration": 11,
    "start_time": "2022-09-09T17:51:39.583Z"
   },
   {
    "duration": 7,
    "start_time": "2022-09-09T17:51:39.595Z"
   },
   {
    "duration": 15,
    "start_time": "2022-09-09T17:51:39.603Z"
   },
   {
    "duration": 39,
    "start_time": "2022-09-09T17:51:39.737Z"
   },
   {
    "duration": 13,
    "start_time": "2022-09-09T17:51:39.778Z"
   },
   {
    "duration": 169,
    "start_time": "2022-09-09T17:51:39.792Z"
   },
   {
    "duration": 155,
    "start_time": "2022-09-09T17:51:39.963Z"
   },
   {
    "duration": 501,
    "start_time": "2022-09-09T17:51:40.120Z"
   },
   {
    "duration": 18,
    "start_time": "2022-09-09T17:51:40.623Z"
   },
   {
    "duration": 568,
    "start_time": "2022-09-09T17:51:40.642Z"
   },
   {
    "duration": 277,
    "start_time": "2022-09-09T17:51:41.212Z"
   },
   {
    "duration": 309,
    "start_time": "2022-09-09T17:51:41.491Z"
   },
   {
    "duration": 306,
    "start_time": "2022-09-09T17:51:41.801Z"
   },
   {
    "duration": 184,
    "start_time": "2022-09-09T17:51:42.109Z"
   },
   {
    "duration": 587,
    "start_time": "2022-09-09T17:51:42.295Z"
   },
   {
    "duration": 685,
    "start_time": "2022-09-09T17:51:42.884Z"
   },
   {
    "duration": 190,
    "start_time": "2022-09-09T17:51:43.570Z"
   },
   {
    "duration": 257,
    "start_time": "2022-09-09T17:51:43.762Z"
   },
   {
    "duration": 6,
    "start_time": "2022-09-09T17:51:44.020Z"
   },
   {
    "duration": 272,
    "start_time": "2022-09-09T17:51:44.027Z"
   },
   {
    "duration": 59,
    "start_time": "2022-09-09T17:51:44.301Z"
   },
   {
    "duration": 0,
    "start_time": "2022-09-09T17:51:44.362Z"
   },
   {
    "duration": 1088,
    "start_time": "2022-09-09T18:02:44.639Z"
   },
   {
    "duration": 67,
    "start_time": "2022-09-09T18:02:45.729Z"
   },
   {
    "duration": 13,
    "start_time": "2022-09-09T18:02:45.798Z"
   },
   {
    "duration": 4,
    "start_time": "2022-09-09T18:02:45.813Z"
   },
   {
    "duration": 70,
    "start_time": "2022-09-09T18:02:45.818Z"
   },
   {
    "duration": 8,
    "start_time": "2022-09-09T18:02:45.890Z"
   },
   {
    "duration": 10,
    "start_time": "2022-09-09T18:02:45.900Z"
   },
   {
    "duration": 10,
    "start_time": "2022-09-09T18:02:45.911Z"
   },
   {
    "duration": 6,
    "start_time": "2022-09-09T18:02:45.922Z"
   },
   {
    "duration": 12,
    "start_time": "2022-09-09T18:02:45.954Z"
   },
   {
    "duration": 19,
    "start_time": "2022-09-09T18:02:45.967Z"
   },
   {
    "duration": 12,
    "start_time": "2022-09-09T18:02:45.987Z"
   },
   {
    "duration": 173,
    "start_time": "2022-09-09T18:02:46.000Z"
   },
   {
    "duration": 143,
    "start_time": "2022-09-09T18:02:46.175Z"
   },
   {
    "duration": 454,
    "start_time": "2022-09-09T18:02:46.320Z"
   },
   {
    "duration": 18,
    "start_time": "2022-09-09T18:02:46.775Z"
   },
   {
    "duration": 483,
    "start_time": "2022-09-09T18:02:46.794Z"
   },
   {
    "duration": 362,
    "start_time": "2022-09-09T18:02:47.279Z"
   },
   {
    "duration": 294,
    "start_time": "2022-09-09T18:02:47.642Z"
   },
   {
    "duration": 262,
    "start_time": "2022-09-09T18:02:47.937Z"
   },
   {
    "duration": 170,
    "start_time": "2022-09-09T18:02:48.200Z"
   },
   {
    "duration": 520,
    "start_time": "2022-09-09T18:02:48.371Z"
   },
   {
    "duration": 602,
    "start_time": "2022-09-09T18:02:48.893Z"
   },
   {
    "duration": 164,
    "start_time": "2022-09-09T18:02:49.497Z"
   },
   {
    "duration": 226,
    "start_time": "2022-09-09T18:02:49.663Z"
   },
   {
    "duration": 5,
    "start_time": "2022-09-09T18:02:49.890Z"
   },
   {
    "duration": 245,
    "start_time": "2022-09-09T18:02:49.897Z"
   },
   {
    "duration": 71,
    "start_time": "2022-09-09T18:02:50.145Z"
   },
   {
    "duration": 0,
    "start_time": "2022-09-09T18:02:50.217Z"
   },
   {
    "duration": 80,
    "start_time": "2022-09-09T18:09:02.778Z"
   },
   {
    "duration": 7,
    "start_time": "2022-09-09T18:17:38.410Z"
   },
   {
    "duration": 5,
    "start_time": "2022-09-09T18:20:31.135Z"
   },
   {
    "duration": 16,
    "start_time": "2022-09-09T19:15:51.840Z"
   },
   {
    "duration": 24,
    "start_time": "2022-09-09T19:16:05.234Z"
   },
   {
    "duration": 22,
    "start_time": "2022-09-09T19:16:11.538Z"
   },
   {
    "duration": 22,
    "start_time": "2022-09-09T19:17:04.544Z"
   },
   {
    "duration": 3,
    "start_time": "2022-09-09T19:25:13.948Z"
   },
   {
    "duration": 72,
    "start_time": "2022-09-09T19:25:13.956Z"
   },
   {
    "duration": 14,
    "start_time": "2022-09-09T19:25:14.030Z"
   },
   {
    "duration": 15,
    "start_time": "2022-09-09T19:25:14.045Z"
   },
   {
    "duration": 5,
    "start_time": "2022-09-09T19:25:14.062Z"
   },
   {
    "duration": 24,
    "start_time": "2022-09-09T19:25:14.069Z"
   },
   {
    "duration": 10,
    "start_time": "2022-09-09T19:25:49.389Z"
   },
   {
    "duration": 9,
    "start_time": "2022-09-09T19:26:10.558Z"
   },
   {
    "duration": 22,
    "start_time": "2022-09-09T19:26:29.178Z"
   },
   {
    "duration": 14,
    "start_time": "2022-09-09T19:27:35.391Z"
   },
   {
    "duration": 26,
    "start_time": "2022-09-09T19:28:14.431Z"
   },
   {
    "duration": 66,
    "start_time": "2022-09-09T19:28:39.108Z"
   },
   {
    "duration": 11,
    "start_time": "2022-09-09T19:30:04.864Z"
   },
   {
    "duration": 11,
    "start_time": "2022-09-09T19:30:21.840Z"
   },
   {
    "duration": 24,
    "start_time": "2022-09-09T19:30:27.679Z"
   },
   {
    "duration": 139,
    "start_time": "2022-09-09T19:40:06.181Z"
   },
   {
    "duration": 46,
    "start_time": "2022-09-10T07:45:59.961Z"
   },
   {
    "duration": 1330,
    "start_time": "2022-09-10T07:46:06.414Z"
   },
   {
    "duration": 108,
    "start_time": "2022-09-10T07:46:07.747Z"
   },
   {
    "duration": 13,
    "start_time": "2022-09-10T07:46:07.857Z"
   },
   {
    "duration": 27,
    "start_time": "2022-09-10T07:46:07.873Z"
   },
   {
    "duration": 9,
    "start_time": "2022-09-10T07:46:07.902Z"
   },
   {
    "duration": 115,
    "start_time": "2022-09-10T07:46:07.913Z"
   },
   {
    "duration": 13,
    "start_time": "2022-09-10T07:46:08.031Z"
   },
   {
    "duration": 23,
    "start_time": "2022-09-10T07:46:08.046Z"
   },
   {
    "duration": 27,
    "start_time": "2022-09-10T07:46:08.071Z"
   },
   {
    "duration": 24,
    "start_time": "2022-09-10T07:46:08.101Z"
   },
   {
    "duration": 46,
    "start_time": "2022-09-10T07:46:08.126Z"
   },
   {
    "duration": 81,
    "start_time": "2022-09-10T07:46:11.999Z"
   },
   {
    "duration": 7,
    "start_time": "2022-09-10T07:46:25.801Z"
   },
   {
    "duration": 5,
    "start_time": "2022-09-10T07:47:51.129Z"
   },
   {
    "duration": 21,
    "start_time": "2022-09-10T07:47:55.518Z"
   },
   {
    "duration": 5,
    "start_time": "2022-09-10T07:48:12.639Z"
   },
   {
    "duration": 7,
    "start_time": "2022-09-10T07:58:27.068Z"
   },
   {
    "duration": 9,
    "start_time": "2022-09-10T07:59:08.894Z"
   },
   {
    "duration": 34,
    "start_time": "2022-09-10T07:59:18.274Z"
   },
   {
    "duration": 3,
    "start_time": "2022-09-10T07:59:38.303Z"
   },
   {
    "duration": 69,
    "start_time": "2022-09-10T07:59:38.308Z"
   },
   {
    "duration": 13,
    "start_time": "2022-09-10T07:59:38.379Z"
   },
   {
    "duration": 17,
    "start_time": "2022-09-10T07:59:38.394Z"
   },
   {
    "duration": 5,
    "start_time": "2022-09-10T07:59:38.412Z"
   },
   {
    "duration": 43,
    "start_time": "2022-09-10T07:59:38.418Z"
   },
   {
    "duration": 11,
    "start_time": "2022-09-10T07:59:38.463Z"
   },
   {
    "duration": 9,
    "start_time": "2022-09-10T07:59:38.476Z"
   },
   {
    "duration": 11,
    "start_time": "2022-09-10T07:59:38.486Z"
   },
   {
    "duration": 14,
    "start_time": "2022-09-10T07:59:38.498Z"
   },
   {
    "duration": 34,
    "start_time": "2022-09-10T07:59:38.514Z"
   },
   {
    "duration": 5,
    "start_time": "2022-09-10T07:59:38.549Z"
   },
   {
    "duration": 26,
    "start_time": "2022-09-10T07:59:38.556Z"
   },
   {
    "duration": 13,
    "start_time": "2022-09-10T07:59:38.584Z"
   },
   {
    "duration": 116,
    "start_time": "2022-09-10T07:59:38.598Z"
   },
   {
    "duration": 188,
    "start_time": "2022-09-10T07:59:38.715Z"
   },
   {
    "duration": 188,
    "start_time": "2022-09-10T07:59:38.905Z"
   },
   {
    "duration": 507,
    "start_time": "2022-09-10T07:59:39.095Z"
   },
   {
    "duration": 7,
    "start_time": "2022-09-10T07:59:42.821Z"
   },
   {
    "duration": 424,
    "start_time": "2022-09-10T07:59:45.145Z"
   },
   {
    "duration": 433,
    "start_time": "2022-09-10T08:09:27.909Z"
   },
   {
    "duration": 3,
    "start_time": "2022-09-10T08:09:52.106Z"
   },
   {
    "duration": 72,
    "start_time": "2022-09-10T08:09:52.111Z"
   },
   {
    "duration": 14,
    "start_time": "2022-09-10T08:09:52.185Z"
   },
   {
    "duration": 13,
    "start_time": "2022-09-10T08:09:52.201Z"
   },
   {
    "duration": 5,
    "start_time": "2022-09-10T08:09:52.216Z"
   },
   {
    "duration": 107,
    "start_time": "2022-09-10T08:09:52.247Z"
   },
   {
    "duration": 10,
    "start_time": "2022-09-10T08:09:52.356Z"
   },
   {
    "duration": 15,
    "start_time": "2022-09-10T08:09:52.367Z"
   },
   {
    "duration": 11,
    "start_time": "2022-09-10T08:09:52.384Z"
   },
   {
    "duration": 10,
    "start_time": "2022-09-10T08:09:52.396Z"
   },
   {
    "duration": 14,
    "start_time": "2022-09-10T08:09:52.408Z"
   },
   {
    "duration": 23,
    "start_time": "2022-09-10T08:09:52.424Z"
   },
   {
    "duration": 27,
    "start_time": "2022-09-10T08:09:52.448Z"
   },
   {
    "duration": 11,
    "start_time": "2022-09-10T08:09:52.477Z"
   },
   {
    "duration": 101,
    "start_time": "2022-09-10T08:09:52.490Z"
   },
   {
    "duration": 165,
    "start_time": "2022-09-10T08:09:52.592Z"
   },
   {
    "duration": 153,
    "start_time": "2022-09-10T08:09:52.759Z"
   },
   {
    "duration": 447,
    "start_time": "2022-09-10T08:09:52.913Z"
   },
   {
    "duration": 418,
    "start_time": "2022-09-10T08:09:53.362Z"
   },
   {
    "duration": 20,
    "start_time": "2022-09-10T08:09:53.781Z"
   },
   {
    "duration": 475,
    "start_time": "2022-09-10T08:09:53.803Z"
   },
   {
    "duration": 258,
    "start_time": "2022-09-10T08:09:54.280Z"
   },
   {
    "duration": 297,
    "start_time": "2022-09-10T08:09:54.540Z"
   },
   {
    "duration": 375,
    "start_time": "2022-09-10T08:09:54.839Z"
   },
   {
    "duration": 177,
    "start_time": "2022-09-10T08:09:55.216Z"
   },
   {
    "duration": 556,
    "start_time": "2022-09-10T08:09:55.395Z"
   },
   {
    "duration": 648,
    "start_time": "2022-09-10T08:09:55.953Z"
   },
   {
    "duration": 225,
    "start_time": "2022-09-10T08:09:56.602Z"
   },
   {
    "duration": 8,
    "start_time": "2022-09-10T08:09:56.830Z"
   },
   {
    "duration": 357,
    "start_time": "2022-09-10T08:09:56.840Z"
   },
   {
    "duration": 4,
    "start_time": "2022-09-10T08:09:57.199Z"
   },
   {
    "duration": 363,
    "start_time": "2022-09-10T08:09:57.204Z"
   },
   {
    "duration": 5,
    "start_time": "2022-09-10T08:09:57.569Z"
   },
   {
    "duration": 446,
    "start_time": "2022-09-10T08:11:02.105Z"
   },
   {
    "duration": 439,
    "start_time": "2022-09-10T08:11:58.001Z"
   },
   {
    "duration": 3,
    "start_time": "2022-09-10T08:12:36.626Z"
   },
   {
    "duration": 64,
    "start_time": "2022-09-10T08:12:36.631Z"
   },
   {
    "duration": 14,
    "start_time": "2022-09-10T08:12:36.697Z"
   },
   {
    "duration": 16,
    "start_time": "2022-09-10T08:12:36.713Z"
   },
   {
    "duration": 18,
    "start_time": "2022-09-10T08:12:36.730Z"
   },
   {
    "duration": 24,
    "start_time": "2022-09-10T08:12:36.750Z"
   },
   {
    "duration": 10,
    "start_time": "2022-09-10T08:12:36.775Z"
   },
   {
    "duration": 12,
    "start_time": "2022-09-10T08:12:36.786Z"
   },
   {
    "duration": 11,
    "start_time": "2022-09-10T08:12:36.800Z"
   },
   {
    "duration": 38,
    "start_time": "2022-09-10T08:12:36.813Z"
   },
   {
    "duration": 18,
    "start_time": "2022-09-10T08:12:36.853Z"
   },
   {
    "duration": 4,
    "start_time": "2022-09-10T08:12:36.873Z"
   },
   {
    "duration": 23,
    "start_time": "2022-09-10T08:12:36.878Z"
   },
   {
    "duration": 13,
    "start_time": "2022-09-10T08:12:36.903Z"
   },
   {
    "duration": 116,
    "start_time": "2022-09-10T08:12:36.918Z"
   },
   {
    "duration": 149,
    "start_time": "2022-09-10T08:12:37.047Z"
   },
   {
    "duration": 166,
    "start_time": "2022-09-10T08:12:37.198Z"
   },
   {
    "duration": 433,
    "start_time": "2022-09-10T08:12:37.366Z"
   },
   {
    "duration": 472,
    "start_time": "2022-09-10T08:12:37.800Z"
   },
   {
    "duration": 17,
    "start_time": "2022-09-10T08:12:38.273Z"
   },
   {
    "duration": 558,
    "start_time": "2022-09-10T08:12:38.291Z"
   },
   {
    "duration": 257,
    "start_time": "2022-09-10T08:12:38.851Z"
   },
   {
    "duration": 298,
    "start_time": "2022-09-10T08:12:39.110Z"
   },
   {
    "duration": 281,
    "start_time": "2022-09-10T08:12:39.410Z"
   },
   {
    "duration": 181,
    "start_time": "2022-09-10T08:12:39.693Z"
   },
   {
    "duration": 670,
    "start_time": "2022-09-10T08:12:39.876Z"
   },
   {
    "duration": 545,
    "start_time": "2022-09-10T08:12:40.548Z"
   },
   {
    "duration": 191,
    "start_time": "2022-09-10T08:12:41.095Z"
   },
   {
    "duration": 11,
    "start_time": "2022-09-10T08:12:41.290Z"
   },
   {
    "duration": 250,
    "start_time": "2022-09-10T08:12:41.302Z"
   },
   {
    "duration": 4,
    "start_time": "2022-09-10T08:12:41.554Z"
   },
   {
    "duration": 254,
    "start_time": "2022-09-10T08:12:41.559Z"
   },
   {
    "duration": 5,
    "start_time": "2022-09-10T08:12:41.815Z"
   },
   {
    "duration": 60,
    "start_time": "2022-09-10T08:13:09.282Z"
   },
   {
    "duration": 13,
    "start_time": "2022-09-10T08:13:09.782Z"
   },
   {
    "duration": 12,
    "start_time": "2022-09-10T08:13:35.040Z"
   },
   {
    "duration": 5,
    "start_time": "2022-09-10T08:13:42.106Z"
   },
   {
    "duration": 26,
    "start_time": "2022-09-10T08:14:47.964Z"
   },
   {
    "duration": 3,
    "start_time": "2022-09-10T08:14:58.501Z"
   },
   {
    "duration": 74,
    "start_time": "2022-09-10T08:14:58.506Z"
   },
   {
    "duration": 14,
    "start_time": "2022-09-10T08:14:58.583Z"
   },
   {
    "duration": 13,
    "start_time": "2022-09-10T08:14:58.599Z"
   },
   {
    "duration": 4,
    "start_time": "2022-09-10T08:14:58.614Z"
   },
   {
    "duration": 48,
    "start_time": "2022-09-10T08:14:58.620Z"
   },
   {
    "duration": 10,
    "start_time": "2022-09-10T08:14:58.669Z"
   },
   {
    "duration": 12,
    "start_time": "2022-09-10T08:14:58.680Z"
   },
   {
    "duration": 18,
    "start_time": "2022-09-10T08:14:58.694Z"
   },
   {
    "duration": 6,
    "start_time": "2022-09-10T08:14:58.714Z"
   },
   {
    "duration": 33,
    "start_time": "2022-09-10T08:14:58.723Z"
   },
   {
    "duration": 5,
    "start_time": "2022-09-10T08:14:58.758Z"
   },
   {
    "duration": 26,
    "start_time": "2022-09-10T08:14:58.764Z"
   },
   {
    "duration": 12,
    "start_time": "2022-09-10T08:14:58.792Z"
   },
   {
    "duration": 110,
    "start_time": "2022-09-10T08:14:58.805Z"
   },
   {
    "duration": 174,
    "start_time": "2022-09-10T08:14:58.916Z"
   },
   {
    "duration": 154,
    "start_time": "2022-09-10T08:14:59.092Z"
   },
   {
    "duration": 552,
    "start_time": "2022-09-10T08:15:01.543Z"
   },
   {
    "duration": 147,
    "start_time": "2022-09-10T08:15:51.862Z"
   },
   {
    "duration": 22,
    "start_time": "2022-09-10T08:17:38.307Z"
   },
   {
    "duration": 21,
    "start_time": "2022-09-10T08:17:50.566Z"
   },
   {
    "duration": 22,
    "start_time": "2022-09-10T08:18:09.462Z"
   },
   {
    "duration": 3,
    "start_time": "2022-09-10T08:18:41.254Z"
   },
   {
    "duration": 79,
    "start_time": "2022-09-10T08:18:41.261Z"
   },
   {
    "duration": 12,
    "start_time": "2022-09-10T08:18:41.342Z"
   },
   {
    "duration": 24,
    "start_time": "2022-09-10T08:18:41.356Z"
   },
   {
    "duration": 16,
    "start_time": "2022-09-10T08:18:41.381Z"
   },
   {
    "duration": 40,
    "start_time": "2022-09-10T08:18:41.399Z"
   },
   {
    "duration": 19,
    "start_time": "2022-09-10T08:18:41.440Z"
   },
   {
    "duration": 28,
    "start_time": "2022-09-10T08:18:41.461Z"
   },
   {
    "duration": 37,
    "start_time": "2022-09-10T08:18:41.491Z"
   },
   {
    "duration": 18,
    "start_time": "2022-09-10T08:18:41.529Z"
   },
   {
    "duration": 17,
    "start_time": "2022-09-10T08:18:41.548Z"
   },
   {
    "duration": 5,
    "start_time": "2022-09-10T08:18:41.567Z"
   },
   {
    "duration": 31,
    "start_time": "2022-09-10T08:18:41.573Z"
   },
   {
    "duration": 18,
    "start_time": "2022-09-10T08:18:41.606Z"
   },
   {
    "duration": 95,
    "start_time": "2022-09-10T08:18:41.626Z"
   },
   {
    "duration": 160,
    "start_time": "2022-09-10T08:18:41.722Z"
   },
   {
    "duration": 154,
    "start_time": "2022-09-10T08:18:41.883Z"
   },
   {
    "duration": 429,
    "start_time": "2022-09-10T08:18:42.038Z"
   },
   {
    "duration": 402,
    "start_time": "2022-09-10T08:18:42.469Z"
   },
   {
    "duration": 422,
    "start_time": "2022-09-10T08:19:43.364Z"
   },
   {
    "duration": 441,
    "start_time": "2022-09-10T08:19:49.315Z"
   },
   {
    "duration": 433,
    "start_time": "2022-09-10T08:24:25.752Z"
   },
   {
    "duration": 243,
    "start_time": "2022-09-10T08:25:19.936Z"
   },
   {
    "duration": 155,
    "start_time": "2022-09-10T08:25:30.744Z"
   },
   {
    "duration": 158,
    "start_time": "2022-09-10T08:25:51.093Z"
   },
   {
    "duration": 157,
    "start_time": "2022-09-10T08:25:58.925Z"
   },
   {
    "duration": 155,
    "start_time": "2022-09-10T08:26:13.117Z"
   },
   {
    "duration": 161,
    "start_time": "2022-09-10T08:26:19.098Z"
   },
   {
    "duration": 198,
    "start_time": "2022-09-10T08:26:24.973Z"
   },
   {
    "duration": 253,
    "start_time": "2022-09-10T08:26:32.654Z"
   },
   {
    "duration": 155,
    "start_time": "2022-09-10T08:27:27.485Z"
   },
   {
    "duration": 173,
    "start_time": "2022-09-10T08:28:27.335Z"
   },
   {
    "duration": 516,
    "start_time": "2022-09-10T08:28:34.164Z"
   },
   {
    "duration": 436,
    "start_time": "2022-09-10T08:28:40.778Z"
   },
   {
    "duration": 18,
    "start_time": "2022-09-10T08:29:24.884Z"
   },
   {
    "duration": 492,
    "start_time": "2022-09-10T08:29:26.308Z"
   },
   {
    "duration": 238,
    "start_time": "2022-09-10T08:29:28.542Z"
   },
   {
    "duration": 235,
    "start_time": "2022-09-10T08:33:39.574Z"
   },
   {
    "duration": 402,
    "start_time": "2022-09-10T08:33:44.337Z"
   },
   {
    "duration": 260,
    "start_time": "2022-09-10T08:33:49.041Z"
   },
   {
    "duration": 259,
    "start_time": "2022-09-10T08:33:55.676Z"
   },
   {
    "duration": 425,
    "start_time": "2022-09-10T08:34:22.295Z"
   },
   {
    "duration": 427,
    "start_time": "2022-09-10T08:36:29.781Z"
   },
   {
    "duration": 207,
    "start_time": "2022-09-10T08:42:02.876Z"
   },
   {
    "duration": 281,
    "start_time": "2022-09-10T08:42:32.773Z"
   },
   {
    "duration": 20,
    "start_time": "2022-09-10T08:43:08.874Z"
   },
   {
    "duration": 294,
    "start_time": "2022-09-10T08:43:21.717Z"
   },
   {
    "duration": 292,
    "start_time": "2022-09-10T08:43:29.209Z"
   },
   {
    "duration": 294,
    "start_time": "2022-09-10T08:43:40.603Z"
   },
   {
    "duration": 297,
    "start_time": "2022-09-10T08:43:57.743Z"
   },
   {
    "duration": 291,
    "start_time": "2022-09-10T08:44:08.171Z"
   },
   {
    "duration": 282,
    "start_time": "2022-09-10T08:45:45.903Z"
   },
   {
    "duration": 3137,
    "start_time": "2022-09-10T08:46:34.351Z"
   },
   {
    "duration": 157,
    "start_time": "2022-09-10T08:49:43.892Z"
   },
   {
    "duration": 1396,
    "start_time": "2022-09-10T08:49:53.418Z"
   },
   {
    "duration": 1551,
    "start_time": "2022-09-10T08:53:11.196Z"
   },
   {
    "duration": 20,
    "start_time": "2022-09-10T09:00:34.949Z"
   },
   {
    "duration": 17,
    "start_time": "2022-09-10T09:02:02.366Z"
   },
   {
    "duration": 1550,
    "start_time": "2022-09-10T09:02:32.439Z"
   },
   {
    "duration": 1421,
    "start_time": "2022-09-10T09:03:41.534Z"
   },
   {
    "duration": 1535,
    "start_time": "2022-09-10T09:04:18.489Z"
   },
   {
    "duration": 1447,
    "start_time": "2022-09-10T09:05:12.639Z"
   },
   {
    "duration": 390,
    "start_time": "2022-09-10T09:21:15.683Z"
   },
   {
    "duration": 531,
    "start_time": "2022-09-10T09:21:23.449Z"
   },
   {
    "duration": 563,
    "start_time": "2022-09-10T09:21:51.521Z"
   },
   {
    "duration": 47,
    "start_time": "2022-09-10T09:23:17.207Z"
   },
   {
    "duration": 542,
    "start_time": "2022-09-10T09:23:23.841Z"
   },
   {
    "duration": 696,
    "start_time": "2022-09-10T09:23:51.628Z"
   },
   {
    "duration": 760,
    "start_time": "2022-09-10T09:24:03.730Z"
   },
   {
    "duration": 667,
    "start_time": "2022-09-10T09:24:13.216Z"
   },
   {
    "duration": 792,
    "start_time": "2022-09-10T09:24:45.803Z"
   },
   {
    "duration": 651,
    "start_time": "2022-09-10T09:24:55.524Z"
   },
   {
    "duration": 682,
    "start_time": "2022-09-10T09:25:09.336Z"
   },
   {
    "duration": 3,
    "start_time": "2022-09-10T10:04:02.002Z"
   },
   {
    "duration": 67,
    "start_time": "2022-09-10T10:04:02.019Z"
   },
   {
    "duration": 13,
    "start_time": "2022-09-10T10:04:02.089Z"
   },
   {
    "duration": 27,
    "start_time": "2022-09-10T10:04:02.103Z"
   },
   {
    "duration": 26,
    "start_time": "2022-09-10T10:04:02.132Z"
   },
   {
    "duration": 32,
    "start_time": "2022-09-10T10:04:02.160Z"
   },
   {
    "duration": 12,
    "start_time": "2022-09-10T10:04:02.194Z"
   },
   {
    "duration": 21,
    "start_time": "2022-09-10T10:04:02.208Z"
   },
   {
    "duration": 21,
    "start_time": "2022-09-10T10:04:02.231Z"
   },
   {
    "duration": 20,
    "start_time": "2022-09-10T10:04:02.254Z"
   },
   {
    "duration": 35,
    "start_time": "2022-09-10T10:04:02.276Z"
   },
   {
    "duration": 16,
    "start_time": "2022-09-10T10:04:02.313Z"
   },
   {
    "duration": 44,
    "start_time": "2022-09-10T10:04:02.331Z"
   },
   {
    "duration": 17,
    "start_time": "2022-09-10T10:04:02.377Z"
   },
   {
    "duration": 100,
    "start_time": "2022-09-10T10:04:02.396Z"
   },
   {
    "duration": 154,
    "start_time": "2022-09-10T10:04:02.498Z"
   },
   {
    "duration": 158,
    "start_time": "2022-09-10T10:04:02.654Z"
   },
   {
    "duration": 564,
    "start_time": "2022-09-10T10:04:02.813Z"
   },
   {
    "duration": 452,
    "start_time": "2022-09-10T10:04:03.379Z"
   },
   {
    "duration": 19,
    "start_time": "2022-09-10T10:04:03.833Z"
   },
   {
    "duration": 444,
    "start_time": "2022-09-10T10:04:03.853Z"
   },
   {
    "duration": 470,
    "start_time": "2022-09-10T10:04:04.298Z"
   },
   {
    "duration": 1547,
    "start_time": "2022-09-10T10:04:04.770Z"
   },
   {
    "duration": 332,
    "start_time": "2022-09-10T10:04:06.319Z"
   },
   {
    "duration": 667,
    "start_time": "2022-09-10T10:04:06.653Z"
   },
   {
    "duration": 690,
    "start_time": "2022-09-10T10:04:07.321Z"
   },
   {
    "duration": 570,
    "start_time": "2022-09-10T10:04:08.012Z"
   },
   {
    "duration": 195,
    "start_time": "2022-09-10T10:04:08.583Z"
   },
   {
    "duration": 9,
    "start_time": "2022-09-10T10:04:08.780Z"
   },
   {
    "duration": 274,
    "start_time": "2022-09-10T10:04:08.790Z"
   },
   {
    "duration": 4,
    "start_time": "2022-09-10T10:04:09.066Z"
   },
   {
    "duration": 251,
    "start_time": "2022-09-10T10:04:09.072Z"
   },
   {
    "duration": 4,
    "start_time": "2022-09-10T10:04:09.325Z"
   },
   {
    "duration": 637,
    "start_time": "2022-09-10T10:05:41.834Z"
   },
   {
    "duration": 861,
    "start_time": "2022-09-10T12:18:43.791Z"
   },
   {
    "duration": 961,
    "start_time": "2022-09-10T12:23:06.417Z"
   },
   {
    "duration": 22,
    "start_time": "2022-09-10T12:23:33.452Z"
   },
   {
    "duration": 136,
    "start_time": "2022-09-10T12:25:01.459Z"
   },
   {
    "duration": 146,
    "start_time": "2022-09-10T12:30:15.269Z"
   },
   {
    "duration": 137,
    "start_time": "2022-09-10T12:30:19.650Z"
   },
   {
    "duration": 920,
    "start_time": "2022-09-10T12:30:53.561Z"
   },
   {
    "duration": 1090,
    "start_time": "2022-09-10T12:33:00.636Z"
   },
   {
    "duration": 743,
    "start_time": "2022-09-10T12:33:49.461Z"
   },
   {
    "duration": 956,
    "start_time": "2022-09-10T12:36:15.159Z"
   },
   {
    "duration": 992,
    "start_time": "2022-09-10T12:36:45.172Z"
   },
   {
    "duration": 13,
    "start_time": "2022-09-10T12:37:32.151Z"
   },
   {
    "duration": 27,
    "start_time": "2022-09-10T12:38:13.508Z"
   },
   {
    "duration": 41,
    "start_time": "2022-09-10T12:39:14.958Z"
   },
   {
    "duration": 659,
    "start_time": "2022-09-10T12:39:46.765Z"
   },
   {
    "duration": 22,
    "start_time": "2022-09-10T12:40:37.796Z"
   },
   {
    "duration": 605,
    "start_time": "2022-09-10T12:40:44.703Z"
   },
   {
    "duration": 614,
    "start_time": "2022-09-10T12:40:52.963Z"
   },
   {
    "duration": 757,
    "start_time": "2022-09-10T12:46:29.778Z"
   },
   {
    "duration": 835,
    "start_time": "2022-09-10T12:47:02.776Z"
   },
   {
    "duration": 630,
    "start_time": "2022-09-10T12:47:09.131Z"
   },
   {
    "duration": 702,
    "start_time": "2022-09-10T12:54:48.659Z"
   },
   {
    "duration": 12,
    "start_time": "2022-09-10T13:03:54.573Z"
   },
   {
    "duration": 11,
    "start_time": "2022-09-10T13:05:25.281Z"
   },
   {
    "duration": 3,
    "start_time": "2022-09-10T13:05:43.957Z"
   },
   {
    "duration": 100,
    "start_time": "2022-09-10T13:05:43.962Z"
   },
   {
    "duration": 13,
    "start_time": "2022-09-10T13:05:44.064Z"
   },
   {
    "duration": 40,
    "start_time": "2022-09-10T13:05:44.079Z"
   },
   {
    "duration": 13,
    "start_time": "2022-09-10T13:05:44.122Z"
   },
   {
    "duration": 43,
    "start_time": "2022-09-10T13:05:44.137Z"
   },
   {
    "duration": 26,
    "start_time": "2022-09-10T13:05:44.182Z"
   },
   {
    "duration": 37,
    "start_time": "2022-09-10T13:05:44.210Z"
   },
   {
    "duration": 43,
    "start_time": "2022-09-10T13:05:44.248Z"
   },
   {
    "duration": 15,
    "start_time": "2022-09-10T13:05:44.292Z"
   },
   {
    "duration": 44,
    "start_time": "2022-09-10T13:05:44.310Z"
   },
   {
    "duration": 26,
    "start_time": "2022-09-10T13:05:44.355Z"
   },
   {
    "duration": 47,
    "start_time": "2022-09-10T13:05:44.383Z"
   },
   {
    "duration": 13,
    "start_time": "2022-09-10T13:05:44.431Z"
   },
   {
    "duration": 104,
    "start_time": "2022-09-10T13:05:44.446Z"
   },
   {
    "duration": 174,
    "start_time": "2022-09-10T13:05:44.552Z"
   },
   {
    "duration": 171,
    "start_time": "2022-09-10T13:05:44.728Z"
   },
   {
    "duration": 487,
    "start_time": "2022-09-10T13:05:44.901Z"
   },
   {
    "duration": 498,
    "start_time": "2022-09-10T13:05:45.390Z"
   },
   {
    "duration": 19,
    "start_time": "2022-09-10T13:05:45.889Z"
   },
   {
    "duration": 570,
    "start_time": "2022-09-10T13:05:45.909Z"
   },
   {
    "duration": 566,
    "start_time": "2022-09-10T13:05:46.485Z"
   },
   {
    "duration": 1476,
    "start_time": "2022-09-10T13:05:47.052Z"
   },
   {
    "duration": 318,
    "start_time": "2022-09-10T13:05:48.530Z"
   },
   {
    "duration": 818,
    "start_time": "2022-09-10T13:05:48.850Z"
   },
   {
    "duration": 631,
    "start_time": "2022-09-10T13:05:49.670Z"
   },
   {
    "duration": 700,
    "start_time": "2022-09-10T13:05:50.303Z"
   },
   {
    "duration": 626,
    "start_time": "2022-09-10T13:05:51.005Z"
   },
   {
    "duration": 19,
    "start_time": "2022-09-10T13:05:51.634Z"
   },
   {
    "duration": 386,
    "start_time": "2022-09-10T13:05:51.654Z"
   },
   {
    "duration": 5,
    "start_time": "2022-09-10T13:05:52.046Z"
   },
   {
    "duration": 275,
    "start_time": "2022-09-10T13:05:52.052Z"
   },
   {
    "duration": 5,
    "start_time": "2022-09-10T13:05:52.329Z"
   },
   {
    "duration": 3,
    "start_time": "2022-09-10T13:07:00.718Z"
   },
   {
    "duration": 76,
    "start_time": "2022-09-10T13:07:00.724Z"
   },
   {
    "duration": 16,
    "start_time": "2022-09-10T13:07:00.803Z"
   },
   {
    "duration": 27,
    "start_time": "2022-09-10T13:07:00.821Z"
   },
   {
    "duration": 6,
    "start_time": "2022-09-10T13:07:00.851Z"
   },
   {
    "duration": 31,
    "start_time": "2022-09-10T13:07:00.859Z"
   },
   {
    "duration": 14,
    "start_time": "2022-09-10T13:07:00.892Z"
   },
   {
    "duration": 44,
    "start_time": "2022-09-10T13:07:00.908Z"
   },
   {
    "duration": 18,
    "start_time": "2022-09-10T13:07:00.954Z"
   },
   {
    "duration": 11,
    "start_time": "2022-09-10T13:07:00.975Z"
   },
   {
    "duration": 27,
    "start_time": "2022-09-10T13:07:00.989Z"
   },
   {
    "duration": 6,
    "start_time": "2022-09-10T13:07:01.018Z"
   },
   {
    "duration": 25,
    "start_time": "2022-09-10T13:07:01.047Z"
   },
   {
    "duration": 22,
    "start_time": "2022-09-10T13:07:01.074Z"
   },
   {
    "duration": 129,
    "start_time": "2022-09-10T13:07:01.098Z"
   },
   {
    "duration": 178,
    "start_time": "2022-09-10T13:07:01.228Z"
   },
   {
    "duration": 190,
    "start_time": "2022-09-10T13:07:01.409Z"
   },
   {
    "duration": 513,
    "start_time": "2022-09-10T13:07:01.600Z"
   },
   {
    "duration": 505,
    "start_time": "2022-09-10T13:07:02.116Z"
   },
   {
    "duration": 20,
    "start_time": "2022-09-10T13:07:13.805Z"
   },
   {
    "duration": 19,
    "start_time": "2022-09-10T13:07:22.623Z"
   },
   {
    "duration": 394,
    "start_time": "2022-09-10T13:18:49.510Z"
   },
   {
    "duration": 514,
    "start_time": "2022-09-10T13:19:29.358Z"
   },
   {
    "duration": 380,
    "start_time": "2022-09-10T13:20:59.625Z"
   },
   {
    "duration": 394,
    "start_time": "2022-09-10T13:21:18.394Z"
   },
   {
    "duration": 394,
    "start_time": "2022-09-10T13:21:45.413Z"
   },
   {
    "duration": 383,
    "start_time": "2022-09-10T13:22:04.274Z"
   },
   {
    "duration": 508,
    "start_time": "2022-09-10T13:22:25.090Z"
   },
   {
    "duration": 388,
    "start_time": "2022-09-10T13:22:51.919Z"
   },
   {
    "duration": 411,
    "start_time": "2022-09-10T13:23:05.779Z"
   },
   {
    "duration": 395,
    "start_time": "2022-09-10T13:23:42.095Z"
   },
   {
    "duration": 396,
    "start_time": "2022-09-10T13:23:57.040Z"
   },
   {
    "duration": 288,
    "start_time": "2022-09-10T13:25:00.529Z"
   },
   {
    "duration": 382,
    "start_time": "2022-09-10T13:25:16.277Z"
   },
   {
    "duration": 390,
    "start_time": "2022-09-10T13:25:31.599Z"
   },
   {
    "duration": 87,
    "start_time": "2022-09-10T13:25:41.784Z"
   },
   {
    "duration": 109,
    "start_time": "2022-09-10T13:25:46.130Z"
   },
   {
    "duration": 391,
    "start_time": "2022-09-10T13:25:52.023Z"
   },
   {
    "duration": 438,
    "start_time": "2022-09-10T13:26:08.865Z"
   },
   {
    "duration": 418,
    "start_time": "2022-09-10T13:26:29.507Z"
   },
   {
    "duration": 414,
    "start_time": "2022-09-10T13:27:07.490Z"
   },
   {
    "duration": 504,
    "start_time": "2022-09-10T13:27:23.711Z"
   },
   {
    "duration": 454,
    "start_time": "2022-09-10T13:27:30.366Z"
   },
   {
    "duration": 397,
    "start_time": "2022-09-10T13:27:35.495Z"
   },
   {
    "duration": 473,
    "start_time": "2022-09-10T13:27:52.545Z"
   },
   {
    "duration": 436,
    "start_time": "2022-09-10T13:28:15.803Z"
   },
   {
    "duration": 545,
    "start_time": "2022-09-10T13:28:26.121Z"
   },
   {
    "duration": 575,
    "start_time": "2022-09-10T13:48:39.821Z"
   },
   {
    "duration": 3,
    "start_time": "2022-09-10T14:08:44.997Z"
   },
   {
    "duration": 94,
    "start_time": "2022-09-10T14:08:45.002Z"
   },
   {
    "duration": 12,
    "start_time": "2022-09-10T14:08:45.098Z"
   },
   {
    "duration": 49,
    "start_time": "2022-09-10T14:08:45.111Z"
   },
   {
    "duration": 37,
    "start_time": "2022-09-10T14:08:45.162Z"
   },
   {
    "duration": 33,
    "start_time": "2022-09-10T14:08:45.201Z"
   },
   {
    "duration": 11,
    "start_time": "2022-09-10T14:08:45.235Z"
   },
   {
    "duration": 10,
    "start_time": "2022-09-10T14:08:45.248Z"
   },
   {
    "duration": 19,
    "start_time": "2022-09-10T14:08:45.259Z"
   },
   {
    "duration": 13,
    "start_time": "2022-09-10T14:08:45.279Z"
   },
   {
    "duration": 14,
    "start_time": "2022-09-10T14:08:45.295Z"
   },
   {
    "duration": 5,
    "start_time": "2022-09-10T14:08:45.311Z"
   },
   {
    "duration": 37,
    "start_time": "2022-09-10T14:08:45.318Z"
   },
   {
    "duration": 15,
    "start_time": "2022-09-10T14:08:45.357Z"
   },
   {
    "duration": 132,
    "start_time": "2022-09-10T14:08:45.373Z"
   },
   {
    "duration": 162,
    "start_time": "2022-09-10T14:08:45.506Z"
   },
   {
    "duration": 165,
    "start_time": "2022-09-10T14:08:45.670Z"
   },
   {
    "duration": 472,
    "start_time": "2022-09-10T14:08:45.836Z"
   },
   {
    "duration": 495,
    "start_time": "2022-09-10T14:08:46.310Z"
   },
   {
    "duration": 21,
    "start_time": "2022-09-10T14:08:46.806Z"
   },
   {
    "duration": 546,
    "start_time": "2022-09-10T14:08:46.829Z"
   },
   {
    "duration": 464,
    "start_time": "2022-09-10T14:08:47.377Z"
   },
   {
    "duration": 1388,
    "start_time": "2022-09-10T14:08:47.842Z"
   },
   {
    "duration": 377,
    "start_time": "2022-09-10T14:08:49.231Z"
   },
   {
    "duration": 654,
    "start_time": "2022-09-10T14:08:49.609Z"
   },
   {
    "duration": 589,
    "start_time": "2022-09-10T14:08:50.265Z"
   },
   {
    "duration": 570,
    "start_time": "2022-09-10T14:08:50.856Z"
   },
   {
    "duration": 682,
    "start_time": "2022-09-10T14:08:51.428Z"
   },
   {
    "duration": 9,
    "start_time": "2022-09-10T14:08:52.114Z"
   },
   {
    "duration": 393,
    "start_time": "2022-09-10T14:08:52.124Z"
   },
   {
    "duration": 6,
    "start_time": "2022-09-10T14:08:52.519Z"
   },
   {
    "duration": 404,
    "start_time": "2022-09-10T14:08:52.526Z"
   },
   {
    "duration": 14,
    "start_time": "2022-09-10T14:08:52.932Z"
   },
   {
    "duration": 1149,
    "start_time": "2022-09-10T22:54:18.204Z"
   },
   {
    "duration": 68,
    "start_time": "2022-09-10T22:54:19.355Z"
   },
   {
    "duration": 14,
    "start_time": "2022-09-10T22:54:19.424Z"
   },
   {
    "duration": 17,
    "start_time": "2022-09-10T22:54:19.440Z"
   },
   {
    "duration": 4,
    "start_time": "2022-09-10T22:54:19.459Z"
   },
   {
    "duration": 64,
    "start_time": "2022-09-10T22:54:19.468Z"
   },
   {
    "duration": 12,
    "start_time": "2022-09-10T22:54:19.533Z"
   },
   {
    "duration": 30,
    "start_time": "2022-09-10T22:54:19.546Z"
   },
   {
    "duration": 12,
    "start_time": "2022-09-10T22:54:19.577Z"
   },
   {
    "duration": 7,
    "start_time": "2022-09-10T22:54:19.591Z"
   },
   {
    "duration": 14,
    "start_time": "2022-09-10T22:54:19.600Z"
   },
   {
    "duration": 3,
    "start_time": "2022-09-10T22:54:19.616Z"
   },
   {
    "duration": 52,
    "start_time": "2022-09-10T22:54:19.621Z"
   },
   {
    "duration": 14,
    "start_time": "2022-09-10T22:54:19.675Z"
   },
   {
    "duration": 109,
    "start_time": "2022-09-10T22:54:19.690Z"
   },
   {
    "duration": 175,
    "start_time": "2022-09-10T22:54:19.801Z"
   },
   {
    "duration": 174,
    "start_time": "2022-09-10T22:54:19.978Z"
   },
   {
    "duration": 458,
    "start_time": "2022-09-10T22:54:20.153Z"
   },
   {
    "duration": 491,
    "start_time": "2022-09-10T22:54:20.613Z"
   },
   {
    "duration": 20,
    "start_time": "2022-09-10T22:54:21.106Z"
   },
   {
    "duration": 579,
    "start_time": "2022-09-10T22:54:21.128Z"
   },
   {
    "duration": 471,
    "start_time": "2022-09-10T22:54:21.709Z"
   },
   {
    "duration": 1413,
    "start_time": "2022-09-10T22:54:22.182Z"
   },
   {
    "duration": 386,
    "start_time": "2022-09-10T22:54:23.597Z"
   },
   {
    "duration": 680,
    "start_time": "2022-09-10T22:54:23.984Z"
   },
   {
    "duration": 641,
    "start_time": "2022-09-10T22:54:24.668Z"
   },
   {
    "duration": 656,
    "start_time": "2022-09-10T22:54:25.311Z"
   },
   {
    "duration": 772,
    "start_time": "2022-09-10T22:54:25.970Z"
   },
   {
    "duration": 10,
    "start_time": "2022-09-10T22:54:26.744Z"
   },
   {
    "duration": 464,
    "start_time": "2022-09-10T22:54:26.756Z"
   },
   {
    "duration": 5,
    "start_time": "2022-09-10T22:54:27.221Z"
   },
   {
    "duration": 415,
    "start_time": "2022-09-10T22:54:27.227Z"
   },
   {
    "duration": 5,
    "start_time": "2022-09-10T22:54:27.644Z"
   }
  ],
  "kernelspec": {
   "display_name": "Python 3 (ipykernel)",
   "language": "python",
   "name": "python3"
  },
  "language_info": {
   "codemirror_mode": {
    "name": "ipython",
    "version": 3
   },
   "file_extension": ".py",
   "mimetype": "text/x-python",
   "name": "python",
   "nbconvert_exporter": "python",
   "pygments_lexer": "ipython3",
   "version": "3.9.12"
  },
  "toc": {
   "base_numbering": 1,
   "nav_menu": {
    "height": "88px",
    "width": "351px"
   },
   "number_sections": true,
   "sideBar": true,
   "skip_h1_title": true,
   "title_cell": "Table of Contents",
   "title_sidebar": "Оглавление",
   "toc_cell": false,
   "toc_position": {
    "height": "calc(100% - 180px)",
    "left": "10px",
    "top": "150px",
    "width": "238px"
   },
   "toc_section_display": true,
   "toc_window_display": true
  }
 },
 "nbformat": 4,
 "nbformat_minor": 2
}
